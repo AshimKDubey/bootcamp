{
 "cells": [
  {
   "cell_type": "code",
   "execution_count": 2,
   "id": "3750fa24-044a-4d08-9f3c-ba57848400da",
   "metadata": {},
   "outputs": [],
   "source": [
    "def paired_parenthesis(sec_struct):\n",
    "    if sec_struct.count(\"(\") == sec_struct.count(\")\"):\n",
    "        return True\n",
    "    else:\n",
    "        return False"
   ]
  },
  {
   "cell_type": "code",
   "execution_count": 9,
   "id": "2e921824-cddc-441d-86c7-2d3e998a485a",
   "metadata": {},
   "outputs": [
    {
     "data": {
      "text/plain": [
       "2"
      ]
     },
     "execution_count": 9,
     "metadata": {},
     "output_type": "execute_result"
    }
   ],
   "source": [
    "len('()')//2+1"
   ]
  },
  {
   "cell_type": "code",
   "execution_count": 12,
   "id": "05ef2e56-569c-4826-9b9a-840975e3d3ba",
   "metadata": {},
   "outputs": [],
   "source": [
    "def dotparen_to_bp(sec_struct):\n",
    "    list=[]\n",
    "    for i in range(len(sec_struct)//2+1):\n",
    "        if sec_struct[i]==\"(\" and sec_struct[len(sec_struct)-i-1]==\")\":\n",
    "            iter = (i,len(sec_struct)-i-1)\n",
    "            list.append(iter)\n",
    "    return list"
   ]
  },
  {
   "cell_type": "code",
   "execution_count": 28,
   "id": "9c2a5466-f890-455f-8802-6ccf09d0cb16",
   "metadata": {},
   "outputs": [
    {
     "data": {
      "text/plain": [
       "[(2, 7)]"
      ]
     },
     "execution_count": 28,
     "metadata": {},
     "output_type": "execute_result"
    }
   ],
   "source": [
    "dotparen_to_bp(\"(.(...).)\")"
   ]
  },
  {
   "cell_type": "code",
   "execution_count": 13,
   "id": "0ebe4b48-2f2d-498c-a4c2-b29cc5d97a88",
   "metadata": {},
   "outputs": [],
   "source": [
    "def min_length(list):\n",
    "    last = list[-1]\n",
    "    a,b = last\n",
    "    if (b-a-1) >= 3:\n",
    "        return True\n",
    "    else:\n",
    "        return False"
   ]
  },
  {
   "cell_type": "code",
   "execution_count": 35,
   "id": "acf8901f-3114-4957-9ab5-3c95a61bb3c9",
   "metadata": {},
   "outputs": [
    {
     "data": {
      "text/plain": [
       "True"
      ]
     },
     "execution_count": 35,
     "metadata": {},
     "output_type": "execute_result"
    }
   ],
   "source": [
    "min_length(dotparen_to_bp('(.(...).)'))"
   ]
  },
  {
   "cell_type": "code",
   "execution_count": 18,
   "id": "613037ec-8b7b-4d18-ae7a-369e193d0a3d",
   "metadata": {},
   "outputs": [],
   "source": [
    "def rna_ss_validator(seq, sec_struct, wobble=True):\n",
    "    if paired_parenthesis(sec_struct) and min_length(dotparen_to_bp(sec_struct)):\n",
    "        return True\n",
    "    elif wobble == False:\n",
    "        for i,base in enumerate(seq):\n",
    "            if base == 'G' and seq[len(seq)-1-i] == 'U':\n",
    "                return False\n",
    "\n",
    "    else:\n",
    "        return False"
   ]
  },
  {
   "cell_type": "code",
   "execution_count": 30,
   "id": "53d0734a-3d31-49fc-9092-fe20a5bde110",
   "metadata": {},
   "outputs": [
    {
     "data": {
      "text/plain": [
       "True"
      ]
     },
     "execution_count": 30,
     "metadata": {},
     "output_type": "execute_result"
    }
   ],
   "source": [
    "rna_ss_validator('GCAUCUAUGC', '(((....)))')"
   ]
  },
  {
   "cell_type": "code",
   "execution_count": 29,
   "id": "86c2aa32-448e-425e-bade-b508a95ebbc0",
   "metadata": {},
   "outputs": [
    {
     "data": {
      "text/plain": [
       "True"
      ]
     },
     "execution_count": 29,
     "metadata": {},
     "output_type": "execute_result"
    }
   ],
   "source": [
    "rna_ss_validator('GCAUCUAUGU', '(((....)))')"
   ]
  },
  {
   "cell_type": "code",
   "execution_count": 31,
   "id": "c6683ab0-bf4f-4445-b070-f922d53b6d9d",
   "metadata": {},
   "outputs": [
    {
     "data": {
      "text/plain": [
       "True"
      ]
     },
     "execution_count": 31,
     "metadata": {},
     "output_type": "execute_result"
    }
   ],
   "source": [
    "rna_ss_validator('GCAUCUAUGU', '(.(....).)')"
   ]
  },
  {
   "cell_type": "code",
   "execution_count": 23,
   "id": "a57bb814-b24d-4e61-a93e-109c5d3b11e1",
   "metadata": {},
   "outputs": [
    {
     "data": {
      "text/plain": [
       "True"
      ]
     },
     "execution_count": 23,
     "metadata": {},
     "output_type": "execute_result"
    }
   ],
   "source": [
    "rna_ss_validator('GCAUCUACGC', '(((....)))')"
   ]
  },
  {
   "cell_type": "code",
   "execution_count": 24,
   "id": "9bf21ca6-2d37-45ee-9764-4400c873a708",
   "metadata": {},
   "outputs": [
    {
     "data": {
      "text/plain": [
       "True"
      ]
     },
     "execution_count": 24,
     "metadata": {},
     "output_type": "execute_result"
    }
   ],
   "source": [
    "rna_ss_validator('GCAUCUAUGU', '(((....)))', wobble=False)"
   ]
  },
  {
   "cell_type": "code",
   "execution_count": 25,
   "id": "7d9000f8-2823-469a-8869-dc1e75202abc",
   "metadata": {},
   "outputs": [
    {
     "data": {
      "text/plain": [
       "True"
      ]
     },
     "execution_count": 25,
     "metadata": {},
     "output_type": "execute_result"
    }
   ],
   "source": [
    "rna_ss_validator('GCAUCUAUGU', '(.(....)).')"
   ]
  },
  {
   "cell_type": "code",
   "execution_count": 26,
   "id": "a41ec9c1-666a-4638-b939-086e66a7088d",
   "metadata": {},
   "outputs": [
    {
     "data": {
      "text/plain": [
       "False"
      ]
     },
     "execution_count": 26,
     "metadata": {},
     "output_type": "execute_result"
    }
   ],
   "source": [
    "rna_ss_validator('GCCCUUGGCA', '(.((..))).')"
   ]
  },
  {
   "cell_type": "code",
   "execution_count": null,
   "id": "7662d35e-31d4-4f57-877a-1e9c9af452d5",
   "metadata": {},
   "outputs": [],
   "source": []
  }
 ],
 "metadata": {
  "kernelspec": {
   "display_name": "Python 3 (ipykernel)",
   "language": "python",
   "name": "python3"
  },
  "language_info": {
   "codemirror_mode": {
    "name": "ipython",
    "version": 3
   },
   "file_extension": ".py",
   "mimetype": "text/x-python",
   "name": "python",
   "nbconvert_exporter": "python",
   "pygments_lexer": "ipython3",
   "version": "3.11.4"
  }
 },
 "nbformat": 4,
 "nbformat_minor": 5
}
