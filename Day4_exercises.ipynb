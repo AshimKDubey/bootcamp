{
 "cells": [
  {
   "cell_type": "code",
   "execution_count": 1,
   "id": "a628aea8-4ad7-4e29-b356-cdd18f46e302",
   "metadata": {},
   "outputs": [],
   "source": [
    "import pandas as pd\n",
    "import numpy as np"
   ]
  },
  {
   "cell_type": "code",
   "execution_count": 2,
   "id": "1523a11f-727f-4308-9139-770864052022",
   "metadata": {},
   "outputs": [],
   "source": [
    "df = pd.read_csv('data/c_elegans_egg_xa.csv', comment='#')\n",
    "\n",
    "xa_high = df.loc[df['food']=='high', 'area (sq. um)'].values\n",
    "xa_low = df.loc[df['food']=='low', 'area (sq. um)'].values"
   ]
  },
  {
   "cell_type": "code",
   "execution_count": 5,
   "id": "caead495-751e-4bc6-8cde-efbd7fcd46dd",
   "metadata": {},
   "outputs": [],
   "source": [
    "def xa_to_diameter(xa):\n",
    "    return np.sqrt(4 * xa/ np.pi)"
   ]
  },
  {
   "cell_type": "code",
   "execution_count": 10,
   "id": "787b765d-1088-48c6-b6d9-a65e6748fa6b",
   "metadata": {},
   "outputs": [],
   "source": [
    "Dia_high = xa_to_diameter(xa_high)\n",
    "Dia_low = xa_to_diameter(xa_low)"
   ]
  },
  {
   "cell_type": "code",
   "execution_count": 11,
   "id": "e9d368c5-8fb3-48ec-bcd1-4f772f655c49",
   "metadata": {},
   "outputs": [
    {
     "data": {
      "text/plain": [
       "array([1683, 2061, 1792, 1852, 2091, 1781, 1912, 1802, 1751, 1731, 1892,\n",
       "       1951, 1809, 1683, 1787, 1840, 1821, 1910, 1930, 1800, 1833, 1683,\n",
       "       1671, 1680, 1692, 1800, 1821, 1882, 1642, 1749, 1712, 1661, 1701,\n",
       "       2141, 1863, 1752, 1740, 1721, 1660, 1930, 2030, 1851, 2131, 1828])"
      ]
     },
     "execution_count": 11,
     "metadata": {},
     "output_type": "execute_result"
    }
   ],
   "source": [
    "xa_high"
   ]
  },
  {
   "cell_type": "code",
   "execution_count": 12,
   "id": "dc40065f-e34a-4d06-bd5c-258c1a59ca9c",
   "metadata": {},
   "outputs": [
    {
     "data": {
      "text/plain": [
       "array([46.29105911, 51.22642581, 47.76657057, 48.5596503 , 51.59790585,\n",
       "       47.61973991, 49.33998388, 47.89966242, 47.21697198, 46.94654036,\n",
       "       49.08125119, 49.84064959, 47.9926071 , 46.29105911, 47.69988539,\n",
       "       48.40207395, 48.15152345, 49.3141717 , 49.57168871, 47.87307365,\n",
       "       48.30991705, 46.29105911, 46.12573337, 46.24978308, 46.41466697,\n",
       "       47.87307365, 48.15152345, 48.95137203, 45.72372833, 47.18999856,\n",
       "       46.68817945, 45.98750791, 46.53794651, 52.2111661 , 48.70364742,\n",
       "       47.23045291, 47.06842687, 46.81073869, 45.97366251, 49.57168871,\n",
       "       50.8397116 , 48.54653847, 52.08909166, 48.24398292])"
      ]
     },
     "execution_count": 12,
     "metadata": {},
     "output_type": "execute_result"
    }
   ],
   "source": [
    "Dia_high"
   ]
  },
  {
   "cell_type": "code",
   "execution_count": 13,
   "id": "4157b6c7-3fcc-4fe7-8370-48a6d7269104",
   "metadata": {},
   "outputs": [
    {
     "data": {
      "text/plain": [
       "array([1840, 2090, 2169, 1988, 2212, 2339, 1989, 2144, 2290, 1920, 2280,\n",
       "       1809, 2158, 1800, 2133, 2060, 2160, 2001, 2030, 2088, 1951, 2460,\n",
       "       2021, 2010, 2139, 2160, 2106, 2171, 2113, 2179, 1890, 2179, 2021,\n",
       "       1969, 2150, 1900, 2267, 1711, 1901, 2114, 2112, 2361, 2130, 2061,\n",
       "       2121, 1832, 2210, 2130, 2153, 2009, 2100, 2252, 2143, 2252, 2222,\n",
       "       2121, 2409])"
      ]
     },
     "execution_count": 13,
     "metadata": {},
     "output_type": "execute_result"
    }
   ],
   "source": [
    "xa_low"
   ]
  },
  {
   "cell_type": "code",
   "execution_count": 14,
   "id": "76390773-2ede-4eea-adb1-4c5f94412fe7",
   "metadata": {},
   "outputs": [
    {
     "data": {
      "text/plain": [
       "array([48.40207395, 51.58556628, 52.55146594, 50.31103472, 53.06982074,\n",
       "       54.57203767, 50.32368681, 52.24773281, 53.99739399, 49.44309786,\n",
       "       53.87936676, 47.9926071 , 52.41804019, 47.87307365, 52.11352942,\n",
       "       51.21399674, 52.44232467, 50.47526453, 50.8397116 , 51.56087828,\n",
       "       49.84064959, 55.96578669, 50.72688754, 50.58864976, 52.18677405,\n",
       "       52.44232467, 51.78264653, 52.57568879, 51.86863366, 52.67246879,\n",
       "       49.05530287, 52.67246879, 50.72688754, 50.07003758, 52.32078957,\n",
       "       49.18490759, 53.72554372, 46.67454189, 49.19784929, 51.88090591,\n",
       "       51.85635852, 54.8280819 , 52.07686848, 51.22642581, 51.96673046,\n",
       "       48.29673743, 53.04582353, 52.07686848, 52.35727972, 50.57606396,\n",
       "       51.70882946, 53.54750652, 52.23554675, 53.54750652, 53.18964437,\n",
       "       51.96673046, 55.38261517])"
      ]
     },
     "execution_count": 14,
     "metadata": {},
     "output_type": "execute_result"
    }
   ],
   "source": [
    "Dia_low"
   ]
  },
  {
   "cell_type": "markdown",
   "id": "00fc630b-7e24-4a33-965f-6bab76677a88",
   "metadata": {},
   "source": [
    "Exercise 4.3"
   ]
  },
  {
   "cell_type": "code",
   "execution_count": 15,
   "id": "75717c63-59b9-4a7f-a410-87f514b0a898",
   "metadata": {},
   "outputs": [],
   "source": [
    "A = np.array(\n",
    "    [\n",
    "        [6.7, 1.3, 0.6, 0.7],\n",
    "        [0.1, 5.5, 0.4, 2.4],\n",
    "        [1.1, 0.8, 4.5, 1.7],\n",
    "        [0.0, 1.5, 3.4, 7.5],\n",
    "    ]\n",
    ")\n",
    "\n",
    "b = np.array([1.1, 2.3, 3.3, 3.9])"
   ]
  },
  {
   "cell_type": "code",
   "execution_count": 16,
   "id": "d54e70aa-26e2-4157-860f-221fc1a66a7e",
   "metadata": {},
   "outputs": [
    {
     "data": {
      "text/plain": [
       "array([6.7, 1.3, 0.6, 0.7])"
      ]
     },
     "execution_count": 16,
     "metadata": {},
     "output_type": "execute_result"
    }
   ],
   "source": [
    "A[0]"
   ]
  },
  {
   "cell_type": "code",
   "execution_count": 20,
   "id": "81972b25-bdac-4b50-9c86-4d867259719f",
   "metadata": {},
   "outputs": [
    {
     "data": {
      "text/plain": [
       "array([[6.7, 0.6],\n",
       "       [0.1, 0.4],\n",
       "       [1.1, 4.5],\n",
       "       [0. , 3.4]])"
      ]
     },
     "execution_count": 20,
     "metadata": {},
     "output_type": "execute_result"
    }
   ],
   "source": [
    "A[:,[0,2]]"
   ]
  },
  {
   "cell_type": "code",
   "execution_count": 23,
   "id": "c1afe1cc-bc47-4b1a-bb9b-dbd8a19e6874",
   "metadata": {},
   "outputs": [
    {
     "data": {
      "text/plain": [
       "array([6.7, 5.5, 2.4, 4.5, 3.4, 7.5])"
      ]
     },
     "execution_count": 23,
     "metadata": {},
     "output_type": "execute_result"
    }
   ],
   "source": [
    "A[A>2]"
   ]
  },
  {
   "cell_type": "code",
   "execution_count": 24,
   "id": "8fa5f9d7-5251-4a31-9ea4-c7b633bd4d2b",
   "metadata": {},
   "outputs": [
    {
     "data": {
      "text/plain": [
       "array([6.7, 5.5, 4.5, 7.5])"
      ]
     },
     "execution_count": 24,
     "metadata": {},
     "output_type": "execute_result"
    }
   ],
   "source": [
    "np.diag(A)"
   ]
  },
  {
   "cell_type": "code",
   "execution_count": 27,
   "id": "25c79c3d-1dab-4594-8edd-bc5993ac5aa0",
   "metadata": {},
   "outputs": [
    {
     "data": {
      "text/plain": [
       "array([0.03401232, 0.29137092, 0.60186517, 0.18888027])"
      ]
     },
     "execution_count": 27,
     "metadata": {},
     "output_type": "execute_result"
    }
   ],
   "source": [
    "x = np.linalg.solve(A,b)\n",
    "x"
   ]
  },
  {
   "cell_type": "code",
   "execution_count": 28,
   "id": "dd10010e-4814-4052-a182-56619a177ecd",
   "metadata": {},
   "outputs": [
    {
     "data": {
      "text/plain": [
       "array([1.1, 2.3, 3.3, 3.9])"
      ]
     },
     "execution_count": 28,
     "metadata": {},
     "output_type": "execute_result"
    }
   ],
   "source": [
    "np.dot(A,x)"
   ]
  },
  {
   "cell_type": "code",
   "execution_count": 29,
   "id": "2a73acfb-b85b-4576-895c-c9e7c964c873",
   "metadata": {},
   "outputs": [
    {
     "data": {
      "text/plain": [
       "array([[6.7, 0.1, 1.1, 0. ],\n",
       "       [1.3, 5.5, 0.8, 1.5],\n",
       "       [0.6, 0.4, 4.5, 3.4],\n",
       "       [0.7, 2.4, 1.7, 7.5]])"
      ]
     },
     "execution_count": 29,
     "metadata": {},
     "output_type": "execute_result"
    }
   ],
   "source": [
    "np.transpose(A)"
   ]
  },
  {
   "cell_type": "code",
   "execution_count": 30,
   "id": "c4990ad5-97e3-4716-94bb-a10f67e0d6c1",
   "metadata": {},
   "outputs": [
    {
     "data": {
      "text/plain": [
       "array([[ 0.15267508, -0.03365026, -0.01778   ,  0.00054854],\n",
       "       [-0.00906001,  0.19788853,  0.03719385, -0.07090934],\n",
       "       [-0.04391535, -0.0144834 ,  0.26880108, -0.05219479],\n",
       "       [ 0.02172029, -0.0330119 , -0.12929526,  0.17117684]])"
      ]
     },
     "execution_count": 30,
     "metadata": {},
     "output_type": "execute_result"
    }
   ],
   "source": [
    "np.linalg.inv(A)"
   ]
  },
  {
   "cell_type": "code",
   "execution_count": 32,
   "id": "7c244faf-3950-4652-a905-b26dfedab882",
   "metadata": {},
   "outputs": [
    {
     "data": {
      "text/plain": [
       "array([6.7, 1.3, 0.6, 0.7, 0.1, 5.5, 0.4, 2.4, 1.1, 0.8, 4.5, 1.7, 0. ,\n",
       "       1.5, 3.4, 7.5])"
      ]
     },
     "execution_count": 32,
     "metadata": {},
     "output_type": "execute_result"
    }
   ],
   "source": [
    "B = np.ravel(A)\n",
    "B"
   ]
  },
  {
   "cell_type": "code",
   "execution_count": 33,
   "id": "b88e3d18-95c5-40c7-8a1a-6cf04a3b6ac8",
   "metadata": {},
   "outputs": [
    {
     "data": {
      "text/plain": [
       "array([[6.7, 1.3, 0.6, 0.7],\n",
       "       [0.1, 5.5, 0.4, 2.4],\n",
       "       [1.1, 0.8, 4.5, 1.7],\n",
       "       [0. , 1.5, 3.4, 7.5]])"
      ]
     },
     "execution_count": 33,
     "metadata": {},
     "output_type": "execute_result"
    }
   ],
   "source": [
    "np.reshape(A, (4,4))"
   ]
  },
  {
   "cell_type": "code",
   "execution_count": 10,
   "id": "4feef0d2-e795-49a6-b6c9-6f2e38346720",
   "metadata": {},
   "outputs": [
    {
     "data": {
      "text/html": [
       "<style>\n",
       "        .bk-notebook-logo {\n",
       "            display: block;\n",
       "            width: 20px;\n",
       "            height: 20px;\n",
       "            background-image: url(data:image/png;base64,iVBORw0KGgoAAAANSUhEUgAAABQAAAAUCAYAAACNiR0NAAAABHNCSVQICAgIfAhkiAAAAAlwSFlzAAALEgAACxIB0t1+/AAAABx0RVh0U29mdHdhcmUAQWRvYmUgRmlyZXdvcmtzIENTNui8sowAAAOkSURBVDiNjZRtaJVlGMd/1/08zzln5zjP1LWcU9N0NkN8m2CYjpgQYQXqSs0I84OLIC0hkEKoPtiH3gmKoiJDU7QpLgoLjLIQCpEsNJ1vqUOdO7ppbuec5+V+rj4ctwzd8IIbbi6u+8f1539dt3A78eXC7QizUF7gyV1fD1Yqg4JWz84yffhm0qkFqBogB9rM8tZdtwVsPUhWhGcFJngGeWrPzHm5oaMmkfEg1usvLFyc8jLRqDOMru7AyC8saQr7GG7f5fvDeH7Ej8CM66nIF+8yngt6HWaKh7k49Soy9nXurCi1o3qUbS3zWfrYeQDTB/Qj6kX6Ybhw4B+bOYoLKCC9H3Nu/leUTZ1JdRWkkn2ldcCamzrcf47KKXdAJllSlxAOkRgyHsGC/zRday5Qld9DyoM4/q/rUoy/CXh3jzOu3bHUVZeU+DEn8FInkPBFlu3+nW3Nw0mk6vCDiWg8CeJaxEwuHS3+z5RgY+YBR6V1Z1nxSOfoaPa4LASWxxdNp+VWTk7+4vzaou8v8PN+xo+KY2xsw6une2frhw05CTYOmQvsEhjhWjn0bmXPjpE1+kplmmkP3suftwTubK9Vq22qKmrBhpY4jvd5afdRA3wGjFAgcnTK2s4hY0/GPNIb0nErGMCRxWOOX64Z8RAC4oCXdklmEvcL8o0BfkNK4lUg9HTl+oPlQxdNo3Mg4Nv175e/1LDGzZen30MEjRUtmXSfiTVu1kK8W4txyV6BMKlbgk3lMwYCiusNy9fVfvvwMxv8Ynl6vxoByANLTWplvuj/nF9m2+PDtt1eiHPBr1oIfhCChQMBw6Aw0UulqTKZdfVvfG7VcfIqLG9bcldL/+pdWTLxLUy8Qq38heUIjh4XlzZxzQm19lLFlr8vdQ97rjZVOLf8nclzckbcD4wxXMidpX30sFd37Fv/GtwwhzhxGVAprjbg0gCAEeIgwCZyTV2Z1REEW8O4py0wsjeloKoMr6iCY6dP92H6Vw/oTyICIthibxjm/DfN9lVz8IqtqKYLUXfoKVMVQVVJOElGjrnnUt9T9wbgp8AyYKaGlqingHZU/uG2NTZSVqwHQTWkx9hxjkpWDaCg6Ckj5qebgBVbT3V3NNXMSiWSDdGV3hrtzla7J+duwPOToIg42ChPQOQjspnSlp1V+Gjdged7+8UN5CRAV7a5EdFNwCjEaBR27b3W890TE7g24NAP/mMDXRWrGoFPQI9ls/MWO2dWFAar/xcOIImbbpA3zgAAAABJRU5ErkJggg==);\n",
       "        }\n",
       "    </style>\n",
       "    <div>\n",
       "        <a href=\"https://bokeh.org\" target=\"_blank\" class=\"bk-notebook-logo\"></a>\n",
       "        <span id=\"c599843c-7481-42ac-9c97-eb188c89dc05\">Loading BokehJS ...</span>\n",
       "    </div>\n"
      ]
     },
     "metadata": {},
     "output_type": "display_data"
    },
    {
     "data": {
      "application/javascript": [
       "(function(root) {\n",
       "  function now() {\n",
       "    return new Date();\n",
       "  }\n",
       "\n",
       "  const force = true;\n",
       "\n",
       "  if (typeof root._bokeh_onload_callbacks === \"undefined\" || force === true) {\n",
       "    root._bokeh_onload_callbacks = [];\n",
       "    root._bokeh_is_loading = undefined;\n",
       "  }\n",
       "\n",
       "const JS_MIME_TYPE = 'application/javascript';\n",
       "  const HTML_MIME_TYPE = 'text/html';\n",
       "  const EXEC_MIME_TYPE = 'application/vnd.bokehjs_exec.v0+json';\n",
       "  const CLASS_NAME = 'output_bokeh rendered_html';\n",
       "\n",
       "  /**\n",
       "   * Render data to the DOM node\n",
       "   */\n",
       "  function render(props, node) {\n",
       "    const script = document.createElement(\"script\");\n",
       "    node.appendChild(script);\n",
       "  }\n",
       "\n",
       "  /**\n",
       "   * Handle when an output is cleared or removed\n",
       "   */\n",
       "  function handleClearOutput(event, handle) {\n",
       "    const cell = handle.cell;\n",
       "\n",
       "    const id = cell.output_area._bokeh_element_id;\n",
       "    const server_id = cell.output_area._bokeh_server_id;\n",
       "    // Clean up Bokeh references\n",
       "    if (id != null && id in Bokeh.index) {\n",
       "      Bokeh.index[id].model.document.clear();\n",
       "      delete Bokeh.index[id];\n",
       "    }\n",
       "\n",
       "    if (server_id !== undefined) {\n",
       "      // Clean up Bokeh references\n",
       "      const cmd_clean = \"from bokeh.io.state import curstate; print(curstate().uuid_to_server['\" + server_id + \"'].get_sessions()[0].document.roots[0]._id)\";\n",
       "      cell.notebook.kernel.execute(cmd_clean, {\n",
       "        iopub: {\n",
       "          output: function(msg) {\n",
       "            const id = msg.content.text.trim();\n",
       "            if (id in Bokeh.index) {\n",
       "              Bokeh.index[id].model.document.clear();\n",
       "              delete Bokeh.index[id];\n",
       "            }\n",
       "          }\n",
       "        }\n",
       "      });\n",
       "      // Destroy server and session\n",
       "      const cmd_destroy = \"import bokeh.io.notebook as ion; ion.destroy_server('\" + server_id + \"')\";\n",
       "      cell.notebook.kernel.execute(cmd_destroy);\n",
       "    }\n",
       "  }\n",
       "\n",
       "  /**\n",
       "   * Handle when a new output is added\n",
       "   */\n",
       "  function handleAddOutput(event, handle) {\n",
       "    const output_area = handle.output_area;\n",
       "    const output = handle.output;\n",
       "\n",
       "    // limit handleAddOutput to display_data with EXEC_MIME_TYPE content only\n",
       "    if ((output.output_type != \"display_data\") || (!Object.prototype.hasOwnProperty.call(output.data, EXEC_MIME_TYPE))) {\n",
       "      return\n",
       "    }\n",
       "\n",
       "    const toinsert = output_area.element.find(\".\" + CLASS_NAME.split(' ')[0]);\n",
       "\n",
       "    if (output.metadata[EXEC_MIME_TYPE][\"id\"] !== undefined) {\n",
       "      toinsert[toinsert.length - 1].firstChild.textContent = output.data[JS_MIME_TYPE];\n",
       "      // store reference to embed id on output_area\n",
       "      output_area._bokeh_element_id = output.metadata[EXEC_MIME_TYPE][\"id\"];\n",
       "    }\n",
       "    if (output.metadata[EXEC_MIME_TYPE][\"server_id\"] !== undefined) {\n",
       "      const bk_div = document.createElement(\"div\");\n",
       "      bk_div.innerHTML = output.data[HTML_MIME_TYPE];\n",
       "      const script_attrs = bk_div.children[0].attributes;\n",
       "      for (let i = 0; i < script_attrs.length; i++) {\n",
       "        toinsert[toinsert.length - 1].firstChild.setAttribute(script_attrs[i].name, script_attrs[i].value);\n",
       "        toinsert[toinsert.length - 1].firstChild.textContent = bk_div.children[0].textContent\n",
       "      }\n",
       "      // store reference to server id on output_area\n",
       "      output_area._bokeh_server_id = output.metadata[EXEC_MIME_TYPE][\"server_id\"];\n",
       "    }\n",
       "  }\n",
       "\n",
       "  function register_renderer(events, OutputArea) {\n",
       "\n",
       "    function append_mime(data, metadata, element) {\n",
       "      // create a DOM node to render to\n",
       "      const toinsert = this.create_output_subarea(\n",
       "        metadata,\n",
       "        CLASS_NAME,\n",
       "        EXEC_MIME_TYPE\n",
       "      );\n",
       "      this.keyboard_manager.register_events(toinsert);\n",
       "      // Render to node\n",
       "      const props = {data: data, metadata: metadata[EXEC_MIME_TYPE]};\n",
       "      render(props, toinsert[toinsert.length - 1]);\n",
       "      element.append(toinsert);\n",
       "      return toinsert\n",
       "    }\n",
       "\n",
       "    /* Handle when an output is cleared or removed */\n",
       "    events.on('clear_output.CodeCell', handleClearOutput);\n",
       "    events.on('delete.Cell', handleClearOutput);\n",
       "\n",
       "    /* Handle when a new output is added */\n",
       "    events.on('output_added.OutputArea', handleAddOutput);\n",
       "\n",
       "    /**\n",
       "     * Register the mime type and append_mime function with output_area\n",
       "     */\n",
       "    OutputArea.prototype.register_mime_type(EXEC_MIME_TYPE, append_mime, {\n",
       "      /* Is output safe? */\n",
       "      safe: true,\n",
       "      /* Index of renderer in `output_area.display_order` */\n",
       "      index: 0\n",
       "    });\n",
       "  }\n",
       "\n",
       "  // register the mime type if in Jupyter Notebook environment and previously unregistered\n",
       "  if (root.Jupyter !== undefined) {\n",
       "    const events = require('base/js/events');\n",
       "    const OutputArea = require('notebook/js/outputarea').OutputArea;\n",
       "\n",
       "    if (OutputArea.prototype.mime_types().indexOf(EXEC_MIME_TYPE) == -1) {\n",
       "      register_renderer(events, OutputArea);\n",
       "    }\n",
       "  }\n",
       "  if (typeof (root._bokeh_timeout) === \"undefined\" || force === true) {\n",
       "    root._bokeh_timeout = Date.now() + 5000;\n",
       "    root._bokeh_failed_load = false;\n",
       "  }\n",
       "\n",
       "  const NB_LOAD_WARNING = {'data': {'text/html':\n",
       "     \"<div style='background-color: #fdd'>\\n\"+\n",
       "     \"<p>\\n\"+\n",
       "     \"BokehJS does not appear to have successfully loaded. If loading BokehJS from CDN, this \\n\"+\n",
       "     \"may be due to a slow or bad network connection. Possible fixes:\\n\"+\n",
       "     \"</p>\\n\"+\n",
       "     \"<ul>\\n\"+\n",
       "     \"<li>re-rerun `output_notebook()` to attempt to load from CDN again, or</li>\\n\"+\n",
       "     \"<li>use INLINE resources instead, as so:</li>\\n\"+\n",
       "     \"</ul>\\n\"+\n",
       "     \"<code>\\n\"+\n",
       "     \"from bokeh.resources import INLINE\\n\"+\n",
       "     \"output_notebook(resources=INLINE)\\n\"+\n",
       "     \"</code>\\n\"+\n",
       "     \"</div>\"}};\n",
       "\n",
       "  function display_loaded() {\n",
       "    const el = document.getElementById(\"c599843c-7481-42ac-9c97-eb188c89dc05\");\n",
       "    if (el != null) {\n",
       "      el.textContent = \"BokehJS is loading...\";\n",
       "    }\n",
       "    if (root.Bokeh !== undefined) {\n",
       "      if (el != null) {\n",
       "        el.textContent = \"BokehJS \" + root.Bokeh.version + \" successfully loaded.\";\n",
       "      }\n",
       "    } else if (Date.now() < root._bokeh_timeout) {\n",
       "      setTimeout(display_loaded, 100)\n",
       "    }\n",
       "  }\n",
       "\n",
       "  function run_callbacks() {\n",
       "    try {\n",
       "      root._bokeh_onload_callbacks.forEach(function(callback) {\n",
       "        if (callback != null)\n",
       "          callback();\n",
       "      });\n",
       "    } finally {\n",
       "      delete root._bokeh_onload_callbacks\n",
       "    }\n",
       "    console.debug(\"Bokeh: all callbacks have finished\");\n",
       "  }\n",
       "\n",
       "  function load_libs(css_urls, js_urls, callback) {\n",
       "    if (css_urls == null) css_urls = [];\n",
       "    if (js_urls == null) js_urls = [];\n",
       "\n",
       "    root._bokeh_onload_callbacks.push(callback);\n",
       "    if (root._bokeh_is_loading > 0) {\n",
       "      console.debug(\"Bokeh: BokehJS is being loaded, scheduling callback at\", now());\n",
       "      return null;\n",
       "    }\n",
       "    if (js_urls == null || js_urls.length === 0) {\n",
       "      run_callbacks();\n",
       "      return null;\n",
       "    }\n",
       "    console.debug(\"Bokeh: BokehJS not loaded, scheduling load and callback at\", now());\n",
       "    root._bokeh_is_loading = css_urls.length + js_urls.length;\n",
       "\n",
       "    function on_load() {\n",
       "      root._bokeh_is_loading--;\n",
       "      if (root._bokeh_is_loading === 0) {\n",
       "        console.debug(\"Bokeh: all BokehJS libraries/stylesheets loaded\");\n",
       "        run_callbacks()\n",
       "      }\n",
       "    }\n",
       "\n",
       "    function on_error(url) {\n",
       "      console.error(\"failed to load \" + url);\n",
       "    }\n",
       "\n",
       "    for (let i = 0; i < css_urls.length; i++) {\n",
       "      const url = css_urls[i];\n",
       "      const element = document.createElement(\"link\");\n",
       "      element.onload = on_load;\n",
       "      element.onerror = on_error.bind(null, url);\n",
       "      element.rel = \"stylesheet\";\n",
       "      element.type = \"text/css\";\n",
       "      element.href = url;\n",
       "      console.debug(\"Bokeh: injecting link tag for BokehJS stylesheet: \", url);\n",
       "      document.body.appendChild(element);\n",
       "    }\n",
       "\n",
       "    for (let i = 0; i < js_urls.length; i++) {\n",
       "      const url = js_urls[i];\n",
       "      const element = document.createElement('script');\n",
       "      element.onload = on_load;\n",
       "      element.onerror = on_error.bind(null, url);\n",
       "      element.async = false;\n",
       "      element.src = url;\n",
       "      console.debug(\"Bokeh: injecting script tag for BokehJS library: \", url);\n",
       "      document.head.appendChild(element);\n",
       "    }\n",
       "  };\n",
       "\n",
       "  function inject_raw_css(css) {\n",
       "    const element = document.createElement(\"style\");\n",
       "    element.appendChild(document.createTextNode(css));\n",
       "    document.body.appendChild(element);\n",
       "  }\n",
       "\n",
       "  const js_urls = [\"https://cdn.bokeh.org/bokeh/release/bokeh-3.2.1.min.js\", \"https://cdn.bokeh.org/bokeh/release/bokeh-gl-3.2.1.min.js\", \"https://cdn.bokeh.org/bokeh/release/bokeh-widgets-3.2.1.min.js\", \"https://cdn.bokeh.org/bokeh/release/bokeh-tables-3.2.1.min.js\", \"https://cdn.bokeh.org/bokeh/release/bokeh-mathjax-3.2.1.min.js\"];\n",
       "  const css_urls = [];\n",
       "\n",
       "  const inline_js = [    function(Bokeh) {\n",
       "      Bokeh.set_log_level(\"info\");\n",
       "    },\n",
       "function(Bokeh) {\n",
       "    }\n",
       "  ];\n",
       "\n",
       "  function run_inline_js() {\n",
       "    if (root.Bokeh !== undefined || force === true) {\n",
       "          for (let i = 0; i < inline_js.length; i++) {\n",
       "      inline_js[i].call(root, root.Bokeh);\n",
       "    }\n",
       "if (force === true) {\n",
       "        display_loaded();\n",
       "      }} else if (Date.now() < root._bokeh_timeout) {\n",
       "      setTimeout(run_inline_js, 100);\n",
       "    } else if (!root._bokeh_failed_load) {\n",
       "      console.log(\"Bokeh: BokehJS failed to load within specified timeout.\");\n",
       "      root._bokeh_failed_load = true;\n",
       "    } else if (force !== true) {\n",
       "      const cell = $(document.getElementById(\"c599843c-7481-42ac-9c97-eb188c89dc05\")).parents('.cell').data().cell;\n",
       "      cell.output_area.append_execute_result(NB_LOAD_WARNING)\n",
       "    }\n",
       "  }\n",
       "\n",
       "  if (root._bokeh_is_loading === 0) {\n",
       "    console.debug(\"Bokeh: BokehJS loaded, going straight to plotting\");\n",
       "    run_inline_js();\n",
       "  } else {\n",
       "    load_libs(css_urls, js_urls, function() {\n",
       "      console.debug(\"Bokeh: BokehJS plotting callback run at\", now());\n",
       "      run_inline_js();\n",
       "    });\n",
       "  }\n",
       "}(window));"
      ],
      "application/vnd.bokehjs_load.v0+json": "(function(root) {\n  function now() {\n    return new Date();\n  }\n\n  const force = true;\n\n  if (typeof root._bokeh_onload_callbacks === \"undefined\" || force === true) {\n    root._bokeh_onload_callbacks = [];\n    root._bokeh_is_loading = undefined;\n  }\n\n\n  if (typeof (root._bokeh_timeout) === \"undefined\" || force === true) {\n    root._bokeh_timeout = Date.now() + 5000;\n    root._bokeh_failed_load = false;\n  }\n\n  const NB_LOAD_WARNING = {'data': {'text/html':\n     \"<div style='background-color: #fdd'>\\n\"+\n     \"<p>\\n\"+\n     \"BokehJS does not appear to have successfully loaded. If loading BokehJS from CDN, this \\n\"+\n     \"may be due to a slow or bad network connection. Possible fixes:\\n\"+\n     \"</p>\\n\"+\n     \"<ul>\\n\"+\n     \"<li>re-rerun `output_notebook()` to attempt to load from CDN again, or</li>\\n\"+\n     \"<li>use INLINE resources instead, as so:</li>\\n\"+\n     \"</ul>\\n\"+\n     \"<code>\\n\"+\n     \"from bokeh.resources import INLINE\\n\"+\n     \"output_notebook(resources=INLINE)\\n\"+\n     \"</code>\\n\"+\n     \"</div>\"}};\n\n  function display_loaded() {\n    const el = document.getElementById(\"c599843c-7481-42ac-9c97-eb188c89dc05\");\n    if (el != null) {\n      el.textContent = \"BokehJS is loading...\";\n    }\n    if (root.Bokeh !== undefined) {\n      if (el != null) {\n        el.textContent = \"BokehJS \" + root.Bokeh.version + \" successfully loaded.\";\n      }\n    } else if (Date.now() < root._bokeh_timeout) {\n      setTimeout(display_loaded, 100)\n    }\n  }\n\n  function run_callbacks() {\n    try {\n      root._bokeh_onload_callbacks.forEach(function(callback) {\n        if (callback != null)\n          callback();\n      });\n    } finally {\n      delete root._bokeh_onload_callbacks\n    }\n    console.debug(\"Bokeh: all callbacks have finished\");\n  }\n\n  function load_libs(css_urls, js_urls, callback) {\n    if (css_urls == null) css_urls = [];\n    if (js_urls == null) js_urls = [];\n\n    root._bokeh_onload_callbacks.push(callback);\n    if (root._bokeh_is_loading > 0) {\n      console.debug(\"Bokeh: BokehJS is being loaded, scheduling callback at\", now());\n      return null;\n    }\n    if (js_urls == null || js_urls.length === 0) {\n      run_callbacks();\n      return null;\n    }\n    console.debug(\"Bokeh: BokehJS not loaded, scheduling load and callback at\", now());\n    root._bokeh_is_loading = css_urls.length + js_urls.length;\n\n    function on_load() {\n      root._bokeh_is_loading--;\n      if (root._bokeh_is_loading === 0) {\n        console.debug(\"Bokeh: all BokehJS libraries/stylesheets loaded\");\n        run_callbacks()\n      }\n    }\n\n    function on_error(url) {\n      console.error(\"failed to load \" + url);\n    }\n\n    for (let i = 0; i < css_urls.length; i++) {\n      const url = css_urls[i];\n      const element = document.createElement(\"link\");\n      element.onload = on_load;\n      element.onerror = on_error.bind(null, url);\n      element.rel = \"stylesheet\";\n      element.type = \"text/css\";\n      element.href = url;\n      console.debug(\"Bokeh: injecting link tag for BokehJS stylesheet: \", url);\n      document.body.appendChild(element);\n    }\n\n    for (let i = 0; i < js_urls.length; i++) {\n      const url = js_urls[i];\n      const element = document.createElement('script');\n      element.onload = on_load;\n      element.onerror = on_error.bind(null, url);\n      element.async = false;\n      element.src = url;\n      console.debug(\"Bokeh: injecting script tag for BokehJS library: \", url);\n      document.head.appendChild(element);\n    }\n  };\n\n  function inject_raw_css(css) {\n    const element = document.createElement(\"style\");\n    element.appendChild(document.createTextNode(css));\n    document.body.appendChild(element);\n  }\n\n  const js_urls = [\"https://cdn.bokeh.org/bokeh/release/bokeh-3.2.1.min.js\", \"https://cdn.bokeh.org/bokeh/release/bokeh-gl-3.2.1.min.js\", \"https://cdn.bokeh.org/bokeh/release/bokeh-widgets-3.2.1.min.js\", \"https://cdn.bokeh.org/bokeh/release/bokeh-tables-3.2.1.min.js\", \"https://cdn.bokeh.org/bokeh/release/bokeh-mathjax-3.2.1.min.js\"];\n  const css_urls = [];\n\n  const inline_js = [    function(Bokeh) {\n      Bokeh.set_log_level(\"info\");\n    },\nfunction(Bokeh) {\n    }\n  ];\n\n  function run_inline_js() {\n    if (root.Bokeh !== undefined || force === true) {\n          for (let i = 0; i < inline_js.length; i++) {\n      inline_js[i].call(root, root.Bokeh);\n    }\nif (force === true) {\n        display_loaded();\n      }} else if (Date.now() < root._bokeh_timeout) {\n      setTimeout(run_inline_js, 100);\n    } else if (!root._bokeh_failed_load) {\n      console.log(\"Bokeh: BokehJS failed to load within specified timeout.\");\n      root._bokeh_failed_load = true;\n    } else if (force !== true) {\n      const cell = $(document.getElementById(\"c599843c-7481-42ac-9c97-eb188c89dc05\")).parents('.cell').data().cell;\n      cell.output_area.append_execute_result(NB_LOAD_WARNING)\n    }\n  }\n\n  if (root._bokeh_is_loading === 0) {\n    console.debug(\"Bokeh: BokehJS loaded, going straight to plotting\");\n    run_inline_js();\n  } else {\n    load_libs(css_urls, js_urls, function() {\n      console.debug(\"Bokeh: BokehJS plotting callback run at\", now());\n      run_inline_js();\n    });\n  }\n}(window));"
     },
     "metadata": {},
     "output_type": "display_data"
    }
   ],
   "source": [
    "import numpy as np\n",
    "import pandas as pd\n",
    "\n",
    "import iqplot\n",
    "\n",
    "import colorcet\n",
    "\n",
    "import bokeh.io\n",
    "import bokeh.plotting\n",
    "import bokeh.models\n",
    "import bokeh.themes\n",
    "\n",
    "bokeh.io.output_notebook()"
   ]
  },
  {
   "cell_type": "code",
   "execution_count": 11,
   "id": "5afa069e-a598-4ae2-90e0-4c1bbf1c05e4",
   "metadata": {},
   "outputs": [
    {
     "name": "stdout",
     "output_type": "stream",
     "text": [
      "The blackcellmagic extension is already loaded. To reload it, use:\n",
      "  %reload_ext blackcellmagic\n"
     ]
    }
   ],
   "source": [
    "%load_ext blackcellmagic"
   ]
  },
  {
   "cell_type": "code",
   "execution_count": 12,
   "id": "f9758155-5e54-4b29-8418-d0daa6fc1934",
   "metadata": {},
   "outputs": [],
   "source": [
    "data = np.random.default_rng().normal(0, 1, size=100)\n",
    "\n",
    "\n",
    "def ecdf_vals(data):\n",
    "    np_sort = np.sort(data)\n",
    "    np_y = np.arange(1, len(np_sort) + 1) / len(np_sort)\n",
    "    return np_sort, np_y"
   ]
  },
  {
   "cell_type": "code",
   "execution_count": 13,
   "id": "1b9dce18-7377-45b8-a877-55e06b7f8658",
   "metadata": {},
   "outputs": [
    {
     "name": "stdout",
     "output_type": "stream",
     "text": [
      "(array([-2.02973405, -1.72794934, -1.68203837, -1.59671301, -1.50783032,\n",
      "       -1.48664958, -1.4491273 , -1.40135079, -1.36108474, -1.22244093,\n",
      "       -1.17260604, -1.10321659, -1.09288144, -1.05826085, -1.01203135,\n",
      "       -0.95148723, -0.94458911, -0.89253765, -0.85177178, -0.80453601,\n",
      "       -0.76799937, -0.65258824, -0.64032368, -0.63285185, -0.4447493 ,\n",
      "       -0.37377524, -0.35083771, -0.31697981, -0.31343577, -0.26582869,\n",
      "       -0.22995092, -0.21957627, -0.2061552 , -0.18810724, -0.18487514,\n",
      "       -0.15586464, -0.15514626, -0.12703175, -0.12034173, -0.09776649,\n",
      "       -0.09292508, -0.07019702, -0.05942481, -0.05600789,  0.04445582,\n",
      "        0.07077317,  0.08161545,  0.09551309,  0.14967637,  0.15695966,\n",
      "        0.19101974,  0.22608107,  0.26445187,  0.27225223,  0.28460318,\n",
      "        0.29697278,  0.32649352,  0.34882203,  0.36375856,  0.3679852 ,\n",
      "        0.37905888,  0.42804905,  0.430958  ,  0.51742186,  0.53154368,\n",
      "        0.55813791,  0.56137825,  0.59109442,  0.60887944,  0.6216911 ,\n",
      "        0.66213536,  0.6747635 ,  0.68823985,  0.69334536,  0.7013348 ,\n",
      "        0.71664474,  0.73884797,  0.854573  ,  0.86236896,  0.89313603,\n",
      "        0.91635566,  0.94189726,  0.96794557,  0.98837769,  1.00891693,\n",
      "        1.08758529,  1.09484797,  1.19712915,  1.22557039,  1.44093551,\n",
      "        1.47668775,  1.4991437 ,  1.50837972,  1.57292635,  2.04392161,\n",
      "        2.08248392,  2.17186386,  2.42760814,  2.67987947,  2.79044683]), array([0.01, 0.02, 0.03, 0.04, 0.05, 0.06, 0.07, 0.08, 0.09, 0.1 , 0.11,\n",
      "       0.12, 0.13, 0.14, 0.15, 0.16, 0.17, 0.18, 0.19, 0.2 , 0.21, 0.22,\n",
      "       0.23, 0.24, 0.25, 0.26, 0.27, 0.28, 0.29, 0.3 , 0.31, 0.32, 0.33,\n",
      "       0.34, 0.35, 0.36, 0.37, 0.38, 0.39, 0.4 , 0.41, 0.42, 0.43, 0.44,\n",
      "       0.45, 0.46, 0.47, 0.48, 0.49, 0.5 , 0.51, 0.52, 0.53, 0.54, 0.55,\n",
      "       0.56, 0.57, 0.58, 0.59, 0.6 , 0.61, 0.62, 0.63, 0.64, 0.65, 0.66,\n",
      "       0.67, 0.68, 0.69, 0.7 , 0.71, 0.72, 0.73, 0.74, 0.75, 0.76, 0.77,\n",
      "       0.78, 0.79, 0.8 , 0.81, 0.82, 0.83, 0.84, 0.85, 0.86, 0.87, 0.88,\n",
      "       0.89, 0.9 , 0.91, 0.92, 0.93, 0.94, 0.95, 0.96, 0.97, 0.98, 0.99,\n",
      "       1.  ]))\n"
     ]
    }
   ],
   "source": [
    "print(ecdf_vals(data))"
   ]
  },
  {
   "cell_type": "code",
   "execution_count": 14,
   "id": "b19b815b-7c53-4563-a19c-81b140902953",
   "metadata": {},
   "outputs": [
    {
     "data": {
      "text/html": [
       "\n",
       "  <div id=\"acf5624c-7990-4e80-a0b9-eaee05558baa\" data-root-id=\"p1041\" style=\"display: contents;\"></div>\n"
      ]
     },
     "metadata": {},
     "output_type": "display_data"
    },
    {
     "data": {
      "application/javascript": [
       "(function(root) {\n",
       "  function embed_document(root) {\n",
       "  const docs_json = {\"defa81b4-ff8e-4b8b-86b4-523bb529cb07\":{\"version\":\"3.2.1\",\"title\":\"Bokeh Application\",\"roots\":[{\"type\":\"object\",\"name\":\"Figure\",\"id\":\"p1041\",\"attributes\":{\"x_range\":{\"type\":\"object\",\"name\":\"DataRange1d\",\"id\":\"p1042\"},\"y_range\":{\"type\":\"object\",\"name\":\"DataRange1d\",\"id\":\"p1043\"},\"x_scale\":{\"type\":\"object\",\"name\":\"LinearScale\",\"id\":\"p1050\"},\"y_scale\":{\"type\":\"object\",\"name\":\"LinearScale\",\"id\":\"p1051\"},\"title\":{\"type\":\"object\",\"name\":\"Title\",\"id\":\"p1048\"},\"renderers\":[{\"type\":\"object\",\"name\":\"GlyphRenderer\",\"id\":\"p1075\",\"attributes\":{\"data_source\":{\"type\":\"object\",\"name\":\"ColumnDataSource\",\"id\":\"p1069\",\"attributes\":{\"selected\":{\"type\":\"object\",\"name\":\"Selection\",\"id\":\"p1070\",\"attributes\":{\"indices\":[],\"line_indices\":[]}},\"selection_policy\":{\"type\":\"object\",\"name\":\"UnionRenderers\",\"id\":\"p1071\"},\"data\":{\"type\":\"map\",\"entries\":[[\"x\",{\"type\":\"ndarray\",\"array\":{\"type\":\"bytes\",\"data\":\"oW4ONOU8AMB/jbw0rqX7v3aXcxCh6fq/yPie7yKM+b+B2k+uEiD4v0B0WRFRyfe/COZsG6Av9782GE7O7mv2v1D0C8sAx/W/1EZvOB6P87/Q9AOO/sLyv2akim/GpvG/sHELP3F88b8FPZbtou7wv/0E/slHMfC/v34qWZVy7r+egnDwEjruv9XUZB6rj+y/qt4r4rZB679K5utLwr7pv75SfWtzk+i/IkL2uQDi5L/YErcWiH3kvzMABYVSQOS/lE9twcV23L8LU6/67uvXv4n1MwYgdNa/ZPWxsmVJ1L8z5BTmVA/Uv7QfWVtWA9G//rzDJwhvzb9IlTI/ExvMv8gUhClLY8q/06Z24uUTyL/YHy0e/anHv90GM11f88O/f9TNKdXbw79JxR6Yk0LAv5qcZyi3zr6/SFsyezkHub8ay/Ur8Mm3v446yZVu+LG/AUljme1srr/4+ubfEK2sv9NSDsfpwqY/5jXsuDAesj9VqhsVwOS0PzJ587eLc7g/PubFW5gowz8Cxn4KQRfEP+qiSrJVc8g/DMKvgDnwzD/grRWGx+zQP1j695+UbNE/0DaFQfA20j8scc4bmgHTP3arPRZF5dQ/cex7pRlT1j9IhKL90UfXP7TYMsgRjdc//lMpLIBC2D9OETLZJ2XbP0/n6d7QlNs/7fkySLiO4D+p8gPjZwLhP072qQlE3OE/Gl+Fh8/24T8P10TZPuriP/e0t7nwe+M/cjZnueTk4z/q3iWANjDlP4IXFaGpl+U/Yh0Ukg8G5j9rx0md4i/mP4TGYqtVceY/fy609cDu5j92+MB+pKTnP1MlsnipWOs/i8hmy4aY6z+O8bkEkpTsP+3brBvJUu0/v0a6tgUk7j/AO6T7aPnuPz0BNEHKoO8/0vmQE4Yk8D+Te4rUv2bxP4DNik1/hPE/xUhz5nAn8z/T2MGy75vzP0P0YGQSDvc/1gYpVYOg9z8tRrUafvz3P0/gGcVSIvg/Fh4l0bQq+T8SvoyS81kAQEJby1PtqABAOAs3KfpfAUDkUMTQvWsDQFx+c6VkcAVAzyxsydVSBkA=\"},\"shape\":[100],\"dtype\":\"float64\",\"order\":\"little\"}],[\"y\",{\"type\":\"ndarray\",\"array\":{\"type\":\"bytes\",\"data\":\"exSuR+F6hD97FK5H4XqUP7gehetRuJ4/exSuR+F6pD+amZmZmZmpP7gehetRuK4/7FG4HoXrsT97FK5H4Xq0PwrXo3A9Crc/mpmZmZmZuT8pXI/C9Si8P7gehetRuL4/pHA9CtejwD/sUbgehevBPzMzMzMzM8M/exSuR+F6xD/D9Shcj8LFPwrXo3A9Csc/UrgehetRyD+amZmZmZnJP+F6FK5H4co/KVyPwvUozD9xPQrXo3DNP7gehetRuM4/AAAAAAAA0D+kcD0K16PQP0jhehSuR9E/7FG4HoXr0T+PwvUoXI/SPzMzMzMzM9M/16NwPQrX0z97FK5H4XrUPx+F61G4HtU/w/UoXI/C1T9mZmZmZmbWPwrXo3A9Ctc/rkfhehSu1z9SuB6F61HYP/YoXI/C9dg/mpmZmZmZ2T89CtejcD3aP+F6FK5H4do/hetRuB6F2z8pXI/C9SjcP83MzMzMzNw/cT0K16Nw3T8UrkfhehTeP7gehetRuN4/XI/C9Shc3z8AAAAAAADgP1K4HoXrUeA/pHA9Ctej4D/2KFyPwvXgP0jhehSuR+E/mpmZmZmZ4T/sUbgehevhPz0K16NwPeI/j8L1KFyP4j/hehSuR+HiPzMzMzMzM+M/hetRuB6F4z/Xo3A9CtfjPylcj8L1KOQ/exSuR+F65D/NzMzMzMzkPx+F61G4HuU/cT0K16Nw5T/D9Shcj8LlPxSuR+F6FOY/ZmZmZmZm5j+4HoXrUbjmPwrXo3A9Cuc/XI/C9Shc5z+uR+F6FK7nPwAAAAAAAOg/UrgehetR6D+kcD0K16PoP/YoXI/C9eg/SOF6FK5H6T+amZmZmZnpP+xRuB6F6+k/PQrXo3A96j+PwvUoXI/qP+F6FK5H4eo/MzMzMzMz6z+F61G4HoXrP9ejcD0K1+s/KVyPwvUo7D97FK5H4XrsP83MzMzMzOw/H4XrUbge7T9xPQrXo3DtP8P1KFyPwu0/FK5H4XoU7j9mZmZmZmbuP7gehetRuO4/CtejcD0K7z9cj8L1KFzvP65H4XoUru8/AAAAAAAA8D8=\"},\"shape\":[100],\"dtype\":\"float64\",\"order\":\"little\"}]]}}},\"view\":{\"type\":\"object\",\"name\":\"CDSView\",\"id\":\"p1076\",\"attributes\":{\"filter\":{\"type\":\"object\",\"name\":\"AllIndices\",\"id\":\"p1077\"}}},\"glyph\":{\"type\":\"object\",\"name\":\"Circle\",\"id\":\"p1072\",\"attributes\":{\"x\":{\"type\":\"field\",\"field\":\"x\"},\"y\":{\"type\":\"field\",\"field\":\"y\"},\"line_color\":{\"type\":\"value\",\"value\":\"#1f77b4\"},\"fill_color\":{\"type\":\"value\",\"value\":\"#1f77b4\"}}},\"nonselection_glyph\":{\"type\":\"object\",\"name\":\"Circle\",\"id\":\"p1073\",\"attributes\":{\"x\":{\"type\":\"field\",\"field\":\"x\"},\"y\":{\"type\":\"field\",\"field\":\"y\"},\"line_color\":{\"type\":\"value\",\"value\":\"#1f77b4\"},\"line_alpha\":{\"type\":\"value\",\"value\":0.1},\"fill_color\":{\"type\":\"value\",\"value\":\"#1f77b4\"},\"fill_alpha\":{\"type\":\"value\",\"value\":0.1},\"hatch_alpha\":{\"type\":\"value\",\"value\":0.1}}},\"muted_glyph\":{\"type\":\"object\",\"name\":\"Circle\",\"id\":\"p1074\",\"attributes\":{\"x\":{\"type\":\"field\",\"field\":\"x\"},\"y\":{\"type\":\"field\",\"field\":\"y\"},\"line_color\":{\"type\":\"value\",\"value\":\"#1f77b4\"},\"line_alpha\":{\"type\":\"value\",\"value\":0.2},\"fill_color\":{\"type\":\"value\",\"value\":\"#1f77b4\"},\"fill_alpha\":{\"type\":\"value\",\"value\":0.2},\"hatch_alpha\":{\"type\":\"value\",\"value\":0.2}}}}}],\"toolbar\":{\"type\":\"object\",\"name\":\"Toolbar\",\"id\":\"p1049\",\"attributes\":{\"tools\":[{\"type\":\"object\",\"name\":\"PanTool\",\"id\":\"p1062\"},{\"type\":\"object\",\"name\":\"WheelZoomTool\",\"id\":\"p1063\"},{\"type\":\"object\",\"name\":\"BoxZoomTool\",\"id\":\"p1064\",\"attributes\":{\"overlay\":{\"type\":\"object\",\"name\":\"BoxAnnotation\",\"id\":\"p1065\",\"attributes\":{\"syncable\":false,\"level\":\"overlay\",\"visible\":false,\"left_units\":\"canvas\",\"right_units\":\"canvas\",\"bottom_units\":\"canvas\",\"top_units\":\"canvas\",\"line_color\":\"black\",\"line_alpha\":1.0,\"line_width\":2,\"line_dash\":[4,4],\"fill_color\":\"lightgrey\",\"fill_alpha\":0.5}}}},{\"type\":\"object\",\"name\":\"SaveTool\",\"id\":\"p1066\"},{\"type\":\"object\",\"name\":\"ResetTool\",\"id\":\"p1067\"},{\"type\":\"object\",\"name\":\"HelpTool\",\"id\":\"p1068\"}]}},\"left\":[{\"type\":\"object\",\"name\":\"LinearAxis\",\"id\":\"p1057\",\"attributes\":{\"ticker\":{\"type\":\"object\",\"name\":\"BasicTicker\",\"id\":\"p1058\",\"attributes\":{\"mantissas\":[1,2,5]}},\"formatter\":{\"type\":\"object\",\"name\":\"BasicTickFormatter\",\"id\":\"p1059\"},\"axis_label\":\"ECDF\",\"major_label_policy\":{\"type\":\"object\",\"name\":\"AllLabels\",\"id\":\"p1060\"}}}],\"below\":[{\"type\":\"object\",\"name\":\"LinearAxis\",\"id\":\"p1052\",\"attributes\":{\"ticker\":{\"type\":\"object\",\"name\":\"BasicTicker\",\"id\":\"p1053\",\"attributes\":{\"mantissas\":[1,2,5]}},\"formatter\":{\"type\":\"object\",\"name\":\"BasicTickFormatter\",\"id\":\"p1054\"},\"axis_label\":\"x\",\"major_label_policy\":{\"type\":\"object\",\"name\":\"AllLabels\",\"id\":\"p1055\"}}}],\"center\":[{\"type\":\"object\",\"name\":\"Grid\",\"id\":\"p1056\",\"attributes\":{\"axis\":{\"id\":\"p1052\"}}},{\"type\":\"object\",\"name\":\"Grid\",\"id\":\"p1061\",\"attributes\":{\"dimension\":1,\"axis\":{\"id\":\"p1057\"}}}],\"frame_width\":300,\"frame_height\":200}}]}};\n",
       "  const render_items = [{\"docid\":\"defa81b4-ff8e-4b8b-86b4-523bb529cb07\",\"roots\":{\"p1041\":\"acf5624c-7990-4e80-a0b9-eaee05558baa\"},\"root_ids\":[\"p1041\"]}];\n",
       "  root.Bokeh.embed.embed_items_notebook(docs_json, render_items);\n",
       "  }\n",
       "  if (root.Bokeh !== undefined) {\n",
       "    embed_document(root);\n",
       "  } else {\n",
       "    let attempts = 0;\n",
       "    const timer = setInterval(function(root) {\n",
       "      if (root.Bokeh !== undefined) {\n",
       "        clearInterval(timer);\n",
       "        embed_document(root);\n",
       "      } else {\n",
       "        attempts++;\n",
       "        if (attempts > 100) {\n",
       "          clearInterval(timer);\n",
       "          console.log(\"Bokeh: ERROR: Unable to run BokehJS code because BokehJS library is missing\");\n",
       "        }\n",
       "      }\n",
       "    }, 10, root)\n",
       "  }\n",
       "})(window);"
      ],
      "application/vnd.bokehjs_exec.v0+json": ""
     },
     "metadata": {
      "application/vnd.bokehjs_exec.v0+json": {
       "id": "p1041"
      }
     },
     "output_type": "display_data"
    }
   ],
   "source": [
    "x,y = ecdf_vals(data)\n",
    "\n",
    "p = bokeh.plotting.figure(\n",
    "    frame_height=200,\n",
    "    frame_width=300,\n",
    "    x_axis_label='x',\n",
    "    y_axis_label='ECDF',\n",
    ")\n",
    "\n",
    "p.circle(x, y)\n",
    "\n",
    "bokeh.io.show(p)"
   ]
  },
  {
   "cell_type": "code",
   "execution_count": 15,
   "id": "5710453a-9c76-4008-b034-2d8fe9eb1503",
   "metadata": {},
   "outputs": [],
   "source": [
    "df1 = pd.read_csv('data/wt_lac.csv', comment='#')\n",
    "df1['Genotype']='WT'\n",
    "df2 = pd.read_csv('data/q18a_lac.csv', comment='#')\n",
    "df2['Genotype']='Q18A'\n",
    "df3 = pd.read_csv('data/q18m_lac.csv', comment='#')\n",
    "df3['Genotype']='Q18M'"
   ]
  },
  {
   "cell_type": "code",
   "execution_count": 16,
   "id": "92a2bd02-c3e6-4d0a-a2df-cf9cf88e2aa7",
   "metadata": {},
   "outputs": [
    {
     "name": "stdout",
     "output_type": "stream",
     "text": [
      "    [IPTG] (mM)  fold change Genotype\n",
      "0      0.000010     0.040697       WT\n",
      "1      0.000974     0.072788       WT\n",
      "2      0.002044     0.105284       WT\n",
      "3      0.004049     0.199477       WT\n",
      "4      0.007584     0.343024       WT\n",
      "..          ...          ...      ...\n",
      "60     1.551112     0.239704     Q18M\n",
      "61     3.182057     0.237620     Q18M\n",
      "62     6.202874     0.233039     Q18M\n",
      "63    13.391757     0.233452     Q18M\n",
      "64    26.086335     0.236279     Q18M\n",
      "\n",
      "[65 rows x 3 columns]\n"
     ]
    }
   ],
   "source": [
    "df_tot = pd.concat([df1,df2,df3], ignore_index=True)\n",
    "x = df_tot.loc[df_tot['Genotype']=='WT','[IPTG] (mM)']\n",
    "print(df_tot)"
   ]
  },
  {
   "cell_type": "code",
   "execution_count": 17,
   "id": "f278ace1-311c-4969-8f4a-5da83aa9219e",
   "metadata": {},
   "outputs": [
    {
     "data": {
      "text/html": [
       "\n",
       "  <div id=\"a6fbf40e-e70b-432c-96da-0e28fcb12621\" data-root-id=\"p1089\" style=\"display: contents;\"></div>\n"
      ]
     },
     "metadata": {},
     "output_type": "display_data"
    },
    {
     "data": {
      "application/javascript": [
       "(function(root) {\n",
       "  function embed_document(root) {\n",
       "  const docs_json = {\"6c70a5a5-3ce8-4283-93d1-de06cd6a3277\":{\"version\":\"3.2.1\",\"title\":\"Bokeh Application\",\"roots\":[{\"type\":\"object\",\"name\":\"Figure\",\"id\":\"p1089\",\"attributes\":{\"x_range\":{\"type\":\"object\",\"name\":\"Range1d\",\"id\":\"p1098\",\"attributes\":{\"start\":1e-05,\"end\":100}},\"y_range\":{\"type\":\"object\",\"name\":\"Range1d\",\"id\":\"p1099\",\"attributes\":{\"end\":1.2}},\"x_scale\":{\"type\":\"object\",\"name\":\"LogScale\",\"id\":\"p1100\"},\"y_scale\":{\"type\":\"object\",\"name\":\"LinearScale\",\"id\":\"p1101\"},\"title\":{\"type\":\"object\",\"name\":\"Title\",\"id\":\"p1096\"},\"renderers\":[{\"type\":\"object\",\"name\":\"GlyphRenderer\",\"id\":\"p1125\",\"attributes\":{\"data_source\":{\"type\":\"object\",\"name\":\"ColumnDataSource\",\"id\":\"p1080\",\"attributes\":{\"selected\":{\"type\":\"object\",\"name\":\"Selection\",\"id\":\"p1081\",\"attributes\":{\"indices\":[],\"line_indices\":[]}},\"selection_policy\":{\"type\":\"object\",\"name\":\"UnionRenderers\",\"id\":\"p1082\"},\"data\":{\"type\":\"map\",\"entries\":[[\"index\",{\"type\":\"ndarray\",\"array\":{\"type\":\"bytes\",\"data\":\"AAAAAAEAAAACAAAAAwAAAAQAAAAFAAAABgAAAAcAAAAIAAAACQAAAAoAAAALAAAADAAAAA0AAAAOAAAADwAAABAAAAARAAAAEgAAABMAAAA=\"},\"shape\":[20],\"dtype\":\"int32\",\"order\":\"little\"}],[\"[IPTG] (mM)\",{\"type\":\"ndarray\",\"array\":{\"type\":\"bytes\",\"data\":\"6As5T8jC5D6bRiGkOu1PPwLGlvNtvmA/nbB0K9yVcD9BHi7syRB/P+YELlhFKZA/h6jkxdQpnj9JWp5pBJqoPwxQn9Vjo68/6ia7yKZ3uD8AokPStZm/P8/EWItwnck/BBWtQEmKzz8HoUdyYP3YP2/hrL8FS+g/V2lcoVaw9z93Mmd8Y90IQICZU2xlLRhANcP9+mD9JkC8P4ARWyo4QA==\"},\"shape\":[20],\"dtype\":\"float64\",\"order\":\"little\"}],[\"fold change\",{\"type\":\"ndarray\",\"array\":{\"type\":\"bytes\",\"data\":\"d+RFSUnWpD8us9NmNaKyP5wsttrd87o/2FbD+3iIyT9nXi2TGfTVP+G9gO/jZ90/RB+czER75D/UwdPJmdvjP3FuGNt5heU/siGXPWSH5T9OuTRcMsXlP6aWlmJoM+c/VzLChZhB5j96TMER+7zmPyDpIQvydec/ZGjtf/gn5z9nifjlf/XnP1TBiPw8mug/nWwV07Ij6D9JMT7o3nfoPw==\"},\"shape\":[20],\"dtype\":\"float64\",\"order\":\"little\"}],[\"Genotype\",{\"type\":\"ndarray\",\"array\":[\"WT\",\"WT\",\"WT\",\"WT\",\"WT\",\"WT\",\"WT\",\"WT\",\"WT\",\"WT\",\"WT\",\"WT\",\"WT\",\"WT\",\"WT\",\"WT\",\"WT\",\"WT\",\"WT\",\"WT\"],\"shape\":[20],\"dtype\":\"object\",\"order\":\"little\"}]]}}},\"view\":{\"type\":\"object\",\"name\":\"CDSView\",\"id\":\"p1126\",\"attributes\":{\"filter\":{\"type\":\"object\",\"name\":\"AllIndices\",\"id\":\"p1127\"}}},\"glyph\":{\"type\":\"object\",\"name\":\"Circle\",\"id\":\"p1122\",\"attributes\":{\"x\":{\"type\":\"field\",\"field\":\"[IPTG] (mM)\"},\"y\":{\"type\":\"field\",\"field\":\"fold change\"},\"line_color\":{\"type\":\"value\",\"value\":\"#1f77b3\"},\"fill_color\":{\"type\":\"value\",\"value\":\"#1f77b3\"},\"hatch_color\":{\"type\":\"value\",\"value\":\"#1f77b3\"}}},\"nonselection_glyph\":{\"type\":\"object\",\"name\":\"Circle\",\"id\":\"p1123\",\"attributes\":{\"x\":{\"type\":\"field\",\"field\":\"[IPTG] (mM)\"},\"y\":{\"type\":\"field\",\"field\":\"fold change\"},\"line_color\":{\"type\":\"value\",\"value\":\"#1f77b3\"},\"line_alpha\":{\"type\":\"value\",\"value\":0.1},\"fill_color\":{\"type\":\"value\",\"value\":\"#1f77b3\"},\"fill_alpha\":{\"type\":\"value\",\"value\":0.1},\"hatch_color\":{\"type\":\"value\",\"value\":\"#1f77b3\"},\"hatch_alpha\":{\"type\":\"value\",\"value\":0.1}}},\"muted_glyph\":{\"type\":\"object\",\"name\":\"Circle\",\"id\":\"p1124\",\"attributes\":{\"x\":{\"type\":\"field\",\"field\":\"[IPTG] (mM)\"},\"y\":{\"type\":\"field\",\"field\":\"fold change\"},\"line_color\":{\"type\":\"value\",\"value\":\"#1f77b3\"},\"line_alpha\":{\"type\":\"value\",\"value\":0.2},\"fill_color\":{\"type\":\"value\",\"value\":\"#1f77b3\"},\"fill_alpha\":{\"type\":\"value\",\"value\":0.2},\"hatch_color\":{\"type\":\"value\",\"value\":\"#1f77b3\"},\"hatch_alpha\":{\"type\":\"value\",\"value\":0.2}}}}},{\"type\":\"object\",\"name\":\"GlyphRenderer\",\"id\":\"p1134\",\"attributes\":{\"data_source\":{\"type\":\"object\",\"name\":\"ColumnDataSource\",\"id\":\"p1083\",\"attributes\":{\"selected\":{\"type\":\"object\",\"name\":\"Selection\",\"id\":\"p1084\",\"attributes\":{\"indices\":[],\"line_indices\":[]}},\"selection_policy\":{\"type\":\"object\",\"name\":\"UnionRenderers\",\"id\":\"p1085\"},\"data\":{\"type\":\"map\",\"entries\":[[\"index\",{\"type\":\"ndarray\",\"array\":{\"type\":\"bytes\",\"data\":\"FAAAABUAAAAWAAAAFwAAABgAAAAZAAAAGgAAABsAAAAcAAAAHQAAAB4AAAAfAAAAIAAAACEAAAAiAAAAIwAAACQAAAAlAAAAJgAAACcAAAAoAAAAKQAAACoAAAArAAAALAAAAA==\"},\"shape\":[25],\"dtype\":\"int32\",\"order\":\"little\"}],[\"[IPTG] (mM)\",{\"type\":\"ndarray\",\"array\":{\"type\":\"bytes\",\"data\":\"MVsKYr/m4z6trB94KE0YP6PtQztxgCk/BthlqTFYOT9RdwyaAidJP/6ZM54Vs04/AI6Hbo3oWD+nhBP2p3VeP+cGEpcFH24/FsXbNQrWfT9f+ld3JtyMP1Gv/4IPx5w/T71aObp0qD+j4TfKPx2tP6r9ts+VI7k/BFN1mhqquz84f29+29vHP3MJaTeno84/sqhUq05e2D/oiAX8QJznP/FABLlnT/g/kRjaF4pDCEAdu2oS2qEXQIy4EPZI3ShA3gUzY5weOEA=\"},\"shape\":[25],\"dtype\":\"float64\",\"order\":\"little\"}],[\"fold change\",{\"type\":\"ndarray\",\"array\":{\"type\":\"bytes\",\"data\":\"MXnHA29Uyz8LcnQ/9m3QP399K9F4MdI/j5mUCWkC1j9JbsLjD8baPxzDVroru94/AqxLWOR64D+jsBIto9PhP9WBX+TaZOU/+ZH5Z31o6D/LcXL8M8rqP7d9QbGBl+s/ayC2eMld7j8PiXhxxg3wP3FY202ulu0/juvuYbDh7z9/Kes688HtP28yEp0u5e8/BAEL/PIc7z/kj2guinjwP7+WQ/5jnO8/5IfoE2UM8D9UQ1cF+RfwPzncSkqbGfA/zO+kQxvR8D8=\"},\"shape\":[25],\"dtype\":\"float64\",\"order\":\"little\"}],[\"Genotype\",{\"type\":\"ndarray\",\"array\":[\"Q18A\",\"Q18A\",\"Q18A\",\"Q18A\",\"Q18A\",\"Q18A\",\"Q18A\",\"Q18A\",\"Q18A\",\"Q18A\",\"Q18A\",\"Q18A\",\"Q18A\",\"Q18A\",\"Q18A\",\"Q18A\",\"Q18A\",\"Q18A\",\"Q18A\",\"Q18A\",\"Q18A\",\"Q18A\",\"Q18A\",\"Q18A\",\"Q18A\"],\"shape\":[25],\"dtype\":\"object\",\"order\":\"little\"}]]}}},\"view\":{\"type\":\"object\",\"name\":\"CDSView\",\"id\":\"p1135\",\"attributes\":{\"filter\":{\"type\":\"object\",\"name\":\"AllIndices\",\"id\":\"p1136\"}}},\"glyph\":{\"type\":\"object\",\"name\":\"Circle\",\"id\":\"p1131\",\"attributes\":{\"x\":{\"type\":\"field\",\"field\":\"[IPTG] (mM)\"},\"y\":{\"type\":\"field\",\"field\":\"fold change\"},\"line_color\":{\"type\":\"value\",\"value\":\"#ff7e0e\"},\"fill_color\":{\"type\":\"value\",\"value\":\"#ff7e0e\"},\"hatch_color\":{\"type\":\"value\",\"value\":\"#ff7e0e\"}}},\"nonselection_glyph\":{\"type\":\"object\",\"name\":\"Circle\",\"id\":\"p1132\",\"attributes\":{\"x\":{\"type\":\"field\",\"field\":\"[IPTG] (mM)\"},\"y\":{\"type\":\"field\",\"field\":\"fold change\"},\"line_color\":{\"type\":\"value\",\"value\":\"#ff7e0e\"},\"line_alpha\":{\"type\":\"value\",\"value\":0.1},\"fill_color\":{\"type\":\"value\",\"value\":\"#ff7e0e\"},\"fill_alpha\":{\"type\":\"value\",\"value\":0.1},\"hatch_color\":{\"type\":\"value\",\"value\":\"#ff7e0e\"},\"hatch_alpha\":{\"type\":\"value\",\"value\":0.1}}},\"muted_glyph\":{\"type\":\"object\",\"name\":\"Circle\",\"id\":\"p1133\",\"attributes\":{\"x\":{\"type\":\"field\",\"field\":\"[IPTG] (mM)\"},\"y\":{\"type\":\"field\",\"field\":\"fold change\"},\"line_color\":{\"type\":\"value\",\"value\":\"#ff7e0e\"},\"line_alpha\":{\"type\":\"value\",\"value\":0.2},\"fill_color\":{\"type\":\"value\",\"value\":\"#ff7e0e\"},\"fill_alpha\":{\"type\":\"value\",\"value\":0.2},\"hatch_color\":{\"type\":\"value\",\"value\":\"#ff7e0e\"},\"hatch_alpha\":{\"type\":\"value\",\"value\":0.2}}}}},{\"type\":\"object\",\"name\":\"GlyphRenderer\",\"id\":\"p1143\",\"attributes\":{\"data_source\":{\"type\":\"object\",\"name\":\"ColumnDataSource\",\"id\":\"p1086\",\"attributes\":{\"selected\":{\"type\":\"object\",\"name\":\"Selection\",\"id\":\"p1087\",\"attributes\":{\"indices\":[],\"line_indices\":[]}},\"selection_policy\":{\"type\":\"object\",\"name\":\"UnionRenderers\",\"id\":\"p1088\"},\"data\":{\"type\":\"map\",\"entries\":[[\"index\",{\"type\":\"ndarray\",\"array\":{\"type\":\"bytes\",\"data\":\"LQAAAC4AAAAvAAAAMAAAADEAAAAyAAAAMwAAADQAAAA1AAAANgAAADcAAAA4AAAAOQAAADoAAAA7AAAAPAAAAD0AAAA+AAAAPwAAAEAAAAA=\"},\"shape\":[20],\"dtype\":\"int32\",\"order\":\"little\"}],[\"[IPTG] (mM)\",{\"type\":\"ndarray\",\"array\":{\"type\":\"bytes\",\"data\":\"ljc+f17B4z5PzdyBxnBQP3x7HP69bmA/BhN/RkQAcD/QFYbxr2aAP9gRFFeyW5A/aZ1Psvfqnj+sk/OKdaipP0cXtRo0KbA/GYc565uguT/6mAviz2m/P06yGS7bP8o/bXW4woiC0D+0wjQmI+jYPyrz+jndcek/0z17B1vR+D/OJH152nQJQLSZWkK+zxhA/CVYa5TIKkBh8QIGGhY6QA==\"},\"shape\":[20],\"dtype\":\"float64\",\"order\":\"little\"}],[\"fold change\",{\"type\":\"ndarray\",\"array\":{\"type\":\"bytes\",\"data\":\"dQSx9LXylz9TViOHVQyhP3Uh1REDPaE/INuybB/zoz/65VHb1qymP54snv0JH7E/EF1V+8DZvT8RePjeT37HP6bzMVVegsc/hqNp4zF9yD8x+fXFIbfKP+Ue1mBWHso/4AuZGtIHzD8H9lagURzLP6Fgyoy0G9A/aCuBYZuuzj+INWSbUmrOP01YFYU71M0/p0kqD8HhzT8yJaCaYD7OPw==\"},\"shape\":[20],\"dtype\":\"float64\",\"order\":\"little\"}],[\"Genotype\",{\"type\":\"ndarray\",\"array\":[\"Q18M\",\"Q18M\",\"Q18M\",\"Q18M\",\"Q18M\",\"Q18M\",\"Q18M\",\"Q18M\",\"Q18M\",\"Q18M\",\"Q18M\",\"Q18M\",\"Q18M\",\"Q18M\",\"Q18M\",\"Q18M\",\"Q18M\",\"Q18M\",\"Q18M\",\"Q18M\"],\"shape\":[20],\"dtype\":\"object\",\"order\":\"little\"}]]}}},\"view\":{\"type\":\"object\",\"name\":\"CDSView\",\"id\":\"p1144\",\"attributes\":{\"filter\":{\"type\":\"object\",\"name\":\"AllIndices\",\"id\":\"p1145\"}}},\"glyph\":{\"type\":\"object\",\"name\":\"Circle\",\"id\":\"p1140\",\"attributes\":{\"x\":{\"type\":\"field\",\"field\":\"[IPTG] (mM)\"},\"y\":{\"type\":\"field\",\"field\":\"fold change\"},\"line_color\":{\"type\":\"value\",\"value\":\"#2ba02b\"},\"fill_color\":{\"type\":\"value\",\"value\":\"#2ba02b\"},\"hatch_color\":{\"type\":\"value\",\"value\":\"#2ba02b\"}}},\"nonselection_glyph\":{\"type\":\"object\",\"name\":\"Circle\",\"id\":\"p1141\",\"attributes\":{\"x\":{\"type\":\"field\",\"field\":\"[IPTG] (mM)\"},\"y\":{\"type\":\"field\",\"field\":\"fold change\"},\"line_color\":{\"type\":\"value\",\"value\":\"#2ba02b\"},\"line_alpha\":{\"type\":\"value\",\"value\":0.1},\"fill_color\":{\"type\":\"value\",\"value\":\"#2ba02b\"},\"fill_alpha\":{\"type\":\"value\",\"value\":0.1},\"hatch_color\":{\"type\":\"value\",\"value\":\"#2ba02b\"},\"hatch_alpha\":{\"type\":\"value\",\"value\":0.1}}},\"muted_glyph\":{\"type\":\"object\",\"name\":\"Circle\",\"id\":\"p1142\",\"attributes\":{\"x\":{\"type\":\"field\",\"field\":\"[IPTG] (mM)\"},\"y\":{\"type\":\"field\",\"field\":\"fold change\"},\"line_color\":{\"type\":\"value\",\"value\":\"#2ba02b\"},\"line_alpha\":{\"type\":\"value\",\"value\":0.2},\"fill_color\":{\"type\":\"value\",\"value\":\"#2ba02b\"},\"fill_alpha\":{\"type\":\"value\",\"value\":0.2},\"hatch_color\":{\"type\":\"value\",\"value\":\"#2ba02b\"},\"hatch_alpha\":{\"type\":\"value\",\"value\":0.2}}}}}],\"toolbar\":{\"type\":\"object\",\"name\":\"Toolbar\",\"id\":\"p1097\",\"attributes\":{\"tools\":[{\"type\":\"object\",\"name\":\"PanTool\",\"id\":\"p1112\"},{\"type\":\"object\",\"name\":\"WheelZoomTool\",\"id\":\"p1113\"},{\"type\":\"object\",\"name\":\"BoxZoomTool\",\"id\":\"p1114\",\"attributes\":{\"overlay\":{\"type\":\"object\",\"name\":\"BoxAnnotation\",\"id\":\"p1115\",\"attributes\":{\"syncable\":false,\"level\":\"overlay\",\"visible\":false,\"left_units\":\"canvas\",\"right_units\":\"canvas\",\"bottom_units\":\"canvas\",\"top_units\":\"canvas\",\"line_color\":\"black\",\"line_alpha\":1.0,\"line_width\":2,\"line_dash\":[4,4],\"fill_color\":\"lightgrey\",\"fill_alpha\":0.5}}}},{\"type\":\"object\",\"name\":\"SaveTool\",\"id\":\"p1116\"},{\"type\":\"object\",\"name\":\"ResetTool\",\"id\":\"p1117\"},{\"type\":\"object\",\"name\":\"HelpTool\",\"id\":\"p1118\"}]}},\"left\":[{\"type\":\"object\",\"name\":\"LinearAxis\",\"id\":\"p1107\",\"attributes\":{\"ticker\":{\"type\":\"object\",\"name\":\"BasicTicker\",\"id\":\"p1108\",\"attributes\":{\"mantissas\":[1,2,5]}},\"formatter\":{\"type\":\"object\",\"name\":\"BasicTickFormatter\",\"id\":\"p1109\"},\"axis_label\":\"fold change\",\"major_label_policy\":{\"type\":\"object\",\"name\":\"AllLabels\",\"id\":\"p1110\"}}}],\"right\":[{\"type\":\"object\",\"name\":\"Legend\",\"id\":\"p1146\",\"attributes\":{\"click_policy\":\"hide\",\"items\":[{\"type\":\"object\",\"name\":\"LegendItem\",\"id\":\"p1147\",\"attributes\":{\"label\":{\"type\":\"value\",\"value\":\"WT\"},\"renderers\":[{\"id\":\"p1125\"}]}},{\"type\":\"object\",\"name\":\"LegendItem\",\"id\":\"p1148\",\"attributes\":{\"label\":{\"type\":\"value\",\"value\":\"Q18A\"},\"renderers\":[{\"id\":\"p1134\"}]}},{\"type\":\"object\",\"name\":\"LegendItem\",\"id\":\"p1149\",\"attributes\":{\"label\":{\"type\":\"value\",\"value\":\"Q18M\"},\"renderers\":[{\"id\":\"p1143\"}]}}]}}],\"below\":[{\"type\":\"object\",\"name\":\"LogAxis\",\"id\":\"p1102\",\"attributes\":{\"ticker\":{\"type\":\"object\",\"name\":\"LogTicker\",\"id\":\"p1103\",\"attributes\":{\"num_minor_ticks\":10,\"mantissas\":[1,5]}},\"formatter\":{\"type\":\"object\",\"name\":\"LogTickFormatter\",\"id\":\"p1104\"},\"axis_label\":\"[IPTG] (mM)\",\"major_label_policy\":{\"type\":\"object\",\"name\":\"AllLabels\",\"id\":\"p1105\"}}}],\"center\":[{\"type\":\"object\",\"name\":\"Grid\",\"id\":\"p1106\",\"attributes\":{\"axis\":{\"id\":\"p1102\"}}},{\"type\":\"object\",\"name\":\"Grid\",\"id\":\"p1111\",\"attributes\":{\"dimension\":1,\"axis\":{\"id\":\"p1107\"}}}],\"frame_width\":300,\"frame_height\":300}}]}};\n",
       "  const render_items = [{\"docid\":\"6c70a5a5-3ce8-4283-93d1-de06cd6a3277\",\"roots\":{\"p1089\":\"a6fbf40e-e70b-432c-96da-0e28fcb12621\"},\"root_ids\":[\"p1089\"]}];\n",
       "  root.Bokeh.embed.embed_items_notebook(docs_json, render_items);\n",
       "  }\n",
       "  if (root.Bokeh !== undefined) {\n",
       "    embed_document(root);\n",
       "  } else {\n",
       "    let attempts = 0;\n",
       "    const timer = setInterval(function(root) {\n",
       "      if (root.Bokeh !== undefined) {\n",
       "        clearInterval(timer);\n",
       "        embed_document(root);\n",
       "      } else {\n",
       "        attempts++;\n",
       "        if (attempts > 100) {\n",
       "          clearInterval(timer);\n",
       "          console.log(\"Bokeh: ERROR: Unable to run BokehJS code because BokehJS library is missing\");\n",
       "        }\n",
       "      }\n",
       "    }, 10, root)\n",
       "  }\n",
       "})(window);"
      ],
      "application/vnd.bokehjs_exec.v0+json": ""
     },
     "metadata": {
      "application/vnd.bokehjs_exec.v0+json": {
       "id": "p1089"
      }
     },
     "output_type": "display_data"
    }
   ],
   "source": [
    "cat_colors = colorcet.b_glasbey_category10\n",
    "x = '[IPTG] (mM)'\n",
    "y = 'fold change'\n",
    "\n",
    "source_WT = bokeh.models.ColumnDataSource(df_tot.loc[df_tot['Genotype']=='WT', :])\n",
    "source_Q18A = bokeh.models.ColumnDataSource(df_tot.loc[df_tot['Genotype']=='Q18A', :])\n",
    "source_Q18M = bokeh.models.ColumnDataSource(df_tot.loc[df_tot['Genotype']=='Q18M', :])\n",
    "\n",
    "p = bokeh.plotting.figure(\n",
    "    frame_width = 300,\n",
    "    frame_height = 300,\n",
    "    x_axis_label = '[IPTG] (mM)',\n",
    "    y_axis_label = 'fold change',\n",
    "    x_range = [0.00001,100],\n",
    "    y_range = [0,1.2],\n",
    "    x_axis_type='log',\n",
    ")\n",
    "\n",
    "#source = bokeh.models.ColumnDataSource(df) #notneeded\n",
    "\n",
    "WT_glyph = p.circle(\n",
    "    source=source_WT,#or put df here directly\n",
    "    x=x,\n",
    "    y=y,\n",
    "    color = cat_colors[0],\n",
    ")\n",
    "\n",
    "Q18A_glyph = p.circle(\n",
    "    source=source_Q18A,#or put df here directly\n",
    "    x=x,\n",
    "    y=y,\n",
    "    color = cat_colors[1],\n",
    ")\n",
    "\n",
    "Q18M_glyph = p.circle(\n",
    "    source=source_Q18M,#or put df here directly\n",
    "    x=x,\n",
    "    y=y,\n",
    "    color = cat_colors[2],\n",
    ")\n",
    "\n",
    "# Construct legend items\n",
    "legend_items = [('WT', [WT_glyph]), ('Q18A', [Q18A_glyph]), ('Q18M', [Q18M_glyph])]\n",
    "\n",
    "# Instantiate legend\n",
    "legend = bokeh.models.Legend(items=legend_items, click_policy='hide')\n",
    "\n",
    "# Add the legend to the right of the plot\n",
    "p.add_layout(legend, 'right')\n",
    "\n",
    "bokeh.io.show(p)"
   ]
  },
  {
   "cell_type": "code",
   "execution_count": 18,
   "id": "e51be480-33a7-4aca-b0bb-fbb0e9dda531",
   "metadata": {},
   "outputs": [],
   "source": [
    "def fold_change(c, RK, KdA=0.017, KdI=0.002, Kswitch=5.8):\n",
    "    return (1+RK*np.square(1+c/KdA)/(np.square(1+c/KdA)+Kswitch*np.square(1+c/KdI))) ** (-1)"
   ]
  },
  {
   "cell_type": "code",
   "execution_count": 19,
   "id": "f4eed7f1-5d0d-41a7-b9e0-e1a82b4b6258",
   "metadata": {},
   "outputs": [],
   "source": [
    "d = np.logspace(-4,2,num = 1000)\n",
    "#print(d)\n",
    "#WT_fc = fold_change(df_tot.loc[df_tot['Genotype']=='WT', '[IPTG] (mM)'],141.5)\n",
    "#Q18A_fc = fold_change(df_tot.loc[df_tot['Genotype']=='Q18A', '[IPTG] (mM)'],16.56)\n",
    "#Q18M_fc = fold_change(df_tot.loc[df_tot['Genotype']=='Q18M', '[IPTG] (mM)'],1332)\n",
    "\n",
    "WT_fc = fold_change(d,141.5)\n",
    "Q18A_fc = fold_change(d,16.56)\n",
    "Q18M_fc = fold_change(d,1332)"
   ]
  },
  {
   "cell_type": "code",
   "execution_count": 20,
   "id": "9c5d6577-ec3c-41f8-94c5-9bcb5b77bf3f",
   "metadata": {},
   "outputs": [
    {
     "data": {
      "text/html": [
       "\n",
       "  <div id=\"cb743130-7324-4205-8c6a-20009ca940c8\" data-root-id=\"p1168\" style=\"display: contents;\"></div>\n"
      ]
     },
     "metadata": {},
     "output_type": "display_data"
    },
    {
     "data": {
      "application/javascript": [
       "(function(root) {\n",
       "  function embed_document(root) {\n",
       "  const docs_json = {\"e56bb9c8-cf35-4484-8255-38d904f4690d\":{\"version\":\"3.2.1\",\"title\":\"Bokeh Application\",\"roots\":[{\"type\":\"object\",\"name\":\"Figure\",\"id\":\"p1168\",\"attributes\":{\"x_range\":{\"type\":\"object\",\"name\":\"Range1d\",\"id\":\"p1177\",\"attributes\":{\"start\":1e-05,\"end\":100}},\"y_range\":{\"type\":\"object\",\"name\":\"Range1d\",\"id\":\"p1178\",\"attributes\":{\"end\":1.2}},\"x_scale\":{\"type\":\"object\",\"name\":\"LogScale\",\"id\":\"p1179\"},\"y_scale\":{\"type\":\"object\",\"name\":\"LinearScale\",\"id\":\"p1180\"},\"title\":{\"type\":\"object\",\"name\":\"Title\",\"id\":\"p1175\"},\"renderers\":[{\"type\":\"object\",\"name\":\"GlyphRenderer\",\"id\":\"p1204\",\"attributes\":{\"data_source\":{\"type\":\"object\",\"name\":\"ColumnDataSource\",\"id\":\"p1159\",\"attributes\":{\"selected\":{\"type\":\"object\",\"name\":\"Selection\",\"id\":\"p1160\",\"attributes\":{\"indices\":[],\"line_indices\":[]}},\"selection_policy\":{\"type\":\"object\",\"name\":\"UnionRenderers\",\"id\":\"p1161\"},\"data\":{\"type\":\"map\",\"entries\":[[\"index\",{\"type\":\"ndarray\",\"array\":{\"type\":\"bytes\",\"data\":\"AAAAAAEAAAACAAAAAwAAAAQAAAAFAAAABgAAAAcAAAAIAAAACQAAAAoAAAALAAAADAAAAA0AAAAOAAAADwAAABAAAAARAAAAEgAAABMAAAA=\"},\"shape\":[20],\"dtype\":\"int32\",\"order\":\"little\"}],[\"[IPTG] (mM)\",{\"type\":\"ndarray\",\"array\":{\"type\":\"bytes\",\"data\":\"6As5T8jC5D6bRiGkOu1PPwLGlvNtvmA/nbB0K9yVcD9BHi7syRB/P+YELlhFKZA/h6jkxdQpnj9JWp5pBJqoPwxQn9Vjo68/6ia7yKZ3uD8AokPStZm/P8/EWItwnck/BBWtQEmKzz8HoUdyYP3YP2/hrL8FS+g/V2lcoVaw9z93Mmd8Y90IQICZU2xlLRhANcP9+mD9JkC8P4ARWyo4QA==\"},\"shape\":[20],\"dtype\":\"float64\",\"order\":\"little\"}],[\"fold change\",{\"type\":\"ndarray\",\"array\":{\"type\":\"bytes\",\"data\":\"d+RFSUnWpD8us9NmNaKyP5wsttrd87o/2FbD+3iIyT9nXi2TGfTVP+G9gO/jZ90/RB+czER75D/UwdPJmdvjP3FuGNt5heU/siGXPWSH5T9OuTRcMsXlP6aWlmJoM+c/VzLChZhB5j96TMER+7zmPyDpIQvydec/ZGjtf/gn5z9nifjlf/XnP1TBiPw8mug/nWwV07Ij6D9JMT7o3nfoPw==\"},\"shape\":[20],\"dtype\":\"float64\",\"order\":\"little\"}],[\"Genotype\",{\"type\":\"ndarray\",\"array\":[\"WT\",\"WT\",\"WT\",\"WT\",\"WT\",\"WT\",\"WT\",\"WT\",\"WT\",\"WT\",\"WT\",\"WT\",\"WT\",\"WT\",\"WT\",\"WT\",\"WT\",\"WT\",\"WT\",\"WT\"],\"shape\":[20],\"dtype\":\"object\",\"order\":\"little\"}]]}}},\"view\":{\"type\":\"object\",\"name\":\"CDSView\",\"id\":\"p1205\",\"attributes\":{\"filter\":{\"type\":\"object\",\"name\":\"AllIndices\",\"id\":\"p1206\"}}},\"glyph\":{\"type\":\"object\",\"name\":\"Circle\",\"id\":\"p1201\",\"attributes\":{\"x\":{\"type\":\"field\",\"field\":\"[IPTG] (mM)\"},\"y\":{\"type\":\"field\",\"field\":\"fold change\"},\"line_color\":{\"type\":\"value\",\"value\":\"#1f77b3\"},\"fill_color\":{\"type\":\"value\",\"value\":\"#1f77b3\"},\"hatch_color\":{\"type\":\"value\",\"value\":\"#1f77b3\"}}},\"nonselection_glyph\":{\"type\":\"object\",\"name\":\"Circle\",\"id\":\"p1202\",\"attributes\":{\"x\":{\"type\":\"field\",\"field\":\"[IPTG] (mM)\"},\"y\":{\"type\":\"field\",\"field\":\"fold change\"},\"line_color\":{\"type\":\"value\",\"value\":\"#1f77b3\"},\"line_alpha\":{\"type\":\"value\",\"value\":0.1},\"fill_color\":{\"type\":\"value\",\"value\":\"#1f77b3\"},\"fill_alpha\":{\"type\":\"value\",\"value\":0.1},\"hatch_color\":{\"type\":\"value\",\"value\":\"#1f77b3\"},\"hatch_alpha\":{\"type\":\"value\",\"value\":0.1}}},\"muted_glyph\":{\"type\":\"object\",\"name\":\"Circle\",\"id\":\"p1203\",\"attributes\":{\"x\":{\"type\":\"field\",\"field\":\"[IPTG] (mM)\"},\"y\":{\"type\":\"field\",\"field\":\"fold change\"},\"line_color\":{\"type\":\"value\",\"value\":\"#1f77b3\"},\"line_alpha\":{\"type\":\"value\",\"value\":0.2},\"fill_color\":{\"type\":\"value\",\"value\":\"#1f77b3\"},\"fill_alpha\":{\"type\":\"value\",\"value\":0.2},\"hatch_color\":{\"type\":\"value\",\"value\":\"#1f77b3\"},\"hatch_alpha\":{\"type\":\"value\",\"value\":0.2}}}}},{\"type\":\"object\",\"name\":\"GlyphRenderer\",\"id\":\"p1213\",\"attributes\":{\"data_source\":{\"type\":\"object\",\"name\":\"ColumnDataSource\",\"id\":\"p1162\",\"attributes\":{\"selected\":{\"type\":\"object\",\"name\":\"Selection\",\"id\":\"p1163\",\"attributes\":{\"indices\":[],\"line_indices\":[]}},\"selection_policy\":{\"type\":\"object\",\"name\":\"UnionRenderers\",\"id\":\"p1164\"},\"data\":{\"type\":\"map\",\"entries\":[[\"index\",{\"type\":\"ndarray\",\"array\":{\"type\":\"bytes\",\"data\":\"FAAAABUAAAAWAAAAFwAAABgAAAAZAAAAGgAAABsAAAAcAAAAHQAAAB4AAAAfAAAAIAAAACEAAAAiAAAAIwAAACQAAAAlAAAAJgAAACcAAAAoAAAAKQAAACoAAAArAAAALAAAAA==\"},\"shape\":[25],\"dtype\":\"int32\",\"order\":\"little\"}],[\"[IPTG] (mM)\",{\"type\":\"ndarray\",\"array\":{\"type\":\"bytes\",\"data\":\"MVsKYr/m4z6trB94KE0YP6PtQztxgCk/BthlqTFYOT9RdwyaAidJP/6ZM54Vs04/AI6Hbo3oWD+nhBP2p3VeP+cGEpcFH24/FsXbNQrWfT9f+ld3JtyMP1Gv/4IPx5w/T71aObp0qD+j4TfKPx2tP6r9ts+VI7k/BFN1mhqquz84f29+29vHP3MJaTeno84/sqhUq05e2D/oiAX8QJznP/FABLlnT/g/kRjaF4pDCEAdu2oS2qEXQIy4EPZI3ShA3gUzY5weOEA=\"},\"shape\":[25],\"dtype\":\"float64\",\"order\":\"little\"}],[\"fold change\",{\"type\":\"ndarray\",\"array\":{\"type\":\"bytes\",\"data\":\"MXnHA29Uyz8LcnQ/9m3QP399K9F4MdI/j5mUCWkC1j9JbsLjD8baPxzDVroru94/AqxLWOR64D+jsBIto9PhP9WBX+TaZOU/+ZH5Z31o6D/LcXL8M8rqP7d9QbGBl+s/ayC2eMld7j8PiXhxxg3wP3FY202ulu0/juvuYbDh7z9/Kes688HtP28yEp0u5e8/BAEL/PIc7z/kj2guinjwP7+WQ/5jnO8/5IfoE2UM8D9UQ1cF+RfwPzncSkqbGfA/zO+kQxvR8D8=\"},\"shape\":[25],\"dtype\":\"float64\",\"order\":\"little\"}],[\"Genotype\",{\"type\":\"ndarray\",\"array\":[\"Q18A\",\"Q18A\",\"Q18A\",\"Q18A\",\"Q18A\",\"Q18A\",\"Q18A\",\"Q18A\",\"Q18A\",\"Q18A\",\"Q18A\",\"Q18A\",\"Q18A\",\"Q18A\",\"Q18A\",\"Q18A\",\"Q18A\",\"Q18A\",\"Q18A\",\"Q18A\",\"Q18A\",\"Q18A\",\"Q18A\",\"Q18A\",\"Q18A\"],\"shape\":[25],\"dtype\":\"object\",\"order\":\"little\"}]]}}},\"view\":{\"type\":\"object\",\"name\":\"CDSView\",\"id\":\"p1214\",\"attributes\":{\"filter\":{\"type\":\"object\",\"name\":\"AllIndices\",\"id\":\"p1215\"}}},\"glyph\":{\"type\":\"object\",\"name\":\"Circle\",\"id\":\"p1210\",\"attributes\":{\"x\":{\"type\":\"field\",\"field\":\"[IPTG] (mM)\"},\"y\":{\"type\":\"field\",\"field\":\"fold change\"},\"line_color\":{\"type\":\"value\",\"value\":\"#ff7e0e\"},\"fill_color\":{\"type\":\"value\",\"value\":\"#ff7e0e\"},\"hatch_color\":{\"type\":\"value\",\"value\":\"#ff7e0e\"}}},\"nonselection_glyph\":{\"type\":\"object\",\"name\":\"Circle\",\"id\":\"p1211\",\"attributes\":{\"x\":{\"type\":\"field\",\"field\":\"[IPTG] (mM)\"},\"y\":{\"type\":\"field\",\"field\":\"fold change\"},\"line_color\":{\"type\":\"value\",\"value\":\"#ff7e0e\"},\"line_alpha\":{\"type\":\"value\",\"value\":0.1},\"fill_color\":{\"type\":\"value\",\"value\":\"#ff7e0e\"},\"fill_alpha\":{\"type\":\"value\",\"value\":0.1},\"hatch_color\":{\"type\":\"value\",\"value\":\"#ff7e0e\"},\"hatch_alpha\":{\"type\":\"value\",\"value\":0.1}}},\"muted_glyph\":{\"type\":\"object\",\"name\":\"Circle\",\"id\":\"p1212\",\"attributes\":{\"x\":{\"type\":\"field\",\"field\":\"[IPTG] (mM)\"},\"y\":{\"type\":\"field\",\"field\":\"fold change\"},\"line_color\":{\"type\":\"value\",\"value\":\"#ff7e0e\"},\"line_alpha\":{\"type\":\"value\",\"value\":0.2},\"fill_color\":{\"type\":\"value\",\"value\":\"#ff7e0e\"},\"fill_alpha\":{\"type\":\"value\",\"value\":0.2},\"hatch_color\":{\"type\":\"value\",\"value\":\"#ff7e0e\"},\"hatch_alpha\":{\"type\":\"value\",\"value\":0.2}}}}},{\"type\":\"object\",\"name\":\"GlyphRenderer\",\"id\":\"p1222\",\"attributes\":{\"data_source\":{\"type\":\"object\",\"name\":\"ColumnDataSource\",\"id\":\"p1165\",\"attributes\":{\"selected\":{\"type\":\"object\",\"name\":\"Selection\",\"id\":\"p1166\",\"attributes\":{\"indices\":[],\"line_indices\":[]}},\"selection_policy\":{\"type\":\"object\",\"name\":\"UnionRenderers\",\"id\":\"p1167\"},\"data\":{\"type\":\"map\",\"entries\":[[\"index\",{\"type\":\"ndarray\",\"array\":{\"type\":\"bytes\",\"data\":\"LQAAAC4AAAAvAAAAMAAAADEAAAAyAAAAMwAAADQAAAA1AAAANgAAADcAAAA4AAAAOQAAADoAAAA7AAAAPAAAAD0AAAA+AAAAPwAAAEAAAAA=\"},\"shape\":[20],\"dtype\":\"int32\",\"order\":\"little\"}],[\"[IPTG] (mM)\",{\"type\":\"ndarray\",\"array\":{\"type\":\"bytes\",\"data\":\"ljc+f17B4z5PzdyBxnBQP3x7HP69bmA/BhN/RkQAcD/QFYbxr2aAP9gRFFeyW5A/aZ1Psvfqnj+sk/OKdaipP0cXtRo0KbA/GYc565uguT/6mAviz2m/P06yGS7bP8o/bXW4woiC0D+0wjQmI+jYPyrz+jndcek/0z17B1vR+D/OJH152nQJQLSZWkK+zxhA/CVYa5TIKkBh8QIGGhY6QA==\"},\"shape\":[20],\"dtype\":\"float64\",\"order\":\"little\"}],[\"fold change\",{\"type\":\"ndarray\",\"array\":{\"type\":\"bytes\",\"data\":\"dQSx9LXylz9TViOHVQyhP3Uh1REDPaE/INuybB/zoz/65VHb1qymP54snv0JH7E/EF1V+8DZvT8RePjeT37HP6bzMVVegsc/hqNp4zF9yD8x+fXFIbfKP+Ue1mBWHso/4AuZGtIHzD8H9lagURzLP6Fgyoy0G9A/aCuBYZuuzj+INWSbUmrOP01YFYU71M0/p0kqD8HhzT8yJaCaYD7OPw==\"},\"shape\":[20],\"dtype\":\"float64\",\"order\":\"little\"}],[\"Genotype\",{\"type\":\"ndarray\",\"array\":[\"Q18M\",\"Q18M\",\"Q18M\",\"Q18M\",\"Q18M\",\"Q18M\",\"Q18M\",\"Q18M\",\"Q18M\",\"Q18M\",\"Q18M\",\"Q18M\",\"Q18M\",\"Q18M\",\"Q18M\",\"Q18M\",\"Q18M\",\"Q18M\",\"Q18M\",\"Q18M\"],\"shape\":[20],\"dtype\":\"object\",\"order\":\"little\"}]]}}},\"view\":{\"type\":\"object\",\"name\":\"CDSView\",\"id\":\"p1223\",\"attributes\":{\"filter\":{\"type\":\"object\",\"name\":\"AllIndices\",\"id\":\"p1224\"}}},\"glyph\":{\"type\":\"object\",\"name\":\"Circle\",\"id\":\"p1219\",\"attributes\":{\"x\":{\"type\":\"field\",\"field\":\"[IPTG] (mM)\"},\"y\":{\"type\":\"field\",\"field\":\"fold change\"},\"line_color\":{\"type\":\"value\",\"value\":\"#2ba02b\"},\"fill_color\":{\"type\":\"value\",\"value\":\"#2ba02b\"},\"hatch_color\":{\"type\":\"value\",\"value\":\"#2ba02b\"}}},\"nonselection_glyph\":{\"type\":\"object\",\"name\":\"Circle\",\"id\":\"p1220\",\"attributes\":{\"x\":{\"type\":\"field\",\"field\":\"[IPTG] (mM)\"},\"y\":{\"type\":\"field\",\"field\":\"fold change\"},\"line_color\":{\"type\":\"value\",\"value\":\"#2ba02b\"},\"line_alpha\":{\"type\":\"value\",\"value\":0.1},\"fill_color\":{\"type\":\"value\",\"value\":\"#2ba02b\"},\"fill_alpha\":{\"type\":\"value\",\"value\":0.1},\"hatch_color\":{\"type\":\"value\",\"value\":\"#2ba02b\"},\"hatch_alpha\":{\"type\":\"value\",\"value\":0.1}}},\"muted_glyph\":{\"type\":\"object\",\"name\":\"Circle\",\"id\":\"p1221\",\"attributes\":{\"x\":{\"type\":\"field\",\"field\":\"[IPTG] (mM)\"},\"y\":{\"type\":\"field\",\"field\":\"fold change\"},\"line_color\":{\"type\":\"value\",\"value\":\"#2ba02b\"},\"line_alpha\":{\"type\":\"value\",\"value\":0.2},\"fill_color\":{\"type\":\"value\",\"value\":\"#2ba02b\"},\"fill_alpha\":{\"type\":\"value\",\"value\":0.2},\"hatch_color\":{\"type\":\"value\",\"value\":\"#2ba02b\"},\"hatch_alpha\":{\"type\":\"value\",\"value\":0.2}}}}},{\"type\":\"object\",\"name\":\"GlyphRenderer\",\"id\":\"p1231\",\"attributes\":{\"data_source\":{\"type\":\"object\",\"name\":\"ColumnDataSource\",\"id\":\"p1225\",\"attributes\":{\"selected\":{\"type\":\"object\",\"name\":\"Selection\",\"id\":\"p1226\",\"attributes\":{\"indices\":[],\"line_indices\":[]}},\"selection_policy\":{\"type\":\"object\",\"name\":\"UnionRenderers\",\"id\":\"p1227\"},\"data\":{\"type\":\"map\",\"entries\":[[\"x\",{\"type\":\"ndarray\",\"array\":{\"type\":\"bytes\",\"data\":\"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\"},\"shape\":[1000],\"dtype\":\"float64\",\"order\":\"little\"}],[\"y\",{\"type\":\"ndarray\",\"array\":{\"type\":\"bytes\",\"data\":\"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\"},\"shape\":[1000],\"dtype\":\"float64\",\"order\":\"little\"}]]}}},\"view\":{\"type\":\"object\",\"name\":\"CDSView\",\"id\":\"p1232\",\"attributes\":{\"filter\":{\"type\":\"object\",\"name\":\"AllIndices\",\"id\":\"p1233\"}}},\"glyph\":{\"type\":\"object\",\"name\":\"Line\",\"id\":\"p1228\",\"attributes\":{\"x\":{\"type\":\"field\",\"field\":\"x\"},\"y\":{\"type\":\"field\",\"field\":\"y\"},\"line_color\":\"#1f77b3\"}},\"nonselection_glyph\":{\"type\":\"object\",\"name\":\"Line\",\"id\":\"p1229\",\"attributes\":{\"x\":{\"type\":\"field\",\"field\":\"x\"},\"y\":{\"type\":\"field\",\"field\":\"y\"},\"line_color\":\"#1f77b3\",\"line_alpha\":0.1}},\"muted_glyph\":{\"type\":\"object\",\"name\":\"Line\",\"id\":\"p1230\",\"attributes\":{\"x\":{\"type\":\"field\",\"field\":\"x\"},\"y\":{\"type\":\"field\",\"field\":\"y\"},\"line_color\":\"#1f77b3\",\"line_alpha\":0.2}}}},{\"type\":\"object\",\"name\":\"GlyphRenderer\",\"id\":\"p1240\",\"attributes\":{\"data_source\":{\"type\":\"object\",\"name\":\"ColumnDataSource\",\"id\":\"p1234\",\"attributes\":{\"selected\":{\"type\":\"object\",\"name\":\"Selection\",\"id\":\"p1235\",\"attributes\":{\"indices\":[],\"line_indices\":[]}},\"selection_policy\":{\"type\":\"object\",\"name\":\"UnionRenderers\",\"id\":\"p1236\"},\"data\":{\"type\":\"map\",\"entries\":[[\"x\",{\"type\":\"ndarray\",\"array\":{\"type\":\"bytes\",\"data\":\"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\"},\"shape\":[1000],\"dtype\":\"float64\",\"order\":\"little\"}],[\"y\",{\"type\":\"ndarray\",\"array\":{\"type\":\"bytes\",\"data\":\"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\"},\"shape\":[1000],\"dtype\":\"float64\",\"order\":\"little\"}]]}}},\"view\":{\"type\":\"object\",\"name\":\"CDSView\",\"id\":\"p1241\",\"attributes\":{\"filter\":{\"type\":\"object\",\"name\":\"AllIndices\",\"id\":\"p1242\"}}},\"glyph\":{\"type\":\"object\",\"name\":\"Line\",\"id\":\"p1237\",\"attributes\":{\"x\":{\"type\":\"field\",\"field\":\"x\"},\"y\":{\"type\":\"field\",\"field\":\"y\"},\"line_color\":\"#ff7e0e\"}},\"nonselection_glyph\":{\"type\":\"object\",\"name\":\"Line\",\"id\":\"p1238\",\"attributes\":{\"x\":{\"type\":\"field\",\"field\":\"x\"},\"y\":{\"type\":\"field\",\"field\":\"y\"},\"line_color\":\"#ff7e0e\",\"line_alpha\":0.1}},\"muted_glyph\":{\"type\":\"object\",\"name\":\"Line\",\"id\":\"p1239\",\"attributes\":{\"x\":{\"type\":\"field\",\"field\":\"x\"},\"y\":{\"type\":\"field\",\"field\":\"y\"},\"line_color\":\"#ff7e0e\",\"line_alpha\":0.2}}}},{\"type\":\"object\",\"name\":\"GlyphRenderer\",\"id\":\"p1249\",\"attributes\":{\"data_source\":{\"type\":\"object\",\"name\":\"ColumnDataSource\",\"id\":\"p1243\",\"attributes\":{\"selected\":{\"type\":\"object\",\"name\":\"Selection\",\"id\":\"p1244\",\"attributes\":{\"indices\":[],\"line_indices\":[]}},\"selection_policy\":{\"type\":\"object\",\"name\":\"UnionRenderers\",\"id\":\"p1245\"},\"data\":{\"type\":\"map\",\"entries\":[[\"x\",{\"type\":\"ndarray\",\"array\":{\"type\":\"bytes\",\"data\":\"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\"},\"shape\":[1000],\"dtype\":\"float64\",\"order\":\"little\"}],[\"y\",{\"type\":\"ndarray\",\"array\":{\"type\":\"bytes\",\"data\":\"JIO6KOVidj/Ry7ACn2h2P5EHZeJtbnY/1x4PF1J0dj/v+R7xS3p2P8ShQcJbgHY/dXhm3YGGdj9zicSWvox2Pyvy30MSk3Y/d2OPO32Zdj86vAHW/592P+W9w2yapnY/MdvFWk2tdj+SIWL8GLR2PxE+Yq/9unY/4J0F0/vBdj9SqwfIE8l2P7snpvBF0HY/wqKnsJLXdj/AD2Jt+t52P7F5wY195nY/bNZOehzudj+X+Tad1/V2PwyoUWKv/XY/VMwoN6QFdz/DzP+Ktg13P/YD287mFXc/UVyHdTUedz8bD6LzoiZ3Px2IoL8vL3c/I27YUdw3dz9k0YckqUB3P4CA3bOWSXc/hYQBfqVSdz84xR0D1lt3PwHWZsUoZXc/fuwkSZ5udz9cAb0UN3h3P4McurDzgXc/JM3Wp9SLdz/EzgaH2pV3P9/bgN0FoHc/RK/IPFeqdz/fNLk4z7R3P9/qjmduv3c/RHTyYTXKdz+mXQPDJNV3PzEVYyg94Hc/2xZAMn/rdz+8TWGD6/Z3P8GrMcGCAng/PvjLk0UOeD8y1wamNBp4P4sJgaVQJng/9eetQpoyeD8jGeIwEj94P7SEYCa5S3g/xoNn3I9YeD+OUD4Pl2V4P/S1Qn7Pcng/XQD36zmAeD8VMRAe1414Py91hN2nm3g/puGZ9qypeD9RdfU457d4P7liqndXxng/WqJJif7UeD9Oz/FH3eN4PypPX5H08ng/+8b8RkUCeT8Z3vNN0BF5P9pQPo+WIXk/MFS395gxeT+6Sy142EF5P8PTcwVWUnk/jSB2mBJjeT/AtEkuD3R5P/FvQchMhXk/PfcAbMyWeT93eZAjj6h5Py7QcP2Vunk/if+vDOLMeT9MFv5odN95P6tvwi5O8nk/1lgxf3AFej9rG2KA3Bh6P/puZV2TLHo/71JcRpZAej+5Uo9w5lR6P/U1hhaFaXo/Ox4geHN+ej9aFKzaspN6P8EGAolEqXo/7jqc0ym/ej98M7EQZNV6P9MMTpz063o/IVJx2NwCez+DTCYtHhp7PwHOoAi6MXs/hXpZ37FJez9QkCosB2J7P9cxbXC7ens/CjMXNNCTez+ja9kFR617P1mQPnshx3s/CZXKMGHhez9pmRrKB/x7Px9iBfIWF3w/G2C8WpAyfD9BSO29dU58P7A85NzIanw/zomugIuHfD/K+D16v6R8P1i5jKJmwnw/WOTB2oLgfD8RmVYMFv98P+i2OykiHn0//zQALKk9fT98GfgXrV19PxoSZPkvfn0/cK+Z5TOffT+vRCz7usB9P/JsFmLH4n0/CTjkS1sFfj/C/93zeCh+PxfnM58iTH4/wAQqnVpwfj/XOUVHI5V+P4O2eAF/un4/0SxUOnDgfj9oszJr+QZ/P7VYahgdLn8/VWd80d1Vfz/DXEYxPn5/P3OSM95Ap38/cZpviujQfz93Txn0N/t/P35Mu/IYE4A/xHGUmuwogD+HJjFjGD+AP8XCjcSdVYA/uTElPX5sgD/alQxSu4OAP2BGD49Wm4A/7CXLhlGzgD/wUc3SrcuAP0kqrxNt5IA/fLAz8ZD9gD/NPWUaGxeBP26Ps0UNMYE/1ScSMWlLgT8sBBeiMGaBP7ukGWZlgYE/D2dSUgmdgT9YMPpDHrmBP5dmaiCm1YE/6TY91aLygT8RJ25YFhCCP1rweqgCLoI/sKGEzGlMgj+hBnHUTWuCP+9QDNmwioI/5QEr/JSqgj/tEMxo/MqCPx5MO1Pp64I/2O8z+V0Ngz/rcQOiXC+DP8l8rJ7nUYM//RYKSgF1gz/Q8vIIrJiDP//hXErqvIM/F2mAh77hgz+GbfxDKweEP+/5+Q0zLYQ/0RJQfthThD/rlqc4HnuEP+Qkn+sGo4Q/uwDvUJXLhD+K8owtzPSEP9UX0FGuHoU/+KCUmT5JhT8rc1/sf3SFP7engT11oIU/yeA7jCHNhT82a+Hjh/qFP3gl+1urKIY/WyJqGI9Xhj+n/olJNoeGPyPgUiykt4Y/5xN7Ctzohj8fQpg64RqHPwksQCC3TYc/z+koLGGBhz9fnEjc4rWHP4KH9Ls/64c/Voj/Y3shiD8g29d6mViIP5kjpLSdkIg/eKpf04vJiD/uwfWmZwOJP0ZDXA01Pok/ixat8vd5iT9JtT5RtLaJP6qYuzFu9Ik/BIM4qykzij97lEnj6nKKP1YZFg62s4o/RgFrbo/1ij+W7ctVeziLP53DgiR+fIs/x7GtSZzBiz/hkktD2geMPyWdRp48T4w/gUh99seXjD+lV8n2gOGMP7PvBFlsLI0/ZKgN5o54jT/Wf8V17cWNP6WbEe+MFI4/oMDWR3Jkjj9ra/OEorWOP0dxN7oiCI8/SBNZCvhbjz/wauemJ7GPPzkMHWjbA5A/fA2vatUvkD9q3P+JhFyQPwWwKHzriZA/ubJ3/gy4kD+ARGDV6+aQPzKTacyKFpE/q3sbtuxGkT9bp+lrFHiRPyfZHM4EqpE/ZVy6w8DckT+fiWk6SxCSP25TVyanRJI//M4Xgtd5kj89q4VO36+SP7+Jn5LB5pI/8yxjW4Eekz+ebqa7IVeTP5Ty7culkJM/PolBqhDLkz98Nf55ZQaUP83KpWOnQpQ/GReslNl/lD+PjUE//72UPxRnG5ob/ZQ/vC054DE9lT++qKdQRX6VPx4fQS5ZwJU/Uedqv3ADlj8JO9BNj0eWPyBGGia4jJY/N2mll+7Slj/ZpzP0NRqXP+E7nI+RYpc/b0d4vwSslz8ToMzakvaXP4OusDk/Qpg/KF7yNA2PmD/+GbclAN2YP6DTGWUbLJk/YhPGS2J8mT+REJAx2M2ZP9zRCW2AIJo/uVcVU150mj9o0nM2dcmaP07nUWfIH5s/4AnRMlt3mz+D7Y3iMNCbP5wXJLxMKpw/CpmuALKFnD+F+EXsY+KcP5VYe7VlQJ0/3OPQjLqfnT9Iji+cZQCeP7w3WgZqYp4/f0Fe5srFnj/hpgFPiyqfP3CrLkqukJ8/8TNd2Db4nz8E7/z3kzCgP4N3ZT7CZaA/zpipr6eboD8kbhm2RdKgP5ROw7WdCaE/SXMiDLFBoT9UzswPgXqhP4MhIBAPtKE/FGbuVFzuoT9UlykeaimiP8rxjqM5ZaI/dbpRFMyhoj/xocWWIt+iP2bXCEg+HaM/luGtOyBcoz+jUmV7yZujPytupwY73KM/jNhd0nUdpD/hZo3Iel+kPwIpAMhKoqQ/lsXvo+blpD+RQrAjTyqlP/RTWwKFb6U/Qkt87oi1pT81w7yJW/ylP4Eikmj9Q6Y/LxLsEW+Mpj9hA+T+sNWmP7HgbZrDH6c/+AgKQadqpz8Dr3hAXLanP1O8btfiAqg/+1NMNTtQqD8EEtV5ZZ6oPx0m6rRh7ag/D2VG5i89qT9Jbzz9z42pPxgJd9hB36k/lcC7RYUxqj///q8BmoSqP/2foLd/2Ko/pCtMATYtqz8Azq9mvIKrP1Qm110S2as/EwmvSjcwrD/xTNt+KoisP328jznr4Kw/80Nsp3g6rT/YcVzi0ZStP9thevH1760/kyX1yONLrj+8wPpJmqiuP0jLpUIYBq8/z8vubVxkrz8GW6FzZcOvP+SPKvSYEbA/U1m1JuBBsD+8OoaIh3KwP5S1GUeOo7A/7QxYhvPUsD8jwJtgtgaxPwoTuubVOLE/aaYNIFFrsT8aI4MKJ56xPzH5p5pW0bE/wzO7u94Esj9HYcBPvjiyP5OPlC/0bLI/m1kFK3+hsj+RBOoIXtayP7aoPoePC7M/C2JBWxJBsz96g5Ex5XazP/jGUK4GrbM/znNGbXXjsz+ScwQCMBq0P81NDvg0UbQ/PgEC04KItD/YsMIOGMC0P0IapR/z97Q/W8qdchIwtT8hBHFtdGi1PzVN5G4XobU/sZLxzvnZtT+a2PveGRO2P0tlBep1TLY/mlnnNAyGtj+Gpor+2r+2P7ZPIoDg+bY/jOpm7Ro0tz9sSNN0iG63P7g64j8nqbc/k15Nc/Xjtz9K3kwv8R64PzMV2I8YWrg/9APnrGmVuD8OgbSa4tC4PzoTAWqBDLk/V2FWKERIuT+YJEvgKIS5PzqJx5ktwLk/fOlJWlD8uT+Jzysljzi6Pxcq5/vndLo/MKBb3lixuj9e8BPL3+26P25Hi796Krs/2ntyuCdnuz82GvWx5KO7P+Qv/qev4Ls/McF8loYdvD+a2Kd5Z1q8P9YcQk5Ql7w/T9zcET/UvD9GfBrDMRG9Pxc78GEmTr0/pDTn7xqLvT8rmVxwDci9Py4Hwej7BL4/jfjWYORBvj9iNfDixH6+P649Knybu74/6ZypPGb4vj+SGtQ3IzW/P2y7iYTQcb8/k4dcPWyuvz/PCseA9Oq/Pw/CsLizE8A/nt0Km+ExwD9ZuSj9AlDAP/62G/cWbsA/4oFnoxyMwD+bGhkfE6rAP9Qh3Yn5x8A/Tl8VBs/lwD+Egu24kgPBP3sab8pDIcE/wMKUZeE+wT/0g1y4alzBP2dm2fPeecE/sDVETD2XwT9+dAv5hLTBPxKA4jS10cE/KOPPPc3uwT+D2DpVzAvCPyz997+xKMI/VjNVxnxFwj9btiS0LGLCP1Zhx9jAfsI/XSk2hzibwj82zQoWk7fCPya8h9/P08I/5zWfQe7vwj8Wpvmd7QvDP4Y9+1nNJ8M/8MvI3oxDwz8N3UuZK1/DP7cbNvqoesM/qP4DdgSWwz+jwf6EPbHDP82uPaNTzMM/pbumUEbnwz8efe4QFQLEP/V2l2u/HMQ/4cnw60Q3xD+2RBQhpVHEP3/c453fa8Q/yI8G+fOFxD8vueTM4Z/EP6DVo7eoucQ/asIhW0jTxD+hd+9cwOzEP0BDS2YQBsU/QIkaJDgfxT9CDeNGNzjFPznKw4INUcU/dlxtj7ppxT+RAhooPoLFP6w5hQuYmsU/Yvni+8eyxT/Zk9a+zcrFP3c+aR2p4sU/REcA5Fn6xT+K+1Li3xHGP+1DYOs6KcY/Dfpj1WpAxj8d/Mt5b1fGPzACLbVIbsY/qzk3Z/aExj+LqqpyeJvGP6NqS73OscY/caLVL/nHxj+gZ/G1993GP4pwJj7K88Y/r6TPuXAJxz+FjQ4d6x7HPw+rvl45NMc/v69oeFtJxz/HpjVmUV7HPzMI4iYbc8c/x72wu7iHxz/dG14oKpzHP/nQEnNvsMc/E89WpIjExz9gMQTHddjHPy4hOug27Mc/iLxPF8z/xz8FAcdlNRPIPzS9P+dyJsg/B4tqsYQ5yD9t1fvbakzIPy3rnoAlX8g/OiHpurRxyD9aBk2oGITIP++pDWhRlsg/+/cxG1+oyD/JK3jkQbrIP+haSej5y8g/SxqtTIfdyD+oPj056u7IP7W5GdciAMk/ppXcUDERyT/SD47SFSLJPyzUmInQMsk/MFq+pGFDyT+RZAtUyVPJP6GkzMgHZMk/GIKDNR10yT9vCNvNCYTJPyT6nMbNk8k/DQunVWmjyT/2QeCx3LLJP2yCLhMowsk/Hj9sskvRyT8zVV7JR+DJP0cRqpIc78k/CF7LScr9yT85HQsrUQzKPwSrdXOxGso/7IvRYOsoyj+uRZYx/zbKPwJj4yTtRMo/f6J3erVSyj+kUKhyWGDKP9PMWE7Wbco/qznyTi97yj9AWFu2Y4jKP2OO8MZzlco/uhd8w1+iyj9/YS7vJ6/KP+KQlo3Mu8o/kzOb4k3Iyj94GnMyrNTKPyVensHn4Mo/54zf1ADtyj/3ATWx9/jKP59l0pvMBMs/5VUa2n8Qyz9hN5ixERzLP+4t+meCJ8s/rDwLQ9Iyyz8Lja2IAT7LP2Lc1H4QScs/qw+Ba/9Tyz/H7LiUzl7LPyr5hEB+acs//HzqtA50yz+1quY3gH7LP0vqaQ/TiMs/rUdTgQeTyz/pA2zTHZ3LP6dIY0sWp8s/Nv3JLvGwyz/EvA7DrrrLP1LteU1PxMs/qvYpE9PNyz/ymA9ZOtfLP0Ji6mOF4Ms/rUJFeLTpyz9pPnPax/LLPxc9jM6/+8s/M/ZpmJwEzD+g+aR7Xg3MPyHUkbsFFsw/Ak8+m5IezD+Aym5dBSfMP1Oym0ReL8w/6Qvvkp03zD/GHUKKwz/MP2kvG2zQR8w/SmGrecRPzD90nMzzn1fMPxqZ/xpjX8w/vPtpLw5nzD9JiNRwoW7MP9hqqR4ddsw/VZXyd4F9zD/DMVi7zoTMP40oHycFjMw/abon+SSTzD9QLexuLprMPyaMf8Uhocw/dniMOf+nzD/3DVQHx67MP2TXrGp5tcw/99MBnxa8zD9/jVHfnsLMP0o+LWYSycw/jwa4bXHPzD8WMaYvvNXMP4GGPOXy28w/2a5PxxXizD8RoUMOJejMPwggC/Ig7sw/qUQnqgn0zD/JFKdt3/nMP2omJ3Oi/8w/Ak/R8FIFzT9aXlwc8QrNP9vkCyt9EM0/rQSwUfcVzT+UTaXEXxvNP/ii1Le2IM0/BCyzXvwlzT9bTULsMCvNPxisD5NUMM0/8Tk1hWc1zT/6SVn0aTrNP++trhFcP80/m9v0DT5EzT8KGngZEEnNP3u2EWTSTc0/mEAoHYVSzT+fza9zKFfNP5VCKpa8W80/yKSnskFgzT/icMb2t2TNP9r3s48fac0/08EsqnhtzT+t9nxyw3HNP8DLgBQAds0/F/ekuy56zT8+J+eST37NPzWA1sRigs0/qhyUe2iGzT+rk9PgYIrNP4KC2x1Mjs0/khqGWyqSzT/fskHC+5XNP2JdEXrAmc0/un+NqnidzT8db+R6JKHNP3sP2xHEpM0/hnXNlVeozT+Ni68s36vNPwi5Dfxar80/nIwNKcuyzT9waG7YL7bNP+Mwii6Juc0/MP1VT9e8zT8jymJeGsDNP5Eu3n5Sw80/qRGT03/GzT+lYup+osnNPzbS66K6zM0/GY0+YcjPzT8L+Cnby9LNP99sljHF1c0/lvgNhbTYzT99Gr31mdvNPxKEc6N13s0/wNmkrUfhzT8vdGkzEOTNP0Aif1PP5s0/hetJLIXpzT8V09TbMezNP8ua0n/V7s0/vIaeNXDxzT/dID0aAvTNP9T8XEqL9s0/0HtX4gv5zT9OkDH+g/vNP+iBnLnz/c0/57D2L1sAzj+fWUx8ugLOP7JXWLkRBc4/yOiEAWEHzj8Pb+xuqAnOP10zWhvoC84/qCZLICAOzj8vo+6WUBDOP+4sJ5h5Es4/mjGLPJsUzj/ex2WctRbOP+9tt8/IGM4/fsc27tQazj+xWlEP2hzOP6dMLErYHs4/whyltc8gzj9qX1JowCLOP9V3hHiqJM4/slBG/I0mzj84FF4JayjOP+7iTbVBKs4/qYlUFRIszj9fNm4+3C3OPxQsVUWgL84/hHWCPl4xzj/yli4+FjPOP6s+UljINM4/evSmoHQ2zj8JyKcqGzjOP/39kQm8Oc4/7LtlUFc7zj9Is+YR7TzOP9HKnGB9Ps4/DMfUTghAzj9u8aDujUHOP0O+2VEOQ84/X3EeiolEzj+BwdWo/0XOP4l6Lr9wR84/VR4g3txIzj9fhGsWRErOPxJ4m3imS84/0lUFFQRNzj++psn7XE7OPyO71DyxT84/nEPf5wBRzj/v6G4MTFLOP5Hi1rmSU84/44s4/9RUzj8a+IPrElbOP8+EeI1MV84/X2ul84FYzj/NUGoss1nOP2/U90XgWs4/Yh1QTglczj9pZkdTLl3OP9CIhGJPXs4/uYWBiWxfzj9bDozVhWDOP7sKxlObYc4/Lh8mEa1izj+9MHgau2POP9vnXXzFZM4/NTJPQ8xlzj8Jw5p7z2bOPyySZjHPZ84/7VmwcMtozj+bE05FxGnOP9py7rq5as4/kV8Z3atrzj/RbjC3mmzOP0Zab1SGbc4/k3bsv25uzj9gKJkEVG/OPyxYQi02cM4/7eSQRBVxzj99FQpV8XHOP9oIEGnKcs4/DCXiiqBzzj8YhZ3Ec3TOP4dlPSBEdc4/8o+bpxF2zj9ExXBk3HbOP9wmVWCkd84/nZ7ApGl4zj+fRQs7LHnOPxHKbSzsec4/uNMBgql6zj9iZ8JEZHvOP1VJjH0cfM4/e14eNdJ8zj+bDBp0hX3OP22ZA0M2fs4/kYhCquR+zj+J+CGykH/OP5X+0GI6gM4/jgFjxOGAzj+lE9DehoHOPzZL9bkpgs4/dRqVXcqCzj8tplfRaIPOP30byxwFhM4/iQRkR5+Ezj86nH1YN4XOP/4gWlfNhc4/jCYjS2GGzj/K5uk684bOP5WRpy2Dh84/ups9KhGIzj/+DHY3nYjOPxjNA1wnic4/+++Cnq+Jzj/7AHkFNorOPyZNVZe6is4/yyxxWj2Lzj8DTBBVvovOP2PyYI09jM4/1Ul8CbuMzj+cpGbPNo3OP3LCD+Wwjc4/xxRTUCmOzj9bAvgWoI7OP8Upsj4Vj84/TqMhzYiPzj8LQtPH+o/OPw/UQDRrkM4/1GHRF9qQzj/7bNl3R5HOPx8um1mzkc4/BtJGwh2Szj/1tfq2hpLOP2mjwzzuks4/3gqdWFSTzj8VPnEPuZPOP3SpGWYclM4/zQxfYX6Uzj9Us/kF35TOPwOrkVg+lc4/Lfu+XZyVzj922gka+ZXOPybk6pFUls4/pEzLya6Wzj+FFQXGB5fOP8RA44pfl84/cgOiHLaXzj+q925/C5jOP/5NabdfmM4/Jf6hyLKYzj8w9xu3BJnOP/lOzIZVmc4/G3GaO6WZzj9KTWDZ85nOP/6E6mNBms4/kpj43o2azj/+Ez1O2ZrOP6i6XbUjm84/6bLzF22bzj/6sIt5tZvOPzghpt38m84/71G3R0Oczj+rnCe7iJzOP+OOUzvNnM4/NRKMyxCdzj8BlBZvU53OP7ksLSmVnc4/bsb+/NWdzj/8Qq/tFZ7OP9WhV/5Uns4/ASUGMpOezj/7db6L0J7OP9fJeQ4Nn84/FAUnvUifzj/P3qqag5/OP7UD4Km9n84/VziX7fafzj8We5doL6DOP7Alnh1noM4/Rg5fD56gzj/wp4RA1KDOPxcjsLMJoc4/EI15az6hzj+W729qcqHOP7lvGbOloc4/aGzzR9ihzj+SnHIrCqLOP/wsA2A7os4/gN0I6Guizj8mHt/Fm6LOP6kr2fvKos4/tytCjPmizj/TSF15J6POP7jNZcVUo84/o0CPcoGjzj/mfQWDraPOP3zS7PjYo84/ABZi1gOkzj9yxHodLqTOP5UXRdBXpM4/8x/I8ICkzj+k3QOBqaTOP6tY8YLRpM4/97iC+Pikzj9FXqPjH6XOP2n3N0ZGpc4/ipkeImylzj/a1i55kaXOPzbVOU22pc4/PmQKoNqlzj9bE2Vz/qXOP0ZHCMkhps4/g0+sokSmzj9DewMCZ6bOP0ouuuiIps4/aPV2WKqmzj+pmtpSy6bOP1o5gNnrps4/rlH97Qunzj8u3OGRK6fOP+VcuMZKp84/TPYFjmmnzj/4e0rph6fOP+qEANqlp84/4X2dYcOnzj8iu5GB4KfOP0KKSDv9p84/g0MokBmozj8ZW5KBNajOPyVy4xBRqM4/ZGdzP2yozj/XZ5UOh6jOP/D+l3+hqM4/vibFk7uozj/PV2JM1ajOP8qYsKruqM4/7o3srwepzj9OiE5dIKnOP9yUCrQ4qc4/OYtQtVCpzj9jHExiaKnOPxzhJLx/qc4/MGj+w5apzj+BRPh6ranOP+caLuLDqc4/0K+3+tmpzj/c9KjF76nOPw8WEkQFqs4/BYf/dhqqzj/jD3pfL6rOPxzahv5Dqs4/FH0nVViqzj+QClpkbKrOP+saGS2Aqs4/U9lbsJOqzj+ZDxbvpqrOPw8yOOq5qs4/HGuvosyqzj+/pmUZ36rOP8udQU/xqs4/KeEmRQOrzj/J5PX7FKvOP34KjHQmq84/xKzDrzerzj9BKXSuSKvOPy7rcXFZq84/tXWO+Wmrzj8ObphHeqvOP2+lW1yKq84//iKhOJqrzj+TLS/dqavOPzhVyUq5q84/xXwwgsirzj8k4yKE16vOP4QsXFHmq84/iWuV6vSrzj80KoVQA6zOP75y34MRrM4/VthVhR+szj/Jf5dVLazOP+QnUfU6rM4/9jEtZUiszj8EqtOlVazOP+1O6rdirM4/gpoUnG+szj9qyfNSfKzOP/ziJt2IrM4/9cBKO5Wszj8YF/ptoazOP7B6zXWtrM4/+GlbU7mszj9rUzgHxazOP/+c9pHQrM4/N6sm9Nuszj806FYu56zOP5TKE0HyrM4/StznLP2szj9lwVvyB63OP6E+9pESrc4/A0A8DB2tzj9M37BhJ63OP1Bq1ZIxrc4/TGkpoDutzj8apSqKRa3OPzktVVFPrc4//V0j9litzj9Y5g15Yq3OP9zNi9prrc4/cHoSG3Wtzj8LthU7fq3OP2q0BzuHrc4/cRhZG5Ctzj/e+XjcmK3OP47q1H6hrc4/zvvYAqqtzj+8w+9osq3OP2JigrG6rc4/1Ib43MKtzj9IdLjryq3OPwAHJ97Src4/R7mntNqtzj89qJxv4q3OP5uYZg/qrc4/evtklPGtzj/v8vX++K3OP5dWdk8Ars4/L7hBhgeuzj8FaLKjDq7OP1B5IagVrs4/ocbmkxyuzj8f9lhnI67OP619zSIqrs4/NKeYxjCuzj+tlA1TN67OPzlEfsg9rs4/CpQ7J0Suzj8=\"},\"shape\":[1000],\"dtype\":\"float64\",\"order\":\"little\"}]]}}},\"view\":{\"type\":\"object\",\"name\":\"CDSView\",\"id\":\"p1250\",\"attributes\":{\"filter\":{\"type\":\"object\",\"name\":\"AllIndices\",\"id\":\"p1251\"}}},\"glyph\":{\"type\":\"object\",\"name\":\"Line\",\"id\":\"p1246\",\"attributes\":{\"x\":{\"type\":\"field\",\"field\":\"x\"},\"y\":{\"type\":\"field\",\"field\":\"y\"},\"line_color\":\"#2ba02b\"}},\"nonselection_glyph\":{\"type\":\"object\",\"name\":\"Line\",\"id\":\"p1247\",\"attributes\":{\"x\":{\"type\":\"field\",\"field\":\"x\"},\"y\":{\"type\":\"field\",\"field\":\"y\"},\"line_color\":\"#2ba02b\",\"line_alpha\":0.1}},\"muted_glyph\":{\"type\":\"object\",\"name\":\"Line\",\"id\":\"p1248\",\"attributes\":{\"x\":{\"type\":\"field\",\"field\":\"x\"},\"y\":{\"type\":\"field\",\"field\":\"y\"},\"line_color\":\"#2ba02b\",\"line_alpha\":0.2}}}}],\"toolbar\":{\"type\":\"object\",\"name\":\"Toolbar\",\"id\":\"p1176\",\"attributes\":{\"tools\":[{\"type\":\"object\",\"name\":\"PanTool\",\"id\":\"p1191\"},{\"type\":\"object\",\"name\":\"WheelZoomTool\",\"id\":\"p1192\"},{\"type\":\"object\",\"name\":\"BoxZoomTool\",\"id\":\"p1193\",\"attributes\":{\"overlay\":{\"type\":\"object\",\"name\":\"BoxAnnotation\",\"id\":\"p1194\",\"attributes\":{\"syncable\":false,\"level\":\"overlay\",\"visible\":false,\"left_units\":\"canvas\",\"right_units\":\"canvas\",\"bottom_units\":\"canvas\",\"top_units\":\"canvas\",\"line_color\":\"black\",\"line_alpha\":1.0,\"line_width\":2,\"line_dash\":[4,4],\"fill_color\":\"lightgrey\",\"fill_alpha\":0.5}}}},{\"type\":\"object\",\"name\":\"SaveTool\",\"id\":\"p1195\"},{\"type\":\"object\",\"name\":\"ResetTool\",\"id\":\"p1196\"},{\"type\":\"object\",\"name\":\"HelpTool\",\"id\":\"p1197\"}]}},\"left\":[{\"type\":\"object\",\"name\":\"LinearAxis\",\"id\":\"p1186\",\"attributes\":{\"ticker\":{\"type\":\"object\",\"name\":\"BasicTicker\",\"id\":\"p1187\",\"attributes\":{\"mantissas\":[1,2,5]}},\"formatter\":{\"type\":\"object\",\"name\":\"BasicTickFormatter\",\"id\":\"p1188\"},\"axis_label\":\"fold change\",\"major_label_policy\":{\"type\":\"object\",\"name\":\"AllLabels\",\"id\":\"p1189\"}}}],\"right\":[{\"type\":\"object\",\"name\":\"Legend\",\"id\":\"p1252\",\"attributes\":{\"click_policy\":\"hide\",\"items\":[{\"type\":\"object\",\"name\":\"LegendItem\",\"id\":\"p1253\",\"attributes\":{\"label\":{\"type\":\"value\",\"value\":\"WT\"},\"renderers\":[{\"id\":\"p1204\"}]}},{\"type\":\"object\",\"name\":\"LegendItem\",\"id\":\"p1254\",\"attributes\":{\"label\":{\"type\":\"value\",\"value\":\"Q18A\"},\"renderers\":[{\"id\":\"p1213\"}]}},{\"type\":\"object\",\"name\":\"LegendItem\",\"id\":\"p1255\",\"attributes\":{\"label\":{\"type\":\"value\",\"value\":\"Q18M\"},\"renderers\":[{\"id\":\"p1222\"}]}}]}}],\"below\":[{\"type\":\"object\",\"name\":\"LogAxis\",\"id\":\"p1181\",\"attributes\":{\"ticker\":{\"type\":\"object\",\"name\":\"LogTicker\",\"id\":\"p1182\",\"attributes\":{\"num_minor_ticks\":10,\"mantissas\":[1,5]}},\"formatter\":{\"type\":\"object\",\"name\":\"LogTickFormatter\",\"id\":\"p1183\"},\"axis_label\":\"[IPTG] (mM)\",\"major_label_policy\":{\"type\":\"object\",\"name\":\"AllLabels\",\"id\":\"p1184\"}}}],\"center\":[{\"type\":\"object\",\"name\":\"Grid\",\"id\":\"p1185\",\"attributes\":{\"axis\":{\"id\":\"p1181\"}}},{\"type\":\"object\",\"name\":\"Grid\",\"id\":\"p1190\",\"attributes\":{\"dimension\":1,\"axis\":{\"id\":\"p1186\"}}}],\"frame_width\":300,\"frame_height\":300}}]}};\n",
       "  const render_items = [{\"docid\":\"e56bb9c8-cf35-4484-8255-38d904f4690d\",\"roots\":{\"p1168\":\"cb743130-7324-4205-8c6a-20009ca940c8\"},\"root_ids\":[\"p1168\"]}];\n",
       "  root.Bokeh.embed.embed_items_notebook(docs_json, render_items);\n",
       "  }\n",
       "  if (root.Bokeh !== undefined) {\n",
       "    embed_document(root);\n",
       "  } else {\n",
       "    let attempts = 0;\n",
       "    const timer = setInterval(function(root) {\n",
       "      if (root.Bokeh !== undefined) {\n",
       "        clearInterval(timer);\n",
       "        embed_document(root);\n",
       "      } else {\n",
       "        attempts++;\n",
       "        if (attempts > 100) {\n",
       "          clearInterval(timer);\n",
       "          console.log(\"Bokeh: ERROR: Unable to run BokehJS code because BokehJS library is missing\");\n",
       "        }\n",
       "      }\n",
       "    }, 10, root)\n",
       "  }\n",
       "})(window);"
      ],
      "application/vnd.bokehjs_exec.v0+json": ""
     },
     "metadata": {
      "application/vnd.bokehjs_exec.v0+json": {
       "id": "p1168"
      }
     },
     "output_type": "display_data"
    }
   ],
   "source": [
    "cat_colors = colorcet.b_glasbey_category10\n",
    "x = '[IPTG] (mM)'\n",
    "y = 'fold change'\n",
    "\n",
    "source_WT = bokeh.models.ColumnDataSource(df_tot.loc[df_tot['Genotype']=='WT', :])\n",
    "source_Q18A = bokeh.models.ColumnDataSource(df_tot.loc[df_tot['Genotype']=='Q18A', :])\n",
    "source_Q18M = bokeh.models.ColumnDataSource(df_tot.loc[df_tot['Genotype']=='Q18M', :])\n",
    "\n",
    "p = bokeh.plotting.figure(\n",
    "    frame_width = 300,\n",
    "    frame_height = 300,\n",
    "    x_axis_label = '[IPTG] (mM)',\n",
    "    y_axis_label = 'fold change',\n",
    "    x_range = [0.00001,100],\n",
    "    y_range = [0,1.2],\n",
    "    x_axis_type='log',\n",
    ")\n",
    "\n",
    "#source = bokeh.models.ColumnDataSource(df) #notneeded\n",
    "\n",
    "WT_glyph = p.circle(\n",
    "    source=source_WT,#or put df here directly\n",
    "    x=x,\n",
    "    y=y,\n",
    "    color = cat_colors[0],\n",
    ")\n",
    "\n",
    "Q18A_glyph = p.circle(\n",
    "    source=source_Q18A,#or put df here directly\n",
    "    x=x,\n",
    "    y=y,\n",
    "    color = cat_colors[1],\n",
    ")\n",
    "\n",
    "Q18M_glyph = p.circle(\n",
    "    source=source_Q18M,#or put df here directly\n",
    "    x=x,\n",
    "    y=y,\n",
    "    color = cat_colors[2],\n",
    ")\n",
    "\n",
    "p.line(\n",
    "    #source=source_WT,#or put df here directly\n",
    "    #x=df_tot.loc[df_tot['Genotype']=='WT', '[IPTG] (mM)'],\n",
    "    x=d,\n",
    "    y=WT_fc,\n",
    "    color = cat_colors[0],\n",
    ")\n",
    "\n",
    "p.line(\n",
    "    #source=source_Q18A,#or put df here directly\n",
    "    #x=df_tot.loc[df_tot['Genotype']=='Q18A', '[IPTG] (mM)'],\n",
    "    x=d,\n",
    "    y=Q18A_fc,\n",
    "    color = cat_colors[1],\n",
    ")\n",
    "p.line(\n",
    "    #source=source_Q18M,#or put df here directly\n",
    "    #x=df_tot.loc[df_tot['Genotype']=='Q18M', '[IPTG] (mM)'],\n",
    "    x=d,\n",
    "    y=Q18M_fc,\n",
    "    color = cat_colors[2],\n",
    ")\n",
    "# Construct legend items\n",
    "legend_items = [('WT', [WT_glyph]), ('Q18A', [Q18A_glyph]), ('Q18M', [Q18M_glyph])]\n",
    "\n",
    "# Instantiate legend\n",
    "legend = bokeh.models.Legend(items=legend_items, click_policy='hide')\n",
    "\n",
    "# Add the legend to the right of the plot\n",
    "p.add_layout(legend, 'right')\n",
    "\n",
    "bokeh.io.show(p)"
   ]
  },
  {
   "cell_type": "code",
   "execution_count": 21,
   "id": "2cad1196-0cf5-4db7-b106-d43f454551ac",
   "metadata": {},
   "outputs": [],
   "source": [
    "def bohr_parameter(c, RK, KdA=0.017, KdI=0.002, Kswitch=5.8):\n",
    "    return -np.log(RK) - np.log(np.square(1+c/KdA)/(np.square(1+c/KdA)+Kswitch*np.square(1+c/KdI)))"
   ]
  },
  {
   "cell_type": "code",
   "execution_count": 22,
   "id": "f9f1d396-5a39-4f8f-bcbd-afc2479adc48",
   "metadata": {},
   "outputs": [],
   "source": [
    "def fold_change_bohr(bohr_parameter):\n",
    "    return (1 + np.exp(-1*bohr_parameter))**(-1)"
   ]
  },
  {
   "cell_type": "code",
   "execution_count": 23,
   "id": "406f9d54-29c5-46b8-aee7-41ec2c63734e",
   "metadata": {},
   "outputs": [],
   "source": [
    "bp = np.arange(-6,6, step = 0.01)"
   ]
  },
  {
   "cell_type": "code",
   "execution_count": 24,
   "id": "eddd1092-d9f3-4a11-8973-31e94aa5d4c3",
   "metadata": {},
   "outputs": [],
   "source": [
    "FC_thr_bp = fold_change_bohr(bp)"
   ]
  },
  {
   "cell_type": "code",
   "execution_count": 25,
   "id": "0ebec6b3-8849-4e0c-a62c-6b626cb58992",
   "metadata": {},
   "outputs": [
    {
     "data": {
      "text/html": [
       "\n",
       "  <div id=\"bb895060-9655-4ca5-bae3-ee3671084172\" data-root-id=\"p1271\" style=\"display: contents;\"></div>\n"
      ]
     },
     "metadata": {},
     "output_type": "display_data"
    },
    {
     "data": {
      "application/javascript": [
       "(function(root) {\n",
       "  function embed_document(root) {\n",
       "  const docs_json = {\"80e7f193-e659-4f3b-a2a4-b5906be602fb\":{\"version\":\"3.2.1\",\"title\":\"Bokeh Application\",\"roots\":[{\"type\":\"object\",\"name\":\"Figure\",\"id\":\"p1271\",\"attributes\":{\"x_range\":{\"type\":\"object\",\"name\":\"Range1d\",\"id\":\"p1280\",\"attributes\":{\"start\":-7,\"end\":7}},\"y_range\":{\"type\":\"object\",\"name\":\"Range1d\",\"id\":\"p1281\",\"attributes\":{\"end\":1.2}},\"x_scale\":{\"type\":\"object\",\"name\":\"LinearScale\",\"id\":\"p1282\"},\"y_scale\":{\"type\":\"object\",\"name\":\"LinearScale\",\"id\":\"p1283\"},\"title\":{\"type\":\"object\",\"name\":\"Title\",\"id\":\"p1278\"},\"renderers\":[{\"type\":\"object\",\"name\":\"GlyphRenderer\",\"id\":\"p1307\",\"attributes\":{\"data_source\":{\"type\":\"object\",\"name\":\"ColumnDataSource\",\"id\":\"p1301\",\"attributes\":{\"selected\":{\"type\":\"object\",\"name\":\"Selection\",\"id\":\"p1302\",\"attributes\":{\"indices\":[],\"line_indices\":[]}},\"selection_policy\":{\"type\":\"object\",\"name\":\"UnionRenderers\",\"id\":\"p1303\"},\"data\":{\"type\":\"map\",\"entries\":[[\"x\",{\"type\":\"ndarray\",\"array\":{\"type\":\"bytes\",\"data\":\"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\"},\"shape\":[1200],\"dtype\":\"float64\",\"order\":\"little\"}],[\"y\",{\"type\":\"ndarray\",\"array\":{\"type\":\"bytes\",\"data\":\"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\"},\"shape\":[1200],\"dtype\":\"float64\",\"order\":\"little\"}]]}}},\"view\":{\"type\":\"object\",\"name\":\"CDSView\",\"id\":\"p1308\",\"attributes\":{\"filter\":{\"type\":\"object\",\"name\":\"AllIndices\",\"id\":\"p1309\"}}},\"glyph\":{\"type\":\"object\",\"name\":\"Line\",\"id\":\"p1304\",\"attributes\":{\"x\":{\"type\":\"field\",\"field\":\"x\"},\"y\":{\"type\":\"field\",\"field\":\"y\"},\"line_color\":\"grey\"}},\"nonselection_glyph\":{\"type\":\"object\",\"name\":\"Line\",\"id\":\"p1305\",\"attributes\":{\"x\":{\"type\":\"field\",\"field\":\"x\"},\"y\":{\"type\":\"field\",\"field\":\"y\"},\"line_color\":\"grey\",\"line_alpha\":0.1}},\"muted_glyph\":{\"type\":\"object\",\"name\":\"Line\",\"id\":\"p1306\",\"attributes\":{\"x\":{\"type\":\"field\",\"field\":\"x\"},\"y\":{\"type\":\"field\",\"field\":\"y\"},\"line_color\":\"grey\",\"line_alpha\":0.2}}}}],\"toolbar\":{\"type\":\"object\",\"name\":\"Toolbar\",\"id\":\"p1279\",\"attributes\":{\"tools\":[{\"type\":\"object\",\"name\":\"PanTool\",\"id\":\"p1294\"},{\"type\":\"object\",\"name\":\"WheelZoomTool\",\"id\":\"p1295\"},{\"type\":\"object\",\"name\":\"BoxZoomTool\",\"id\":\"p1296\",\"attributes\":{\"overlay\":{\"type\":\"object\",\"name\":\"BoxAnnotation\",\"id\":\"p1297\",\"attributes\":{\"syncable\":false,\"level\":\"overlay\",\"visible\":false,\"left_units\":\"canvas\",\"right_units\":\"canvas\",\"bottom_units\":\"canvas\",\"top_units\":\"canvas\",\"line_color\":\"black\",\"line_alpha\":1.0,\"line_width\":2,\"line_dash\":[4,4],\"fill_color\":\"lightgrey\",\"fill_alpha\":0.5}}}},{\"type\":\"object\",\"name\":\"SaveTool\",\"id\":\"p1298\"},{\"type\":\"object\",\"name\":\"ResetTool\",\"id\":\"p1299\"},{\"type\":\"object\",\"name\":\"HelpTool\",\"id\":\"p1300\"}]}},\"left\":[{\"type\":\"object\",\"name\":\"LinearAxis\",\"id\":\"p1289\",\"attributes\":{\"ticker\":{\"type\":\"object\",\"name\":\"BasicTicker\",\"id\":\"p1290\",\"attributes\":{\"mantissas\":[1,2,5]}},\"formatter\":{\"type\":\"object\",\"name\":\"BasicTickFormatter\",\"id\":\"p1291\"},\"axis_label\":\"fold change\",\"major_label_policy\":{\"type\":\"object\",\"name\":\"AllLabels\",\"id\":\"p1292\"}}}],\"below\":[{\"type\":\"object\",\"name\":\"LinearAxis\",\"id\":\"p1284\",\"attributes\":{\"ticker\":{\"type\":\"object\",\"name\":\"BasicTicker\",\"id\":\"p1285\",\"attributes\":{\"mantissas\":[1,2,5]}},\"formatter\":{\"type\":\"object\",\"name\":\"BasicTickFormatter\",\"id\":\"p1286\"},\"axis_label\":\"bohr parameter\",\"major_label_policy\":{\"type\":\"object\",\"name\":\"AllLabels\",\"id\":\"p1287\"}}}],\"center\":[{\"type\":\"object\",\"name\":\"Grid\",\"id\":\"p1288\",\"attributes\":{\"axis\":{\"id\":\"p1284\"}}},{\"type\":\"object\",\"name\":\"Grid\",\"id\":\"p1293\",\"attributes\":{\"dimension\":1,\"axis\":{\"id\":\"p1289\"}}}],\"frame_width\":300,\"frame_height\":300}}]}};\n",
       "  const render_items = [{\"docid\":\"80e7f193-e659-4f3b-a2a4-b5906be602fb\",\"roots\":{\"p1271\":\"bb895060-9655-4ca5-bae3-ee3671084172\"},\"root_ids\":[\"p1271\"]}];\n",
       "  root.Bokeh.embed.embed_items_notebook(docs_json, render_items);\n",
       "  }\n",
       "  if (root.Bokeh !== undefined) {\n",
       "    embed_document(root);\n",
       "  } else {\n",
       "    let attempts = 0;\n",
       "    const timer = setInterval(function(root) {\n",
       "      if (root.Bokeh !== undefined) {\n",
       "        clearInterval(timer);\n",
       "        embed_document(root);\n",
       "      } else {\n",
       "        attempts++;\n",
       "        if (attempts > 100) {\n",
       "          clearInterval(timer);\n",
       "          console.log(\"Bokeh: ERROR: Unable to run BokehJS code because BokehJS library is missing\");\n",
       "        }\n",
       "      }\n",
       "    }, 10, root)\n",
       "  }\n",
       "})(window);"
      ],
      "application/vnd.bokehjs_exec.v0+json": ""
     },
     "metadata": {
      "application/vnd.bokehjs_exec.v0+json": {
       "id": "p1271"
      }
     },
     "output_type": "display_data"
    }
   ],
   "source": [
    "p = bokeh.plotting.figure(\n",
    "    frame_width = 300,\n",
    "    frame_height = 300,\n",
    "    x_axis_label = 'bohr parameter',\n",
    "    y_axis_label = 'fold change',\n",
    "    x_range = [-7,7],\n",
    "    y_range = [0,1.2],\n",
    "    #x_axis_type='log',\n",
    ")\n",
    "\n",
    "p.line(\n",
    "    #source=source_Q18M,#or put df here directly\n",
    "    #x=df_tot.loc[df_tot['Genotype']=='Q18M', '[IPTG] (mM)'],\n",
    "    x=bp,\n",
    "    y=FC_thr_bp,\n",
    "    color = 'grey',\n",
    ")\n",
    "\n",
    "bokeh.io.show(p)"
   ]
  },
  {
   "cell_type": "code",
   "execution_count": 26,
   "id": "ce7d6082-47c7-40d5-99e9-8cb64d92a446",
   "metadata": {},
   "outputs": [
    {
     "data": {
      "text/html": [
       "\n",
       "  <div id=\"c2a062f4-99ce-4c86-a828-ba15e1c2caed\" data-root-id=\"p1312\" style=\"display: contents;\"></div>\n"
      ]
     },
     "metadata": {},
     "output_type": "display_data"
    },
    {
     "data": {
      "application/javascript": [
       "(function(root) {\n",
       "  function embed_document(root) {\n",
       "  const docs_json = {\"5195f002-f7f1-4dc3-9e9c-f10f41501bfc\":{\"version\":\"3.2.1\",\"title\":\"Bokeh Application\",\"roots\":[{\"type\":\"object\",\"name\":\"Figure\",\"id\":\"p1312\",\"attributes\":{\"x_range\":{\"type\":\"object\",\"name\":\"Range1d\",\"id\":\"p1321\",\"attributes\":{\"start\":-7,\"end\":7}},\"y_range\":{\"type\":\"object\",\"name\":\"Range1d\",\"id\":\"p1322\",\"attributes\":{\"end\":1.2}},\"x_scale\":{\"type\":\"object\",\"name\":\"LinearScale\",\"id\":\"p1323\"},\"y_scale\":{\"type\":\"object\",\"name\":\"LinearScale\",\"id\":\"p1324\"},\"title\":{\"type\":\"object\",\"name\":\"Title\",\"id\":\"p1319\"},\"renderers\":[{\"type\":\"object\",\"name\":\"GlyphRenderer\",\"id\":\"p1348\",\"attributes\":{\"data_source\":{\"type\":\"object\",\"name\":\"ColumnDataSource\",\"id\":\"p1342\",\"attributes\":{\"selected\":{\"type\":\"object\",\"name\":\"Selection\",\"id\":\"p1343\",\"attributes\":{\"indices\":[],\"line_indices\":[]}},\"selection_policy\":{\"type\":\"object\",\"name\":\"UnionRenderers\",\"id\":\"p1344\"},\"data\":{\"type\":\"map\",\"entries\":[[\"x\",{\"type\":\"ndarray\",\"array\":{\"type\":\"bytes\",\"data\":\"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\"},\"shape\":[1200],\"dtype\":\"float64\",\"order\":\"little\"}],[\"y\",{\"type\":\"ndarray\",\"array\":{\"type\":\"bytes\",\"data\":\"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\"},\"shape\":[1200],\"dtype\":\"float64\",\"order\":\"little\"}]]}}},\"view\":{\"type\":\"object\",\"name\":\"CDSView\",\"id\":\"p1349\",\"attributes\":{\"filter\":{\"type\":\"object\",\"name\":\"AllIndices\",\"id\":\"p1350\"}}},\"glyph\":{\"type\":\"object\",\"name\":\"Line\",\"id\":\"p1345\",\"attributes\":{\"x\":{\"type\":\"field\",\"field\":\"x\"},\"y\":{\"type\":\"field\",\"field\":\"y\"},\"line_color\":\"grey\"}},\"nonselection_glyph\":{\"type\":\"object\",\"name\":\"Line\",\"id\":\"p1346\",\"attributes\":{\"x\":{\"type\":\"field\",\"field\":\"x\"},\"y\":{\"type\":\"field\",\"field\":\"y\"},\"line_color\":\"grey\",\"line_alpha\":0.1}},\"muted_glyph\":{\"type\":\"object\",\"name\":\"Line\",\"id\":\"p1347\",\"attributes\":{\"x\":{\"type\":\"field\",\"field\":\"x\"},\"y\":{\"type\":\"field\",\"field\":\"y\"},\"line_color\":\"grey\",\"line_alpha\":0.2}}}},{\"type\":\"object\",\"name\":\"GlyphRenderer\",\"id\":\"p1357\",\"attributes\":{\"data_source\":{\"type\":\"object\",\"name\":\"ColumnDataSource\",\"id\":\"p1351\",\"attributes\":{\"selected\":{\"type\":\"object\",\"name\":\"Selection\",\"id\":\"p1352\",\"attributes\":{\"indices\":[],\"line_indices\":[]}},\"selection_policy\":{\"type\":\"object\",\"name\":\"UnionRenderers\",\"id\":\"p1353\"},\"data\":{\"type\":\"map\",\"entries\":[[\"x\",{\"type\":\"ndarray\",\"array\":{\"type\":\"bytes\",\"data\":\"6DMd8Dk5CMBWZE6hyG0DwLQOJrKLY/+/sHRP70UT9r8AlRJLwQvpv2DJesaTlsC/sKfCPWXo0z/wHZyJIxjiP7j/AGbIV+U/6Lf5oBax6T9I9SZn0JvrP2gtOpSUP+4/CDPemU4T7z+wCAZxPzbwP7BrEnBFyfA/TGxGXnsW8T+gjJY2bkHxP3g1Z3WAVPE/jCZydhhe8T9g4i0vrmPxPw==\"},\"shape\":[20],\"dtype\":\"float64\",\"order\":\"little\"}],[\"y\",{\"type\":\"ndarray\",\"array\":{\"type\":\"bytes\",\"data\":\"bgDqbtKkpz+jS3bQi720P4vNvJzBjr8/2hKVrja8yT/sritDVxTUPxq8AGbr7d0/ah0uR/Z34j+UNOusImjkP49fRBh3JeU/FGM36EoZ5j+IDfFS74DmP0oXHHiPC+c/QFqrWPw15z9Z/R4YGXrnPzdheYwSs+c/jWRZY5rQ5z921kKa6eDnPxX57LUg6Oc/8NlMSsDr5z8MRCrF2+3nPw==\"},\"shape\":[20],\"dtype\":\"float64\",\"order\":\"little\"}]]}}},\"view\":{\"type\":\"object\",\"name\":\"CDSView\",\"id\":\"p1358\",\"attributes\":{\"filter\":{\"type\":\"object\",\"name\":\"AllIndices\",\"id\":\"p1359\"}}},\"glyph\":{\"type\":\"object\",\"name\":\"Circle\",\"id\":\"p1354\",\"attributes\":{\"x\":{\"type\":\"field\",\"field\":\"x\"},\"y\":{\"type\":\"field\",\"field\":\"y\"},\"line_color\":{\"type\":\"value\",\"value\":\"#1f77b3\"},\"fill_color\":{\"type\":\"value\",\"value\":\"#1f77b3\"},\"hatch_color\":{\"type\":\"value\",\"value\":\"#1f77b3\"}}},\"nonselection_glyph\":{\"type\":\"object\",\"name\":\"Circle\",\"id\":\"p1355\",\"attributes\":{\"x\":{\"type\":\"field\",\"field\":\"x\"},\"y\":{\"type\":\"field\",\"field\":\"y\"},\"line_color\":{\"type\":\"value\",\"value\":\"#1f77b3\"},\"line_alpha\":{\"type\":\"value\",\"value\":0.1},\"fill_color\":{\"type\":\"value\",\"value\":\"#1f77b3\"},\"fill_alpha\":{\"type\":\"value\",\"value\":0.1},\"hatch_color\":{\"type\":\"value\",\"value\":\"#1f77b3\"},\"hatch_alpha\":{\"type\":\"value\",\"value\":0.1}}},\"muted_glyph\":{\"type\":\"object\",\"name\":\"Circle\",\"id\":\"p1356\",\"attributes\":{\"x\":{\"type\":\"field\",\"field\":\"x\"},\"y\":{\"type\":\"field\",\"field\":\"y\"},\"line_color\":{\"type\":\"value\",\"value\":\"#1f77b3\"},\"line_alpha\":{\"type\":\"value\",\"value\":0.2},\"fill_color\":{\"type\":\"value\",\"value\":\"#1f77b3\"},\"fill_alpha\":{\"type\":\"value\",\"value\":0.2},\"hatch_color\":{\"type\":\"value\",\"value\":\"#1f77b3\"},\"hatch_alpha\":{\"type\":\"value\",\"value\":0.2}}}}},{\"type\":\"object\",\"name\":\"GlyphRenderer\",\"id\":\"p1366\",\"attributes\":{\"data_source\":{\"type\":\"object\",\"name\":\"ColumnDataSource\",\"id\":\"p1360\",\"attributes\":{\"selected\":{\"type\":\"object\",\"name\":\"Selection\",\"id\":\"p1361\",\"attributes\":{\"indices\":[],\"line_indices\":[]}},\"selection_policy\":{\"type\":\"object\",\"name\":\"UnionRenderers\",\"id\":\"p1362\"},\"data\":{\"type\":\"map\",\"entries\":[[\"x\",{\"type\":\"ndarray\",\"array\":{\"type\":\"bytes\",\"data\":\"+E+GrgtB7L+KnUZ7DEvqv7y6FHEA/Oe/cE65WvDh479obqjFEjfZv4CodZBKYNO/AJsarsZNmr+ALaDTkgG9P2SQeIOGqeU/QnJhM84v9T8eESG298L+P+kO4ZHsawNA+V2RIkGqBUCLsUmw/T4GQA11Q7cipAdATXP+BhLUB0D9Nug7/aQIQKVXSJuk5whAe+yWnOdACUCb/BMG9IsJQENixDnhtQlAM3hL5tLJCUAxlIeanNMJQGssPQwL2QlAeRy/623bCUA=\"},\"shape\":[25],\"dtype\":\"float64\",\"order\":\"little\"}],[\"y\",{\"type\":\"ndarray\",\"array\":{\"type\":\"bytes\",\"data\":\"HVkd03K50j+bv2Ys24vTP5xCKSkUitQ/CDjU29xd1j8YspKWycbZPyVJlClQMds/H29oYMqW3z++lcwdzefgP+jgaNXBN+U/s91eo6dG6T9vdeQx7urrP3JeI7HAZ+0/P1uUDgoA7j/KzIYfzyHuP7PFUbCLau4/0srOq3hz7j/e2W/zPJjuP6Yt+pZEo+4/7nYRnYix7j9UNsoHGL3uP4MlwGBiw+4/LG+vy1XG7j9tubYNxsfuP0ZrMLSRyO4/b0RqBOvI7j8=\"},\"shape\":[25],\"dtype\":\"float64\",\"order\":\"little\"}]]}}},\"view\":{\"type\":\"object\",\"name\":\"CDSView\",\"id\":\"p1367\",\"attributes\":{\"filter\":{\"type\":\"object\",\"name\":\"AllIndices\",\"id\":\"p1368\"}}},\"glyph\":{\"type\":\"object\",\"name\":\"Circle\",\"id\":\"p1363\",\"attributes\":{\"x\":{\"type\":\"field\",\"field\":\"x\"},\"y\":{\"type\":\"field\",\"field\":\"y\"},\"line_color\":{\"type\":\"value\",\"value\":\"#ff7e0e\"},\"fill_color\":{\"type\":\"value\",\"value\":\"#ff7e0e\"},\"hatch_color\":{\"type\":\"value\",\"value\":\"#ff7e0e\"}}},\"nonselection_glyph\":{\"type\":\"object\",\"name\":\"Circle\",\"id\":\"p1364\",\"attributes\":{\"x\":{\"type\":\"field\",\"field\":\"x\"},\"y\":{\"type\":\"field\",\"field\":\"y\"},\"line_color\":{\"type\":\"value\",\"value\":\"#ff7e0e\"},\"line_alpha\":{\"type\":\"value\",\"value\":0.1},\"fill_color\":{\"type\":\"value\",\"value\":\"#ff7e0e\"},\"fill_alpha\":{\"type\":\"value\",\"value\":0.1},\"hatch_color\":{\"type\":\"value\",\"value\":\"#ff7e0e\"},\"hatch_alpha\":{\"type\":\"value\",\"value\":0.1}}},\"muted_glyph\":{\"type\":\"object\",\"name\":\"Circle\",\"id\":\"p1365\",\"attributes\":{\"x\":{\"type\":\"field\",\"field\":\"x\"},\"y\":{\"type\":\"field\",\"field\":\"y\"},\"line_color\":{\"type\":\"value\",\"value\":\"#ff7e0e\"},\"line_alpha\":{\"type\":\"value\",\"value\":0.2},\"fill_color\":{\"type\":\"value\",\"value\":\"#ff7e0e\"},\"fill_alpha\":{\"type\":\"value\",\"value\":0.2},\"hatch_color\":{\"type\":\"value\",\"value\":\"#ff7e0e\"},\"hatch_alpha\":{\"type\":\"value\",\"value\":0.2}}}}},{\"type\":\"object\",\"name\":\"GlyphRenderer\",\"id\":\"p1375\",\"attributes\":{\"data_source\":{\"type\":\"object\",\"name\":\"ColumnDataSource\",\"id\":\"p1369\",\"attributes\":{\"selected\":{\"type\":\"object\",\"name\":\"Selection\",\"id\":\"p1370\",\"attributes\":{\"indices\":[],\"line_indices\":[]}},\"selection_policy\":{\"type\":\"object\",\"name\":\"UnionRenderers\",\"id\":\"p1371\"},\"data\":{\"type\":\"map\",\"entries\":[[\"x\",{\"type\":\"ndarray\",\"array\":{\"type\":\"bytes\",\"data\":\"Imv99+0UFcAQziXwhZ8SwKKTgK5O3xDAQHs9Z3A9DcBaT4a7L8kHwBZOkutc5QLAcCp1uj+p/r9I6iKM44j6vyC5y2j7E/m/8Fj/0dHW9r+sRJ5k/xb2v9QFdoR7svS/pKdmG21B9L9U/jvtiqrzv2gC55BjD/O/rE3tlZfF8r94pD23c53yv3S7fG/GivK/+NeznDCA8r8MC/xyvXvyvw==\"},\"shape\":[20],\"dtype\":\"float64\",\"order\":\"little\"}],[\"y\",{\"type\":\"ndarray\",\"array\":{\"type\":\"bytes\",\"data\":\"9H/wAYbzdD9q0k47L0mDPxOQTZQfuY0/gto3Z4jQmT+f31bNnuioP1bAy0HGC7Y/B1BtLjtrwD/c4i3ECHrEPxzEB4dxF8Y/ubhYt4HEyD+CuDrDbbfJPysDqgVCjcs/sRCjIjwnzD9Y/6uPd/jMP++Z1nAQ1M0/HQVRpxY+zj+ZdYPrLnjOP8tst/hQk84/mKcrDLmizj/bJxaoNKnOPw==\"},\"shape\":[20],\"dtype\":\"float64\",\"order\":\"little\"}]]}}},\"view\":{\"type\":\"object\",\"name\":\"CDSView\",\"id\":\"p1376\",\"attributes\":{\"filter\":{\"type\":\"object\",\"name\":\"AllIndices\",\"id\":\"p1377\"}}},\"glyph\":{\"type\":\"object\",\"name\":\"Circle\",\"id\":\"p1372\",\"attributes\":{\"x\":{\"type\":\"field\",\"field\":\"x\"},\"y\":{\"type\":\"field\",\"field\":\"y\"},\"line_color\":{\"type\":\"value\",\"value\":\"#2ba02b\"},\"fill_color\":{\"type\":\"value\",\"value\":\"#2ba02b\"},\"hatch_color\":{\"type\":\"value\",\"value\":\"#2ba02b\"}}},\"nonselection_glyph\":{\"type\":\"object\",\"name\":\"Circle\",\"id\":\"p1373\",\"attributes\":{\"x\":{\"type\":\"field\",\"field\":\"x\"},\"y\":{\"type\":\"field\",\"field\":\"y\"},\"line_color\":{\"type\":\"value\",\"value\":\"#2ba02b\"},\"line_alpha\":{\"type\":\"value\",\"value\":0.1},\"fill_color\":{\"type\":\"value\",\"value\":\"#2ba02b\"},\"fill_alpha\":{\"type\":\"value\",\"value\":0.1},\"hatch_color\":{\"type\":\"value\",\"value\":\"#2ba02b\"},\"hatch_alpha\":{\"type\":\"value\",\"value\":0.1}}},\"muted_glyph\":{\"type\":\"object\",\"name\":\"Circle\",\"id\":\"p1374\",\"attributes\":{\"x\":{\"type\":\"field\",\"field\":\"x\"},\"y\":{\"type\":\"field\",\"field\":\"y\"},\"line_color\":{\"type\":\"value\",\"value\":\"#2ba02b\"},\"line_alpha\":{\"type\":\"value\",\"value\":0.2},\"fill_color\":{\"type\":\"value\",\"value\":\"#2ba02b\"},\"fill_alpha\":{\"type\":\"value\",\"value\":0.2},\"hatch_color\":{\"type\":\"value\",\"value\":\"#2ba02b\"},\"hatch_alpha\":{\"type\":\"value\",\"value\":0.2}}}}}],\"toolbar\":{\"type\":\"object\",\"name\":\"Toolbar\",\"id\":\"p1320\",\"attributes\":{\"tools\":[{\"type\":\"object\",\"name\":\"PanTool\",\"id\":\"p1335\"},{\"type\":\"object\",\"name\":\"WheelZoomTool\",\"id\":\"p1336\"},{\"type\":\"object\",\"name\":\"BoxZoomTool\",\"id\":\"p1337\",\"attributes\":{\"overlay\":{\"type\":\"object\",\"name\":\"BoxAnnotation\",\"id\":\"p1338\",\"attributes\":{\"syncable\":false,\"level\":\"overlay\",\"visible\":false,\"left_units\":\"canvas\",\"right_units\":\"canvas\",\"bottom_units\":\"canvas\",\"top_units\":\"canvas\",\"line_color\":\"black\",\"line_alpha\":1.0,\"line_width\":2,\"line_dash\":[4,4],\"fill_color\":\"lightgrey\",\"fill_alpha\":0.5}}}},{\"type\":\"object\",\"name\":\"SaveTool\",\"id\":\"p1339\"},{\"type\":\"object\",\"name\":\"ResetTool\",\"id\":\"p1340\"},{\"type\":\"object\",\"name\":\"HelpTool\",\"id\":\"p1341\"}]}},\"left\":[{\"type\":\"object\",\"name\":\"LinearAxis\",\"id\":\"p1330\",\"attributes\":{\"ticker\":{\"type\":\"object\",\"name\":\"BasicTicker\",\"id\":\"p1331\",\"attributes\":{\"mantissas\":[1,2,5]}},\"formatter\":{\"type\":\"object\",\"name\":\"BasicTickFormatter\",\"id\":\"p1332\"},\"axis_label\":\"fold change\",\"major_label_policy\":{\"type\":\"object\",\"name\":\"AllLabels\",\"id\":\"p1333\"}}}],\"right\":[{\"type\":\"object\",\"name\":\"Legend\",\"id\":\"p1378\",\"attributes\":{\"click_policy\":\"hide\",\"items\":[{\"type\":\"object\",\"name\":\"LegendItem\",\"id\":\"p1379\",\"attributes\":{\"label\":{\"type\":\"value\",\"value\":\"WT\"},\"renderers\":[{\"id\":\"p1357\"}]}},{\"type\":\"object\",\"name\":\"LegendItem\",\"id\":\"p1380\",\"attributes\":{\"label\":{\"type\":\"value\",\"value\":\"Q18A\"},\"renderers\":[{\"id\":\"p1366\"}]}},{\"type\":\"object\",\"name\":\"LegendItem\",\"id\":\"p1381\",\"attributes\":{\"label\":{\"type\":\"value\",\"value\":\"Q18M\"},\"renderers\":[{\"id\":\"p1375\"}]}},{\"type\":\"object\",\"name\":\"LegendItem\",\"id\":\"p1382\",\"attributes\":{\"label\":{\"type\":\"value\",\"value\":\"Theoretical Fold Change\"},\"renderers\":[{\"id\":\"p1348\"}]}}]}}],\"below\":[{\"type\":\"object\",\"name\":\"LinearAxis\",\"id\":\"p1325\",\"attributes\":{\"ticker\":{\"type\":\"object\",\"name\":\"BasicTicker\",\"id\":\"p1326\",\"attributes\":{\"mantissas\":[1,2,5]}},\"formatter\":{\"type\":\"object\",\"name\":\"BasicTickFormatter\",\"id\":\"p1327\"},\"axis_label\":\"bohr parameter\",\"major_label_policy\":{\"type\":\"object\",\"name\":\"AllLabels\",\"id\":\"p1328\"}}}],\"center\":[{\"type\":\"object\",\"name\":\"Grid\",\"id\":\"p1329\",\"attributes\":{\"axis\":{\"id\":\"p1325\"}}},{\"type\":\"object\",\"name\":\"Grid\",\"id\":\"p1334\",\"attributes\":{\"dimension\":1,\"axis\":{\"id\":\"p1330\"}}}],\"frame_width\":300,\"frame_height\":300}}]}};\n",
       "  const render_items = [{\"docid\":\"5195f002-f7f1-4dc3-9e9c-f10f41501bfc\",\"roots\":{\"p1312\":\"c2a062f4-99ce-4c86-a828-ba15e1c2caed\"},\"root_ids\":[\"p1312\"]}];\n",
       "  root.Bokeh.embed.embed_items_notebook(docs_json, render_items);\n",
       "  }\n",
       "  if (root.Bokeh !== undefined) {\n",
       "    embed_document(root);\n",
       "  } else {\n",
       "    let attempts = 0;\n",
       "    const timer = setInterval(function(root) {\n",
       "      if (root.Bokeh !== undefined) {\n",
       "        clearInterval(timer);\n",
       "        embed_document(root);\n",
       "      } else {\n",
       "        attempts++;\n",
       "        if (attempts > 100) {\n",
       "          clearInterval(timer);\n",
       "          console.log(\"Bokeh: ERROR: Unable to run BokehJS code because BokehJS library is missing\");\n",
       "        }\n",
       "      }\n",
       "    }, 10, root)\n",
       "  }\n",
       "})(window);"
      ],
      "application/vnd.bokehjs_exec.v0+json": ""
     },
     "metadata": {
      "application/vnd.bokehjs_exec.v0+json": {
       "id": "p1312"
      }
     },
     "output_type": "display_data"
    }
   ],
   "source": [
    "WT_bohr = bohr_parameter(df_tot.loc[df_tot['Genotype']=='WT', '[IPTG] (mM)'],141.5)\n",
    "Q18A_bohr = bohr_parameter(df_tot.loc[df_tot['Genotype']=='Q18A', '[IPTG] (mM)'],16.56)\n",
    "Q18M_bohr = bohr_parameter(df_tot.loc[df_tot['Genotype']=='Q18M', '[IPTG] (mM)'],1332)\n",
    "\n",
    "p = bokeh.plotting.figure(\n",
    "    frame_width = 300,\n",
    "    frame_height = 300,\n",
    "    x_axis_label = 'bohr parameter',\n",
    "    y_axis_label = 'fold change',\n",
    "    x_range = [-7,7],\n",
    "    y_range = [0,1.2],\n",
    "    #x_axis_type='log',\n",
    ")\n",
    "\n",
    "Bohr = p.line(\n",
    "    #source=source_Q18M,#or put df here directly\n",
    "    #x=df_tot.loc[df_tot['Genotype']=='Q18M', '[IPTG] (mM)'],\n",
    "    x=bp,\n",
    "    y=FC_thr_bp,\n",
    "    color = 'grey',\n",
    ")\n",
    "\n",
    "WT_glyph = p.circle(\n",
    "    #source=source_WT,#or put df here directly\n",
    "    x=WT_bohr,\n",
    "    y=fold_change_bohr(WT_bohr),\n",
    "    color = cat_colors[0],\n",
    ")\n",
    "\n",
    "Q18A_glyph = p.circle(\n",
    "    #source=source_Q18A,#or put df here directly\n",
    "    x=Q18A_bohr,\n",
    "    y=fold_change_bohr(Q18A_bohr),\n",
    "    color = cat_colors[1],\n",
    ")\n",
    "\n",
    "Q18M_glyph = p.circle(\n",
    "    #source=source_Q18M,#or put df here directly\n",
    "    x=Q18M_bohr,\n",
    "    y=fold_change_bohr(Q18M_bohr),\n",
    "    color = cat_colors[2],\n",
    ")\n",
    "\n",
    "# Construct legend items\n",
    "legend_items = [('WT', [WT_glyph]), ('Q18A', [Q18A_glyph]), ('Q18M', [Q18M_glyph]), ('Theoretical Fold Change', [Bohr])]\n",
    "\n",
    "# Instantiate legend\n",
    "legend = bokeh.models.Legend(items=legend_items, click_policy='hide')\n",
    "\n",
    "# Add the legend to the right of the plot\n",
    "p.add_layout(legend, 'right')\n",
    "\n",
    "bokeh.io.show(p)"
   ]
  },
  {
   "cell_type": "code",
   "execution_count": null,
   "id": "9361c40b-2176-42cb-95f0-20c75c63a40a",
   "metadata": {},
   "outputs": [],
   "source": []
  }
 ],
 "metadata": {
  "kernelspec": {
   "display_name": "Python 3 (ipykernel)",
   "language": "python",
   "name": "python3"
  },
  "language_info": {
   "codemirror_mode": {
    "name": "ipython",
    "version": 3
   },
   "file_extension": ".py",
   "mimetype": "text/x-python",
   "name": "python",
   "nbconvert_exporter": "python",
   "pygments_lexer": "ipython3",
   "version": "3.11.4"
  }
 },
 "nbformat": 4,
 "nbformat_minor": 5
}
