{
 "cells": [
  {
   "cell_type": "code",
   "execution_count": 2,
   "id": "bce379d3-700f-42a4-9cd9-99c4d833815c",
   "metadata": {},
   "outputs": [],
   "source": [
    "list = [1,2.4,'a string',[1,2,3,4,45]]"
   ]
  },
  {
   "cell_type": "code",
   "execution_count": 3,
   "id": "491b5add-ba59-4dac-ad43-76b0c8dbe0f4",
   "metadata": {},
   "outputs": [
    {
     "data": {
      "text/plain": [
       "[1, 2.4, 'a string', [1, 2, 3, 4, 45]]"
      ]
     },
     "execution_count": 3,
     "metadata": {},
     "output_type": "execute_result"
    }
   ],
   "source": [
    "list"
   ]
  },
  {
   "cell_type": "code",
   "execution_count": 6,
   "id": "34a55c20-8011-4c12-ae3f-dc25d3dfb58e",
   "metadata": {},
   "outputs": [
    {
     "data": {
      "text/plain": [
       "[1, 2, 3, 5]"
      ]
     },
     "execution_count": 6,
     "metadata": {},
     "output_type": "execute_result"
    }
   ],
   "source": [
    "[1,2] +[3,5]"
   ]
  },
  {
   "cell_type": "code",
   "execution_count": 7,
   "id": "31c24aa6-c375-4a75-8657-7542e4e19204",
   "metadata": {},
   "outputs": [
    {
     "data": {
      "text/plain": [
       "True"
      ]
     },
     "execution_count": 7,
     "metadata": {},
     "output_type": "execute_result"
    }
   ],
   "source": [
    "1 in list"
   ]
  },
  {
   "cell_type": "code",
   "execution_count": 8,
   "id": "c4615650-c21d-4e78-b024-5d8b75f9bb9e",
   "metadata": {},
   "outputs": [
    {
     "data": {
      "text/plain": [
       "False"
      ]
     },
     "execution_count": 8,
     "metadata": {},
     "output_type": "execute_result"
    }
   ],
   "source": [
    "45 in list"
   ]
  },
  {
   "cell_type": "code",
   "execution_count": 11,
   "id": "285edfb0-72ad-48aa-9717-b42b98041924",
   "metadata": {},
   "outputs": [
    {
     "data": {
      "text/plain": [
       "True"
      ]
     },
     "execution_count": 11,
     "metadata": {},
     "output_type": "execute_result"
    }
   ],
   "source": [
    "45 in list[3]"
   ]
  },
  {
   "cell_type": "code",
   "execution_count": 13,
   "id": "3d4af72d-0d98-4abc-9d41-36698cf69028",
   "metadata": {},
   "outputs": [
    {
     "data": {
      "text/plain": [
       "2"
      ]
     },
     "execution_count": 13,
     "metadata": {},
     "output_type": "execute_result"
    }
   ],
   "source": [
    "list[3][1]"
   ]
  },
  {
   "cell_type": "code",
   "execution_count": 14,
   "id": "1def0a60-3ff8-43a7-91a1-57b0d2c32957",
   "metadata": {},
   "outputs": [
    {
     "data": {
      "text/plain": [
       "[1, 2, 3, 4, 45]"
      ]
     },
     "execution_count": 14,
     "metadata": {},
     "output_type": "execute_result"
    }
   ],
   "source": [
    "list[-1]"
   ]
  },
  {
   "cell_type": "code",
   "execution_count": 15,
   "id": "3f469bb5-ec93-45a9-84e4-129471570b2b",
   "metadata": {},
   "outputs": [
    {
     "data": {
      "text/plain": [
       "[1, 2.4]"
      ]
     },
     "execution_count": 15,
     "metadata": {},
     "output_type": "execute_result"
    }
   ],
   "source": [
    "list[0:2]"
   ]
  },
  {
   "cell_type": "code",
   "execution_count": 16,
   "id": "a22c5da3-8638-47ea-ab8f-a0351bb14acc",
   "metadata": {},
   "outputs": [
    {
     "data": {
      "text/plain": [
       "4583689680"
      ]
     },
     "execution_count": 16,
     "metadata": {},
     "output_type": "execute_result"
    }
   ],
   "source": [
    "a = 689\n",
    "id(a)"
   ]
  },
  {
   "cell_type": "code",
   "execution_count": 17,
   "id": "41a88273-338b-45a0-a305-11aeffd5236e",
   "metadata": {},
   "outputs": [],
   "source": [
    "a = 690"
   ]
  },
  {
   "cell_type": "code",
   "execution_count": 18,
   "id": "39f46246-755a-4be0-85d4-335b52058e43",
   "metadata": {},
   "outputs": [
    {
     "data": {
      "text/plain": [
       "4583689424"
      ]
     },
     "execution_count": 18,
     "metadata": {},
     "output_type": "execute_result"
    }
   ],
   "source": [
    "id(a)"
   ]
  },
  {
   "cell_type": "code",
   "execution_count": 48,
   "id": "0882bf45-34e9-4e3f-be94-4e22d2a4c744",
   "metadata": {},
   "outputs": [
    {
     "data": {
      "text/plain": [
       "0.5070422535211268"
      ]
     },
     "execution_count": 48,
     "metadata": {},
     "output_type": "execute_result"
    }
   ],
   "source": [
    "seq = 'ACTGATGTCTGACTCAGTCGATCGATATGCATGATCGCTAGTGCTAGCGTGCGTAGCACTCGTGCATGTCA'\n",
    "\n",
    "n_gc = 0\n",
    "len_seq=0\n",
    "\n",
    "for base in seq:\n",
    "    len_seq +=1\n",
    "    if base in 'GCgc':\n",
    "        n_gc+=1\n",
    "\n",
    "n_gc / len_seq"
   ]
  },
  {
   "cell_type": "code",
   "execution_count": 20,
   "id": "88728554-439e-46e6-852f-09126cedc9fb",
   "metadata": {},
   "outputs": [
    {
     "data": {
      "text/plain": [
       "4"
      ]
     },
     "execution_count": 20,
     "metadata": {},
     "output_type": "execute_result"
    }
   ],
   "source": [
    "len(list)"
   ]
  },
  {
   "cell_type": "code",
   "execution_count": 21,
   "id": "f4fceae1-7805-4ec0-8e66-8610ab50b991",
   "metadata": {},
   "outputs": [
    {
     "data": {
      "text/plain": [
       "71"
      ]
     },
     "execution_count": 21,
     "metadata": {},
     "output_type": "execute_result"
    }
   ],
   "source": [
    "len(seq)"
   ]
  },
  {
   "cell_type": "code",
   "execution_count": 27,
   "id": "9744d944-4a32-4c22-b54a-2104967fc591",
   "metadata": {},
   "outputs": [
    {
     "name": "stdout",
     "output_type": "stream",
     "text": [
      "Start codon not found\n"
     ]
    }
   ],
   "source": [
    "seq = 'ctgcagtcagtcacgtatagctgtgcagctagtcgtcacgtgtccgatcgtagctagctagtca'\n",
    "start_codon = 'atg'\n",
    "i=0\n",
    "while seq[i : i + 3] != start_codon and i < len(seq):\n",
    "    i += 1 \n",
    "\n",
    "if i == len(seq):\n",
    "    print(\"Start codon not found\")\n",
    "else:\n",
    "    print(\"Start codon at\", i)"
   ]
  },
  {
   "cell_type": "code",
   "execution_count": 28,
   "id": "9f8f076c-4b0d-4b74-bc92-e735bcbd4c9e",
   "metadata": {},
   "outputs": [],
   "source": [
    "def ratio(x,y):\n",
    "    \"\"\"The ratio of 'x' and 'y'.\"\"\"\n",
    "    return x/y"
   ]
  },
  {
   "cell_type": "code",
   "execution_count": 29,
   "id": "3252d82e-3e1d-4ad4-8d3b-0de66f5dba31",
   "metadata": {},
   "outputs": [
    {
     "data": {
      "text/plain": [
       "0.8571428571428571"
      ]
     },
     "execution_count": 29,
     "metadata": {},
     "output_type": "execute_result"
    }
   ],
   "source": [
    "ratio(6,7)"
   ]
  },
  {
   "cell_type": "code",
   "execution_count": 30,
   "id": "39a90a56-7de7-44e7-8c5e-b85aef5c0071",
   "metadata": {},
   "outputs": [
    {
     "data": {
      "text/plain": [
       "\u001b[0;31mSignature:\u001b[0m \u001b[0mratio\u001b[0m\u001b[0;34m(\u001b[0m\u001b[0mx\u001b[0m\u001b[0;34m,\u001b[0m \u001b[0my\u001b[0m\u001b[0;34m)\u001b[0m\u001b[0;34m\u001b[0m\u001b[0;34m\u001b[0m\u001b[0m\n",
       "\u001b[0;31mDocstring:\u001b[0m The ratio of 'x' and 'y'.\n",
       "\u001b[0;31mFile:\u001b[0m      /var/folders/sb/lrcc7v4n689ffgb59whnt56w0000gq/T/ipykernel_15421/3293563295.py\n",
       "\u001b[0;31mType:\u001b[0m      function"
      ]
     },
     "metadata": {},
     "output_type": "display_data"
    }
   ],
   "source": [
    "ratio?\n"
   ]
  },
  {
   "cell_type": "code",
   "execution_count": 37,
   "id": "89eaa2ac-4dd7-4abf-8860-6800b952f01d",
   "metadata": {},
   "outputs": [],
   "source": [
    "def complement_base(base, material='DNA'):\n",
    "    \"\"\"Return the watson-crick bases\"\"\"\n",
    "    if base in 'Aa':\n",
    "        if material == 'DNA':\n",
    "            out = 'T'\n",
    "        elif material == 'RNA':\n",
    "            out = 'U'\n",
    "    elif base in 'Cc':\n",
    "        out = 'G'\n",
    "    elif base in 'Gg':\n",
    "        out = 'C'\n",
    "    else:\n",
    "        out ='A'\n",
    "\n",
    "    return out\n",
    "\n",
    "def reverse_complement(seq, material='DNA'):\n",
    "    \"\"\"Return reverse complement\"\"\"\n",
    "    rev_seq=''\n",
    "    for base in reversed(seq):\n",
    "        rev_seq += complement_base(base, material=material)\n",
    "\n",
    "    return rev_seq"
   ]
  },
  {
   "cell_type": "code",
   "execution_count": 38,
   "id": "9754f013-de31-42f2-9271-acfd74b75af4",
   "metadata": {},
   "outputs": [
    {
     "name": "stdout",
     "output_type": "stream",
     "text": [
      "CGAUCAGCAGAGCAUCGAUCGAUCGACAGCAUCAGCGAGCAU\n"
     ]
    }
   ],
   "source": [
    "print(reverse_complement('ATGCTCGCTGATGCTGTCGATCGATCGATGCTCTGCTGATCG', material='RNA'))"
   ]
  },
  {
   "cell_type": "code",
   "execution_count": 39,
   "id": "fd483e73-6d0c-4723-8486-76df13c5b3fb",
   "metadata": {},
   "outputs": [],
   "source": [
    "def is_almost_right(a,b,c, epsilon=1e-12):\n",
    "    \"\"\"Checks to see if triangle of side lengths a,b,c is right\"\"\"\n",
    "    a,b,c = sorted([a,b,c])\n",
    "    return abs(a**2 + b**2 - c**2) < epsilon"
   ]
  },
  {
   "cell_type": "code",
   "execution_count": 41,
   "id": "2684807a-a817-48a9-95fd-c4f4953778d2",
   "metadata": {},
   "outputs": [
    {
     "data": {
      "text/plain": [
       "True"
      ]
     },
     "execution_count": 41,
     "metadata": {},
     "output_type": "execute_result"
    }
   ],
   "source": [
    "is_almost_right(13,5,12)"
   ]
  },
  {
   "cell_type": "code",
   "execution_count": 42,
   "id": "4f3ca8e9-cbe5-482a-bc00-60b5c7012785",
   "metadata": {},
   "outputs": [],
   "source": [
    "side_lengths=(13,5,12)"
   ]
  },
  {
   "cell_type": "code",
   "execution_count": 44,
   "id": "b5de000a-84d4-4429-bde8-4e4f045c3ebc",
   "metadata": {},
   "outputs": [
    {
     "data": {
      "text/plain": [
       "True"
      ]
     },
     "execution_count": 44,
     "metadata": {},
     "output_type": "execute_result"
    }
   ],
   "source": [
    "is_almost_right(*side_lengths)"
   ]
  },
  {
   "cell_type": "code",
   "execution_count": 45,
   "id": "988ada24-7cf9-43d9-8dc7-e8b1923ee989",
   "metadata": {},
   "outputs": [],
   "source": [
    "f = lambda x,y:x/y"
   ]
  },
  {
   "cell_type": "code",
   "execution_count": 46,
   "id": "27f99283-9d64-4cc1-ab43-2dbd2134f25d",
   "metadata": {},
   "outputs": [
    {
     "data": {
      "text/plain": [
       "0.875"
      ]
     },
     "execution_count": 46,
     "metadata": {},
     "output_type": "execute_result"
    }
   ],
   "source": [
    "f(7,8)"
   ]
  },
  {
   "cell_type": "code",
   "execution_count": 47,
   "id": "eec50ed2-759b-4c8f-b2c5-95c9750c2a3a",
   "metadata": {},
   "outputs": [
    {
     "data": {
      "text/plain": [
       "'ctgcagtcagtcacgtatagctgtgcagctagtcgtcacgtgtccgatcgtagctagctagtca'"
      ]
     },
     "execution_count": 47,
     "metadata": {},
     "output_type": "execute_result"
    }
   ],
   "source": [
    "seq"
   ]
  },
  {
   "cell_type": "code",
   "execution_count": 49,
   "id": "7793bdf8-df89-43be-bc06-b57651fd6482",
   "metadata": {},
   "outputs": [
    {
     "data": {
      "text/plain": [
       "'ACTGATGTCTGACTCAGTCGATCGATATGCATGATCGCTAGTGCTAGCGTGCGTAGCACTCGTGCATGTCA'"
      ]
     },
     "execution_count": 49,
     "metadata": {},
     "output_type": "execute_result"
    }
   ],
   "source": [
    "seq"
   ]
  },
  {
   "cell_type": "code",
   "execution_count": 52,
   "id": "24ee9880-22f8-43fa-ab16-f39ff21696bb",
   "metadata": {},
   "outputs": [
    {
     "data": {
      "text/plain": [
       "0.5070422535211268"
      ]
     },
     "execution_count": 52,
     "metadata": {},
     "output_type": "execute_result"
    }
   ],
   "source": [
    "(seq.count('G') + seq.count('C'))/len(seq)"
   ]
  },
  {
   "cell_type": "code",
   "execution_count": 53,
   "id": "dcca7afa-9d72-405d-b465-6761bafba281",
   "metadata": {},
   "outputs": [
    {
     "data": {
      "text/plain": [
       "2"
      ]
     },
     "execution_count": 53,
     "metadata": {},
     "output_type": "execute_result"
    }
   ],
   "source": [
    "'AAAAAAA'.count('AAA')"
   ]
  },
  {
   "cell_type": "code",
   "execution_count": 54,
   "id": "6641fa69-f407-4b60-81c6-3138c3354a5e",
   "metadata": {},
   "outputs": [
    {
     "data": {
      "text/plain": [
       "4"
      ]
     },
     "execution_count": 54,
     "metadata": {},
     "output_type": "execute_result"
    }
   ],
   "source": [
    "'ACTGATGTCTGACTCAGTCGATCGATATGCATGATCGCTAGTGCTAGCGTGCGTAGCACTCGTGCATGTCA'.find('ATG')"
   ]
  },
  {
   "cell_type": "code",
   "execution_count": 56,
   "id": "b3753fcc-1e0c-43db-ad46-5b5368f451e3",
   "metadata": {},
   "outputs": [
    {
     "data": {
      "text/plain": [
       "4"
      ]
     },
     "execution_count": 56,
     "metadata": {},
     "output_type": "execute_result"
    }
   ],
   "source": [
    "'ACTGATGTCTGACTCAGTCGATCGATATGCATGATCGCTAGTGCTAGCGTGCGTAGCACTCGTGCATGTCA'.count('ATG')"
   ]
  },
  {
   "cell_type": "code",
   "execution_count": 57,
   "id": "1333c4f7-e0ac-4b35-9c16-a0439b045933",
   "metadata": {},
   "outputs": [
    {
     "data": {
      "text/plain": [
       "65"
      ]
     },
     "execution_count": 57,
     "metadata": {},
     "output_type": "execute_result"
    }
   ],
   "source": [
    "'ACTGATGTCTGACTCAGTCGATCGATATGCATGATCGCTAGTGCTAGCGTGCGTAGCACTCGTGCATGTCA'.rfind('ATG')"
   ]
  },
  {
   "cell_type": "code",
   "execution_count": 59,
   "id": "6726fccf-994e-4fba-9a7a-1f1cd34ff13f",
   "metadata": {},
   "outputs": [
    {
     "data": {
      "text/plain": [
       "'LEBRON'"
      ]
     },
     "execution_count": 59,
     "metadata": {},
     "output_type": "execute_result"
    }
   ],
   "source": [
    "'lebron'.upper()"
   ]
  },
  {
   "cell_type": "code",
   "execution_count": 60,
   "id": "d748c061-79b5-4a7d-8175-3d1767bad581",
   "metadata": {},
   "outputs": [
    {
     "data": {
      "text/plain": [
       "'atgagatagcgcgcacac'"
      ]
     },
     "execution_count": 60,
     "metadata": {},
     "output_type": "execute_result"
    }
   ],
   "source": [
    "''.join(['atgagatag','cgcgcacac'])"
   ]
  },
  {
   "cell_type": "code",
   "execution_count": null,
   "id": "9a1f638e-dced-48cb-a2d0-c4909dcacd34",
   "metadata": {},
   "outputs": [],
   "source": []
  }
 ],
 "metadata": {
  "kernelspec": {
   "display_name": "Python 3 (ipykernel)",
   "language": "python",
   "name": "python3"
  },
  "language_info": {
   "codemirror_mode": {
    "name": "ipython",
    "version": 3
   },
   "file_extension": ".py",
   "mimetype": "text/x-python",
   "name": "python",
   "nbconvert_exporter": "python",
   "pygments_lexer": "ipython3",
   "version": "3.11.4"
  }
 },
 "nbformat": 4,
 "nbformat_minor": 5
}
