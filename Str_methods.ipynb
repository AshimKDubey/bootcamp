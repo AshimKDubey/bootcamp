{
 "cells": [
  {
   "cell_type": "code",
   "execution_count": 1,
   "id": "4cc7b1c4-7279-4d69-b317-afa757ba7b35",
   "metadata": {},
   "outputs": [],
   "source": [
    "#Without reversed function\n",
    "def complement_base(base, material='DNA'):\n",
    "    \"\"\"Return the watson-crick bases\"\"\"\n",
    "    base=base.lower()\n",
    "    if base in 'a':\n",
    "        if material == 'DNA':\n",
    "            out = 'T'\n",
    "        elif material == 'RNA':\n",
    "            out = 'U'\n",
    "    elif base in 'c':\n",
    "        out = 'G'\n",
    "    elif base in 'g':\n",
    "        out = 'C'\n",
    "    else:\n",
    "        out ='A'\n",
    "\n",
    "    return out\n",
    "\n",
    "def reverse_complement(seq, material='DNA'):\n",
    "    \"\"\"Return reverse complement\"\"\"\n",
    "    rev_seq=''\n",
    "    compl_seq=''\n",
    "    for base in seq:\n",
    "        compl_seq += complement_base(base, material=material)\n",
    "    rev_seq=compl_seq[::-1]\n",
    "\n",
    "    return rev_seq"
   ]
  },
  {
   "cell_type": "code",
   "execution_count": 2,
   "id": "27dec46c-05f4-43e1-a09e-07722a9e301f",
   "metadata": {},
   "outputs": [
    {
     "name": "stdout",
     "output_type": "stream",
     "text": [
      "CGAUCAGCAGAGCAUCGAUCGAUCGACAGCAUCAGCGAGCAU\n"
     ]
    }
   ],
   "source": [
    "print(reverse_complement('ATGCTCGCTGATGCTGTCGATCGATCGATGCTCTGCTGATCG', material='RNA'))"
   ]
  },
  {
   "cell_type": "code",
   "execution_count": 3,
   "id": "140434f9-1ec6-4087-aebf-185a2e9f4758",
   "metadata": {},
   "outputs": [],
   "source": [
    "#Without any loop\n",
    "def complement_base(base, material='DNA'):\n",
    "    \"\"\"Return the watson-crick bases\"\"\"\n",
    "    base=base.lower()\n",
    "    if base in 'a':\n",
    "        if material == 'DNA':\n",
    "            out = 't'\n",
    "        elif material == 'RNA':\n",
    "            out = 'u'\n",
    "    elif base in 'c':\n",
    "        out = 'g'\n",
    "    elif base in 'g':\n",
    "        out = 'c'\n",
    "    else:\n",
    "        out ='a'\n",
    "\n",
    "    return out\n",
    "\n",
    "def reverse_complement(seq, material='DNA'):\n",
    "    \"\"\"Return reverse complement\"\"\"\n",
    "    seq=seq.upper()\n",
    "    compl_seq=seq.replace('T',complement_base('T')).replace('A',complement_base('A', material=material)).replace('C',complement_base('C')).replace('G',complement_base('G'))\n",
    "    rev_seq=compl_seq[::-1]\n",
    "    rev_seq=rev_seq.upper()\n",
    "    return rev_seq"
   ]
  },
  {
   "cell_type": "code",
   "execution_count": 4,
   "id": "1c9485f2-2b30-426a-afb1-9676ade644e7",
   "metadata": {},
   "outputs": [
    {
     "name": "stdout",
     "output_type": "stream",
     "text": [
      "CGAUCAGCAGAGCAUCGAUCGAUCGACAGCAUCAGCGAGCAU\n"
     ]
    }
   ],
   "source": [
    "print(reverse_complement('ATGCTCGCTGATGCTGTCGATCGATCGATGCTCTGCTGATCG', material='RNA'))"
   ]
  },
  {
   "cell_type": "code",
   "execution_count": null,
   "id": "9b30d011-4fbf-49d7-a6a9-6ed230a5cdb5",
   "metadata": {},
   "outputs": [],
   "source": []
  },
  {
   "cell_type": "code",
   "execution_count": null,
   "id": "d6223d9e-50f3-4124-b394-2893ec2e89e7",
   "metadata": {},
   "outputs": [],
   "source": []
  }
 ],
 "metadata": {
  "kernelspec": {
   "display_name": "Python 3 (ipykernel)",
   "language": "python",
   "name": "python3"
  },
  "language_info": {
   "codemirror_mode": {
    "name": "ipython",
    "version": 3
   },
   "file_extension": ".py",
   "mimetype": "text/x-python",
   "name": "python",
   "nbconvert_exporter": "python",
   "pygments_lexer": "ipython3",
   "version": "3.11.4"
  }
 },
 "nbformat": 4,
 "nbformat_minor": 5
}
