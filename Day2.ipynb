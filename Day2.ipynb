{
 "cells": [
  {
   "cell_type": "code",
   "execution_count": 1,
   "id": "d26954e6-3683-43c4-b269-6fb065dd4621",
   "metadata": {},
   "outputs": [],
   "source": [
    "my_dict = {'a':6, 'b':7, 'c':27.6}"
   ]
  },
  {
   "cell_type": "code",
   "execution_count": 2,
   "id": "6e86c6ae-6560-4d99-84a2-80535be400cb",
   "metadata": {},
   "outputs": [
    {
     "data": {
      "text/plain": [
       "{'a': 6, 'b': 7, 'c': 27.6}"
      ]
     },
     "execution_count": 2,
     "metadata": {},
     "output_type": "execute_result"
    }
   ],
   "source": [
    "my_dict"
   ]
  },
  {
   "cell_type": "code",
   "execution_count": 3,
   "id": "2a93ecdb-1d51-4c3c-b605-b9a54c28b68e",
   "metadata": {},
   "outputs": [],
   "source": [
    "my_dict = dict(\n",
    "    (('a',6),('b',7),('c',27.6))\n",
    ")"
   ]
  },
  {
   "cell_type": "code",
   "execution_count": 4,
   "id": "cfcf52a3-1431-4b08-b668-3204751d9a34",
   "metadata": {},
   "outputs": [
    {
     "data": {
      "text/plain": [
       "{'a': 6, 'b': 7, 'c': 27.6}"
      ]
     },
     "execution_count": 4,
     "metadata": {},
     "output_type": "execute_result"
    }
   ],
   "source": [
    "my_dict"
   ]
  },
  {
   "cell_type": "code",
   "execution_count": 5,
   "id": "8d19de33-f25f-4ef5-97d6-d788a5dbec79",
   "metadata": {},
   "outputs": [
    {
     "data": {
      "text/plain": [
       "{'a': 6, 'b': 7, 'c': 27.6}"
      ]
     },
     "execution_count": 5,
     "metadata": {},
     "output_type": "execute_result"
    }
   ],
   "source": [
    "dict(a=6, b=7, c=27.6)"
   ]
  },
  {
   "cell_type": "code",
   "execution_count": 6,
   "id": "90dabfbe-0d44-4845-ba11-447c20efcadc",
   "metadata": {},
   "outputs": [],
   "source": [
    "my_dict = dict(a='yes', b=\"no\", c='maybe')"
   ]
  },
  {
   "cell_type": "code",
   "execution_count": 7,
   "id": "83bdc280-6d6a-46f5-a32b-7f3cfeac02ca",
   "metadata": {},
   "outputs": [
    {
     "data": {
      "text/plain": [
       "'no'"
      ]
     },
     "execution_count": 7,
     "metadata": {},
     "output_type": "execute_result"
    }
   ],
   "source": [
    "my_dict['b']"
   ]
  },
  {
   "cell_type": "code",
   "execution_count": 8,
   "id": "20ebde4b-5788-4e2b-b7a8-eb3babdaa716",
   "metadata": {},
   "outputs": [],
   "source": [
    "my_dict['d'] = 'Surely'"
   ]
  },
  {
   "cell_type": "code",
   "execution_count": 9,
   "id": "ee584cb4-717f-421c-9422-6a2301696a7f",
   "metadata": {},
   "outputs": [
    {
     "data": {
      "text/plain": [
       "{'a': 'yes', 'b': 'no', 'c': 'maybe', 'd': 'Surely'}"
      ]
     },
     "execution_count": 9,
     "metadata": {},
     "output_type": "execute_result"
    }
   ],
   "source": [
    "my_dict"
   ]
  },
  {
   "cell_type": "code",
   "execution_count": 10,
   "id": "02fd05a2-74d3-40f4-adcc-41fa1bff57c2",
   "metadata": {},
   "outputs": [],
   "source": [
    "my_dict['a']='hell yes'"
   ]
  },
  {
   "cell_type": "code",
   "execution_count": 11,
   "id": "65106598-7fa3-4548-b14c-5e2ab2c1365e",
   "metadata": {},
   "outputs": [
    {
     "data": {
      "text/plain": [
       "{'a': 'hell yes', 'b': 'no', 'c': 'maybe', 'd': 'Surely'}"
      ]
     },
     "execution_count": 11,
     "metadata": {},
     "output_type": "execute_result"
    }
   ],
   "source": [
    "my_dict"
   ]
  },
  {
   "cell_type": "code",
   "execution_count": 13,
   "id": "388569b1-2676-4615-9492-78e9e45f52f0",
   "metadata": {},
   "outputs": [
    {
     "data": {
      "text/plain": [
       "'hell yes'"
      ]
     },
     "execution_count": 13,
     "metadata": {},
     "output_type": "execute_result"
    }
   ],
   "source": [
    "my_dict['a']"
   ]
  },
  {
   "cell_type": "code",
   "execution_count": 15,
   "id": "89bf844d-1813-43aa-aada-866e31ac2c32",
   "metadata": {},
   "outputs": [
    {
     "data": {
      "text/plain": [
       "True"
      ]
     },
     "execution_count": 15,
     "metadata": {},
     "output_type": "execute_result"
    }
   ],
   "source": [
    "'c' in my_dict"
   ]
  },
  {
   "cell_type": "code",
   "execution_count": 16,
   "id": "ab1f567d-4714-40b8-9d6e-55a6e68332eb",
   "metadata": {},
   "outputs": [
    {
     "name": "stdout",
     "output_type": "stream",
     "text": [
      "a hell yes\n",
      "b no\n",
      "c maybe\n",
      "d Surely\n"
     ]
    }
   ],
   "source": [
    "for key in my_dict:\n",
    "    print(key,my_dict[key])"
   ]
  },
  {
   "cell_type": "code",
   "execution_count": 17,
   "id": "aad29db5-f394-4026-823f-6a94c7f2aa0b",
   "metadata": {},
   "outputs": [
    {
     "name": "stdout",
     "output_type": "stream",
     "text": [
      "a : hell yes\n",
      "b : no\n",
      "c : maybe\n",
      "d : Surely\n"
     ]
    }
   ],
   "source": [
    "for key, value in my_dict.items():\n",
    "    print(key,':',value)"
   ]
  },
  {
   "cell_type": "code",
   "execution_count": 18,
   "id": "d6597194-ce28-43e7-a20c-353d0d0812c0",
   "metadata": {},
   "outputs": [
    {
     "data": {
      "text/plain": [
       "'No.'"
      ]
     },
     "execution_count": 18,
     "metadata": {},
     "output_type": "execute_result"
    }
   ],
   "source": [
    "my_dict.get('e', 'No.')"
   ]
  },
  {
   "cell_type": "code",
   "execution_count": 42,
   "id": "44f340b5-caa0-4f77-b017-dc9fe18d6736",
   "metadata": {},
   "outputs": [],
   "source": [
    "def concatenate_sequences(**kwargs):\n",
    "    seq = ''\n",
    "    for key in kwargs:\n",
    "        if key!='c':\n",
    "            seq += kwargs[key]\n",
    "\n",
    "    return seq"
   ]
  },
  {
   "cell_type": "code",
   "execution_count": 43,
   "id": "fdc87480-a8ca-42e1-9b5f-2a5553709946",
   "metadata": {},
   "outputs": [],
   "source": [
    "my_dict2 = {\n",
    "    'a': 'A',\n",
    "    'c': 'C',\n",
    "    'd': 'A'\n",
    "}"
   ]
  },
  {
   "cell_type": "code",
   "execution_count": 44,
   "id": "e93dd33d-5cb6-4309-a133-184cb0625a84",
   "metadata": {},
   "outputs": [
    {
     "data": {
      "text/plain": [
       "'AA'"
      ]
     },
     "execution_count": 44,
     "metadata": {},
     "output_type": "execute_result"
    }
   ],
   "source": [
    "concatenate_sequences(**my_dict2)"
   ]
  },
  {
   "cell_type": "code",
   "execution_count": 45,
   "id": "bb0a943c-e5b9-420e-b266-7c9c2da631c9",
   "metadata": {},
   "outputs": [],
   "source": [
    "import numpy"
   ]
  },
  {
   "cell_type": "code",
   "execution_count": 46,
   "id": "aac394f5-f070-4399-83b0-35d51862f731",
   "metadata": {},
   "outputs": [
    {
     "data": {
      "text/plain": [
       "array([  1,   2,   6,  24, 120])"
      ]
     },
     "execution_count": 46,
     "metadata": {},
     "output_type": "execute_result"
    }
   ],
   "source": [
    "numpy.cumprod([1,2,3,4,5])"
   ]
  },
  {
   "cell_type": "code",
   "execution_count": 47,
   "id": "64ab067e-58a2-4df9-9d53-1de5fa34b274",
   "metadata": {},
   "outputs": [
    {
     "data": {
      "text/plain": [
       "'1.24.3'"
      ]
     },
     "execution_count": 47,
     "metadata": {},
     "output_type": "execute_result"
    }
   ],
   "source": [
    "numpy.__version__"
   ]
  },
  {
   "cell_type": "code",
   "execution_count": 52,
   "id": "b8e6248c-d2a6-474a-b81d-ddbcb06e54b6",
   "metadata": {},
   "outputs": [
    {
     "data": {
      "text/plain": [
       "2.5"
      ]
     },
     "execution_count": 52,
     "metadata": {},
     "output_type": "execute_result"
    }
   ],
   "source": [
    "numpy.median([1,2,3,4])"
   ]
  },
  {
   "cell_type": "code",
   "execution_count": 53,
   "id": "9ccc025b-2ac3-4818-85bf-eebfb72ef17c",
   "metadata": {},
   "outputs": [],
   "source": [
    "import numpy as np"
   ]
  },
  {
   "cell_type": "code",
   "execution_count": 55,
   "id": "7f0192ba-9912-4788-9dd7-1678c23c783c",
   "metadata": {},
   "outputs": [
    {
     "data": {
      "text/plain": [
       "54.0"
      ]
     },
     "execution_count": 55,
     "metadata": {},
     "output_type": "execute_result"
    }
   ],
   "source": [
    "np.mean([12,34,56,78,90])"
   ]
  },
  {
   "cell_type": "code",
   "execution_count": 56,
   "id": "49bd6dd4-633d-43c6-8236-1edc99a9f82d",
   "metadata": {},
   "outputs": [],
   "source": [
    "import os\n",
    "import glob"
   ]
  },
  {
   "cell_type": "code",
   "execution_count": 58,
   "id": "d69c0485-0937-4e82-b361-a2dce4e6b81d",
   "metadata": {},
   "outputs": [
    {
     "name": "stdout",
     "output_type": "stream",
     "text": [
      "total 112\n",
      "-rw-r--r--   1 adubey  staff  14718 Sep  4 16:51 Day1.ipynb\n",
      "-rw-r--r--   1 adubey  staff   9562 Sep  5 11:40 Day2.ipynb\n",
      "-rw-r--r--   1 adubey  staff    644 Sep  2 18:41 README.md\n",
      "-rw-r--r--   1 adubey  staff   6201 Sep  5 09:53 RNA_secondary_struct.ipynb\n",
      "-rw-r--r--   1 adubey  staff   3746 Sep  5 09:16 Str_methods.ipynb\n",
      "-rw-r--r--   1 adubey  staff   1407 Sep  4 13:16 Time_Type_conv.ipynb\n",
      "-rw-r--r--   1 adubey  staff   1003 Sep  2 18:41 bioinfo_dicts.py\n",
      "drwxr-xr-x   6 adubey  staff    192 Sep  2 18:41 \u001b[34mcommand_line_tutorial\u001b[m\u001b[m/\n",
      "drwxr-xr-x  40 adubey  staff   1280 Sep  2 18:41 \u001b[34mdata\u001b[m\u001b[m/\n",
      "drwxr-xr-x   4 adubey  staff    128 Sep  2 18:41 \u001b[34mmisc\u001b[m\u001b[m/\n",
      "drwxr-xr-x   3 adubey  staff     96 Sep  2 18:41 \u001b[34mmodules\u001b[m\u001b[m/\n",
      "-rw-r--r--   1 adubey  staff    958 Sep  2 18:41 na_utils.py\n"
     ]
    }
   ],
   "source": [
    "ll"
   ]
  },
  {
   "cell_type": "code",
   "execution_count": 60,
   "id": "b51f6a97-6005-4840-8308-57144f94a09e",
   "metadata": {},
   "outputs": [
    {
     "name": "stdout",
     "output_type": "stream",
     "text": [
      "/Users/adubey/git/bootcamp\n"
     ]
    }
   ],
   "source": [
    "cd ../\n"
   ]
  },
  {
   "cell_type": "code",
   "execution_count": 84,
   "id": "591cc446-af3f-40ac-acaa-a45c7457ca9a",
   "metadata": {},
   "outputs": [
    {
     "name": "stdout",
     "output_type": "stream",
     "text": [
      "<class '_io.TextIOWrapper'>\n",
      "E\n"
     ]
    }
   ],
   "source": [
    "with open('data/1OLG.pdb', 'r') as f:\n",
    "    print(type(f))\n",
    "    f_str=f.read()\n",
    "    print(f_str[1])"
   ]
  },
  {
   "cell_type": "code",
   "execution_count": 64,
   "id": "bb323832-bfbe-4781-8a09-5dd596424104",
   "metadata": {},
   "outputs": [],
   "source": [
    "with open('data/1OLG.pdb','r') as f:\n",
    "    f_list = f.readlines()"
   ]
  },
  {
   "cell_type": "code",
   "execution_count": 66,
   "id": "0fa4a44c-0f29-4828-a115-253faf1ec437",
   "metadata": {},
   "outputs": [
    {
     "data": {
      "text/plain": [
       "'HEADER    ANTI-ONCOGENE                           13-JUN-94   1OLG'"
      ]
     },
     "execution_count": 66,
     "metadata": {},
     "output_type": "execute_result"
    }
   ],
   "source": [
    "f_list[0].rstrip()"
   ]
  },
  {
   "cell_type": "code",
   "execution_count": 69,
   "id": "cf091dc2-954a-459d-86b3-e5be16d30884",
   "metadata": {},
   "outputs": [
    {
     "name": "stdout",
     "output_type": "stream",
     "text": [
      "HEADER    ANTI-ONCOGENE                           13-JUN-94   1OLG\n",
      "TITLE     HIGH-RESOLUTION SOLUTION STRUCTURE OF THE OLIGOMERIZATION\n",
      "TITLE    2 DOMAIN OF P53 BY MULTI-DIMENSIONAL NMR\n",
      "COMPND    MOL_ID: 1;\n",
      "COMPND   2 MOLECULE: TUMOR SUPPRESSOR P53 (OLIGOMERIZATION DOMAIN);\n",
      "COMPND   3 CHAIN: A, B, C, D;\n",
      "COMPND   4 ENGINEERED: YES\n",
      "SOURCE    MOL_ID: 1;\n",
      "SOURCE   2 ORGANISM_SCIENTIFIC: HOMO SAPIENS;\n",
      "SOURCE   3 ORGANISM_COMMON: HUMAN;\n"
     ]
    }
   ],
   "source": [
    "with open('data/1OLG.pdb','r') as f:\n",
    "    i=0\n",
    "    while i<10:\n",
    "        print(f.readline().rstrip())\n",
    "        i +=1"
   ]
  },
  {
   "cell_type": "code",
   "execution_count": 74,
   "id": "6faf9232-362b-418b-8546-e1c07882b22a",
   "metadata": {},
   "outputs": [],
   "source": [
    "fname = 'yogi.txt'\n",
    "if os.path.isfile(fname):\n",
    "    raise RuntimeError('File yogi.txt already exists')\n",
    "\n",
    "with open(fname, 'w') as f:\n",
    "    f.write('When you come to a fork in the road, take it! \\n')\n",
    "    f.write('When a fork comes to you in the road, run \\n')"
   ]
  },
  {
   "cell_type": "code",
   "execution_count": 75,
   "id": "fb7baabb-7a65-464e-877c-41804d9c4028",
   "metadata": {},
   "outputs": [
    {
     "data": {
      "text/plain": [
       "'000078'"
      ]
     },
     "execution_count": 75,
     "metadata": {},
     "output_type": "execute_result"
    }
   ],
   "source": [
    "'{frame:06d}'.format(frame=78)"
   ]
  },
  {
   "cell_type": "code",
   "execution_count": 79,
   "id": "a9d6e9f0-275d-472d-8c74-3b4d37b7a2b5",
   "metadata": {},
   "outputs": [],
   "source": [
    "out_fname =' atom_chain_A.txt'\n",
    "if os.path.isfile(out_fname):\n",
    "    raise RuntimeError('File exists')\n",
    "    \n",
    "with open('data/1OLG.pdb','r') as f, open(out_fname,'w') as f_out:\n",
    "    for line in f:\n",
    "        if len(line) > 21 and line[:4] == 'ATOM' and line[21]=='A':\n",
    "            f_out.write(line)"
   ]
  },
  {
   "cell_type": "code",
   "execution_count": 80,
   "id": "04ab9334-efef-4a7c-b1a4-09f0c2a9074d",
   "metadata": {},
   "outputs": [],
   "source": [
    "import bootcamp_utils"
   ]
  },
  {
   "cell_type": "code",
   "execution_count": 83,
   "id": "4848c2f5-a768-4f94-bad4-877176605f18",
   "metadata": {},
   "outputs": [
    {
     "data": {
      "text/plain": [
       "{'TTT': 'F',\n",
       " 'TTC': 'F',\n",
       " 'TTA': 'L',\n",
       " 'TTG': 'L',\n",
       " 'TCT': 'S',\n",
       " 'TCC': 'S',\n",
       " 'TCA': 'S',\n",
       " 'TCG': 'S',\n",
       " 'TAT': 'Y',\n",
       " 'TAC': 'Y',\n",
       " 'TAA': '*',\n",
       " 'TAG': '*',\n",
       " 'TGT': 'C',\n",
       " 'TGC': 'C',\n",
       " 'TGA': '*',\n",
       " 'TGG': 'W',\n",
       " 'CTT': 'L',\n",
       " 'CTC': 'L',\n",
       " 'CTA': 'L',\n",
       " 'CTG': 'L',\n",
       " 'CCT': 'P',\n",
       " 'CCC': 'P',\n",
       " 'CCA': 'P',\n",
       " 'CCG': 'P',\n",
       " 'CAT': 'H',\n",
       " 'CAC': 'H',\n",
       " 'CAA': 'Q',\n",
       " 'CAG': 'Q',\n",
       " 'CGT': 'R',\n",
       " 'CGC': 'R',\n",
       " 'CGA': 'R',\n",
       " 'CGG': 'R',\n",
       " 'ATT': 'I',\n",
       " 'ATC': 'I',\n",
       " 'ATA': 'I',\n",
       " 'ATG': 'M',\n",
       " 'ACT': 'T',\n",
       " 'ACC': 'T',\n",
       " 'ACA': 'T',\n",
       " 'ACG': 'T',\n",
       " 'AAT': 'N',\n",
       " 'AAC': 'N',\n",
       " 'AAA': 'K',\n",
       " 'AAG': 'K',\n",
       " 'AGT': 'S',\n",
       " 'AGC': 'S',\n",
       " 'AGA': 'R',\n",
       " 'AGG': 'R',\n",
       " 'GTT': 'V',\n",
       " 'GTC': 'V',\n",
       " 'GTA': 'V',\n",
       " 'GTG': 'V',\n",
       " 'GCT': 'A',\n",
       " 'GCC': 'A',\n",
       " 'GCA': 'A',\n",
       " 'GCG': 'A',\n",
       " 'GAT': 'D',\n",
       " 'GAC': 'D',\n",
       " 'GAA': 'E',\n",
       " 'GAG': 'E',\n",
       " 'GGT': 'G',\n",
       " 'GGC': 'G',\n",
       " 'GGA': 'G',\n",
       " 'GGG': 'G'}"
      ]
     },
     "execution_count": 83,
     "metadata": {},
     "output_type": "execute_result"
    }
   ],
   "source": [
    "bootcamp_utils.codons"
   ]
  },
  {
   "cell_type": "code",
   "execution_count": null,
   "id": "eba8b767-fee7-4cdd-a3a0-fa9b2adf7755",
   "metadata": {},
   "outputs": [],
   "source": []
  }
 ],
 "metadata": {
  "kernelspec": {
   "display_name": "Python 3 (ipykernel)",
   "language": "python",
   "name": "python3"
  },
  "language_info": {
   "codemirror_mode": {
    "name": "ipython",
    "version": 3
   },
   "file_extension": ".py",
   "mimetype": "text/x-python",
   "name": "python",
   "nbconvert_exporter": "python",
   "pygments_lexer": "ipython3",
   "version": "3.11.4"
  }
 },
 "nbformat": 4,
 "nbformat_minor": 5
}
