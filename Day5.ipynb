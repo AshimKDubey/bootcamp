{
 "cells": [
  {
   "cell_type": "code",
   "execution_count": 1,
   "id": "046fbecd-2378-416f-9812-1c5d67c8849e",
   "metadata": {},
   "outputs": [
    {
     "data": {
      "text/html": [
       "<style>\n",
       "        .bk-notebook-logo {\n",
       "            display: block;\n",
       "            width: 20px;\n",
       "            height: 20px;\n",
       "            background-image: url(data:image/png;base64,iVBORw0KGgoAAAANSUhEUgAAABQAAAAUCAYAAACNiR0NAAAABHNCSVQICAgIfAhkiAAAAAlwSFlzAAALEgAACxIB0t1+/AAAABx0RVh0U29mdHdhcmUAQWRvYmUgRmlyZXdvcmtzIENTNui8sowAAAOkSURBVDiNjZRtaJVlGMd/1/08zzln5zjP1LWcU9N0NkN8m2CYjpgQYQXqSs0I84OLIC0hkEKoPtiH3gmKoiJDU7QpLgoLjLIQCpEsNJ1vqUOdO7ppbuec5+V+rj4ctwzd8IIbbi6u+8f1539dt3A78eXC7QizUF7gyV1fD1Yqg4JWz84yffhm0qkFqBogB9rM8tZdtwVsPUhWhGcFJngGeWrPzHm5oaMmkfEg1usvLFyc8jLRqDOMru7AyC8saQr7GG7f5fvDeH7Ej8CM66nIF+8yngt6HWaKh7k49Soy9nXurCi1o3qUbS3zWfrYeQDTB/Qj6kX6Ybhw4B+bOYoLKCC9H3Nu/leUTZ1JdRWkkn2ldcCamzrcf47KKXdAJllSlxAOkRgyHsGC/zRday5Qld9DyoM4/q/rUoy/CXh3jzOu3bHUVZeU+DEn8FInkPBFlu3+nW3Nw0mk6vCDiWg8CeJaxEwuHS3+z5RgY+YBR6V1Z1nxSOfoaPa4LASWxxdNp+VWTk7+4vzaou8v8PN+xo+KY2xsw6une2frhw05CTYOmQvsEhjhWjn0bmXPjpE1+kplmmkP3suftwTubK9Vq22qKmrBhpY4jvd5afdRA3wGjFAgcnTK2s4hY0/GPNIb0nErGMCRxWOOX64Z8RAC4oCXdklmEvcL8o0BfkNK4lUg9HTl+oPlQxdNo3Mg4Nv175e/1LDGzZen30MEjRUtmXSfiTVu1kK8W4txyV6BMKlbgk3lMwYCiusNy9fVfvvwMxv8Ynl6vxoByANLTWplvuj/nF9m2+PDtt1eiHPBr1oIfhCChQMBw6Aw0UulqTKZdfVvfG7VcfIqLG9bcldL/+pdWTLxLUy8Qq38heUIjh4XlzZxzQm19lLFlr8vdQ97rjZVOLf8nclzckbcD4wxXMidpX30sFd37Fv/GtwwhzhxGVAprjbg0gCAEeIgwCZyTV2Z1REEW8O4py0wsjeloKoMr6iCY6dP92H6Vw/oTyICIthibxjm/DfN9lVz8IqtqKYLUXfoKVMVQVVJOElGjrnnUt9T9wbgp8AyYKaGlqingHZU/uG2NTZSVqwHQTWkx9hxjkpWDaCg6Ckj5qebgBVbT3V3NNXMSiWSDdGV3hrtzla7J+duwPOToIg42ChPQOQjspnSlp1V+Gjdged7+8UN5CRAV7a5EdFNwCjEaBR27b3W890TE7g24NAP/mMDXRWrGoFPQI9ls/MWO2dWFAar/xcOIImbbpA3zgAAAABJRU5ErkJggg==);\n",
       "        }\n",
       "    </style>\n",
       "    <div>\n",
       "        <a href=\"https://bokeh.org\" target=\"_blank\" class=\"bk-notebook-logo\"></a>\n",
       "        <span id=\"bb6bf0d6-4eac-4926-abb6-b13c6eb28fed\">Loading BokehJS ...</span>\n",
       "    </div>\n"
      ]
     },
     "metadata": {},
     "output_type": "display_data"
    },
    {
     "data": {
      "application/javascript": [
       "(function(root) {\n",
       "  function now() {\n",
       "    return new Date();\n",
       "  }\n",
       "\n",
       "  const force = true;\n",
       "\n",
       "  if (typeof root._bokeh_onload_callbacks === \"undefined\" || force === true) {\n",
       "    root._bokeh_onload_callbacks = [];\n",
       "    root._bokeh_is_loading = undefined;\n",
       "  }\n",
       "\n",
       "const JS_MIME_TYPE = 'application/javascript';\n",
       "  const HTML_MIME_TYPE = 'text/html';\n",
       "  const EXEC_MIME_TYPE = 'application/vnd.bokehjs_exec.v0+json';\n",
       "  const CLASS_NAME = 'output_bokeh rendered_html';\n",
       "\n",
       "  /**\n",
       "   * Render data to the DOM node\n",
       "   */\n",
       "  function render(props, node) {\n",
       "    const script = document.createElement(\"script\");\n",
       "    node.appendChild(script);\n",
       "  }\n",
       "\n",
       "  /**\n",
       "   * Handle when an output is cleared or removed\n",
       "   */\n",
       "  function handleClearOutput(event, handle) {\n",
       "    const cell = handle.cell;\n",
       "\n",
       "    const id = cell.output_area._bokeh_element_id;\n",
       "    const server_id = cell.output_area._bokeh_server_id;\n",
       "    // Clean up Bokeh references\n",
       "    if (id != null && id in Bokeh.index) {\n",
       "      Bokeh.index[id].model.document.clear();\n",
       "      delete Bokeh.index[id];\n",
       "    }\n",
       "\n",
       "    if (server_id !== undefined) {\n",
       "      // Clean up Bokeh references\n",
       "      const cmd_clean = \"from bokeh.io.state import curstate; print(curstate().uuid_to_server['\" + server_id + \"'].get_sessions()[0].document.roots[0]._id)\";\n",
       "      cell.notebook.kernel.execute(cmd_clean, {\n",
       "        iopub: {\n",
       "          output: function(msg) {\n",
       "            const id = msg.content.text.trim();\n",
       "            if (id in Bokeh.index) {\n",
       "              Bokeh.index[id].model.document.clear();\n",
       "              delete Bokeh.index[id];\n",
       "            }\n",
       "          }\n",
       "        }\n",
       "      });\n",
       "      // Destroy server and session\n",
       "      const cmd_destroy = \"import bokeh.io.notebook as ion; ion.destroy_server('\" + server_id + \"')\";\n",
       "      cell.notebook.kernel.execute(cmd_destroy);\n",
       "    }\n",
       "  }\n",
       "\n",
       "  /**\n",
       "   * Handle when a new output is added\n",
       "   */\n",
       "  function handleAddOutput(event, handle) {\n",
       "    const output_area = handle.output_area;\n",
       "    const output = handle.output;\n",
       "\n",
       "    // limit handleAddOutput to display_data with EXEC_MIME_TYPE content only\n",
       "    if ((output.output_type != \"display_data\") || (!Object.prototype.hasOwnProperty.call(output.data, EXEC_MIME_TYPE))) {\n",
       "      return\n",
       "    }\n",
       "\n",
       "    const toinsert = output_area.element.find(\".\" + CLASS_NAME.split(' ')[0]);\n",
       "\n",
       "    if (output.metadata[EXEC_MIME_TYPE][\"id\"] !== undefined) {\n",
       "      toinsert[toinsert.length - 1].firstChild.textContent = output.data[JS_MIME_TYPE];\n",
       "      // store reference to embed id on output_area\n",
       "      output_area._bokeh_element_id = output.metadata[EXEC_MIME_TYPE][\"id\"];\n",
       "    }\n",
       "    if (output.metadata[EXEC_MIME_TYPE][\"server_id\"] !== undefined) {\n",
       "      const bk_div = document.createElement(\"div\");\n",
       "      bk_div.innerHTML = output.data[HTML_MIME_TYPE];\n",
       "      const script_attrs = bk_div.children[0].attributes;\n",
       "      for (let i = 0; i < script_attrs.length; i++) {\n",
       "        toinsert[toinsert.length - 1].firstChild.setAttribute(script_attrs[i].name, script_attrs[i].value);\n",
       "        toinsert[toinsert.length - 1].firstChild.textContent = bk_div.children[0].textContent\n",
       "      }\n",
       "      // store reference to server id on output_area\n",
       "      output_area._bokeh_server_id = output.metadata[EXEC_MIME_TYPE][\"server_id\"];\n",
       "    }\n",
       "  }\n",
       "\n",
       "  function register_renderer(events, OutputArea) {\n",
       "\n",
       "    function append_mime(data, metadata, element) {\n",
       "      // create a DOM node to render to\n",
       "      const toinsert = this.create_output_subarea(\n",
       "        metadata,\n",
       "        CLASS_NAME,\n",
       "        EXEC_MIME_TYPE\n",
       "      );\n",
       "      this.keyboard_manager.register_events(toinsert);\n",
       "      // Render to node\n",
       "      const props = {data: data, metadata: metadata[EXEC_MIME_TYPE]};\n",
       "      render(props, toinsert[toinsert.length - 1]);\n",
       "      element.append(toinsert);\n",
       "      return toinsert\n",
       "    }\n",
       "\n",
       "    /* Handle when an output is cleared or removed */\n",
       "    events.on('clear_output.CodeCell', handleClearOutput);\n",
       "    events.on('delete.Cell', handleClearOutput);\n",
       "\n",
       "    /* Handle when a new output is added */\n",
       "    events.on('output_added.OutputArea', handleAddOutput);\n",
       "\n",
       "    /**\n",
       "     * Register the mime type and append_mime function with output_area\n",
       "     */\n",
       "    OutputArea.prototype.register_mime_type(EXEC_MIME_TYPE, append_mime, {\n",
       "      /* Is output safe? */\n",
       "      safe: true,\n",
       "      /* Index of renderer in `output_area.display_order` */\n",
       "      index: 0\n",
       "    });\n",
       "  }\n",
       "\n",
       "  // register the mime type if in Jupyter Notebook environment and previously unregistered\n",
       "  if (root.Jupyter !== undefined) {\n",
       "    const events = require('base/js/events');\n",
       "    const OutputArea = require('notebook/js/outputarea').OutputArea;\n",
       "\n",
       "    if (OutputArea.prototype.mime_types().indexOf(EXEC_MIME_TYPE) == -1) {\n",
       "      register_renderer(events, OutputArea);\n",
       "    }\n",
       "  }\n",
       "  if (typeof (root._bokeh_timeout) === \"undefined\" || force === true) {\n",
       "    root._bokeh_timeout = Date.now() + 5000;\n",
       "    root._bokeh_failed_load = false;\n",
       "  }\n",
       "\n",
       "  const NB_LOAD_WARNING = {'data': {'text/html':\n",
       "     \"<div style='background-color: #fdd'>\\n\"+\n",
       "     \"<p>\\n\"+\n",
       "     \"BokehJS does not appear to have successfully loaded. If loading BokehJS from CDN, this \\n\"+\n",
       "     \"may be due to a slow or bad network connection. Possible fixes:\\n\"+\n",
       "     \"</p>\\n\"+\n",
       "     \"<ul>\\n\"+\n",
       "     \"<li>re-rerun `output_notebook()` to attempt to load from CDN again, or</li>\\n\"+\n",
       "     \"<li>use INLINE resources instead, as so:</li>\\n\"+\n",
       "     \"</ul>\\n\"+\n",
       "     \"<code>\\n\"+\n",
       "     \"from bokeh.resources import INLINE\\n\"+\n",
       "     \"output_notebook(resources=INLINE)\\n\"+\n",
       "     \"</code>\\n\"+\n",
       "     \"</div>\"}};\n",
       "\n",
       "  function display_loaded() {\n",
       "    const el = document.getElementById(\"bb6bf0d6-4eac-4926-abb6-b13c6eb28fed\");\n",
       "    if (el != null) {\n",
       "      el.textContent = \"BokehJS is loading...\";\n",
       "    }\n",
       "    if (root.Bokeh !== undefined) {\n",
       "      if (el != null) {\n",
       "        el.textContent = \"BokehJS \" + root.Bokeh.version + \" successfully loaded.\";\n",
       "      }\n",
       "    } else if (Date.now() < root._bokeh_timeout) {\n",
       "      setTimeout(display_loaded, 100)\n",
       "    }\n",
       "  }\n",
       "\n",
       "  function run_callbacks() {\n",
       "    try {\n",
       "      root._bokeh_onload_callbacks.forEach(function(callback) {\n",
       "        if (callback != null)\n",
       "          callback();\n",
       "      });\n",
       "    } finally {\n",
       "      delete root._bokeh_onload_callbacks\n",
       "    }\n",
       "    console.debug(\"Bokeh: all callbacks have finished\");\n",
       "  }\n",
       "\n",
       "  function load_libs(css_urls, js_urls, callback) {\n",
       "    if (css_urls == null) css_urls = [];\n",
       "    if (js_urls == null) js_urls = [];\n",
       "\n",
       "    root._bokeh_onload_callbacks.push(callback);\n",
       "    if (root._bokeh_is_loading > 0) {\n",
       "      console.debug(\"Bokeh: BokehJS is being loaded, scheduling callback at\", now());\n",
       "      return null;\n",
       "    }\n",
       "    if (js_urls == null || js_urls.length === 0) {\n",
       "      run_callbacks();\n",
       "      return null;\n",
       "    }\n",
       "    console.debug(\"Bokeh: BokehJS not loaded, scheduling load and callback at\", now());\n",
       "    root._bokeh_is_loading = css_urls.length + js_urls.length;\n",
       "\n",
       "    function on_load() {\n",
       "      root._bokeh_is_loading--;\n",
       "      if (root._bokeh_is_loading === 0) {\n",
       "        console.debug(\"Bokeh: all BokehJS libraries/stylesheets loaded\");\n",
       "        run_callbacks()\n",
       "      }\n",
       "    }\n",
       "\n",
       "    function on_error(url) {\n",
       "      console.error(\"failed to load \" + url);\n",
       "    }\n",
       "\n",
       "    for (let i = 0; i < css_urls.length; i++) {\n",
       "      const url = css_urls[i];\n",
       "      const element = document.createElement(\"link\");\n",
       "      element.onload = on_load;\n",
       "      element.onerror = on_error.bind(null, url);\n",
       "      element.rel = \"stylesheet\";\n",
       "      element.type = \"text/css\";\n",
       "      element.href = url;\n",
       "      console.debug(\"Bokeh: injecting link tag for BokehJS stylesheet: \", url);\n",
       "      document.body.appendChild(element);\n",
       "    }\n",
       "\n",
       "    for (let i = 0; i < js_urls.length; i++) {\n",
       "      const url = js_urls[i];\n",
       "      const element = document.createElement('script');\n",
       "      element.onload = on_load;\n",
       "      element.onerror = on_error.bind(null, url);\n",
       "      element.async = false;\n",
       "      element.src = url;\n",
       "      console.debug(\"Bokeh: injecting script tag for BokehJS library: \", url);\n",
       "      document.head.appendChild(element);\n",
       "    }\n",
       "  };\n",
       "\n",
       "  function inject_raw_css(css) {\n",
       "    const element = document.createElement(\"style\");\n",
       "    element.appendChild(document.createTextNode(css));\n",
       "    document.body.appendChild(element);\n",
       "  }\n",
       "\n",
       "  const js_urls = [\"https://cdn.bokeh.org/bokeh/release/bokeh-3.2.1.min.js\", \"https://cdn.bokeh.org/bokeh/release/bokeh-gl-3.2.1.min.js\", \"https://cdn.bokeh.org/bokeh/release/bokeh-widgets-3.2.1.min.js\", \"https://cdn.bokeh.org/bokeh/release/bokeh-tables-3.2.1.min.js\", \"https://cdn.bokeh.org/bokeh/release/bokeh-mathjax-3.2.1.min.js\"];\n",
       "  const css_urls = [];\n",
       "\n",
       "  const inline_js = [    function(Bokeh) {\n",
       "      Bokeh.set_log_level(\"info\");\n",
       "    },\n",
       "function(Bokeh) {\n",
       "    }\n",
       "  ];\n",
       "\n",
       "  function run_inline_js() {\n",
       "    if (root.Bokeh !== undefined || force === true) {\n",
       "          for (let i = 0; i < inline_js.length; i++) {\n",
       "      inline_js[i].call(root, root.Bokeh);\n",
       "    }\n",
       "if (force === true) {\n",
       "        display_loaded();\n",
       "      }} else if (Date.now() < root._bokeh_timeout) {\n",
       "      setTimeout(run_inline_js, 100);\n",
       "    } else if (!root._bokeh_failed_load) {\n",
       "      console.log(\"Bokeh: BokehJS failed to load within specified timeout.\");\n",
       "      root._bokeh_failed_load = true;\n",
       "    } else if (force !== true) {\n",
       "      const cell = $(document.getElementById(\"bb6bf0d6-4eac-4926-abb6-b13c6eb28fed\")).parents('.cell').data().cell;\n",
       "      cell.output_area.append_execute_result(NB_LOAD_WARNING)\n",
       "    }\n",
       "  }\n",
       "\n",
       "  if (root._bokeh_is_loading === 0) {\n",
       "    console.debug(\"Bokeh: BokehJS loaded, going straight to plotting\");\n",
       "    run_inline_js();\n",
       "  } else {\n",
       "    load_libs(css_urls, js_urls, function() {\n",
       "      console.debug(\"Bokeh: BokehJS plotting callback run at\", now());\n",
       "      run_inline_js();\n",
       "    });\n",
       "  }\n",
       "}(window));"
      ],
      "application/vnd.bokehjs_load.v0+json": "(function(root) {\n  function now() {\n    return new Date();\n  }\n\n  const force = true;\n\n  if (typeof root._bokeh_onload_callbacks === \"undefined\" || force === true) {\n    root._bokeh_onload_callbacks = [];\n    root._bokeh_is_loading = undefined;\n  }\n\n\n  if (typeof (root._bokeh_timeout) === \"undefined\" || force === true) {\n    root._bokeh_timeout = Date.now() + 5000;\n    root._bokeh_failed_load = false;\n  }\n\n  const NB_LOAD_WARNING = {'data': {'text/html':\n     \"<div style='background-color: #fdd'>\\n\"+\n     \"<p>\\n\"+\n     \"BokehJS does not appear to have successfully loaded. If loading BokehJS from CDN, this \\n\"+\n     \"may be due to a slow or bad network connection. Possible fixes:\\n\"+\n     \"</p>\\n\"+\n     \"<ul>\\n\"+\n     \"<li>re-rerun `output_notebook()` to attempt to load from CDN again, or</li>\\n\"+\n     \"<li>use INLINE resources instead, as so:</li>\\n\"+\n     \"</ul>\\n\"+\n     \"<code>\\n\"+\n     \"from bokeh.resources import INLINE\\n\"+\n     \"output_notebook(resources=INLINE)\\n\"+\n     \"</code>\\n\"+\n     \"</div>\"}};\n\n  function display_loaded() {\n    const el = document.getElementById(\"bb6bf0d6-4eac-4926-abb6-b13c6eb28fed\");\n    if (el != null) {\n      el.textContent = \"BokehJS is loading...\";\n    }\n    if (root.Bokeh !== undefined) {\n      if (el != null) {\n        el.textContent = \"BokehJS \" + root.Bokeh.version + \" successfully loaded.\";\n      }\n    } else if (Date.now() < root._bokeh_timeout) {\n      setTimeout(display_loaded, 100)\n    }\n  }\n\n  function run_callbacks() {\n    try {\n      root._bokeh_onload_callbacks.forEach(function(callback) {\n        if (callback != null)\n          callback();\n      });\n    } finally {\n      delete root._bokeh_onload_callbacks\n    }\n    console.debug(\"Bokeh: all callbacks have finished\");\n  }\n\n  function load_libs(css_urls, js_urls, callback) {\n    if (css_urls == null) css_urls = [];\n    if (js_urls == null) js_urls = [];\n\n    root._bokeh_onload_callbacks.push(callback);\n    if (root._bokeh_is_loading > 0) {\n      console.debug(\"Bokeh: BokehJS is being loaded, scheduling callback at\", now());\n      return null;\n    }\n    if (js_urls == null || js_urls.length === 0) {\n      run_callbacks();\n      return null;\n    }\n    console.debug(\"Bokeh: BokehJS not loaded, scheduling load and callback at\", now());\n    root._bokeh_is_loading = css_urls.length + js_urls.length;\n\n    function on_load() {\n      root._bokeh_is_loading--;\n      if (root._bokeh_is_loading === 0) {\n        console.debug(\"Bokeh: all BokehJS libraries/stylesheets loaded\");\n        run_callbacks()\n      }\n    }\n\n    function on_error(url) {\n      console.error(\"failed to load \" + url);\n    }\n\n    for (let i = 0; i < css_urls.length; i++) {\n      const url = css_urls[i];\n      const element = document.createElement(\"link\");\n      element.onload = on_load;\n      element.onerror = on_error.bind(null, url);\n      element.rel = \"stylesheet\";\n      element.type = \"text/css\";\n      element.href = url;\n      console.debug(\"Bokeh: injecting link tag for BokehJS stylesheet: \", url);\n      document.body.appendChild(element);\n    }\n\n    for (let i = 0; i < js_urls.length; i++) {\n      const url = js_urls[i];\n      const element = document.createElement('script');\n      element.onload = on_load;\n      element.onerror = on_error.bind(null, url);\n      element.async = false;\n      element.src = url;\n      console.debug(\"Bokeh: injecting script tag for BokehJS library: \", url);\n      document.head.appendChild(element);\n    }\n  };\n\n  function inject_raw_css(css) {\n    const element = document.createElement(\"style\");\n    element.appendChild(document.createTextNode(css));\n    document.body.appendChild(element);\n  }\n\n  const js_urls = [\"https://cdn.bokeh.org/bokeh/release/bokeh-3.2.1.min.js\", \"https://cdn.bokeh.org/bokeh/release/bokeh-gl-3.2.1.min.js\", \"https://cdn.bokeh.org/bokeh/release/bokeh-widgets-3.2.1.min.js\", \"https://cdn.bokeh.org/bokeh/release/bokeh-tables-3.2.1.min.js\", \"https://cdn.bokeh.org/bokeh/release/bokeh-mathjax-3.2.1.min.js\"];\n  const css_urls = [];\n\n  const inline_js = [    function(Bokeh) {\n      Bokeh.set_log_level(\"info\");\n    },\nfunction(Bokeh) {\n    }\n  ];\n\n  function run_inline_js() {\n    if (root.Bokeh !== undefined || force === true) {\n          for (let i = 0; i < inline_js.length; i++) {\n      inline_js[i].call(root, root.Bokeh);\n    }\nif (force === true) {\n        display_loaded();\n      }} else if (Date.now() < root._bokeh_timeout) {\n      setTimeout(run_inline_js, 100);\n    } else if (!root._bokeh_failed_load) {\n      console.log(\"Bokeh: BokehJS failed to load within specified timeout.\");\n      root._bokeh_failed_load = true;\n    } else if (force !== true) {\n      const cell = $(document.getElementById(\"bb6bf0d6-4eac-4926-abb6-b13c6eb28fed\")).parents('.cell').data().cell;\n      cell.output_area.append_execute_result(NB_LOAD_WARNING)\n    }\n  }\n\n  if (root._bokeh_is_loading === 0) {\n    console.debug(\"Bokeh: BokehJS loaded, going straight to plotting\");\n    run_inline_js();\n  } else {\n    load_libs(css_urls, js_urls, function() {\n      console.debug(\"Bokeh: BokehJS plotting callback run at\", now());\n      run_inline_js();\n    });\n  }\n}(window));"
     },
     "metadata": {},
     "output_type": "display_data"
    }
   ],
   "source": [
    "import numpy as np\n",
    "import pandas as pd\n",
    "\n",
    "import iqplot\n",
    "\n",
    "import bokeh.io\n",
    "import bokeh.plotting\n",
    "\n",
    "bokeh.io.output_notebook()"
   ]
  },
  {
   "cell_type": "code",
   "execution_count": 2,
   "id": "66af8d8d-1aaa-4c42-91b9-db20b0e13b42",
   "metadata": {},
   "outputs": [
    {
     "data": {
      "text/html": [
       "<div>\n",
       "<style scoped>\n",
       "    .dataframe tbody tr th:only-of-type {\n",
       "        vertical-align: middle;\n",
       "    }\n",
       "\n",
       "    .dataframe tbody tr th {\n",
       "        vertical-align: top;\n",
       "    }\n",
       "\n",
       "    .dataframe thead th {\n",
       "        text-align: right;\n",
       "    }\n",
       "</style>\n",
       "<table border=\"1\" class=\"dataframe\">\n",
       "  <thead>\n",
       "    <tr style=\"text-align: right;\">\n",
       "      <th></th>\n",
       "      <th>band</th>\n",
       "      <th>beak depth (mm)</th>\n",
       "      <th>beak length (mm)</th>\n",
       "      <th>species</th>\n",
       "      <th>year</th>\n",
       "    </tr>\n",
       "  </thead>\n",
       "  <tbody>\n",
       "    <tr>\n",
       "      <th>0</th>\n",
       "      <td>20123</td>\n",
       "      <td>8.05</td>\n",
       "      <td>9.25</td>\n",
       "      <td>fortis</td>\n",
       "      <td>1973</td>\n",
       "    </tr>\n",
       "    <tr>\n",
       "      <th>1</th>\n",
       "      <td>20126</td>\n",
       "      <td>10.45</td>\n",
       "      <td>11.35</td>\n",
       "      <td>fortis</td>\n",
       "      <td>1973</td>\n",
       "    </tr>\n",
       "    <tr>\n",
       "      <th>2</th>\n",
       "      <td>20128</td>\n",
       "      <td>9.55</td>\n",
       "      <td>10.15</td>\n",
       "      <td>fortis</td>\n",
       "      <td>1973</td>\n",
       "    </tr>\n",
       "    <tr>\n",
       "      <th>3</th>\n",
       "      <td>20129</td>\n",
       "      <td>8.75</td>\n",
       "      <td>9.95</td>\n",
       "      <td>fortis</td>\n",
       "      <td>1973</td>\n",
       "    </tr>\n",
       "    <tr>\n",
       "      <th>4</th>\n",
       "      <td>20133</td>\n",
       "      <td>10.15</td>\n",
       "      <td>11.55</td>\n",
       "      <td>fortis</td>\n",
       "      <td>1973</td>\n",
       "    </tr>\n",
       "  </tbody>\n",
       "</table>\n",
       "</div>"
      ],
      "text/plain": [
       "    band  beak depth (mm)  beak length (mm) species  year\n",
       "0  20123             8.05              9.25  fortis  1973\n",
       "1  20126            10.45             11.35  fortis  1973\n",
       "2  20128             9.55             10.15  fortis  1973\n",
       "3  20129             8.75              9.95  fortis  1973\n",
       "4  20133            10.15             11.55  fortis  1973"
      ]
     },
     "execution_count": 2,
     "metadata": {},
     "output_type": "execute_result"
    }
   ],
   "source": [
    "df = pd.read_csv('data/grant_complete.csv', comment='#')\n",
    "\n",
    "df.head()"
   ]
  },
  {
   "cell_type": "code",
   "execution_count": null,
   "id": "834676c9-30c1-4c72-943d-13de1dff5260",
   "metadata": {},
   "outputs": [],
   "source": []
  },
  {
   "cell_type": "code",
   "execution_count": 33,
   "id": "4497c878-d2e1-4b9f-875d-eac10148821b",
   "metadata": {},
   "outputs": [
    {
     "data": {
      "text/html": [
       "\n",
       "  <div id=\"f03f1c57-446d-403d-944e-57d03ed03b91\" data-root-id=\"p1315\" style=\"display: contents;\"></div>\n"
      ]
     },
     "metadata": {},
     "output_type": "display_data"
    },
    {
     "data": {
      "application/javascript": [
       "(function(root) {\n",
       "  function embed_document(root) {\n",
       "  const docs_json = {\"3ccee498-96fc-4ade-85d3-b63e18e2d496\":{\"version\":\"3.2.1\",\"title\":\"Bokeh Application\",\"roots\":[{\"type\":\"object\",\"name\":\"Figure\",\"id\":\"p1315\",\"attributes\":{\"x_range\":{\"type\":\"object\",\"name\":\"DataRange1d\",\"id\":\"p1316\"},\"y_range\":{\"type\":\"object\",\"name\":\"DataRange1d\",\"id\":\"p1317\"},\"x_scale\":{\"type\":\"object\",\"name\":\"LinearScale\",\"id\":\"p1324\"},\"y_scale\":{\"type\":\"object\",\"name\":\"LinearScale\",\"id\":\"p1325\"},\"title\":{\"type\":\"object\",\"name\":\"Title\",\"id\":\"p1322\"},\"renderers\":[{\"type\":\"object\",\"name\":\"GlyphRenderer\",\"id\":\"p1352\",\"attributes\":{\"data_source\":{\"type\":\"object\",\"name\":\"ColumnDataSource\",\"id\":\"p1343\",\"attributes\":{\"selected\":{\"type\":\"object\",\"name\":\"Selection\",\"id\":\"p1344\",\"attributes\":{\"indices\":[],\"line_indices\":[]}},\"selection_policy\":{\"type\":\"object\",\"name\":\"UnionRenderers\",\"id\":\"p1345\"},\"data\":{\"type\":\"map\",\"entries\":[[\"index\",{\"type\":\"ndarray\",\"array\":{\"type\":\"bytes\",\"data\":\"kQEAAJIBAACTAQAAlAEAAJUBAACWAQAAlwEAAJgBAACZAQAAmgEAAJsBAACcAQAAnQEAAJ4BAACfAQAAoAEAAKEBAACiAQAAowEAAKQBAAClAQAApgEAAKcBAACoAQAAqQEAAKoBAACrAQAArAEAAK0BAACuAQAArwEAALABAACxAQAAsgEAALMBAAC0AQAAtQEAALYBAAC3AQAAuAEAALkBAAC6AQAAuwEAALwBAAC9AQAAvgEAAL8BAADAAQAAwQEAAMIBAADDAQAAxAEAAMUBAADGAQAAxwEAAMgBAADJAQAAygEAAMsBAADMAQAAzQEAAM4BAADPAQAA0AEAANEBAADSAQAA0wEAANQBAADVAQAA1gEAANcBAADYAQAA2QEAANoBAADbAQAA3AEAAN0BAADeAQAA3wEAAOABAADhAQAA4gEAAOMBAADkAQAA5QEAAOYBAADnAQAA\"},\"shape\":[87],\"dtype\":\"int32\",\"order\":\"little\"}],[\"year\",{\"type\":\"ndarray\",\"array\":[\"1975\",\"1975\",\"1975\",\"1975\",\"1975\",\"1975\",\"1975\",\"1975\",\"1975\",\"1975\",\"1975\",\"1975\",\"1975\",\"1975\",\"1975\",\"1975\",\"1975\",\"1975\",\"1975\",\"1975\",\"1975\",\"1975\",\"1975\",\"1975\",\"1975\",\"1975\",\"1975\",\"1975\",\"1975\",\"1975\",\"1975\",\"1975\",\"1975\",\"1975\",\"1975\",\"1975\",\"1975\",\"1975\",\"1975\",\"1975\",\"1975\",\"1975\",\"1975\",\"1975\",\"1975\",\"1975\",\"1975\",\"1975\",\"1975\",\"1975\",\"1975\",\"1975\",\"1975\",\"1975\",\"1975\",\"1975\",\"1975\",\"1975\",\"1975\",\"1975\",\"1975\",\"1975\",\"1975\",\"1975\",\"1975\",\"1975\",\"1975\",\"1975\",\"1975\",\"1975\",\"1975\",\"1975\",\"1975\",\"1975\",\"1975\",\"1975\",\"1975\",\"1975\",\"1975\",\"1975\",\"1975\",\"1975\",\"1975\",\"1975\",\"1975\",\"1975\",\"1975\"],\"shape\":[87],\"dtype\":\"object\",\"order\":\"little\"}],[\"beak depth (mm)\",{\"type\":\"ndarray\",\"array\":{\"type\":\"bytes\",\"data\":\"zczMzMzMIECamZmZmZkhQM3MzMzMzCBAAAAAAAAAIECamZmZmZkfQM3MzMzMzCFAMzMzMzMzIUAAAAAAAAAhQM3MzMzMzCFAMzMzMzMzIkAzMzMzMzMhQJqZmZmZmSNAZmZmZmZmIEAAAAAAAAAiQGZmZmZmZiNAMzMzMzMzIUBmZmZmZmYgQAAAAAAAACJAzczMzMzMIEAzMzMzMzMhQM3MzMzMzCFAMzMzMzMzIkCamZmZmZkgQGZmZmZmZiFAMzMzMzMzI0AAAAAAAAAhQDMzMzMzMyJAAAAAAAAAIkBmZmZmZmYiQM3MzMzMzCNAMzMzMzMzIUBmZmZmZmYiQM3MzMzMzCBAzczMzMzMIUAAAAAAAAAhQM3MzMzMzCRAMzMzMzMzI0AzMzMzMzMiQJqZmZmZmSJAmpmZmZmZIkCamZmZmZkhQJqZmZmZmSBAmpmZmZmZIUAzMzMzMzMiQDMzMzMzMyRAzczMzMzMIUBmZmZmZmYiQAAAAAAAACFAZmZmZmZmJEAzMzMzMzMkQGZmZmZmZiJAZmZmZmZmI0AzMzMzMzMiQAAAAAAAACFAZmZmZmZmIEAAAAAAAAAiQJqZmZmZmSJAAAAAAAAAIEAzMzMzMzMiQDMzMzMzMyBAmpmZmZmZIEBmZmZmZmYhQJqZmZmZmSFAMzMzMzMzIUBmZmZmZmYhQAAAAAAAACBAmpmZmZmZIUAAAAAAAAAiQDMzMzMzMyJAexSuR+F6I0AzMzMzMzMiQJqZmZmZmSNAzczMzMzMJECamZmZmZkgQOF6FK5H4SJAFK5H4XoUIkAAAAAAAAAiQJqZmZmZGSJAzczMzMxMI0BmZmZmZuYiQM3MzMzMTCFAZmZmZmbmIkBmZmZmZuYiQJqZmZmZGSJAAAAAAACAIUBmZmZmZuYiQDMzMzMzsyBA\"},\"shape\":[87],\"dtype\":\"float64\",\"order\":\"little\"}],[\"__ECDF\",{\"type\":\"ndarray\",\"array\":{\"type\":\"bytes\",\"data\":\"L5BJ8QKZxD8VL5BJ8QLZP3waYbmnEcY/yKR4gUyKlz/IpHiBTIqHP9QIyz2NsNw/cLYO/Wbr0D9huacRlnvKP/rN1qHfbN0/dug3W4d+4z+WexphuafRP/rN1qHfbO0/lnsaYbmnsT9K8QKZFC/gP0EmxQtkUuw/vEAmxQtk0j8vkEnxApm0P93TCMs9jeA/yKR4gUyKxz/jBTIpXiDTPyCT4gUyKd4/Ccs9jbDc4z9huacRlnu6P3waYbmnEdY/h36zdeg36z+uQ7/ZOvTLP5ytQ7/ZOuQ/cLYO/Wbr4D+i32wd+s3mPyCT4gUyKe4/Ccs9jbDc0z81wnJPIyznPxUvkEnxAsk/R1juaYTl3j/6zdah32zNP20d+s3Woe8/GmG5pxGW6z8vkEnxApnkP+5phOWeRug/gUyKF8ik6D879JutQ7/ZP/rN1qHfbL0/YbmnEZZ72j/Cck8jLPfkP7N16Ddbh+4/bR36zdah3z/IpHiBTIrnP0dY7mmE5c4/2jr0m61D7z9HWO5phOXuP1uHfrN16Oc/1AjLPY2w7D9VVVVVVVXlP0rxApkUL9A/yKR4gUyKtz8DmRQvkEnhPxUvkEnxAuk/lnsaYbmnoT/oN1uHfrPlP/rN1qHfbK0/SvECmRQvwD+i32wd+s3WP4d+s3XoN9s/L5BJ8QKZ1D/IpHiBTIrXP8ikeIFMiqc/rkO/2Tr02z+WexphuafhP3waYbmnEeY/Z+vQb7YO7T8P/Wbr0G/mP42w3NMIy+0/AAAAAAAA8D+WexphuafBP6gRlnsaYek/vEAmxQtk4j8pXiCT4gXiP08jLPc0wuI/rkO/2Tr06z879JutQ7/pP1VVVVVVVdU/ztah32wd6j9huacRlnvqP+MFMileIOM/7mmE5Z5G2D/0m61Dv9nqP+MFMileIMM/\"},\"shape\":[87],\"dtype\":\"float64\",\"order\":\"little\"}],[\"__label\",{\"type\":\"ndarray\",\"array\":[\"1975\",\"1975\",\"1975\",\"1975\",\"1975\",\"1975\",\"1975\",\"1975\",\"1975\",\"1975\",\"1975\",\"1975\",\"1975\",\"1975\",\"1975\",\"1975\",\"1975\",\"1975\",\"1975\",\"1975\",\"1975\",\"1975\",\"1975\",\"1975\",\"1975\",\"1975\",\"1975\",\"1975\",\"1975\",\"1975\",\"1975\",\"1975\",\"1975\",\"1975\",\"1975\",\"1975\",\"1975\",\"1975\",\"1975\",\"1975\",\"1975\",\"1975\",\"1975\",\"1975\",\"1975\",\"1975\",\"1975\",\"1975\",\"1975\",\"1975\",\"1975\",\"1975\",\"1975\",\"1975\",\"1975\",\"1975\",\"1975\",\"1975\",\"1975\",\"1975\",\"1975\",\"1975\",\"1975\",\"1975\",\"1975\",\"1975\",\"1975\",\"1975\",\"1975\",\"1975\",\"1975\",\"1975\",\"1975\",\"1975\",\"1975\",\"1975\",\"1975\",\"1975\",\"1975\",\"1975\",\"1975\",\"1975\",\"1975\",\"1975\",\"1975\",\"1975\",\"1975\"],\"shape\":[87],\"dtype\":\"object\",\"order\":\"little\"}]]}}},\"view\":{\"type\":\"object\",\"name\":\"CDSView\",\"id\":\"p1353\",\"attributes\":{\"filter\":{\"type\":\"object\",\"name\":\"AllIndices\",\"id\":\"p1354\"}}},\"glyph\":{\"type\":\"object\",\"name\":\"Circle\",\"id\":\"p1349\",\"attributes\":{\"x\":{\"type\":\"field\",\"field\":\"beak depth (mm)\"},\"y\":{\"type\":\"field\",\"field\":\"__ECDF\"},\"line_color\":{\"type\":\"value\",\"value\":\"#1f77b3\"},\"fill_color\":{\"type\":\"value\",\"value\":\"#1f77b3\"}}},\"nonselection_glyph\":{\"type\":\"object\",\"name\":\"Circle\",\"id\":\"p1350\",\"attributes\":{\"x\":{\"type\":\"field\",\"field\":\"beak depth (mm)\"},\"y\":{\"type\":\"field\",\"field\":\"__ECDF\"},\"line_color\":{\"type\":\"value\",\"value\":\"#1f77b3\"},\"line_alpha\":{\"type\":\"value\",\"value\":0.1},\"fill_color\":{\"type\":\"value\",\"value\":\"#1f77b3\"},\"fill_alpha\":{\"type\":\"value\",\"value\":0.1},\"hatch_alpha\":{\"type\":\"value\",\"value\":0.1}}},\"muted_glyph\":{\"type\":\"object\",\"name\":\"Circle\",\"id\":\"p1351\",\"attributes\":{\"x\":{\"type\":\"field\",\"field\":\"beak depth (mm)\"},\"y\":{\"type\":\"field\",\"field\":\"__ECDF\"},\"line_color\":{\"type\":\"value\",\"value\":\"#1f77b3\"},\"line_alpha\":{\"type\":\"value\",\"value\":0.2},\"fill_color\":{\"type\":\"value\",\"value\":\"#1f77b3\"},\"fill_alpha\":{\"type\":\"value\",\"value\":0.2},\"hatch_alpha\":{\"type\":\"value\",\"value\":0.2}}}}},{\"type\":\"object\",\"name\":\"GlyphRenderer\",\"id\":\"p1364\",\"attributes\":{\"data_source\":{\"type\":\"object\",\"name\":\"ColumnDataSource\",\"id\":\"p1355\",\"attributes\":{\"selected\":{\"type\":\"object\",\"name\":\"Selection\",\"id\":\"p1356\",\"attributes\":{\"indices\":[],\"line_indices\":[]}},\"selection_policy\":{\"type\":\"object\",\"name\":\"UnionRenderers\",\"id\":\"p1357\"},\"data\":{\"type\":\"map\",\"entries\":[[\"index\",{\"type\":\"ndarray\",\"array\":{\"type\":\"bytes\",\"data\":\"fQgAAH4IAAB/CAAAgAgAAIEIAACCCAAAgwgAAIQIAACFCAAAhggAAIcIAACICAAAiQgAAIoIAACLCAAAjAgAAI0IAACOCAAAjwgAAJAIAACRCAAAkggAAJMIAACUCAAAlQgAAJYIAACXCAAAmAgAAJkIAACaCAAAmwgAAJwIAACdCAAAnggAAJ8IAACgCAAAoQgAAKIIAACjCAAApAgAAKUIAACmCAAApwgAAKgIAACpCAAAqggAAKsIAACsCAAArQgAAK4IAACvCAAAsAgAALEIAACyCAAAswgAALQIAAC1CAAAtggAALcIAAC4CAAAuQgAALoIAAC7CAAAvAgAAL0IAAC+CAAAvwgAAMAIAADBCAAAwggAAMMIAADECAAAxQgAAMYIAADHCAAAyAgAAMkIAADKCAAAywgAAMwIAADNCAAAzggAAM8IAADQCAAA0QgAANIIAADTCAAA1AgAANUIAADWCAAA1wgAANgIAADZCAAA2ggAANsIAADcCAAA3QgAAN4IAADfCAAA4AgAAOEIAADiCAAA4wgAAOQIAADlCAAA5ggAAOcIAADoCAAA6QgAAOoIAADrCAAA7AgAAO0IAADuCAAA7wgAAPAIAADxCAAA8ggAAPMIAAD0CAAA9QgAAPYIAAD3CAAA+AgAAPkIAAD6CAAA\"},\"shape\":[126],\"dtype\":\"int32\",\"order\":\"little\"}],[\"year\",{\"type\":\"ndarray\",\"array\":[\"2012\",\"2012\",\"2012\",\"2012\",\"2012\",\"2012\",\"2012\",\"2012\",\"2012\",\"2012\",\"2012\",\"2012\",\"2012\",\"2012\",\"2012\",\"2012\",\"2012\",\"2012\",\"2012\",\"2012\",\"2012\",\"2012\",\"2012\",\"2012\",\"2012\",\"2012\",\"2012\",\"2012\",\"2012\",\"2012\",\"2012\",\"2012\",\"2012\",\"2012\",\"2012\",\"2012\",\"2012\",\"2012\",\"2012\",\"2012\",\"2012\",\"2012\",\"2012\",\"2012\",\"2012\",\"2012\",\"2012\",\"2012\",\"2012\",\"2012\",\"2012\",\"2012\",\"2012\",\"2012\",\"2012\",\"2012\",\"2012\",\"2012\",\"2012\",\"2012\",\"2012\",\"2012\",\"2012\",\"2012\",\"2012\",\"2012\",\"2012\",\"2012\",\"2012\",\"2012\",\"2012\",\"2012\",\"2012\",\"2012\",\"2012\",\"2012\",\"2012\",\"2012\",\"2012\",\"2012\",\"2012\",\"2012\",\"2012\",\"2012\",\"2012\",\"2012\",\"2012\",\"2012\",\"2012\",\"2012\",\"2012\",\"2012\",\"2012\",\"2012\",\"2012\",\"2012\",\"2012\",\"2012\",\"2012\",\"2012\",\"2012\",\"2012\",\"2012\",\"2012\",\"2012\",\"2012\",\"2012\",\"2012\",\"2012\",\"2012\",\"2012\",\"2012\",\"2012\",\"2012\",\"2012\",\"2012\",\"2012\",\"2012\",\"2012\",\"2012\",\"2012\",\"2012\",\"2012\",\"2012\",\"2012\",\"2012\"],\"shape\":[126],\"dtype\":\"object\",\"order\":\"little\"}],[\"beak depth (mm)\",{\"type\":\"ndarray\",\"array\":{\"type\":\"bytes\",\"data\":\"zczMzMzMIkAAAAAAAAAjQAAAAAAAACZAZmZmZmZmIUDNzMzMzMwgQDMzMzMzMyJAZmZmZmZmIUBmZmZmZmYkQDMzMzMzMyNAMzMzMzOzIUCamZmZmZkhQAAAAAAAACNAZmZmZmZmIkAAAAAAAAAiQJqZmZmZmSNAmpmZmZmZIkAAAAAAAAAiQGZmZmZmZiRAzczMzMzMHkAAAAAAAAAiQAAAAAAAACNAzczMzMzMIkAAAAAAAAAgQM3MzMzMzCFAzczMzMzMIkAAAAAAAAAjQAAAAAAAACBAAAAAAAAAJEBmZmZmZuYhQGZmZmZmZiBAmpmZmZmZIUBmZmZmZmYiQM3MzMzMzCJAAAAAAAAAI0AzMzMzMzMgQAAAAAAAACNAzczMzMzMIECamZmZmZkiQJqZmZmZmSJAMzMzMzMzI0BmZmZmZmYiQAAAAAAAACRAzczMzMzMIUAAAAAAAAAlQM3MzMzMzCFAMzMzMzMzIUCamZmZmZkhQM3MzMzMTCJAAAAAAAAAI0AzMzMzMzMiQGZmZmZmZiRAzczMzMzMIEAAAAAAAAAkQGZmZmZmZiRAmpmZmZmZIkCamZmZmZklQJqZmZmZmSBAMzMzMzMzH0CamZmZmZkjQJqZmZmZmR9AzczMzMzMIUDNzMzMzMweQM3MzMzMzCFAzczMzMzMIkDNzMzMzMwiQAAAAAAAACFAAAAAAAAAIUAzMzMzMzMjQGZmZmZmZiRAmpmZmZmZIUAAAAAAAAAjQJqZmZmZmSJAAAAAAAAAIkBmZmZmZmYiQGZmZmZmZiFAAAAAAAAAIkAzMzMzMzMiQGZmZmZmZiFAzczMzMzMIkCamZmZmZkjQDMzMzMzMyFAMzMzMzMzJUAAAAAAAAAiQAAAAAAAACNAMzMzMzMzIECamZmZmZkiQDMzMzMzMyNAAAAAAAAAIUBmZmZmZmYgQAAAAAAAACBAAAAAAAAAI0BmZmZmZmYjQM3MzMzMzCNAMzMzMzMzIkAAAAAAAAAjQJqZmZmZmSNAzczMzMzMIECamZmZmZkgQDMzMzMzMyNAzczMzMzMIkAAAAAAAAAkQM3MzMzMzCFAMzMzMzMzIkCamZmZmZkjQJqZmZmZmSJAzczMzMzMI0DNzMzMzMwhQAAAAAAAACFAMzMzMzMzJUCamZmZmZkiQM3MzMzMzCFAzczMzMzMIUBmZmZmZmYjQJqZmZmZmSNAAAAAAAAAJUDNzMzMzMwgQAAAAAAAACRAAAAAAAAAIkBmZmZmZmYhQJqZmZmZmSFAzczMzMzMIECamZmZmZkiQJqZmZmZmSNAzczMzMzMIUCamZmZmZkjQDMzMzMzMyJA\"},\"shape\":[126],\"dtype\":\"float64\",\"order\":\"little\"}],[\"__ECDF\",{\"type\":\"ndarray\",\"array\":{\"type\":\"bytes\",\"data\":\"wzAMwzAM4z9FURRFURTlPwAAAAAAAPA/mqZpmqZpyj8cx3Ecx3G8P/y+7/u+79s/27Zt27Ztyz9d13Vd13XtP/h93/d93+c/kiRJkiRJ0j/f933f933PP1VVVVVVVeU/3/d93/d93z8YhmEYhmHYP2qapmmapuk/MQzDMAzD4D85juM4juPYP27btm3btu0/EARBEARBgD9ZlmVZlmXZP2ZZlmVZluU/0zRN0zRN4z8URVEURVGkP7Msy7Isy9I/5DiO4ziO4z92Xdd1XdflPxiGYRiGYag/DMMwDMMw7D/4fd/3fd/XPxRFURRFUbQ/EARBEARB0D8AAAAAAADgP/Q8z/M8z+M/hmEYhmEY5j8QBEEQBEGwP5ZlWZZlWeY/nud5nud5vj9BEARBEAThP1EURVEUReE/CIIgCIIg6D8QBEEQBEHgPxzHcRzHcew/0zRN0zRN0z+v67qu67ruP/Q8z/M8z9M/GIZhGIZhyD8xDMMwDMPQP7/v+77v+94/p2mapmma5j8cx3Ecx3HcP37f933f9+0/EARBEARBwD8ty7Isy7LsP47jOI7jOO4/YhiGYRiG4T/w+77v+77vPxiGYRiGYbg/GIZhGIZhmD96nud5nufpPxAEQRAEQaA/FEVRFEVR1D8QBEEQBEGQPzVN0zRN09Q/BEEQBEEQ5D8URVEURVHkPxRFURRFUcQ/VVVVVVVVxT8YhmEYhmHoP57neZ7nee4/URRFURRF0T+3bdu2bdvmP3Icx3Ecx+E/ep7neZ7n2T8hCIIgCILgPxzHcRzHccw/mqZpmqZp2j89z/M8z/PcP13XdV3Xdc0/JUmSJEmS5D+KoiiKoijqP1mWZVmWZck/z/M8z/M87z+7ruu6ruvaP8dxHMdxHOc/kiRJkiRJsj+CIAiCIAjiPymKoiiKoug/lmVZlmVZxj+WZVmWZVm2PxzHcRzHcaw/13Vd13Vd5z9JkiRJkiTpP+y6ruu6rus/Xdd1Xdd13T/oeZ7neZ7nP5qmaZqmaeo/URRFURRFwT+apmmapmm6PzmO4ziO4+g/NU3TNE3T5D89z/M8z/PsP1VVVVVVVdU/ft/3fd/33T+rqqqqqqrqP5IkSZIkSeI//L7v+77v6z92Xdd1XdfVP9d1Xdd1Xcc/3/d93/d97z+jKIqiKIriP5ZlWZZlWdY/t23btm3b1j9ZlmVZlmXpP7uu67qu6+o/v+/7vu/77j+SJEmSJEnCP03TNE3TNO0/27Zt27Zt2z+e53me53nOP3Icx3Ecx9E/0zRN0zRNwz+zLMuyLMviP8uyLMuyLOs/13Vd13Vd1z/btm3btm3rP57neZ7ned4/\"},\"shape\":[126],\"dtype\":\"float64\",\"order\":\"little\"}],[\"__label\",{\"type\":\"ndarray\",\"array\":[\"2012\",\"2012\",\"2012\",\"2012\",\"2012\",\"2012\",\"2012\",\"2012\",\"2012\",\"2012\",\"2012\",\"2012\",\"2012\",\"2012\",\"2012\",\"2012\",\"2012\",\"2012\",\"2012\",\"2012\",\"2012\",\"2012\",\"2012\",\"2012\",\"2012\",\"2012\",\"2012\",\"2012\",\"2012\",\"2012\",\"2012\",\"2012\",\"2012\",\"2012\",\"2012\",\"2012\",\"2012\",\"2012\",\"2012\",\"2012\",\"2012\",\"2012\",\"2012\",\"2012\",\"2012\",\"2012\",\"2012\",\"2012\",\"2012\",\"2012\",\"2012\",\"2012\",\"2012\",\"2012\",\"2012\",\"2012\",\"2012\",\"2012\",\"2012\",\"2012\",\"2012\",\"2012\",\"2012\",\"2012\",\"2012\",\"2012\",\"2012\",\"2012\",\"2012\",\"2012\",\"2012\",\"2012\",\"2012\",\"2012\",\"2012\",\"2012\",\"2012\",\"2012\",\"2012\",\"2012\",\"2012\",\"2012\",\"2012\",\"2012\",\"2012\",\"2012\",\"2012\",\"2012\",\"2012\",\"2012\",\"2012\",\"2012\",\"2012\",\"2012\",\"2012\",\"2012\",\"2012\",\"2012\",\"2012\",\"2012\",\"2012\",\"2012\",\"2012\",\"2012\",\"2012\",\"2012\",\"2012\",\"2012\",\"2012\",\"2012\",\"2012\",\"2012\",\"2012\",\"2012\",\"2012\",\"2012\",\"2012\",\"2012\",\"2012\",\"2012\",\"2012\",\"2012\",\"2012\",\"2012\",\"2012\",\"2012\"],\"shape\":[126],\"dtype\":\"object\",\"order\":\"little\"}]]}}},\"view\":{\"type\":\"object\",\"name\":\"CDSView\",\"id\":\"p1365\",\"attributes\":{\"filter\":{\"type\":\"object\",\"name\":\"AllIndices\",\"id\":\"p1366\"}}},\"glyph\":{\"type\":\"object\",\"name\":\"Circle\",\"id\":\"p1361\",\"attributes\":{\"x\":{\"type\":\"field\",\"field\":\"beak depth (mm)\"},\"y\":{\"type\":\"field\",\"field\":\"__ECDF\"},\"line_color\":{\"type\":\"value\",\"value\":\"#ff7e0e\"},\"fill_color\":{\"type\":\"value\",\"value\":\"#ff7e0e\"}}},\"nonselection_glyph\":{\"type\":\"object\",\"name\":\"Circle\",\"id\":\"p1362\",\"attributes\":{\"x\":{\"type\":\"field\",\"field\":\"beak depth (mm)\"},\"y\":{\"type\":\"field\",\"field\":\"__ECDF\"},\"line_color\":{\"type\":\"value\",\"value\":\"#ff7e0e\"},\"line_alpha\":{\"type\":\"value\",\"value\":0.1},\"fill_color\":{\"type\":\"value\",\"value\":\"#ff7e0e\"},\"fill_alpha\":{\"type\":\"value\",\"value\":0.1},\"hatch_alpha\":{\"type\":\"value\",\"value\":0.1}}},\"muted_glyph\":{\"type\":\"object\",\"name\":\"Circle\",\"id\":\"p1363\",\"attributes\":{\"x\":{\"type\":\"field\",\"field\":\"beak depth (mm)\"},\"y\":{\"type\":\"field\",\"field\":\"__ECDF\"},\"line_color\":{\"type\":\"value\",\"value\":\"#ff7e0e\"},\"line_alpha\":{\"type\":\"value\",\"value\":0.2},\"fill_color\":{\"type\":\"value\",\"value\":\"#ff7e0e\"},\"fill_alpha\":{\"type\":\"value\",\"value\":0.2},\"hatch_alpha\":{\"type\":\"value\",\"value\":0.2}}}}}],\"toolbar\":{\"type\":\"object\",\"name\":\"Toolbar\",\"id\":\"p1323\",\"attributes\":{\"tools\":[{\"type\":\"object\",\"name\":\"PanTool\",\"id\":\"p1336\"},{\"type\":\"object\",\"name\":\"WheelZoomTool\",\"id\":\"p1337\"},{\"type\":\"object\",\"name\":\"BoxZoomTool\",\"id\":\"p1338\",\"attributes\":{\"overlay\":{\"type\":\"object\",\"name\":\"BoxAnnotation\",\"id\":\"p1339\",\"attributes\":{\"syncable\":false,\"level\":\"overlay\",\"visible\":false,\"left_units\":\"canvas\",\"right_units\":\"canvas\",\"bottom_units\":\"canvas\",\"top_units\":\"canvas\",\"line_color\":\"black\",\"line_alpha\":1.0,\"line_width\":2,\"line_dash\":[4,4],\"fill_color\":\"lightgrey\",\"fill_alpha\":0.5}}}},{\"type\":\"object\",\"name\":\"SaveTool\",\"id\":\"p1340\"},{\"type\":\"object\",\"name\":\"ResetTool\",\"id\":\"p1341\"},{\"type\":\"object\",\"name\":\"HelpTool\",\"id\":\"p1342\"}]}},\"toolbar_location\":\"above\",\"left\":[{\"type\":\"object\",\"name\":\"LinearAxis\",\"id\":\"p1331\",\"attributes\":{\"ticker\":{\"type\":\"object\",\"name\":\"BasicTicker\",\"id\":\"p1332\",\"attributes\":{\"mantissas\":[1,2,5]}},\"formatter\":{\"type\":\"object\",\"name\":\"BasicTickFormatter\",\"id\":\"p1333\"},\"axis_label\":\"ECDF\",\"major_label_policy\":{\"type\":\"object\",\"name\":\"AllLabels\",\"id\":\"p1334\"}}}],\"right\":[{\"type\":\"object\",\"name\":\"Legend\",\"id\":\"p1367\",\"attributes\":{\"location\":\"center\",\"click_policy\":\"hide\",\"items\":[{\"type\":\"object\",\"name\":\"LegendItem\",\"id\":\"p1368\",\"attributes\":{\"label\":{\"type\":\"value\",\"value\":\"1975\"},\"renderers\":[{\"id\":\"p1352\"}]}},{\"type\":\"object\",\"name\":\"LegendItem\",\"id\":\"p1369\",\"attributes\":{\"label\":{\"type\":\"value\",\"value\":\"2012\"},\"renderers\":[{\"id\":\"p1364\"}]}}]}}],\"below\":[{\"type\":\"object\",\"name\":\"LinearAxis\",\"id\":\"p1326\",\"attributes\":{\"ticker\":{\"type\":\"object\",\"name\":\"BasicTicker\",\"id\":\"p1327\",\"attributes\":{\"mantissas\":[1,2,5]}},\"formatter\":{\"type\":\"object\",\"name\":\"BasicTickFormatter\",\"id\":\"p1328\"},\"axis_label\":\"beak depth (mm)\",\"major_label_policy\":{\"type\":\"object\",\"name\":\"AllLabels\",\"id\":\"p1329\"}}}],\"center\":[{\"type\":\"object\",\"name\":\"Grid\",\"id\":\"p1330\",\"attributes\":{\"axis\":{\"id\":\"p1326\"}}},{\"type\":\"object\",\"name\":\"Grid\",\"id\":\"p1335\",\"attributes\":{\"dimension\":1,\"axis\":{\"id\":\"p1331\"}}}],\"frame_width\":375,\"frame_height\":275}}]}};\n",
       "  const render_items = [{\"docid\":\"3ccee498-96fc-4ade-85d3-b63e18e2d496\",\"roots\":{\"p1315\":\"f03f1c57-446d-403d-944e-57d03ed03b91\"},\"root_ids\":[\"p1315\"]}];\n",
       "  root.Bokeh.embed.embed_items_notebook(docs_json, render_items);\n",
       "  }\n",
       "  if (root.Bokeh !== undefined) {\n",
       "    embed_document(root);\n",
       "  } else {\n",
       "    let attempts = 0;\n",
       "    const timer = setInterval(function(root) {\n",
       "      if (root.Bokeh !== undefined) {\n",
       "        clearInterval(timer);\n",
       "        embed_document(root);\n",
       "      } else {\n",
       "        attempts++;\n",
       "        if (attempts > 100) {\n",
       "          clearInterval(timer);\n",
       "          console.log(\"Bokeh: ERROR: Unable to run BokehJS code because BokehJS library is missing\");\n",
       "        }\n",
       "      }\n",
       "    }, 10, root)\n",
       "  }\n",
       "})(window);"
      ],
      "application/vnd.bokehjs_exec.v0+json": ""
     },
     "metadata": {
      "application/vnd.bokehjs_exec.v0+json": {
       "id": "p1315"
      }
     },
     "output_type": "display_data"
    }
   ],
   "source": [
    "p = iqplot.ecdf(\n",
    "    data=df,\n",
    "    q='beak depth (mm)',\n",
    "    cats='year',\n",
    ")\n",
    "\n",
    "bokeh.io.show(p)"
   ]
  },
  {
   "cell_type": "code",
   "execution_count": 34,
   "id": "37ea7030-8b60-4236-b7b4-1f4af775bfe6",
   "metadata": {},
   "outputs": [
    {
     "data": {
      "text/plain": [
       "(8.959999999999999, 9.188492063492063)"
      ]
     },
     "execution_count": 34,
     "metadata": {},
     "output_type": "execute_result"
    }
   ],
   "source": [
    "# Pull our data sets as Numpy arrays\n",
    "bd_1975 = df.loc[df['year']==1975, 'beak depth (mm)'].values\n",
    "bd_2012 = df.loc[df['year']==2012, 'beak depth (mm)'].values\n",
    "\n",
    "# Compute the means\n",
    "np.mean(bd_1975), np.mean(bd_2012)"
   ]
  },
  {
   "cell_type": "code",
   "execution_count": 35,
   "id": "42897a9b-0ae0-4e6e-920a-978ef5ef6e7c",
   "metadata": {},
   "outputs": [
    {
     "data": {
      "text/plain": [
       "8.849770114942531"
      ]
     },
     "execution_count": 35,
     "metadata": {},
     "output_type": "execute_result"
    }
   ],
   "source": [
    "rng = np.random.default_rng(3252)\n",
    "\n",
    "bs_sample = rng.choice(bd_1975, replace=True, size=len(bd_1975))\n",
    "\n",
    "np.mean(bs_sample)"
   ]
  },
  {
   "cell_type": "code",
   "execution_count": 36,
   "id": "ed8ceb67-16f1-4ef5-9e83-456cdfcd79a8",
   "metadata": {},
   "outputs": [
    {
     "data": {
      "text/html": [
       "\n",
       "  <div id=\"dd5996fc-7fc0-420d-93bf-296f45451a48\" data-root-id=\"p1376\" style=\"display: contents;\"></div>\n"
      ]
     },
     "metadata": {},
     "output_type": "display_data"
    },
    {
     "data": {
      "application/javascript": [
       "(function(root) {\n",
       "  function embed_document(root) {\n",
       "  const docs_json = {\"72cc58cb-90c5-4a1a-82a0-69e18a8f1c10\":{\"version\":\"3.2.1\",\"title\":\"Bokeh Application\",\"roots\":[{\"type\":\"object\",\"name\":\"Figure\",\"id\":\"p1376\",\"attributes\":{\"x_range\":{\"type\":\"object\",\"name\":\"DataRange1d\",\"id\":\"p1377\"},\"y_range\":{\"type\":\"object\",\"name\":\"DataRange1d\",\"id\":\"p1378\"},\"x_scale\":{\"type\":\"object\",\"name\":\"LinearScale\",\"id\":\"p1385\"},\"y_scale\":{\"type\":\"object\",\"name\":\"LinearScale\",\"id\":\"p1386\"},\"title\":{\"type\":\"object\",\"name\":\"Title\",\"id\":\"p1383\"},\"renderers\":[{\"type\":\"object\",\"name\":\"GlyphRenderer\",\"id\":\"p1413\",\"attributes\":{\"data_source\":{\"type\":\"object\",\"name\":\"ColumnDataSource\",\"id\":\"p1404\",\"attributes\":{\"selected\":{\"type\":\"object\",\"name\":\"Selection\",\"id\":\"p1405\",\"attributes\":{\"indices\":[],\"line_indices\":[]}},\"selection_policy\":{\"type\":\"object\",\"name\":\"UnionRenderers\",\"id\":\"p1406\"},\"data\":{\"type\":\"map\",\"entries\":[[\"index\",{\"type\":\"ndarray\",\"array\":{\"type\":\"bytes\",\"data\":\"kQEAAJIBAACTAQAAlAEAAJUBAACWAQAAlwEAAJgBAACZAQAAmgEAAJsBAACcAQAAnQEAAJ4BAACfAQAAoAEAAKEBAACiAQAAowEAAKQBAAClAQAApgEAAKcBAACoAQAAqQEAAKoBAACrAQAArAEAAK0BAACuAQAArwEAALABAACxAQAAsgEAALMBAAC0AQAAtQEAALYBAAC3AQAAuAEAALkBAAC6AQAAuwEAALwBAAC9AQAAvgEAAL8BAADAAQAAwQEAAMIBAADDAQAAxAEAAMUBAADGAQAAxwEAAMgBAADJAQAAygEAAMsBAADMAQAAzQEAAM4BAADPAQAA0AEAANEBAADSAQAA0wEAANQBAADVAQAA1gEAANcBAADYAQAA2QEAANoBAADbAQAA3AEAAN0BAADeAQAA3wEAAOABAADhAQAA4gEAAOMBAADkAQAA5QEAAOYBAADnAQAA\"},\"shape\":[87],\"dtype\":\"int32\",\"order\":\"little\"}],[\"year\",{\"type\":\"ndarray\",\"array\":{\"type\":\"bytes\",\"data\":\"twcAALcHAAC3BwAAtwcAALcHAAC3BwAAtwcAALcHAAC3BwAAtwcAALcHAAC3BwAAtwcAALcHAAC3BwAAtwcAALcHAAC3BwAAtwcAALcHAAC3BwAAtwcAALcHAAC3BwAAtwcAALcHAAC3BwAAtwcAALcHAAC3BwAAtwcAALcHAAC3BwAAtwcAALcHAAC3BwAAtwcAALcHAAC3BwAAtwcAALcHAAC3BwAAtwcAALcHAAC3BwAAtwcAALcHAAC3BwAAtwcAALcHAAC3BwAAtwcAALcHAAC3BwAAtwcAALcHAAC3BwAAtwcAALcHAAC3BwAAtwcAALcHAAC3BwAAtwcAALcHAAC3BwAAtwcAALcHAAC3BwAAtwcAALcHAAC3BwAAtwcAALcHAAC3BwAAtwcAALcHAAC3BwAAtwcAALcHAAC3BwAAtwcAALcHAAC3BwAAtwcAALcHAAC3BwAA\"},\"shape\":[87],\"dtype\":\"int32\",\"order\":\"little\"}],[\"beak depth (mm)\",{\"type\":\"ndarray\",\"array\":{\"type\":\"bytes\",\"data\":\"zczMzMzMIECamZmZmZkhQM3MzMzMzCBAAAAAAAAAIECamZmZmZkfQM3MzMzMzCFAMzMzMzMzIUAAAAAAAAAhQM3MzMzMzCFAMzMzMzMzIkAzMzMzMzMhQJqZmZmZmSNAZmZmZmZmIEAAAAAAAAAiQGZmZmZmZiNAMzMzMzMzIUBmZmZmZmYgQAAAAAAAACJAzczMzMzMIEAzMzMzMzMhQM3MzMzMzCFAMzMzMzMzIkCamZmZmZkgQGZmZmZmZiFAMzMzMzMzI0AAAAAAAAAhQDMzMzMzMyJAAAAAAAAAIkBmZmZmZmYiQM3MzMzMzCNAMzMzMzMzIUBmZmZmZmYiQM3MzMzMzCBAzczMzMzMIUAAAAAAAAAhQM3MzMzMzCRAMzMzMzMzI0AzMzMzMzMiQJqZmZmZmSJAmpmZmZmZIkCamZmZmZkhQJqZmZmZmSBAmpmZmZmZIUAzMzMzMzMiQDMzMzMzMyRAzczMzMzMIUBmZmZmZmYiQAAAAAAAACFAZmZmZmZmJEAzMzMzMzMkQGZmZmZmZiJAZmZmZmZmI0AzMzMzMzMiQAAAAAAAACFAZmZmZmZmIEAAAAAAAAAiQJqZmZmZmSJAAAAAAAAAIEAzMzMzMzMiQDMzMzMzMyBAmpmZmZmZIEBmZmZmZmYhQJqZmZmZmSFAMzMzMzMzIUBmZmZmZmYhQAAAAAAAACBAmpmZmZmZIUAAAAAAAAAiQDMzMzMzMyJAexSuR+F6I0AzMzMzMzMiQJqZmZmZmSNAzczMzMzMJECamZmZmZkgQOF6FK5H4SJAFK5H4XoUIkAAAAAAAAAiQJqZmZmZGSJAzczMzMxMI0BmZmZmZuYiQM3MzMzMTCFAZmZmZmbmIkBmZmZmZuYiQJqZmZmZGSJAAAAAAACAIUBmZmZmZuYiQDMzMzMzsyBA\"},\"shape\":[87],\"dtype\":\"float64\",\"order\":\"little\"}],[\"__dummy_cat\",{\"type\":\"ndarray\",\"array\":[\" \",\" \",\" \",\" \",\" \",\" \",\" \",\" \",\" \",\" \",\" \",\" \",\" \",\" \",\" \",\" \",\" \",\" \",\" \",\" \",\" \",\" \",\" \",\" \",\" \",\" \",\" \",\" \",\" \",\" \",\" \",\" \",\" \",\" \",\" \",\" \",\" \",\" \",\" \",\" \",\" \",\" \",\" \",\" \",\" \",\" \",\" \",\" \",\" \",\" \",\" \",\" \",\" \",\" \",\" \",\" \",\" \",\" \",\" \",\" \",\" \",\" \",\" \",\" \",\" \",\" \",\" \",\" \",\" \",\" \",\" \",\" \",\" \",\" \",\" \",\" \",\" \",\" \",\" \",\" \",\" \",\" \",\" \",\" \",\" \",\" \",\" \"],\"shape\":[87],\"dtype\":\"object\",\"order\":\"little\"}],[\"__ECDF\",{\"type\":\"ndarray\",\"array\":{\"type\":\"bytes\",\"data\":\"L5BJ8QKZxD8VL5BJ8QLZP3waYbmnEcY/yKR4gUyKlz/IpHiBTIqHP9QIyz2NsNw/cLYO/Wbr0D9huacRlnvKP/rN1qHfbN0/dug3W4d+4z+WexphuafRP/rN1qHfbO0/lnsaYbmnsT9K8QKZFC/gP0EmxQtkUuw/vEAmxQtk0j8vkEnxApm0P93TCMs9jeA/yKR4gUyKxz/jBTIpXiDTPyCT4gUyKd4/Ccs9jbDc4z9huacRlnu6P3waYbmnEdY/h36zdeg36z+uQ7/ZOvTLP5ytQ7/ZOuQ/cLYO/Wbr4D+i32wd+s3mPyCT4gUyKe4/Ccs9jbDc0z81wnJPIyznPxUvkEnxAsk/R1juaYTl3j/6zdah32zNP20d+s3Woe8/GmG5pxGW6z8vkEnxApnkP+5phOWeRug/gUyKF8ik6D879JutQ7/ZP/rN1qHfbL0/YbmnEZZ72j/Cck8jLPfkP7N16Ddbh+4/bR36zdah3z/IpHiBTIrnP0dY7mmE5c4/2jr0m61D7z9HWO5phOXuP1uHfrN16Oc/1AjLPY2w7D9VVVVVVVXlP0rxApkUL9A/yKR4gUyKtz8DmRQvkEnhPxUvkEnxAuk/lnsaYbmnoT/oN1uHfrPlP/rN1qHfbK0/SvECmRQvwD+i32wd+s3WP4d+s3XoN9s/L5BJ8QKZ1D/IpHiBTIrXP8ikeIFMiqc/rkO/2Tr02z+WexphuafhP3waYbmnEeY/Z+vQb7YO7T8P/Wbr0G/mP42w3NMIy+0/AAAAAAAA8D+WexphuafBP6gRlnsaYek/vEAmxQtk4j8pXiCT4gXiP08jLPc0wuI/rkO/2Tr06z879JutQ7/pP1VVVVVVVdU/ztah32wd6j9huacRlnvqP+MFMileIOM/7mmE5Z5G2D/0m61Dv9nqP+MFMileIMM/\"},\"shape\":[87],\"dtype\":\"float64\",\"order\":\"little\"}],[\"__label\",{\"type\":\"ndarray\",\"array\":[\" \",\" \",\" \",\" \",\" \",\" \",\" \",\" \",\" \",\" \",\" \",\" \",\" \",\" \",\" \",\" \",\" \",\" \",\" \",\" \",\" \",\" \",\" \",\" \",\" \",\" \",\" \",\" \",\" \",\" \",\" \",\" \",\" \",\" \",\" \",\" \",\" \",\" \",\" \",\" \",\" \",\" \",\" \",\" \",\" \",\" \",\" \",\" \",\" \",\" \",\" \",\" \",\" \",\" \",\" \",\" \",\" \",\" \",\" \",\" \",\" \",\" \",\" \",\" \",\" \",\" \",\" \",\" \",\" \",\" \",\" \",\" \",\" \",\" \",\" \",\" \",\" \",\" \",\" \",\" \",\" \",\" \",\" \",\" \",\" \",\" \",\" \"],\"shape\":[87],\"dtype\":\"object\",\"order\":\"little\"}]]}}},\"view\":{\"type\":\"object\",\"name\":\"CDSView\",\"id\":\"p1414\",\"attributes\":{\"filter\":{\"type\":\"object\",\"name\":\"AllIndices\",\"id\":\"p1415\"}}},\"glyph\":{\"type\":\"object\",\"name\":\"Circle\",\"id\":\"p1410\",\"attributes\":{\"x\":{\"type\":\"field\",\"field\":\"beak depth (mm)\"},\"y\":{\"type\":\"field\",\"field\":\"__ECDF\"},\"line_color\":{\"type\":\"value\",\"value\":\"#1f77b3\"},\"fill_color\":{\"type\":\"value\",\"value\":\"#1f77b3\"}}},\"nonselection_glyph\":{\"type\":\"object\",\"name\":\"Circle\",\"id\":\"p1411\",\"attributes\":{\"x\":{\"type\":\"field\",\"field\":\"beak depth (mm)\"},\"y\":{\"type\":\"field\",\"field\":\"__ECDF\"},\"line_color\":{\"type\":\"value\",\"value\":\"#1f77b3\"},\"line_alpha\":{\"type\":\"value\",\"value\":0.1},\"fill_color\":{\"type\":\"value\",\"value\":\"#1f77b3\"},\"fill_alpha\":{\"type\":\"value\",\"value\":0.1},\"hatch_alpha\":{\"type\":\"value\",\"value\":0.1}}},\"muted_glyph\":{\"type\":\"object\",\"name\":\"Circle\",\"id\":\"p1412\",\"attributes\":{\"x\":{\"type\":\"field\",\"field\":\"beak depth (mm)\"},\"y\":{\"type\":\"field\",\"field\":\"__ECDF\"},\"line_color\":{\"type\":\"value\",\"value\":\"#1f77b3\"},\"line_alpha\":{\"type\":\"value\",\"value\":0.2},\"fill_color\":{\"type\":\"value\",\"value\":\"#1f77b3\"},\"fill_alpha\":{\"type\":\"value\",\"value\":0.2},\"hatch_alpha\":{\"type\":\"value\",\"value\":0.2}}}}},{\"type\":\"object\",\"name\":\"GlyphRenderer\",\"id\":\"p1425\",\"attributes\":{\"data_source\":{\"type\":\"object\",\"name\":\"ColumnDataSource\",\"id\":\"p1416\",\"attributes\":{\"selected\":{\"type\":\"object\",\"name\":\"Selection\",\"id\":\"p1417\",\"attributes\":{\"indices\":[],\"line_indices\":[]}},\"selection_policy\":{\"type\":\"object\",\"name\":\"UnionRenderers\",\"id\":\"p1418\"},\"data\":{\"type\":\"map\",\"entries\":[[\"index\",{\"type\":\"ndarray\",\"array\":{\"type\":\"bytes\",\"data\":\"AAAAAAEAAAACAAAAAwAAAAQAAAAFAAAABgAAAAcAAAAIAAAACQAAAAoAAAALAAAADAAAAA0AAAAOAAAADwAAABAAAAARAAAAEgAAABMAAAAUAAAAFQAAABYAAAAXAAAAGAAAABkAAAAaAAAAGwAAABwAAAAdAAAAHgAAAB8AAAAgAAAAIQAAACIAAAAjAAAAJAAAACUAAAAmAAAAJwAAACgAAAApAAAAKgAAACsAAAAsAAAALQAAAC4AAAAvAAAAMAAAADEAAAAyAAAAMwAAADQAAAA1AAAANgAAADcAAAA4AAAAOQAAADoAAAA7AAAAPAAAAD0AAAA+AAAAPwAAAEAAAABBAAAAQgAAAEMAAABEAAAARQAAAEYAAABHAAAASAAAAEkAAABKAAAASwAAAEwAAABNAAAATgAAAE8AAABQAAAAUQAAAFIAAABTAAAAVAAAAFUAAABWAAAA\"},\"shape\":[87],\"dtype\":\"int32\",\"order\":\"little\"}],[\"bootstrap\",{\"type\":\"ndarray\",\"array\":{\"type\":\"bytes\",\"data\":\"mpmZmZmZIUBmZmZmZmYgQJqZmZmZmR9AAAAAAAAAIEAzMzMzMzMhQM3MzMzMzCBAAAAAAAAAIEAzMzMzMzMhQAAAAAAAACJAMzMzMzMzIkCamZmZmZkhQJqZmZmZmSNAZmZmZmZmIUAzMzMzMzMjQM3MzMzMzCBAMzMzMzMzIkDNzMzMzMwgQAAAAAAAACFAMzMzMzMzIUAzMzMzMzMiQM3MzMzMzCBAAAAAAAAAIkAzMzMzMzMiQDMzMzMzMyJAAAAAAAAAIkBmZmZmZuYiQAAAAAAAACBAAAAAAAAAIUCamZmZmZkiQAAAAAAAACJAAAAAAAAAIEAAAAAAAAAhQGZmZmZmZiJAZmZmZmbmIkAzMzMzMzMiQGZmZmZmZiBAMzMzMzMzIkAzMzMzMzMiQBSuR+F6FCJAzczMzMzMIEAAAAAAAAAhQDMzMzMzMyJAAAAAAAAAIkBmZmZmZmYiQDMzMzMzMyNAZmZmZmbmIkAAAAAAAAAhQAAAAAAAACBAFK5H4XoUIkAzMzMzMzMhQGZmZmZmZiJAZmZmZmbmIkBmZmZmZuYiQGZmZmZmZiJAmpmZmZmZIkBmZmZmZmYiQAAAAAAAACFAAAAAAAAAIUCamZmZmZkjQJqZmZmZmSBAMzMzMzMzIkBmZmZmZmYhQM3MzMzMzCFAmpmZmZmZH0CamZmZmZkgQGZmZmZmZiJAzczMzMxMI0AAAAAAAAAhQM3MzMzMzCRAmpmZmZmZIEDNzMzMzMwhQAAAAAAAACJAmpmZmZmZIEDNzMzMzMwhQM3MzMzMzCBAAAAAAAAAIEAzMzMzMzMiQGZmZmZm5iJAMzMzMzMzIkAzMzMzMzMhQGZmZmZmZiJAZmZmZmZmIkBmZmZmZmYiQDMzMzMzMyNAZmZmZmZmIUAzMzMzMzMhQJqZmZmZmSBA\"},\"shape\":[87],\"dtype\":\"float64\",\"order\":\"little\"}],[\"__dummy_cat\",{\"type\":\"ndarray\",\"array\":[\" \",\" \",\" \",\" \",\" \",\" \",\" \",\" \",\" \",\" \",\" \",\" \",\" \",\" \",\" \",\" \",\" \",\" \",\" \",\" \",\" \",\" \",\" \",\" \",\" \",\" \",\" \",\" \",\" \",\" \",\" \",\" \",\" \",\" \",\" \",\" \",\" \",\" \",\" \",\" \",\" \",\" \",\" \",\" \",\" \",\" \",\" \",\" \",\" \",\" \",\" \",\" \",\" \",\" \",\" \",\" \",\" \",\" \",\" \",\" \",\" \",\" \",\" \",\" \",\" \",\" \",\" \",\" \",\" \",\" \",\" \",\" \",\" \",\" \",\" \",\" \",\" \",\" \",\" \",\" \",\" \",\" \",\" \",\" \",\" \",\" \",\" \"],\"shape\":[87],\"dtype\":\"object\",\"order\":\"little\"}],[\"__ECDF\",{\"type\":\"ndarray\",\"array\":{\"type\":\"bytes\",\"data\":\"1AjLPY2w3D9huacRlnu6P8ikeIFMioc/lnsaYbmnoT98GmG5pxHWP8ikeIFMisc/yKR4gUyKpz+i32wd+s3WP0rxApkUL+A/4wUyKV4g4z/6zdah32zdP9o69JutQ+8/YbmnEZZ72j+NsNzTCMvtPxUvkEnxAsk/dug3W4d+4z9huacRlnvKP0rxApkUL9A/yKR4gUyK1z8Jyz2NsNzjP65Dv9k69Ms/3dMIyz2N4D+crUO/2TrkPy+QSfECmeQ/cLYO/Wbr4D8aYbmnEZbrP/rN1qHfbK0/cLYO/Wbr0D/0m61Dv9nqPwOZFC+QSeE/lnsaYbmnsT+WexphuafRP8ikeIFMiuc/rkO/2Tr06z/Cck8jLPfkP/rN1qHfbL0/VVVVVVVV5T/oN1uHfrPlP7xAJsULZOI/+s3Wod9szT+8QCbFC2TSP3waYbmnEeY/lnsaYbmn4T9bh36zdejnPyCT4gUyKe4/QSbFC2RS7D/jBTIpXiDTPy+QSfECmbQ/TyMs9zTC4j/uaYTlnkbYP+5phOWeRug/1AjLPY2w7D9n69Bvtg7tP4FMihfIpOg/h36zdeg36z8VL5BJ8QLpPwnLPY2w3NM/L5BJ8QKZ1D9tHfrN1qHvP0rxApkUL8A/D/1m69Bv5j+HfrN16DfbPyCT4gUyKd4/yKR4gUyKlz+WexphuafBP6gRlnsaYek/R1juaYTl7j9VVVVVVVXVPwAAAAAAAPA/4wUyKV4gwz9HWO5phOXePyleIJPiBeI/L5BJ8QKZxD9tHfrN1qHfP0dY7mmE5c4/yKR4gUyKtz+i32wd+s3mP/rN1qHfbO0/NcJyTyMs5z8VL5BJ8QLZPzv0m61Dv+k/ztah32wd6j9huacRlnvqP7N16Ddbh+4/rkO/2Tr02z879JutQ7/ZP3waYbmnEcY/\"},\"shape\":[87],\"dtype\":\"float64\",\"order\":\"little\"}],[\"__label\",{\"type\":\"ndarray\",\"array\":[\" \",\" \",\" \",\" \",\" \",\" \",\" \",\" \",\" \",\" \",\" \",\" \",\" \",\" \",\" \",\" \",\" \",\" \",\" \",\" \",\" \",\" \",\" \",\" \",\" \",\" \",\" \",\" \",\" \",\" \",\" \",\" \",\" \",\" \",\" \",\" \",\" \",\" \",\" \",\" \",\" \",\" \",\" \",\" \",\" \",\" \",\" \",\" \",\" \",\" \",\" \",\" \",\" \",\" \",\" \",\" \",\" \",\" \",\" \",\" \",\" \",\" \",\" \",\" \",\" \",\" \",\" \",\" \",\" \",\" \",\" \",\" \",\" \",\" \",\" \",\" \",\" \",\" \",\" \",\" \",\" \",\" \",\" \",\" \",\" \",\" \",\" \"],\"shape\":[87],\"dtype\":\"object\",\"order\":\"little\"}]]}}},\"view\":{\"type\":\"object\",\"name\":\"CDSView\",\"id\":\"p1426\",\"attributes\":{\"filter\":{\"type\":\"object\",\"name\":\"AllIndices\",\"id\":\"p1427\"}}},\"glyph\":{\"type\":\"object\",\"name\":\"Circle\",\"id\":\"p1422\",\"attributes\":{\"x\":{\"type\":\"field\",\"field\":\"bootstrap\"},\"y\":{\"type\":\"field\",\"field\":\"__ECDF\"},\"line_color\":{\"type\":\"value\",\"value\":\"gray\"},\"fill_color\":{\"type\":\"value\",\"value\":null}}},\"nonselection_glyph\":{\"type\":\"object\",\"name\":\"Circle\",\"id\":\"p1423\",\"attributes\":{\"x\":{\"type\":\"field\",\"field\":\"bootstrap\"},\"y\":{\"type\":\"field\",\"field\":\"__ECDF\"},\"line_color\":{\"type\":\"value\",\"value\":\"gray\"},\"line_alpha\":{\"type\":\"value\",\"value\":0.1},\"fill_color\":{\"type\":\"value\",\"value\":null},\"fill_alpha\":{\"type\":\"value\",\"value\":0.1},\"hatch_alpha\":{\"type\":\"value\",\"value\":0.1}}},\"muted_glyph\":{\"type\":\"object\",\"name\":\"Circle\",\"id\":\"p1424\",\"attributes\":{\"x\":{\"type\":\"field\",\"field\":\"bootstrap\"},\"y\":{\"type\":\"field\",\"field\":\"__ECDF\"},\"line_color\":{\"type\":\"value\",\"value\":\"gray\"},\"line_alpha\":{\"type\":\"value\",\"value\":0.2},\"fill_color\":{\"type\":\"value\",\"value\":null},\"fill_alpha\":{\"type\":\"value\",\"value\":0.2},\"hatch_alpha\":{\"type\":\"value\",\"value\":0.2}}}}}],\"toolbar\":{\"type\":\"object\",\"name\":\"Toolbar\",\"id\":\"p1384\",\"attributes\":{\"tools\":[{\"type\":\"object\",\"name\":\"PanTool\",\"id\":\"p1397\"},{\"type\":\"object\",\"name\":\"WheelZoomTool\",\"id\":\"p1398\"},{\"type\":\"object\",\"name\":\"BoxZoomTool\",\"id\":\"p1399\",\"attributes\":{\"overlay\":{\"type\":\"object\",\"name\":\"BoxAnnotation\",\"id\":\"p1400\",\"attributes\":{\"syncable\":false,\"level\":\"overlay\",\"visible\":false,\"left_units\":\"canvas\",\"right_units\":\"canvas\",\"bottom_units\":\"canvas\",\"top_units\":\"canvas\",\"line_color\":\"black\",\"line_alpha\":1.0,\"line_width\":2,\"line_dash\":[4,4],\"fill_color\":\"lightgrey\",\"fill_alpha\":0.5}}}},{\"type\":\"object\",\"name\":\"SaveTool\",\"id\":\"p1401\"},{\"type\":\"object\",\"name\":\"ResetTool\",\"id\":\"p1402\"},{\"type\":\"object\",\"name\":\"HelpTool\",\"id\":\"p1403\"}]}},\"toolbar_location\":\"above\",\"left\":[{\"type\":\"object\",\"name\":\"LinearAxis\",\"id\":\"p1392\",\"attributes\":{\"ticker\":{\"type\":\"object\",\"name\":\"BasicTicker\",\"id\":\"p1393\",\"attributes\":{\"mantissas\":[1,2,5]}},\"formatter\":{\"type\":\"object\",\"name\":\"BasicTickFormatter\",\"id\":\"p1394\"},\"axis_label\":\"ECDF\",\"major_label_policy\":{\"type\":\"object\",\"name\":\"AllLabels\",\"id\":\"p1395\"}}}],\"below\":[{\"type\":\"object\",\"name\":\"LinearAxis\",\"id\":\"p1387\",\"attributes\":{\"ticker\":{\"type\":\"object\",\"name\":\"BasicTicker\",\"id\":\"p1388\",\"attributes\":{\"mantissas\":[1,2,5]}},\"formatter\":{\"type\":\"object\",\"name\":\"BasicTickFormatter\",\"id\":\"p1389\"},\"axis_label\":\"beak depth (mm)\",\"major_label_policy\":{\"type\":\"object\",\"name\":\"AllLabels\",\"id\":\"p1390\"}}}],\"center\":[{\"type\":\"object\",\"name\":\"Grid\",\"id\":\"p1391\",\"attributes\":{\"axis\":{\"id\":\"p1387\"}}},{\"type\":\"object\",\"name\":\"Grid\",\"id\":\"p1396\",\"attributes\":{\"dimension\":1,\"axis\":{\"id\":\"p1392\"}}}],\"frame_width\":375,\"frame_height\":275}}]}};\n",
       "  const render_items = [{\"docid\":\"72cc58cb-90c5-4a1a-82a0-69e18a8f1c10\",\"roots\":{\"p1376\":\"dd5996fc-7fc0-420d-93bf-296f45451a48\"},\"root_ids\":[\"p1376\"]}];\n",
       "  root.Bokeh.embed.embed_items_notebook(docs_json, render_items);\n",
       "  }\n",
       "  if (root.Bokeh !== undefined) {\n",
       "    embed_document(root);\n",
       "  } else {\n",
       "    let attempts = 0;\n",
       "    const timer = setInterval(function(root) {\n",
       "      if (root.Bokeh !== undefined) {\n",
       "        clearInterval(timer);\n",
       "        embed_document(root);\n",
       "      } else {\n",
       "        attempts++;\n",
       "        if (attempts > 100) {\n",
       "          clearInterval(timer);\n",
       "          console.log(\"Bokeh: ERROR: Unable to run BokehJS code because BokehJS library is missing\");\n",
       "        }\n",
       "      }\n",
       "    }, 10, root)\n",
       "  }\n",
       "})(window);"
      ],
      "application/vnd.bokehjs_exec.v0+json": ""
     },
     "metadata": {
      "application/vnd.bokehjs_exec.v0+json": {
       "id": "p1376"
      }
     },
     "output_type": "display_data"
    }
   ],
   "source": [
    "p = iqplot.ecdf(\n",
    "    data=df.loc[df['year']==1975, :],\n",
    "    q='beak depth (mm)',\n",
    ")\n",
    "\n",
    "# Bootstrap data set\n",
    "p = iqplot.ecdf(\n",
    "    data=bs_sample,\n",
    "    q='bootstrap',\n",
    "    cats=None,\n",
    "    p=p,\n",
    "    marker_kwargs=dict(\n",
    "        fill_color=None,\n",
    "        line_color='gray'\n",
    "    ),\n",
    ")\n",
    "\n",
    "bokeh.io.show(p)"
   ]
  },
  {
   "cell_type": "code",
   "execution_count": 37,
   "id": "15e2457b-b833-4c07-8961-d1e5eec56773",
   "metadata": {},
   "outputs": [],
   "source": [
    "def bs_sample(data):\n",
    "    return rng.choice(data, replace=True, size=len(data))\n",
    "\n",
    "def bs_replicate(data, func, args=()):\n",
    "    return func(bs_sample(data),*args)"
   ]
  },
  {
   "cell_type": "code",
   "execution_count": 38,
   "id": "2b3c63c3-60df-456c-a99c-43fa228f0da3",
   "metadata": {},
   "outputs": [
    {
     "data": {
      "text/plain": [
       "8.970344827586208"
      ]
     },
     "execution_count": 38,
     "metadata": {},
     "output_type": "execute_result"
    }
   ],
   "source": [
    "bs_replicate(bd_1975, np.mean)"
   ]
  },
  {
   "cell_type": "code",
   "execution_count": 39,
   "id": "0afc1fea-fadc-4853-9614-467016fce639",
   "metadata": {},
   "outputs": [],
   "source": [
    "n_reps=1_000_000\n",
    "bs_reps_1975 = np.array([bs_replicate(bd_1975,np.mean) for _ in range(n_reps)])"
   ]
  },
  {
   "cell_type": "code",
   "execution_count": 40,
   "id": "e92aa0b2-cd9f-469a-8d37-18714cbc7304",
   "metadata": {},
   "outputs": [
    {
     "data": {
      "text/plain": [
       "array([8.95344828, 8.97758621, 8.91896552, ..., 8.94218391, 8.91206897,\n",
       "       8.88425287])"
      ]
     },
     "execution_count": 40,
     "metadata": {},
     "output_type": "execute_result"
    }
   ],
   "source": [
    "bs_reps_1975"
   ]
  },
  {
   "cell_type": "code",
   "execution_count": 41,
   "id": "e794b03c-6f16-4697-8a8c-fba30fab60c8",
   "metadata": {},
   "outputs": [
    {
     "data": {
      "text/plain": [
       "array([8.84264368, 9.07965517])"
      ]
     },
     "execution_count": 41,
     "metadata": {},
     "output_type": "execute_result"
    }
   ],
   "source": [
    "np.percentile(bs_reps_1975, [2.5, 97.5])"
   ]
  },
  {
   "cell_type": "code",
   "execution_count": 42,
   "id": "75ee621b-434d-493e-b36a-f2d403ceaeac",
   "metadata": {},
   "outputs": [
    {
     "data": {
      "text/plain": [
       "(8.841625267378157, 9.07837473262184)"
      ]
     },
     "execution_count": 42,
     "metadata": {},
     "output_type": "execute_result"
    }
   ],
   "source": [
    "sem = np.std(bd_1975) / np.sqrt(len(bd_1975))\n",
    "mu_plugin = np.mean(bd_1975)\n",
    "(mu_plugin-1.96*sem, mu_plugin+1.96*sem)"
   ]
  },
  {
   "cell_type": "code",
   "execution_count": 43,
   "id": "e4649486-046e-47f4-9c34-cba7a39265cf",
   "metadata": {},
   "outputs": [
    {
     "data": {
      "text/html": [
       "\n",
       "  <div id=\"e0ccd3e3-5812-455c-9979-0387119db35d\" data-root-id=\"p1435\" style=\"display: contents;\"></div>\n"
      ]
     },
     "metadata": {},
     "output_type": "display_data"
    },
    {
     "data": {
      "application/javascript": [
       "(function(root) {\n",
       "  function embed_document(root) {\n",
       "  const docs_json = {\"9887bebe-a879-47fd-9bb0-f96ebef11732\":{\"version\":\"3.2.1\",\"title\":\"Bokeh Application\",\"roots\":[{\"type\":\"object\",\"name\":\"Figure\",\"id\":\"p1435\",\"attributes\":{\"x_range\":{\"type\":\"object\",\"name\":\"DataRange1d\",\"id\":\"p1436\"},\"y_range\":{\"type\":\"object\",\"name\":\"DataRange1d\",\"id\":\"p1437\"},\"x_scale\":{\"type\":\"object\",\"name\":\"LinearScale\",\"id\":\"p1444\"},\"y_scale\":{\"type\":\"object\",\"name\":\"LinearScale\",\"id\":\"p1445\"},\"title\":{\"type\":\"object\",\"name\":\"Title\",\"id\":\"p1442\"},\"renderers\":[{\"type\":\"object\",\"name\":\"GlyphRenderer\",\"id\":\"p1469\",\"attributes\":{\"data_source\":{\"type\":\"object\",\"name\":\"ColumnDataSource\",\"id\":\"p1463\",\"attributes\":{\"selected\":{\"type\":\"object\",\"name\":\"Selection\",\"id\":\"p1464\",\"attributes\":{\"indices\":[],\"line_indices\":[]}},\"selection_policy\":{\"type\":\"object\",\"name\":\"UnionRenderers\",\"id\":\"p1465\"},\"data\":{\"type\":\"map\",\"entries\":[[\"x\",[7.9,7.9,7.9,7.9,7.9,7.9,8.0,8.0,8.0,8.0,8.0,8.0,8.0,8.0,8.0,8.0,8.1,8.1,8.1,8.1,8.2,8.2,8.2,8.2,8.2,8.2,8.2,8.2,8.3,8.3,8.3,8.3,8.3,8.3,8.3,8.3,8.3,8.3,8.35,8.35,8.4,8.4,8.4,8.4,8.4,8.4,8.4,8.4,8.5,8.5,8.5,8.5,8.5,8.5,8.5,8.5,8.5,8.5,8.5,8.5,8.6,8.6,8.6,8.6,8.6,8.6,8.6,8.6,8.6,8.6,8.6,8.6,8.6,8.6,8.65,8.65,8.7,8.7,8.7,8.7,8.7,8.7,8.75,8.75,8.8,8.8,8.8,8.8,8.8,8.8,8.8,8.8,8.8,8.8,8.9,8.9,8.9,8.9,8.9,8.9,8.9,8.9,8.9,8.9,9.0,9.0,9.0,9.0,9.0,9.0,9.0,9.0,9.0,9.0,9.0,9.0,9.04,9.04,9.05,9.05,9.05,9.05,9.1,9.1,9.1,9.1,9.1,9.1,9.1,9.1,9.1,9.1,9.1,9.1,9.1,9.1,9.1,9.1,9.2,9.2,9.2,9.2,9.2,9.2,9.2,9.2,9.3,9.3,9.3,9.3,9.44,9.44,9.45,9.45,9.45,9.45,9.45,9.45,9.6,9.6,9.6,9.6,9.65,9.65,9.7,9.7,9.74,9.74,9.8,9.8,9.9,9.9,10.1,10.1,10.4,10.4,10.4,10.4,10.4,10.4,10.4,10.4,10.4,10.4,10.2,10.2,10.2,10.2,10.1,10.1,10.1,10.1,10.1,10.1,9.9,9.9,9.8,9.8,9.8,9.8,9.8,9.8,9.74,9.74,9.7,9.7,9.7,9.7,9.65,9.65,9.65,9.65,9.6,9.6,9.6,9.6,9.45,9.45,9.45,9.45,9.45,9.45,9.45,9.45,9.45,9.45,9.44,9.44,9.3,9.3,9.3,9.3,9.3,9.3,9.2,9.2,9.2,9.2,9.2,9.2,9.2,9.2,9.1,9.1,9.1,9.1,9.1,9.1,9.1,9.1,9.1,9.1,9.1,9.1,9.1,9.1,9.1,9.1,9.1,9.1,9.1,9.1,9.05,9.05,9.05,9.05,9.04,9.04,9.0,9.0,9.0,9.0,9.0,9.0,9.0,9.0,9.0,9.0,9.0,9.0,8.9,8.9,8.9,8.9,8.9,8.9,8.9,8.9,8.9,8.9,8.8,8.8,8.8,8.8,8.8,8.8,8.8,8.8,8.8,8.8,8.75,8.75,8.7,8.7,8.7,8.7,8.65,8.65,8.6,8.6,8.6,8.6,8.6,8.6,8.6,8.6,8.6,8.6,8.6,8.6,8.5,8.5,8.5,8.5,8.5,8.5,8.5,8.5,8.4,8.4,8.4,8.4,8.4,8.4,8.35,8.35,8.3,8.3,8.3,8.3,8.3,8.3,8.2,8.2,8.2,8.2,8.0,8.0]],[\"y\",[0.0,0.011494252873563218,0.011494252873563218,0.022988505747126436,0.022988505747126436,0.034482758620689655,0.034482758620689655,0.04597701149425287,0.04597701149425287,0.05747126436781609,0.05747126436781609,0.06896551724137931,0.06896551724137931,0.08045977011494253,0.08045977011494253,0.09195402298850575,0.09195402298850575,0.10344827586206896,0.10344827586206896,0.11494252873563218,0.11494252873563218,0.12643678160919541,0.12643678160919541,0.13793103448275862,0.13793103448275862,0.14942528735632185,0.14942528735632185,0.16091954022988506,0.16091954022988506,0.1724137931034483,0.1724137931034483,0.1839080459770115,0.1839080459770115,0.19540229885057472,0.19540229885057472,0.20689655172413793,0.20689655172413793,0.21839080459770116,0.21839080459770116,0.22988505747126436,0.22988505747126436,0.2413793103448276,0.2413793103448276,0.25287356321839083,0.25287356321839083,0.26436781609195403,0.26436781609195403,0.27586206896551724,0.27586206896551724,0.28735632183908044,0.28735632183908044,0.2988505747126437,0.2988505747126437,0.3103448275862069,0.3103448275862069,0.3218390804597701,0.3218390804597701,0.3333333333333333,0.3333333333333333,0.3448275862068966,0.3448275862068966,0.3563218390804598,0.3563218390804598,0.367816091954023,0.367816091954023,0.3793103448275862,0.3793103448275862,0.39080459770114945,0.39080459770114945,0.40229885057471265,0.40229885057471265,0.41379310344827586,0.41379310344827586,0.42528735632183906,0.42528735632183906,0.4367816091954023,0.4367816091954023,0.4482758620689655,0.4482758620689655,0.45977011494252873,0.45977011494252873,0.47126436781609193,0.47126436781609193,0.4827586206896552,0.4827586206896552,0.4942528735632184,0.4942528735632184,0.5057471264367817,0.5057471264367817,0.5172413793103449,0.5172413793103449,0.5287356321839081,0.5287356321839081,0.5402298850574713,0.5402298850574713,0.5517241379310345,0.5517241379310345,0.5632183908045977,0.5632183908045977,0.5747126436781609,0.5747126436781609,0.5862068965517241,0.5862068965517241,0.5977011494252874,0.5977011494252874,0.6091954022988506,0.6091954022988506,0.6206896551724138,0.6206896551724138,0.632183908045977,0.632183908045977,0.6436781609195402,0.6436781609195402,0.6551724137931034,0.6551724137931034,0.6666666666666666,0.6666666666666666,0.6781609195402298,0.6781609195402298,0.6896551724137931,0.6896551724137931,0.7011494252873564,0.7011494252873564,0.7126436781609196,0.7126436781609196,0.7241379310344828,0.7241379310344828,0.735632183908046,0.735632183908046,0.7471264367816092,0.7471264367816092,0.7586206896551724,0.7586206896551724,0.7701149425287356,0.7701149425287356,0.7816091954022989,0.7816091954022989,0.7931034482758621,0.7931034482758621,0.8045977011494253,0.8045977011494253,0.8160919540229885,0.8160919540229885,0.8275862068965517,0.8275862068965517,0.8390804597701149,0.8390804597701149,0.8505747126436781,0.8505747126436781,0.8620689655172413,0.8620689655172413,0.8735632183908046,0.8735632183908046,0.8850574712643678,0.8850574712643678,0.896551724137931,0.896551724137931,0.9080459770114943,0.9080459770114943,0.9195402298850575,0.9195402298850575,0.9310344827586207,0.9310344827586207,0.9425287356321839,0.9425287356321839,0.9540229885057471,0.9540229885057471,0.9655172413793104,0.9655172413793104,0.9770114942528736,0.9770114942528736,0.9885057471264368,0.9885057471264368,1.0,1.0,0.9885057471264368,0.9885057471264368,0.9770114942528736,0.9770114942528736,0.9655172413793104,0.9655172413793104,0.9540229885057471,0.9540229885057471,0.9425287356321839,0.9425287356321839,0.9310344827586207,0.9310344827586207,0.9195402298850575,0.9195402298850575,0.9080459770114943,0.9080459770114943,0.896551724137931,0.896551724137931,0.8850574712643678,0.8850574712643678,0.8735632183908046,0.8735632183908046,0.8620689655172413,0.8620689655172413,0.8505747126436781,0.8505747126436781,0.8390804597701149,0.8390804597701149,0.8275862068965517,0.8275862068965517,0.8160919540229885,0.8160919540229885,0.8045977011494253,0.8045977011494253,0.7931034482758621,0.7931034482758621,0.7816091954022989,0.7816091954022989,0.7701149425287356,0.7701149425287356,0.7586206896551724,0.7586206896551724,0.7471264367816092,0.7471264367816092,0.735632183908046,0.735632183908046,0.7241379310344828,0.7241379310344828,0.7126436781609196,0.7126436781609196,0.7011494252873564,0.7011494252873564,0.6896551724137931,0.6896551724137931,0.6781609195402298,0.6781609195402298,0.6666666666666666,0.6666666666666666,0.6551724137931034,0.6551724137931034,0.6436781609195402,0.6436781609195402,0.632183908045977,0.632183908045977,0.6206896551724138,0.6206896551724138,0.6091954022988506,0.6091954022988506,0.5977011494252874,0.5977011494252874,0.5862068965517241,0.5862068965517241,0.5747126436781609,0.5747126436781609,0.5632183908045977,0.5632183908045977,0.5517241379310345,0.5517241379310345,0.5402298850574713,0.5402298850574713,0.5287356321839081,0.5287356321839081,0.5172413793103449,0.5172413793103449,0.5057471264367817,0.5057471264367817,0.4942528735632184,0.4942528735632184,0.4827586206896552,0.4827586206896552,0.47126436781609193,0.47126436781609193,0.45977011494252873,0.45977011494252873,0.4482758620689655,0.4482758620689655,0.4367816091954023,0.4367816091954023,0.42528735632183906,0.42528735632183906,0.41379310344827586,0.41379310344827586,0.40229885057471265,0.40229885057471265,0.39080459770114945,0.39080459770114945,0.3793103448275862,0.3793103448275862,0.367816091954023,0.367816091954023,0.3563218390804598,0.3563218390804598,0.3448275862068966,0.3448275862068966,0.3333333333333333,0.3333333333333333,0.3218390804597701,0.3218390804597701,0.3103448275862069,0.3103448275862069,0.2988505747126437,0.2988505747126437,0.28735632183908044,0.28735632183908044,0.27586206896551724,0.27586206896551724,0.26436781609195403,0.26436781609195403,0.25287356321839083,0.25287356321839083,0.2413793103448276,0.2413793103448276,0.22988505747126436,0.22988505747126436,0.21839080459770116,0.21839080459770116,0.20689655172413793,0.20689655172413793,0.19540229885057472,0.19540229885057472,0.1839080459770115,0.1839080459770115,0.1724137931034483,0.1724137931034483,0.16091954022988506,0.16091954022988506,0.14942528735632185,0.14942528735632185,0.13793103448275862,0.13793103448275862,0.12643678160919541,0.12643678160919541,0.11494252873563218,0.11494252873563218,0.10344827586206896,0.10344827586206896,0.09195402298850575,0.09195402298850575,0.08045977011494253,0.08045977011494253,0.06896551724137931,0.06896551724137931,0.05747126436781609,0.05747126436781609,0.04597701149425287,0.04597701149425287,0.034482758620689655,0.034482758620689655,0.022988505747126436,0.022988505747126436,0.011494252873563218,0.011494252873563218,0.0]]]}}},\"view\":{\"type\":\"object\",\"name\":\"CDSView\",\"id\":\"p1470\",\"attributes\":{\"filter\":{\"type\":\"object\",\"name\":\"AllIndices\",\"id\":\"p1471\"}}},\"glyph\":{\"type\":\"object\",\"name\":\"Patch\",\"id\":\"p1466\",\"attributes\":{\"x\":{\"type\":\"field\",\"field\":\"x\"},\"y\":{\"type\":\"field\",\"field\":\"y\"},\"line_color\":\"#1f77b4\",\"line_alpha\":0,\"fill_color\":\"#1f77b3\",\"fill_alpha\":0.3}},\"nonselection_glyph\":{\"type\":\"object\",\"name\":\"Patch\",\"id\":\"p1467\",\"attributes\":{\"x\":{\"type\":\"field\",\"field\":\"x\"},\"y\":{\"type\":\"field\",\"field\":\"y\"},\"line_color\":\"#1f77b4\",\"line_alpha\":0.1,\"fill_color\":\"#1f77b3\",\"fill_alpha\":0.1,\"hatch_alpha\":0.1}},\"muted_glyph\":{\"type\":\"object\",\"name\":\"Patch\",\"id\":\"p1468\",\"attributes\":{\"x\":{\"type\":\"field\",\"field\":\"x\"},\"y\":{\"type\":\"field\",\"field\":\"y\"},\"line_color\":\"#1f77b4\",\"line_alpha\":0.2,\"fill_color\":\"#1f77b3\",\"fill_alpha\":0.2,\"hatch_alpha\":0.2}}}},{\"type\":\"object\",\"name\":\"GlyphRenderer\",\"id\":\"p1478\",\"attributes\":{\"data_source\":{\"type\":\"object\",\"name\":\"ColumnDataSource\",\"id\":\"p1472\",\"attributes\":{\"selected\":{\"type\":\"object\",\"name\":\"Selection\",\"id\":\"p1473\",\"attributes\":{\"indices\":[],\"line_indices\":[]}},\"selection_policy\":{\"type\":\"object\",\"name\":\"UnionRenderers\",\"id\":\"p1474\"},\"data\":{\"type\":\"map\",\"entries\":[[\"x\",{\"type\":\"ndarray\",\"array\":{\"type\":\"bytes\",\"data\":\"mpmZmZmZH0CamZmZmZkfQAAAAAAAACBAAAAAAAAAIEAAAAAAAAAgQAAAAAAAACBAAAAAAAAAIEAAAAAAAAAgQDMzMzMzMyBAMzMzMzMzIEBmZmZmZmYgQGZmZmZmZiBAZmZmZmZmIEBmZmZmZmYgQGZmZmZmZiBAZmZmZmZmIECamZmZmZkgQJqZmZmZmSBAmpmZmZmZIECamZmZmZkgQJqZmZmZmSBAmpmZmZmZIECamZmZmZkgQJqZmZmZmSBAMzMzMzOzIEAzMzMzM7MgQM3MzMzMzCBAzczMzMzMIEDNzMzMzMwgQM3MzMzMzCBAzczMzMzMIEDNzMzMzMwgQM3MzMzMzCBAzczMzMzMIEAAAAAAAAAhQAAAAAAAACFAAAAAAAAAIUAAAAAAAAAhQAAAAAAAACFAAAAAAAAAIUAAAAAAAAAhQAAAAAAAACFAAAAAAAAAIUAAAAAAAAAhQDMzMzMzMyFAMzMzMzMzIUAzMzMzMzMhQDMzMzMzMyFAMzMzMzMzIUAzMzMzMzMhQDMzMzMzMyFAMzMzMzMzIUAzMzMzMzMhQDMzMzMzMyFAMzMzMzMzIUAzMzMzMzMhQM3MzMzMTCFAzczMzMxMIUBmZmZmZmYhQGZmZmZmZiFAZmZmZmZmIUBmZmZmZmYhQGZmZmZmZiFAZmZmZmZmIUAAAAAAAIAhQAAAAAAAgCFAmpmZmZmZIUCamZmZmZkhQJqZmZmZmSFAmpmZmZmZIUCamZmZmZkhQJqZmZmZmSFAmpmZmZmZIUCamZmZmZkhQJqZmZmZmSFAmpmZmZmZIUDNzMzMzMwhQM3MzMzMzCFAzczMzMzMIUDNzMzMzMwhQM3MzMzMzCFAzczMzMzMIUDNzMzMzMwhQM3MzMzMzCFAzczMzMzMIUDNzMzMzMwhQAAAAAAAACJAAAAAAAAAIkAAAAAAAAAiQAAAAAAAACJAAAAAAAAAIkAAAAAAAAAiQAAAAAAAACJAAAAAAAAAIkAAAAAAAAAiQAAAAAAAACJAAAAAAAAAIkAAAAAAAAAiQBSuR+F6FCJAFK5H4XoUIkCamZmZmRkiQJqZmZmZGSJAmpmZmZkZIkCamZmZmRkiQDMzMzMzMyJAMzMzMzMzIkAzMzMzMzMiQDMzMzMzMyJAMzMzMzMzIkAzMzMzMzMiQDMzMzMzMyJAMzMzMzMzIkAzMzMzMzMiQDMzMzMzMyJAMzMzMzMzIkAzMzMzMzMiQDMzMzMzMyJAMzMzMzMzIkAzMzMzMzMiQDMzMzMzMyJAMzMzMzMzIkAzMzMzMzMiQGZmZmZmZiJAZmZmZmZmIkBmZmZmZmYiQGZmZmZmZiJAZmZmZmZmIkBmZmZmZmYiQGZmZmZmZiJAZmZmZmZmIkCamZmZmZkiQJqZmZmZmSJAmpmZmZmZIkCamZmZmZkiQJqZmZmZmSJAmpmZmZmZIkDhehSuR+EiQOF6FK5H4SJAZmZmZmbmIkBmZmZmZuYiQGZmZmZm5iJAZmZmZmbmIkBmZmZmZuYiQGZmZmZm5iJAZmZmZmbmIkBmZmZmZuYiQDMzMzMzMyNAMzMzMzMzI0AzMzMzMzMjQDMzMzMzMyNAzczMzMxMI0DNzMzMzEwjQGZmZmZmZiNAZmZmZmZmI0BmZmZmZmYjQGZmZmZmZiNAexSuR+F6I0B7FK5H4XojQJqZmZmZmSNAmpmZmZmZI0CamZmZmZkjQJqZmZmZmSNAzczMzMzMI0DNzMzMzMwjQDMzMzMzMyRAMzMzMzMzJEAzMzMzMzMkQDMzMzMzMyRAZmZmZmZmJEBmZmZmZmYkQM3MzMzMzCRAzczMzMzMJEDNzMzMzMwkQM3MzMzMzCRA\"},\"shape\":[174],\"dtype\":\"float64\",\"order\":\"little\"}],[\"y\",{\"type\":\"ndarray\",\"array\":{\"type\":\"bytes\",\"data\":\"AAAAAAAAAADIpHiBTIqHP8ikeIFMioc/yKR4gUyKlz/IpHiBTIqXP5Z7GmG5p6E/lnsaYbmnoT/IpHiBTIqnP8ikeIFMiqc/+s3Wod9srT/6zdah32ytP5Z7GmG5p7E/lnsaYbmnsT8vkEnxApm0Py+QSfECmbQ/yKR4gUyKtz/IpHiBTIq3P2G5pxGWe7o/YbmnEZZ7uj/6zdah32y9P/rN1qHfbL0/SvECmRQvwD9K8QKZFC/AP5Z7GmG5p8E/lnsaYbmnwT/jBTIpXiDDP+MFMileIMM/L5BJ8QKZxD8vkEnxApnEP3waYbmnEcY/fBphuacRxj/IpHiBTIrHP8ikeIFMisc/FS+QSfECyT8VL5BJ8QLJP2G5pxGWe8o/YbmnEZZ7yj+uQ7/ZOvTLP65Dv9k69Ms/+s3Wod9szT/6zdah32zNP0dY7mmE5c4/R1juaYTlzj9K8QKZFC/QP0rxApkUL9A/cLYO/Wbr0D9wtg79ZuvQP5Z7GmG5p9E/lnsaYbmn0T+8QCbFC2TSP7xAJsULZNI/4wUyKV4g0z/jBTIpXiDTPwnLPY2w3NM/Ccs9jbDc0z8vkEnxApnUPy+QSfECmdQ/VVVVVVVV1T9VVVVVVVXVP3waYbmnEdY/fBphuacR1j+i32wd+s3WP6LfbB36zdY/yKR4gUyK1z/IpHiBTIrXP+5phOWeRtg/7mmE5Z5G2D8VL5BJ8QLZPxUvkEnxAtk/O/SbrUO/2T879JutQ7/ZP2G5pxGWe9o/YbmnEZZ72j+HfrN16DfbP4d+s3XoN9s/rkO/2Tr02z+uQ7/ZOvTbP9QIyz2NsNw/1AjLPY2w3D/6zdah32zdP/rN1qHfbN0/IJPiBTIp3j8gk+IFMineP0dY7mmE5d4/R1juaYTl3j9tHfrN1qHfP20d+s3Wod8/SvECmRQv4D9K8QKZFC/gP93TCMs9jeA/3dMIyz2N4D9wtg79ZuvgP3C2Dv1m6+A/A5kUL5BJ4T8DmRQvkEnhP5Z7GmG5p+E/lnsaYbmn4T8pXiCT4gXiPyleIJPiBeI/vEAmxQtk4j+8QCbFC2TiP08jLPc0wuI/TyMs9zTC4j/jBTIpXiDjP+MFMileIOM/dug3W4d+4z926Ddbh37jPwnLPY2w3OM/Ccs9jbDc4z+crUO/2TrkP5ytQ7/ZOuQ/L5BJ8QKZ5D8vkEnxApnkP8JyTyMs9+Q/wnJPIyz35D9VVVVVVVXlP1VVVVVVVeU/6Ddbh36z5T/oN1uHfrPlP3waYbmnEeY/fBphuacR5j8P/Wbr0G/mPw/9ZuvQb+Y/ot9sHfrN5j+i32wd+s3mPzXCck8jLOc/NcJyTyMs5z/IpHiBTIrnP8ikeIFMiuc/W4d+s3Xo5z9bh36zdejnP+5phOWeRug/7mmE5Z5G6D+BTIoXyKToP4FMihfIpOg/FS+QSfEC6T8VL5BJ8QLpP6gRlnsaYek/qBGWexph6T879JutQ7/pPzv0m61Dv+k/ztah32wd6j/O1qHfbB3qP2G5pxGWe+o/YbmnEZZ76j/0m61Dv9nqP/SbrUO/2eo/h36zdeg36z+HfrN16DfrPxphuacRlus/GmG5pxGW6z+uQ7/ZOvTrP65Dv9k69Os/QSbFC2RS7D9BJsULZFLsP9QIyz2NsOw/1AjLPY2w7D9n69Bvtg7tP2fr0G+2Du0/+s3Wod9s7T/6zdah32ztP42w3NMIy+0/jbDc0wjL7T8gk+IFMinuPyCT4gUyKe4/s3XoN1uH7j+zdeg3W4fuP0dY7mmE5e4/R1juaYTl7j/aOvSbrUPvP9o69JutQ+8/bR36zdah7z9tHfrN1qHvPwAAAAAAAPA/\"},\"shape\":[174],\"dtype\":\"float64\",\"order\":\"little\"}]]}}},\"view\":{\"type\":\"object\",\"name\":\"CDSView\",\"id\":\"p1479\",\"attributes\":{\"filter\":{\"type\":\"object\",\"name\":\"AllIndices\",\"id\":\"p1480\"}}},\"glyph\":{\"type\":\"object\",\"name\":\"Line\",\"id\":\"p1475\",\"attributes\":{\"x\":{\"type\":\"field\",\"field\":\"x\"},\"y\":{\"type\":\"field\",\"field\":\"y\"},\"line_color\":\"#1f77b3\",\"line_width\":2}},\"nonselection_glyph\":{\"type\":\"object\",\"name\":\"Line\",\"id\":\"p1476\",\"attributes\":{\"x\":{\"type\":\"field\",\"field\":\"x\"},\"y\":{\"type\":\"field\",\"field\":\"y\"},\"line_color\":\"#1f77b3\",\"line_alpha\":0.1,\"line_width\":2}},\"muted_glyph\":{\"type\":\"object\",\"name\":\"Line\",\"id\":\"p1477\",\"attributes\":{\"x\":{\"type\":\"field\",\"field\":\"x\"},\"y\":{\"type\":\"field\",\"field\":\"y\"},\"line_color\":\"#1f77b3\",\"line_alpha\":0.2,\"line_width\":2}}}},{\"type\":\"object\",\"name\":\"GlyphRenderer\",\"id\":\"p1487\",\"attributes\":{\"data_source\":{\"type\":\"object\",\"name\":\"ColumnDataSource\",\"id\":\"p1481\",\"attributes\":{\"selected\":{\"type\":\"object\",\"name\":\"Selection\",\"id\":\"p1482\",\"attributes\":{\"indices\":[],\"line_indices\":[]}},\"selection_policy\":{\"type\":\"object\",\"name\":\"UnionRenderers\",\"id\":\"p1483\"},\"data\":{\"type\":\"map\"}}},\"view\":{\"type\":\"object\",\"name\":\"CDSView\",\"id\":\"p1488\",\"attributes\":{\"filter\":{\"type\":\"object\",\"name\":\"AllIndices\",\"id\":\"p1489\"}}},\"glyph\":{\"type\":\"object\",\"name\":\"Ray\",\"id\":\"p1484\",\"attributes\":{\"x\":{\"type\":\"value\",\"value\":7.9},\"y\":{\"type\":\"value\",\"value\":0},\"angle\":{\"type\":\"value\",\"value\":3.141592653589793},\"line_color\":{\"type\":\"value\",\"value\":\"#1f77b3\"},\"line_width\":{\"type\":\"value\",\"value\":2}}},\"nonselection_glyph\":{\"type\":\"object\",\"name\":\"Ray\",\"id\":\"p1485\",\"attributes\":{\"x\":{\"type\":\"value\",\"value\":7.9},\"y\":{\"type\":\"value\",\"value\":0},\"angle\":{\"type\":\"value\",\"value\":3.141592653589793},\"line_color\":{\"type\":\"value\",\"value\":\"#1f77b3\"},\"line_alpha\":{\"type\":\"value\",\"value\":0.1},\"line_width\":{\"type\":\"value\",\"value\":2}}},\"muted_glyph\":{\"type\":\"object\",\"name\":\"Ray\",\"id\":\"p1486\",\"attributes\":{\"x\":{\"type\":\"value\",\"value\":7.9},\"y\":{\"type\":\"value\",\"value\":0},\"angle\":{\"type\":\"value\",\"value\":3.141592653589793},\"line_color\":{\"type\":\"value\",\"value\":\"#1f77b3\"},\"line_alpha\":{\"type\":\"value\",\"value\":0.2},\"line_width\":{\"type\":\"value\",\"value\":2}}}}},{\"type\":\"object\",\"name\":\"GlyphRenderer\",\"id\":\"p1496\",\"attributes\":{\"data_source\":{\"type\":\"object\",\"name\":\"ColumnDataSource\",\"id\":\"p1490\",\"attributes\":{\"selected\":{\"type\":\"object\",\"name\":\"Selection\",\"id\":\"p1491\",\"attributes\":{\"indices\":[],\"line_indices\":[]}},\"selection_policy\":{\"type\":\"object\",\"name\":\"UnionRenderers\",\"id\":\"p1492\"},\"data\":{\"type\":\"map\"}}},\"view\":{\"type\":\"object\",\"name\":\"CDSView\",\"id\":\"p1497\",\"attributes\":{\"filter\":{\"type\":\"object\",\"name\":\"AllIndices\",\"id\":\"p1498\"}}},\"glyph\":{\"type\":\"object\",\"name\":\"Ray\",\"id\":\"p1493\",\"attributes\":{\"x\":{\"type\":\"value\",\"value\":10.4},\"y\":{\"type\":\"value\",\"value\":1},\"line_color\":{\"type\":\"value\",\"value\":\"#1f77b3\"},\"line_width\":{\"type\":\"value\",\"value\":2}}},\"nonselection_glyph\":{\"type\":\"object\",\"name\":\"Ray\",\"id\":\"p1494\",\"attributes\":{\"x\":{\"type\":\"value\",\"value\":10.4},\"y\":{\"type\":\"value\",\"value\":1},\"line_color\":{\"type\":\"value\",\"value\":\"#1f77b3\"},\"line_alpha\":{\"type\":\"value\",\"value\":0.1},\"line_width\":{\"type\":\"value\",\"value\":2}}},\"muted_glyph\":{\"type\":\"object\",\"name\":\"Ray\",\"id\":\"p1495\",\"attributes\":{\"x\":{\"type\":\"value\",\"value\":10.4},\"y\":{\"type\":\"value\",\"value\":1},\"line_color\":{\"type\":\"value\",\"value\":\"#1f77b3\"},\"line_alpha\":{\"type\":\"value\",\"value\":0.2},\"line_width\":{\"type\":\"value\",\"value\":2}}}}},{\"type\":\"object\",\"name\":\"GlyphRenderer\",\"id\":\"p1505\",\"attributes\":{\"data_source\":{\"type\":\"object\",\"name\":\"ColumnDataSource\",\"id\":\"p1499\",\"attributes\":{\"selected\":{\"type\":\"object\",\"name\":\"Selection\",\"id\":\"p1500\",\"attributes\":{\"indices\":[],\"line_indices\":[]}},\"selection_policy\":{\"type\":\"object\",\"name\":\"UnionRenderers\",\"id\":\"p1501\"},\"data\":{\"type\":\"map\",\"entries\":[[\"x\",[7.7,7.7,7.7,7.7,7.7,7.7,7.7,7.7,7.7,7.7,7.8,7.8,7.8,7.8,7.9,7.9,8.0,8.0,8.0,8.0,8.0,8.0,8.0,8.0,8.1,8.1,8.1,8.1,8.1,8.1,8.2,8.2,8.2,8.2,8.2,8.2,8.3,8.3,8.3,8.3,8.4,8.4,8.4,8.4,8.4,8.4,8.4,8.4,8.4,8.4,8.4,8.4,8.4,8.4,8.5,8.5,8.5,8.5,8.5,8.5,8.5,8.5,8.5,8.5,8.6,8.6,8.6,8.6,8.7,8.7,8.7,8.7,8.7,8.7,8.7,8.7,8.7,8.7,8.7,8.7,8.8,8.8,8.8,8.8,8.8,8.8,8.8,8.8,8.8,8.8,8.85,8.85,8.9,8.9,8.9,8.9,8.9,8.9,8.9,8.9,8.9,8.9,8.9,8.9,8.9,8.9,8.9,8.9,8.9,8.9,8.9,8.9,8.9,8.9,8.95,8.95,9.0,9.0,9.0,9.0,9.0,9.0,9.0,9.0,9.0,9.0,9.0,9.0,9.0,9.0,9.1,9.1,9.1,9.1,9.1,9.1,9.1,9.1,9.1,9.1,9.1,9.1,9.15,9.15,9.2,9.2,9.2,9.2,9.2,9.2,9.2,9.2,9.3,9.3,9.3,9.3,9.3,9.3,9.3,9.3,9.3,9.3,9.3,9.3,9.3,9.3,9.3,9.3,9.3,9.3,9.4,9.4,9.4,9.4,9.4,9.4,9.4,9.4,9.4,9.4,9.4,9.4,9.4,9.4,9.5,9.5,9.5,9.5,9.5,9.5,9.5,9.5,9.5,9.5,9.5,9.5,9.5,9.5,9.5,9.5,9.5,9.5,9.5,9.5,9.6,9.6,9.6,9.6,9.6,9.6,9.6,9.6,9.6,9.6,9.7,9.7,9.7,9.7,9.8,9.8,9.8,9.8,9.8,9.8,9.8,9.8,9.8,9.8,9.8,9.8,9.9,9.9,9.9,9.9,10.0,10.0,10.0,10.0,10.0,10.0,10.0,10.0,10.2,10.2,10.2,10.2,10.2,10.2,10.5,10.5,10.6,10.6,11.0,11.0,11.0,11.0,11.0,11.0,10.8,10.8,10.8,10.8,10.6,10.6,10.6,10.6,10.6,10.6,10.5,10.5,10.5,10.5,10.5,10.5,10.2,10.2,10.2,10.2,10.2,10.2,10.2,10.2,10.2,10.2,10.2,10.2,10.2,10.2,10.0,10.0,10.0,10.0,10.0,10.0,10.0,10.0,10.0,10.0,10.0,10.0,9.9,9.9,9.9,9.9,9.8,9.8,9.8,9.8,9.8,9.8,9.8,9.8,9.8,9.8,9.8,9.8,9.8,9.8,9.8,9.8,9.8,9.8,9.7,9.7,9.7,9.7,9.6,9.6,9.6,9.6,9.6,9.6,9.6,9.6,9.6,9.6,9.6,9.6,9.5,9.5,9.5,9.5,9.5,9.5,9.5,9.5,9.5,9.5,9.5,9.5,9.5,9.5,9.5,9.5,9.5,9.5,9.5,9.5,9.5,9.5,9.5,9.5,9.4,9.4,9.4,9.4,9.4,9.4,9.4,9.4,9.4,9.4,9.4,9.4,9.4,9.4,9.4,9.4,9.3,9.3,9.3,9.3,9.3,9.3,9.3,9.3,9.3,9.3,9.3,9.3,9.3,9.3,9.3,9.3,9.3,9.3,9.2,9.2,9.2,9.2,9.2,9.2,9.2,9.2,9.15,9.15,9.1,9.1,9.1,9.1,9.1,9.1,9.1,9.1,9.1,9.1,9.1,9.1,9.0,9.0,9.0,9.0,9.0,9.0,9.0,9.0,9.0,9.0,9.0,9.0,9.0,9.0,8.9,8.9,8.9,8.9,8.9,8.9,8.9,8.9,8.9,8.9,8.9,8.9,8.9,8.9,8.9,8.9,8.9,8.9,8.9,8.9,8.85,8.85,8.8,8.8,8.8,8.8,8.8,8.8,8.8,8.8,8.7,8.7,8.7,8.7,8.7,8.7,8.7,8.7,8.6,8.6,8.6,8.6,8.5,8.5,8.5,8.5,8.5,8.5,8.5,8.5,8.4,8.4,8.4,8.4,8.4,8.4,8.4,8.4,8.3,8.3,8.3,8.3,8.2,8.2,8.1,8.1,8.1,8.1,8.0,8.0,7.9,7.9]],[\"y\",[0.0,0.007936507936507936,0.007936507936507936,0.015873015873015872,0.015873015873015872,0.023809523809523808,0.023809523809523808,0.031746031746031744,0.031746031746031744,0.03968253968253968,0.03968253968253968,0.047619047619047616,0.047619047619047616,0.05555555555555555,0.05555555555555555,0.06349206349206349,0.06349206349206349,0.07142857142857142,0.07142857142857142,0.07936507936507936,0.07936507936507936,0.0873015873015873,0.0873015873015873,0.09523809523809523,0.09523809523809523,0.10317460317460317,0.10317460317460317,0.1111111111111111,0.1111111111111111,0.11904761904761904,0.11904761904761904,0.12698412698412698,0.12698412698412698,0.1349206349206349,0.1349206349206349,0.14285714285714285,0.14285714285714285,0.15079365079365079,0.15079365079365079,0.15873015873015872,0.15873015873015872,0.16666666666666666,0.16666666666666666,0.1746031746031746,0.1746031746031746,0.18253968253968253,0.18253968253968253,0.19047619047619047,0.19047619047619047,0.1984126984126984,0.1984126984126984,0.20634920634920634,0.20634920634920634,0.21428571428571427,0.21428571428571427,0.2222222222222222,0.2222222222222222,0.23015873015873015,0.23015873015873015,0.23809523809523808,0.23809523809523808,0.24603174603174602,0.24603174603174602,0.25396825396825395,0.25396825396825395,0.2619047619047619,0.2619047619047619,0.2698412698412698,0.2698412698412698,0.2777777777777778,0.2777777777777778,0.2857142857142857,0.2857142857142857,0.29365079365079366,0.29365079365079366,0.30158730158730157,0.30158730158730157,0.30952380952380953,0.30952380952380953,0.31746031746031744,0.31746031746031744,0.3253968253968254,0.3253968253968254,0.3333333333333333,0.3333333333333333,0.3412698412698413,0.3412698412698413,0.3492063492063492,0.3492063492063492,0.35714285714285715,0.35714285714285715,0.36507936507936506,0.36507936507936506,0.373015873015873,0.373015873015873,0.38095238095238093,0.38095238095238093,0.3888888888888889,0.3888888888888889,0.3968253968253968,0.3968253968253968,0.40476190476190477,0.40476190476190477,0.4126984126984127,0.4126984126984127,0.42063492063492064,0.42063492063492064,0.42857142857142855,0.42857142857142855,0.4365079365079365,0.4365079365079365,0.4444444444444444,0.4444444444444444,0.4523809523809524,0.4523809523809524,0.4603174603174603,0.4603174603174603,0.46825396825396826,0.46825396825396826,0.47619047619047616,0.47619047619047616,0.48412698412698413,0.48412698412698413,0.49206349206349204,0.49206349206349204,0.5,0.5,0.5079365079365079,0.5079365079365079,0.5158730158730159,0.5158730158730159,0.5238095238095238,0.5238095238095238,0.5317460317460317,0.5317460317460317,0.5396825396825397,0.5396825396825397,0.5476190476190477,0.5476190476190477,0.5555555555555556,0.5555555555555556,0.5634920634920635,0.5634920634920635,0.5714285714285714,0.5714285714285714,0.5793650793650794,0.5793650793650794,0.5873015873015873,0.5873015873015873,0.5952380952380952,0.5952380952380952,0.6031746031746031,0.6031746031746031,0.6111111111111112,0.6111111111111112,0.6190476190476191,0.6190476190476191,0.626984126984127,0.626984126984127,0.6349206349206349,0.6349206349206349,0.6428571428571429,0.6428571428571429,0.6507936507936508,0.6507936507936508,0.6587301587301587,0.6587301587301587,0.6666666666666666,0.6666666666666666,0.6746031746031746,0.6746031746031746,0.6825396825396826,0.6825396825396826,0.6904761904761905,0.6904761904761905,0.6984126984126984,0.6984126984126984,0.7063492063492064,0.7063492063492064,0.7142857142857143,0.7142857142857143,0.7222222222222222,0.7222222222222222,0.7301587301587301,0.7301587301587301,0.7380952380952381,0.7380952380952381,0.746031746031746,0.746031746031746,0.753968253968254,0.753968253968254,0.7619047619047619,0.7619047619047619,0.7698412698412699,0.7698412698412699,0.7777777777777778,0.7777777777777778,0.7857142857142857,0.7857142857142857,0.7936507936507936,0.7936507936507936,0.8015873015873016,0.8015873015873016,0.8095238095238095,0.8095238095238095,0.8174603174603174,0.8174603174603174,0.8253968253968254,0.8253968253968254,0.8333333333333334,0.8333333333333334,0.8412698412698413,0.8412698412698413,0.8492063492063492,0.8492063492063492,0.8571428571428571,0.8571428571428571,0.8650793650793651,0.8650793650793651,0.873015873015873,0.873015873015873,0.8809523809523809,0.8809523809523809,0.8888888888888888,0.8888888888888888,0.8968253968253969,0.8968253968253969,0.9047619047619048,0.9047619047619048,0.9126984126984127,0.9126984126984127,0.9206349206349206,0.9206349206349206,0.9285714285714286,0.9285714285714286,0.9365079365079365,0.9365079365079365,0.9444444444444444,0.9444444444444444,0.9523809523809523,0.9523809523809523,0.9603174603174603,0.9603174603174603,0.9682539682539683,0.9682539682539683,0.9761904761904762,0.9761904761904762,0.9841269841269841,0.9841269841269841,0.9920634920634921,0.9920634920634921,1.0,1.0,0.9920634920634921,0.9920634920634921,0.9841269841269841,0.9841269841269841,0.9761904761904762,0.9761904761904762,0.9682539682539683,0.9682539682539683,0.9603174603174603,0.9603174603174603,0.9523809523809523,0.9523809523809523,0.9444444444444444,0.9444444444444444,0.9365079365079365,0.9365079365079365,0.9285714285714286,0.9285714285714286,0.9206349206349206,0.9206349206349206,0.9126984126984127,0.9126984126984127,0.9047619047619048,0.9047619047619048,0.8968253968253969,0.8968253968253969,0.8888888888888888,0.8888888888888888,0.8809523809523809,0.8809523809523809,0.873015873015873,0.873015873015873,0.8650793650793651,0.8650793650793651,0.8571428571428571,0.8571428571428571,0.8492063492063492,0.8492063492063492,0.8412698412698413,0.8412698412698413,0.8333333333333334,0.8333333333333334,0.8253968253968254,0.8253968253968254,0.8174603174603174,0.8174603174603174,0.8095238095238095,0.8095238095238095,0.8015873015873016,0.8015873015873016,0.7936507936507936,0.7936507936507936,0.7857142857142857,0.7857142857142857,0.7777777777777778,0.7777777777777778,0.7698412698412699,0.7698412698412699,0.7619047619047619,0.7619047619047619,0.753968253968254,0.753968253968254,0.746031746031746,0.746031746031746,0.7380952380952381,0.7380952380952381,0.7301587301587301,0.7301587301587301,0.7222222222222222,0.7222222222222222,0.7142857142857143,0.7142857142857143,0.7063492063492064,0.7063492063492064,0.6984126984126984,0.6984126984126984,0.6904761904761905,0.6904761904761905,0.6825396825396826,0.6825396825396826,0.6746031746031746,0.6746031746031746,0.6666666666666666,0.6666666666666666,0.6587301587301587,0.6587301587301587,0.6507936507936508,0.6507936507936508,0.6428571428571429,0.6428571428571429,0.6349206349206349,0.6349206349206349,0.626984126984127,0.626984126984127,0.6190476190476191,0.6190476190476191,0.6111111111111112,0.6111111111111112,0.6031746031746031,0.6031746031746031,0.5952380952380952,0.5952380952380952,0.5873015873015873,0.5873015873015873,0.5793650793650794,0.5793650793650794,0.5714285714285714,0.5714285714285714,0.5634920634920635,0.5634920634920635,0.5555555555555556,0.5555555555555556,0.5476190476190477,0.5476190476190477,0.5396825396825397,0.5396825396825397,0.5317460317460317,0.5317460317460317,0.5238095238095238,0.5238095238095238,0.5158730158730159,0.5158730158730159,0.5079365079365079,0.5079365079365079,0.5,0.5,0.49206349206349204,0.49206349206349204,0.48412698412698413,0.48412698412698413,0.47619047619047616,0.47619047619047616,0.46825396825396826,0.46825396825396826,0.4603174603174603,0.4603174603174603,0.4523809523809524,0.4523809523809524,0.4444444444444444,0.4444444444444444,0.4365079365079365,0.4365079365079365,0.42857142857142855,0.42857142857142855,0.42063492063492064,0.42063492063492064,0.4126984126984127,0.4126984126984127,0.40476190476190477,0.40476190476190477,0.3968253968253968,0.3968253968253968,0.3888888888888889,0.3888888888888889,0.38095238095238093,0.38095238095238093,0.373015873015873,0.373015873015873,0.36507936507936506,0.36507936507936506,0.35714285714285715,0.35714285714285715,0.3492063492063492,0.3492063492063492,0.3412698412698413,0.3412698412698413,0.3333333333333333,0.3333333333333333,0.3253968253968254,0.3253968253968254,0.31746031746031744,0.31746031746031744,0.30952380952380953,0.30952380952380953,0.30158730158730157,0.30158730158730157,0.29365079365079366,0.29365079365079366,0.2857142857142857,0.2857142857142857,0.2777777777777778,0.2777777777777778,0.2698412698412698,0.2698412698412698,0.2619047619047619,0.2619047619047619,0.25396825396825395,0.25396825396825395,0.24603174603174602,0.24603174603174602,0.23809523809523808,0.23809523809523808,0.23015873015873015,0.23015873015873015,0.2222222222222222,0.2222222222222222,0.21428571428571427,0.21428571428571427,0.20634920634920634,0.20634920634920634,0.1984126984126984,0.1984126984126984,0.19047619047619047,0.19047619047619047,0.18253968253968253,0.18253968253968253,0.1746031746031746,0.1746031746031746,0.16666666666666666,0.16666666666666666,0.15873015873015872,0.15873015873015872,0.15079365079365079,0.15079365079365079,0.14285714285714285,0.14285714285714285,0.1349206349206349,0.1349206349206349,0.12698412698412698,0.12698412698412698,0.11904761904761904,0.11904761904761904,0.1111111111111111,0.1111111111111111,0.10317460317460317,0.10317460317460317,0.09523809523809523,0.09523809523809523,0.0873015873015873,0.0873015873015873,0.07936507936507936,0.07936507936507936,0.07142857142857142,0.07142857142857142,0.06349206349206349,0.06349206349206349,0.05555555555555555,0.05555555555555555,0.047619047619047616,0.047619047619047616,0.03968253968253968,0.03968253968253968,0.031746031746031744,0.031746031746031744,0.023809523809523808,0.023809523809523808,0.015873015873015872,0.015873015873015872,0.007936507936507936,0.007936507936507936,0.0]]]}}},\"view\":{\"type\":\"object\",\"name\":\"CDSView\",\"id\":\"p1506\",\"attributes\":{\"filter\":{\"type\":\"object\",\"name\":\"AllIndices\",\"id\":\"p1507\"}}},\"glyph\":{\"type\":\"object\",\"name\":\"Patch\",\"id\":\"p1502\",\"attributes\":{\"x\":{\"type\":\"field\",\"field\":\"x\"},\"y\":{\"type\":\"field\",\"field\":\"y\"},\"line_color\":\"#1f77b4\",\"line_alpha\":0,\"fill_color\":\"#ff7e0e\",\"fill_alpha\":0.3}},\"nonselection_glyph\":{\"type\":\"object\",\"name\":\"Patch\",\"id\":\"p1503\",\"attributes\":{\"x\":{\"type\":\"field\",\"field\":\"x\"},\"y\":{\"type\":\"field\",\"field\":\"y\"},\"line_color\":\"#1f77b4\",\"line_alpha\":0.1,\"fill_color\":\"#ff7e0e\",\"fill_alpha\":0.1,\"hatch_alpha\":0.1}},\"muted_glyph\":{\"type\":\"object\",\"name\":\"Patch\",\"id\":\"p1504\",\"attributes\":{\"x\":{\"type\":\"field\",\"field\":\"x\"},\"y\":{\"type\":\"field\",\"field\":\"y\"},\"line_color\":\"#1f77b4\",\"line_alpha\":0.2,\"fill_color\":\"#ff7e0e\",\"fill_alpha\":0.2,\"hatch_alpha\":0.2}}}},{\"type\":\"object\",\"name\":\"GlyphRenderer\",\"id\":\"p1514\",\"attributes\":{\"data_source\":{\"type\":\"object\",\"name\":\"ColumnDataSource\",\"id\":\"p1508\",\"attributes\":{\"selected\":{\"type\":\"object\",\"name\":\"Selection\",\"id\":\"p1509\",\"attributes\":{\"indices\":[],\"line_indices\":[]}},\"selection_policy\":{\"type\":\"object\",\"name\":\"UnionRenderers\",\"id\":\"p1510\"},\"data\":{\"type\":\"map\",\"entries\":[[\"x\",{\"type\":\"ndarray\",\"array\":{\"type\":\"bytes\",\"data\":\"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\"},\"shape\":[252],\"dtype\":\"float64\",\"order\":\"little\"}],[\"y\",{\"type\":\"ndarray\",\"array\":{\"type\":\"bytes\",\"data\":\"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\"},\"shape\":[252],\"dtype\":\"float64\",\"order\":\"little\"}]]}}},\"view\":{\"type\":\"object\",\"name\":\"CDSView\",\"id\":\"p1515\",\"attributes\":{\"filter\":{\"type\":\"object\",\"name\":\"AllIndices\",\"id\":\"p1516\"}}},\"glyph\":{\"type\":\"object\",\"name\":\"Line\",\"id\":\"p1511\",\"attributes\":{\"x\":{\"type\":\"field\",\"field\":\"x\"},\"y\":{\"type\":\"field\",\"field\":\"y\"},\"line_color\":\"#ff7e0e\",\"line_width\":2}},\"nonselection_glyph\":{\"type\":\"object\",\"name\":\"Line\",\"id\":\"p1512\",\"attributes\":{\"x\":{\"type\":\"field\",\"field\":\"x\"},\"y\":{\"type\":\"field\",\"field\":\"y\"},\"line_color\":\"#ff7e0e\",\"line_alpha\":0.1,\"line_width\":2}},\"muted_glyph\":{\"type\":\"object\",\"name\":\"Line\",\"id\":\"p1513\",\"attributes\":{\"x\":{\"type\":\"field\",\"field\":\"x\"},\"y\":{\"type\":\"field\",\"field\":\"y\"},\"line_color\":\"#ff7e0e\",\"line_alpha\":0.2,\"line_width\":2}}}},{\"type\":\"object\",\"name\":\"GlyphRenderer\",\"id\":\"p1523\",\"attributes\":{\"data_source\":{\"type\":\"object\",\"name\":\"ColumnDataSource\",\"id\":\"p1517\",\"attributes\":{\"selected\":{\"type\":\"object\",\"name\":\"Selection\",\"id\":\"p1518\",\"attributes\":{\"indices\":[],\"line_indices\":[]}},\"selection_policy\":{\"type\":\"object\",\"name\":\"UnionRenderers\",\"id\":\"p1519\"},\"data\":{\"type\":\"map\"}}},\"view\":{\"type\":\"object\",\"name\":\"CDSView\",\"id\":\"p1524\",\"attributes\":{\"filter\":{\"type\":\"object\",\"name\":\"AllIndices\",\"id\":\"p1525\"}}},\"glyph\":{\"type\":\"object\",\"name\":\"Ray\",\"id\":\"p1520\",\"attributes\":{\"x\":{\"type\":\"value\",\"value\":7.7},\"y\":{\"type\":\"value\",\"value\":0},\"angle\":{\"type\":\"value\",\"value\":3.141592653589793},\"line_color\":{\"type\":\"value\",\"value\":\"#ff7e0e\"},\"line_width\":{\"type\":\"value\",\"value\":2}}},\"nonselection_glyph\":{\"type\":\"object\",\"name\":\"Ray\",\"id\":\"p1521\",\"attributes\":{\"x\":{\"type\":\"value\",\"value\":7.7},\"y\":{\"type\":\"value\",\"value\":0},\"angle\":{\"type\":\"value\",\"value\":3.141592653589793},\"line_color\":{\"type\":\"value\",\"value\":\"#ff7e0e\"},\"line_alpha\":{\"type\":\"value\",\"value\":0.1},\"line_width\":{\"type\":\"value\",\"value\":2}}},\"muted_glyph\":{\"type\":\"object\",\"name\":\"Ray\",\"id\":\"p1522\",\"attributes\":{\"x\":{\"type\":\"value\",\"value\":7.7},\"y\":{\"type\":\"value\",\"value\":0},\"angle\":{\"type\":\"value\",\"value\":3.141592653589793},\"line_color\":{\"type\":\"value\",\"value\":\"#ff7e0e\"},\"line_alpha\":{\"type\":\"value\",\"value\":0.2},\"line_width\":{\"type\":\"value\",\"value\":2}}}}},{\"type\":\"object\",\"name\":\"GlyphRenderer\",\"id\":\"p1532\",\"attributes\":{\"data_source\":{\"type\":\"object\",\"name\":\"ColumnDataSource\",\"id\":\"p1526\",\"attributes\":{\"selected\":{\"type\":\"object\",\"name\":\"Selection\",\"id\":\"p1527\",\"attributes\":{\"indices\":[],\"line_indices\":[]}},\"selection_policy\":{\"type\":\"object\",\"name\":\"UnionRenderers\",\"id\":\"p1528\"},\"data\":{\"type\":\"map\"}}},\"view\":{\"type\":\"object\",\"name\":\"CDSView\",\"id\":\"p1533\",\"attributes\":{\"filter\":{\"type\":\"object\",\"name\":\"AllIndices\",\"id\":\"p1534\"}}},\"glyph\":{\"type\":\"object\",\"name\":\"Ray\",\"id\":\"p1529\",\"attributes\":{\"x\":{\"type\":\"value\",\"value\":11.0},\"y\":{\"type\":\"value\",\"value\":1},\"line_color\":{\"type\":\"value\",\"value\":\"#ff7e0e\"},\"line_width\":{\"type\":\"value\",\"value\":2}}},\"nonselection_glyph\":{\"type\":\"object\",\"name\":\"Ray\",\"id\":\"p1530\",\"attributes\":{\"x\":{\"type\":\"value\",\"value\":11.0},\"y\":{\"type\":\"value\",\"value\":1},\"line_color\":{\"type\":\"value\",\"value\":\"#ff7e0e\"},\"line_alpha\":{\"type\":\"value\",\"value\":0.1},\"line_width\":{\"type\":\"value\",\"value\":2}}},\"muted_glyph\":{\"type\":\"object\",\"name\":\"Ray\",\"id\":\"p1531\",\"attributes\":{\"x\":{\"type\":\"value\",\"value\":11.0},\"y\":{\"type\":\"value\",\"value\":1},\"line_color\":{\"type\":\"value\",\"value\":\"#ff7e0e\"},\"line_alpha\":{\"type\":\"value\",\"value\":0.2},\"line_width\":{\"type\":\"value\",\"value\":2}}}}}],\"toolbar\":{\"type\":\"object\",\"name\":\"Toolbar\",\"id\":\"p1443\",\"attributes\":{\"tools\":[{\"type\":\"object\",\"name\":\"PanTool\",\"id\":\"p1456\"},{\"type\":\"object\",\"name\":\"WheelZoomTool\",\"id\":\"p1457\"},{\"type\":\"object\",\"name\":\"BoxZoomTool\",\"id\":\"p1458\",\"attributes\":{\"overlay\":{\"type\":\"object\",\"name\":\"BoxAnnotation\",\"id\":\"p1459\",\"attributes\":{\"syncable\":false,\"level\":\"overlay\",\"visible\":false,\"left_units\":\"canvas\",\"right_units\":\"canvas\",\"bottom_units\":\"canvas\",\"top_units\":\"canvas\",\"line_color\":\"black\",\"line_alpha\":1.0,\"line_width\":2,\"line_dash\":[4,4],\"fill_color\":\"lightgrey\",\"fill_alpha\":0.5}}}},{\"type\":\"object\",\"name\":\"SaveTool\",\"id\":\"p1460\"},{\"type\":\"object\",\"name\":\"ResetTool\",\"id\":\"p1461\"},{\"type\":\"object\",\"name\":\"HelpTool\",\"id\":\"p1462\"}]}},\"toolbar_location\":\"above\",\"left\":[{\"type\":\"object\",\"name\":\"LinearAxis\",\"id\":\"p1451\",\"attributes\":{\"ticker\":{\"type\":\"object\",\"name\":\"BasicTicker\",\"id\":\"p1452\",\"attributes\":{\"mantissas\":[1,2,5]}},\"formatter\":{\"type\":\"object\",\"name\":\"BasicTickFormatter\",\"id\":\"p1453\"},\"axis_label\":\"ECDF\",\"major_label_policy\":{\"type\":\"object\",\"name\":\"AllLabels\",\"id\":\"p1454\"}}}],\"right\":[{\"type\":\"object\",\"name\":\"Legend\",\"id\":\"p1535\",\"attributes\":{\"location\":\"center\",\"click_policy\":\"hide\",\"items\":[{\"type\":\"object\",\"name\":\"LegendItem\",\"id\":\"p1536\",\"attributes\":{\"label\":{\"type\":\"value\",\"value\":\"1975\"},\"renderers\":[{\"id\":\"p1478\"},{\"id\":\"p1469\"},{\"id\":\"p1496\"},{\"id\":\"p1487\"}]}},{\"type\":\"object\",\"name\":\"LegendItem\",\"id\":\"p1537\",\"attributes\":{\"label\":{\"type\":\"value\",\"value\":\"2012\"},\"renderers\":[{\"id\":\"p1514\"},{\"id\":\"p1505\"},{\"id\":\"p1532\"},{\"id\":\"p1523\"}]}}]}}],\"below\":[{\"type\":\"object\",\"name\":\"LinearAxis\",\"id\":\"p1446\",\"attributes\":{\"ticker\":{\"type\":\"object\",\"name\":\"BasicTicker\",\"id\":\"p1447\",\"attributes\":{\"mantissas\":[1,2,5]}},\"formatter\":{\"type\":\"object\",\"name\":\"BasicTickFormatter\",\"id\":\"p1448\"},\"axis_label\":\"beak depth (mm)\",\"major_label_policy\":{\"type\":\"object\",\"name\":\"AllLabels\",\"id\":\"p1449\"}}}],\"center\":[{\"type\":\"object\",\"name\":\"Grid\",\"id\":\"p1450\",\"attributes\":{\"axis\":{\"id\":\"p1446\"}}},{\"type\":\"object\",\"name\":\"Grid\",\"id\":\"p1455\",\"attributes\":{\"dimension\":1,\"axis\":{\"id\":\"p1451\"}}}],\"frame_width\":375,\"frame_height\":275}}]}};\n",
       "  const render_items = [{\"docid\":\"9887bebe-a879-47fd-9bb0-f96ebef11732\",\"roots\":{\"p1435\":\"e0ccd3e3-5812-455c-9979-0387119db35d\"},\"root_ids\":[\"p1435\"]}];\n",
       "  root.Bokeh.embed.embed_items_notebook(docs_json, render_items);\n",
       "  }\n",
       "  if (root.Bokeh !== undefined) {\n",
       "    embed_document(root);\n",
       "  } else {\n",
       "    let attempts = 0;\n",
       "    const timer = setInterval(function(root) {\n",
       "      if (root.Bokeh !== undefined) {\n",
       "        clearInterval(timer);\n",
       "        embed_document(root);\n",
       "      } else {\n",
       "        attempts++;\n",
       "        if (attempts > 100) {\n",
       "          clearInterval(timer);\n",
       "          console.log(\"Bokeh: ERROR: Unable to run BokehJS code because BokehJS library is missing\");\n",
       "        }\n",
       "      }\n",
       "    }, 10, root)\n",
       "  }\n",
       "})(window);"
      ],
      "application/vnd.bokehjs_exec.v0+json": ""
     },
     "metadata": {
      "application/vnd.bokehjs_exec.v0+json": {
       "id": "p1435"
      }
     },
     "output_type": "display_data"
    }
   ],
   "source": [
    "p = iqplot.ecdf(\n",
    "    data=df,\n",
    "    q='beak depth (mm)',\n",
    "    cats='year',\n",
    "    style='staircase',\n",
    "    conf_int=True,\n",
    "    n_bs_reps=100_000,\n",
    ")\n",
    "\n",
    "bokeh.io.show(p)"
   ]
  },
  {
   "cell_type": "code",
   "execution_count": 44,
   "id": "c02b2ced-ef12-453f-8cce-69b07063e5da",
   "metadata": {},
   "outputs": [
    {
     "data": {
      "text/plain": [
       "0.2284920634920642"
      ]
     },
     "execution_count": 44,
     "metadata": {},
     "output_type": "execute_result"
    }
   ],
   "source": [
    "np.mean(bd_2012) - np.mean(bd_1975)"
   ]
  },
  {
   "cell_type": "code",
   "execution_count": 45,
   "id": "d5d79218-81ff-4b8c-87e9-035a1cd861ac",
   "metadata": {},
   "outputs": [
    {
     "data": {
      "text/plain": [
       "array([0.06152155, 0.39432957])"
      ]
     },
     "execution_count": 45,
     "metadata": {},
     "output_type": "execute_result"
    }
   ],
   "source": [
    "bs_reps_1975 = np.array([bs_replicate(bd_1975,np.mean) for _ in range(n_reps)])\n",
    "bs_reps_2012 = np.array([bs_replicate(bd_2012,np.mean) for _ in range(n_reps)])\n",
    "\n",
    "bs_reps_diff = bs_reps_2012 - bs_reps_1975\n",
    "\n",
    "np.percentile(bs_reps_diff, [2.5, 97.5])"
   ]
  },
  {
   "cell_type": "code",
   "execution_count": 48,
   "id": "8cdf3cbb-2a31-48d0-9661-7763dde63684",
   "metadata": {},
   "outputs": [],
   "source": [
    "df = pd.read_csv(\"data/grant_complete.csv\", comment=\"#\")\n",
    "df = df.loc[(df[\"species\"] == \"scandens\") & (df[\"year\"].isin([1975, 2012])), :]\n",
    "\n",
    "bd_1975 = df.loc[df['year']==1975, 'beak depth (mm)'].values\n",
    "bd_2012 = df.loc[df['year']==2012, 'beak depth (mm)'].values\n",
    "\n",
    "bl_1975 = df.loc[df['year']==1975, 'beak length (mm)'].values"
   ]
  },
  {
   "cell_type": "code",
   "execution_count": 49,
   "id": "223621ee-091b-47de-bdb7-dc82645c54b3",
   "metadata": {},
   "outputs": [],
   "source": [
    "def draw_bs_pairs(x,y,rng):\n",
    "    bd_inds = rng.choice(np.arange(len(x)), size=len(x), replace=True)\n",
    "\n",
    "    return x[bd_inds], y[bd_inds]"
   ]
  },
  {
   "cell_type": "code",
   "execution_count": 50,
   "id": "e834e67e-a973-4cf2-b43d-e1c363aee9be",
   "metadata": {},
   "outputs": [
    {
     "data": {
      "text/plain": [
       "array([0.45499678, 0.75119062])"
      ]
     },
     "execution_count": 50,
     "metadata": {},
     "output_type": "execute_result"
    }
   ],
   "source": [
    "correlation_bs_reps = np.empty(n_reps)\n",
    "\n",
    "for i in range(n_reps):\n",
    "    bd, bl = draw_bs_pairs(bd_1975, bl_1975, rng)\n",
    "    correlation_bs_reps[i] = np.corrcoef(bd,bl)[0,1]\n",
    "\n",
    "np.percentile(correlation_bs_reps, [2.5, 97.5])"
   ]
  },
  {
   "cell_type": "markdown",
   "id": "10eaba0d-5073-4a0c-b8ca-3dfeda514169",
   "metadata": {},
   "source": [
    "**DASHBOARDS**"
   ]
  },
  {
   "cell_type": "code",
   "execution_count": 51,
   "id": "2e21bb36-a60a-4aef-b9e7-829f75b621e3",
   "metadata": {},
   "outputs": [
    {
     "data": {
      "text/html": [
       "<style>\n",
       "        .bk-notebook-logo {\n",
       "            display: block;\n",
       "            width: 20px;\n",
       "            height: 20px;\n",
       "            background-image: url(data:image/png;base64,iVBORw0KGgoAAAANSUhEUgAAABQAAAAUCAYAAACNiR0NAAAABHNCSVQICAgIfAhkiAAAAAlwSFlzAAALEgAACxIB0t1+/AAAABx0RVh0U29mdHdhcmUAQWRvYmUgRmlyZXdvcmtzIENTNui8sowAAAOkSURBVDiNjZRtaJVlGMd/1/08zzln5zjP1LWcU9N0NkN8m2CYjpgQYQXqSs0I84OLIC0hkEKoPtiH3gmKoiJDU7QpLgoLjLIQCpEsNJ1vqUOdO7ppbuec5+V+rj4ctwzd8IIbbi6u+8f1539dt3A78eXC7QizUF7gyV1fD1Yqg4JWz84yffhm0qkFqBogB9rM8tZdtwVsPUhWhGcFJngGeWrPzHm5oaMmkfEg1usvLFyc8jLRqDOMru7AyC8saQr7GG7f5fvDeH7Ej8CM66nIF+8yngt6HWaKh7k49Soy9nXurCi1o3qUbS3zWfrYeQDTB/Qj6kX6Ybhw4B+bOYoLKCC9H3Nu/leUTZ1JdRWkkn2ldcCamzrcf47KKXdAJllSlxAOkRgyHsGC/zRday5Qld9DyoM4/q/rUoy/CXh3jzOu3bHUVZeU+DEn8FInkPBFlu3+nW3Nw0mk6vCDiWg8CeJaxEwuHS3+z5RgY+YBR6V1Z1nxSOfoaPa4LASWxxdNp+VWTk7+4vzaou8v8PN+xo+KY2xsw6une2frhw05CTYOmQvsEhjhWjn0bmXPjpE1+kplmmkP3suftwTubK9Vq22qKmrBhpY4jvd5afdRA3wGjFAgcnTK2s4hY0/GPNIb0nErGMCRxWOOX64Z8RAC4oCXdklmEvcL8o0BfkNK4lUg9HTl+oPlQxdNo3Mg4Nv175e/1LDGzZen30MEjRUtmXSfiTVu1kK8W4txyV6BMKlbgk3lMwYCiusNy9fVfvvwMxv8Ynl6vxoByANLTWplvuj/nF9m2+PDtt1eiHPBr1oIfhCChQMBw6Aw0UulqTKZdfVvfG7VcfIqLG9bcldL/+pdWTLxLUy8Qq38heUIjh4XlzZxzQm19lLFlr8vdQ97rjZVOLf8nclzckbcD4wxXMidpX30sFd37Fv/GtwwhzhxGVAprjbg0gCAEeIgwCZyTV2Z1REEW8O4py0wsjeloKoMr6iCY6dP92H6Vw/oTyICIthibxjm/DfN9lVz8IqtqKYLUXfoKVMVQVVJOElGjrnnUt9T9wbgp8AyYKaGlqingHZU/uG2NTZSVqwHQTWkx9hxjkpWDaCg6Ckj5qebgBVbT3V3NNXMSiWSDdGV3hrtzla7J+duwPOToIg42ChPQOQjspnSlp1V+Gjdged7+8UN5CRAV7a5EdFNwCjEaBR27b3W890TE7g24NAP/mMDXRWrGoFPQI9ls/MWO2dWFAar/xcOIImbbpA3zgAAAABJRU5ErkJggg==);\n",
       "        }\n",
       "    </style>\n",
       "    <div>\n",
       "        <a href=\"https://bokeh.org\" target=\"_blank\" class=\"bk-notebook-logo\"></a>\n",
       "        <span id=\"a557acc4-9a7b-40f6-911a-e472ac4c119a\">Loading BokehJS ...</span>\n",
       "    </div>\n"
      ]
     },
     "metadata": {},
     "output_type": "display_data"
    },
    {
     "data": {
      "application/javascript": [
       "(function(root) {\n",
       "  function now() {\n",
       "    return new Date();\n",
       "  }\n",
       "\n",
       "  const force = true;\n",
       "\n",
       "  if (typeof root._bokeh_onload_callbacks === \"undefined\" || force === true) {\n",
       "    root._bokeh_onload_callbacks = [];\n",
       "    root._bokeh_is_loading = undefined;\n",
       "  }\n",
       "\n",
       "const JS_MIME_TYPE = 'application/javascript';\n",
       "  const HTML_MIME_TYPE = 'text/html';\n",
       "  const EXEC_MIME_TYPE = 'application/vnd.bokehjs_exec.v0+json';\n",
       "  const CLASS_NAME = 'output_bokeh rendered_html';\n",
       "\n",
       "  /**\n",
       "   * Render data to the DOM node\n",
       "   */\n",
       "  function render(props, node) {\n",
       "    const script = document.createElement(\"script\");\n",
       "    node.appendChild(script);\n",
       "  }\n",
       "\n",
       "  /**\n",
       "   * Handle when an output is cleared or removed\n",
       "   */\n",
       "  function handleClearOutput(event, handle) {\n",
       "    const cell = handle.cell;\n",
       "\n",
       "    const id = cell.output_area._bokeh_element_id;\n",
       "    const server_id = cell.output_area._bokeh_server_id;\n",
       "    // Clean up Bokeh references\n",
       "    if (id != null && id in Bokeh.index) {\n",
       "      Bokeh.index[id].model.document.clear();\n",
       "      delete Bokeh.index[id];\n",
       "    }\n",
       "\n",
       "    if (server_id !== undefined) {\n",
       "      // Clean up Bokeh references\n",
       "      const cmd_clean = \"from bokeh.io.state import curstate; print(curstate().uuid_to_server['\" + server_id + \"'].get_sessions()[0].document.roots[0]._id)\";\n",
       "      cell.notebook.kernel.execute(cmd_clean, {\n",
       "        iopub: {\n",
       "          output: function(msg) {\n",
       "            const id = msg.content.text.trim();\n",
       "            if (id in Bokeh.index) {\n",
       "              Bokeh.index[id].model.document.clear();\n",
       "              delete Bokeh.index[id];\n",
       "            }\n",
       "          }\n",
       "        }\n",
       "      });\n",
       "      // Destroy server and session\n",
       "      const cmd_destroy = \"import bokeh.io.notebook as ion; ion.destroy_server('\" + server_id + \"')\";\n",
       "      cell.notebook.kernel.execute(cmd_destroy);\n",
       "    }\n",
       "  }\n",
       "\n",
       "  /**\n",
       "   * Handle when a new output is added\n",
       "   */\n",
       "  function handleAddOutput(event, handle) {\n",
       "    const output_area = handle.output_area;\n",
       "    const output = handle.output;\n",
       "\n",
       "    // limit handleAddOutput to display_data with EXEC_MIME_TYPE content only\n",
       "    if ((output.output_type != \"display_data\") || (!Object.prototype.hasOwnProperty.call(output.data, EXEC_MIME_TYPE))) {\n",
       "      return\n",
       "    }\n",
       "\n",
       "    const toinsert = output_area.element.find(\".\" + CLASS_NAME.split(' ')[0]);\n",
       "\n",
       "    if (output.metadata[EXEC_MIME_TYPE][\"id\"] !== undefined) {\n",
       "      toinsert[toinsert.length - 1].firstChild.textContent = output.data[JS_MIME_TYPE];\n",
       "      // store reference to embed id on output_area\n",
       "      output_area._bokeh_element_id = output.metadata[EXEC_MIME_TYPE][\"id\"];\n",
       "    }\n",
       "    if (output.metadata[EXEC_MIME_TYPE][\"server_id\"] !== undefined) {\n",
       "      const bk_div = document.createElement(\"div\");\n",
       "      bk_div.innerHTML = output.data[HTML_MIME_TYPE];\n",
       "      const script_attrs = bk_div.children[0].attributes;\n",
       "      for (let i = 0; i < script_attrs.length; i++) {\n",
       "        toinsert[toinsert.length - 1].firstChild.setAttribute(script_attrs[i].name, script_attrs[i].value);\n",
       "        toinsert[toinsert.length - 1].firstChild.textContent = bk_div.children[0].textContent\n",
       "      }\n",
       "      // store reference to server id on output_area\n",
       "      output_area._bokeh_server_id = output.metadata[EXEC_MIME_TYPE][\"server_id\"];\n",
       "    }\n",
       "  }\n",
       "\n",
       "  function register_renderer(events, OutputArea) {\n",
       "\n",
       "    function append_mime(data, metadata, element) {\n",
       "      // create a DOM node to render to\n",
       "      const toinsert = this.create_output_subarea(\n",
       "        metadata,\n",
       "        CLASS_NAME,\n",
       "        EXEC_MIME_TYPE\n",
       "      );\n",
       "      this.keyboard_manager.register_events(toinsert);\n",
       "      // Render to node\n",
       "      const props = {data: data, metadata: metadata[EXEC_MIME_TYPE]};\n",
       "      render(props, toinsert[toinsert.length - 1]);\n",
       "      element.append(toinsert);\n",
       "      return toinsert\n",
       "    }\n",
       "\n",
       "    /* Handle when an output is cleared or removed */\n",
       "    events.on('clear_output.CodeCell', handleClearOutput);\n",
       "    events.on('delete.Cell', handleClearOutput);\n",
       "\n",
       "    /* Handle when a new output is added */\n",
       "    events.on('output_added.OutputArea', handleAddOutput);\n",
       "\n",
       "    /**\n",
       "     * Register the mime type and append_mime function with output_area\n",
       "     */\n",
       "    OutputArea.prototype.register_mime_type(EXEC_MIME_TYPE, append_mime, {\n",
       "      /* Is output safe? */\n",
       "      safe: true,\n",
       "      /* Index of renderer in `output_area.display_order` */\n",
       "      index: 0\n",
       "    });\n",
       "  }\n",
       "\n",
       "  // register the mime type if in Jupyter Notebook environment and previously unregistered\n",
       "  if (root.Jupyter !== undefined) {\n",
       "    const events = require('base/js/events');\n",
       "    const OutputArea = require('notebook/js/outputarea').OutputArea;\n",
       "\n",
       "    if (OutputArea.prototype.mime_types().indexOf(EXEC_MIME_TYPE) == -1) {\n",
       "      register_renderer(events, OutputArea);\n",
       "    }\n",
       "  }\n",
       "  if (typeof (root._bokeh_timeout) === \"undefined\" || force === true) {\n",
       "    root._bokeh_timeout = Date.now() + 5000;\n",
       "    root._bokeh_failed_load = false;\n",
       "  }\n",
       "\n",
       "  const NB_LOAD_WARNING = {'data': {'text/html':\n",
       "     \"<div style='background-color: #fdd'>\\n\"+\n",
       "     \"<p>\\n\"+\n",
       "     \"BokehJS does not appear to have successfully loaded. If loading BokehJS from CDN, this \\n\"+\n",
       "     \"may be due to a slow or bad network connection. Possible fixes:\\n\"+\n",
       "     \"</p>\\n\"+\n",
       "     \"<ul>\\n\"+\n",
       "     \"<li>re-rerun `output_notebook()` to attempt to load from CDN again, or</li>\\n\"+\n",
       "     \"<li>use INLINE resources instead, as so:</li>\\n\"+\n",
       "     \"</ul>\\n\"+\n",
       "     \"<code>\\n\"+\n",
       "     \"from bokeh.resources import INLINE\\n\"+\n",
       "     \"output_notebook(resources=INLINE)\\n\"+\n",
       "     \"</code>\\n\"+\n",
       "     \"</div>\"}};\n",
       "\n",
       "  function display_loaded() {\n",
       "    const el = document.getElementById(\"a557acc4-9a7b-40f6-911a-e472ac4c119a\");\n",
       "    if (el != null) {\n",
       "      el.textContent = \"BokehJS is loading...\";\n",
       "    }\n",
       "    if (root.Bokeh !== undefined) {\n",
       "      if (el != null) {\n",
       "        el.textContent = \"BokehJS \" + root.Bokeh.version + \" successfully loaded.\";\n",
       "      }\n",
       "    } else if (Date.now() < root._bokeh_timeout) {\n",
       "      setTimeout(display_loaded, 100)\n",
       "    }\n",
       "  }\n",
       "\n",
       "  function run_callbacks() {\n",
       "    try {\n",
       "      root._bokeh_onload_callbacks.forEach(function(callback) {\n",
       "        if (callback != null)\n",
       "          callback();\n",
       "      });\n",
       "    } finally {\n",
       "      delete root._bokeh_onload_callbacks\n",
       "    }\n",
       "    console.debug(\"Bokeh: all callbacks have finished\");\n",
       "  }\n",
       "\n",
       "  function load_libs(css_urls, js_urls, callback) {\n",
       "    if (css_urls == null) css_urls = [];\n",
       "    if (js_urls == null) js_urls = [];\n",
       "\n",
       "    root._bokeh_onload_callbacks.push(callback);\n",
       "    if (root._bokeh_is_loading > 0) {\n",
       "      console.debug(\"Bokeh: BokehJS is being loaded, scheduling callback at\", now());\n",
       "      return null;\n",
       "    }\n",
       "    if (js_urls == null || js_urls.length === 0) {\n",
       "      run_callbacks();\n",
       "      return null;\n",
       "    }\n",
       "    console.debug(\"Bokeh: BokehJS not loaded, scheduling load and callback at\", now());\n",
       "    root._bokeh_is_loading = css_urls.length + js_urls.length;\n",
       "\n",
       "    function on_load() {\n",
       "      root._bokeh_is_loading--;\n",
       "      if (root._bokeh_is_loading === 0) {\n",
       "        console.debug(\"Bokeh: all BokehJS libraries/stylesheets loaded\");\n",
       "        run_callbacks()\n",
       "      }\n",
       "    }\n",
       "\n",
       "    function on_error(url) {\n",
       "      console.error(\"failed to load \" + url);\n",
       "    }\n",
       "\n",
       "    for (let i = 0; i < css_urls.length; i++) {\n",
       "      const url = css_urls[i];\n",
       "      const element = document.createElement(\"link\");\n",
       "      element.onload = on_load;\n",
       "      element.onerror = on_error.bind(null, url);\n",
       "      element.rel = \"stylesheet\";\n",
       "      element.type = \"text/css\";\n",
       "      element.href = url;\n",
       "      console.debug(\"Bokeh: injecting link tag for BokehJS stylesheet: \", url);\n",
       "      document.body.appendChild(element);\n",
       "    }\n",
       "\n",
       "    for (let i = 0; i < js_urls.length; i++) {\n",
       "      const url = js_urls[i];\n",
       "      const element = document.createElement('script');\n",
       "      element.onload = on_load;\n",
       "      element.onerror = on_error.bind(null, url);\n",
       "      element.async = false;\n",
       "      element.src = url;\n",
       "      console.debug(\"Bokeh: injecting script tag for BokehJS library: \", url);\n",
       "      document.head.appendChild(element);\n",
       "    }\n",
       "  };\n",
       "\n",
       "  function inject_raw_css(css) {\n",
       "    const element = document.createElement(\"style\");\n",
       "    element.appendChild(document.createTextNode(css));\n",
       "    document.body.appendChild(element);\n",
       "  }\n",
       "\n",
       "  const js_urls = [\"https://cdn.bokeh.org/bokeh/release/bokeh-3.2.1.min.js\", \"https://cdn.bokeh.org/bokeh/release/bokeh-gl-3.2.1.min.js\", \"https://cdn.bokeh.org/bokeh/release/bokeh-widgets-3.2.1.min.js\", \"https://cdn.bokeh.org/bokeh/release/bokeh-tables-3.2.1.min.js\", \"https://cdn.bokeh.org/bokeh/release/bokeh-mathjax-3.2.1.min.js\"];\n",
       "  const css_urls = [];\n",
       "\n",
       "  const inline_js = [    function(Bokeh) {\n",
       "      Bokeh.set_log_level(\"info\");\n",
       "    },\n",
       "function(Bokeh) {\n",
       "    }\n",
       "  ];\n",
       "\n",
       "  function run_inline_js() {\n",
       "    if (root.Bokeh !== undefined || force === true) {\n",
       "          for (let i = 0; i < inline_js.length; i++) {\n",
       "      inline_js[i].call(root, root.Bokeh);\n",
       "    }\n",
       "if (force === true) {\n",
       "        display_loaded();\n",
       "      }} else if (Date.now() < root._bokeh_timeout) {\n",
       "      setTimeout(run_inline_js, 100);\n",
       "    } else if (!root._bokeh_failed_load) {\n",
       "      console.log(\"Bokeh: BokehJS failed to load within specified timeout.\");\n",
       "      root._bokeh_failed_load = true;\n",
       "    } else if (force !== true) {\n",
       "      const cell = $(document.getElementById(\"a557acc4-9a7b-40f6-911a-e472ac4c119a\")).parents('.cell').data().cell;\n",
       "      cell.output_area.append_execute_result(NB_LOAD_WARNING)\n",
       "    }\n",
       "  }\n",
       "\n",
       "  if (root._bokeh_is_loading === 0) {\n",
       "    console.debug(\"Bokeh: BokehJS loaded, going straight to plotting\");\n",
       "    run_inline_js();\n",
       "  } else {\n",
       "    load_libs(css_urls, js_urls, function() {\n",
       "      console.debug(\"Bokeh: BokehJS plotting callback run at\", now());\n",
       "      run_inline_js();\n",
       "    });\n",
       "  }\n",
       "}(window));"
      ],
      "application/vnd.bokehjs_load.v0+json": "(function(root) {\n  function now() {\n    return new Date();\n  }\n\n  const force = true;\n\n  if (typeof root._bokeh_onload_callbacks === \"undefined\" || force === true) {\n    root._bokeh_onload_callbacks = [];\n    root._bokeh_is_loading = undefined;\n  }\n\n\n  if (typeof (root._bokeh_timeout) === \"undefined\" || force === true) {\n    root._bokeh_timeout = Date.now() + 5000;\n    root._bokeh_failed_load = false;\n  }\n\n  const NB_LOAD_WARNING = {'data': {'text/html':\n     \"<div style='background-color: #fdd'>\\n\"+\n     \"<p>\\n\"+\n     \"BokehJS does not appear to have successfully loaded. If loading BokehJS from CDN, this \\n\"+\n     \"may be due to a slow or bad network connection. Possible fixes:\\n\"+\n     \"</p>\\n\"+\n     \"<ul>\\n\"+\n     \"<li>re-rerun `output_notebook()` to attempt to load from CDN again, or</li>\\n\"+\n     \"<li>use INLINE resources instead, as so:</li>\\n\"+\n     \"</ul>\\n\"+\n     \"<code>\\n\"+\n     \"from bokeh.resources import INLINE\\n\"+\n     \"output_notebook(resources=INLINE)\\n\"+\n     \"</code>\\n\"+\n     \"</div>\"}};\n\n  function display_loaded() {\n    const el = document.getElementById(\"a557acc4-9a7b-40f6-911a-e472ac4c119a\");\n    if (el != null) {\n      el.textContent = \"BokehJS is loading...\";\n    }\n    if (root.Bokeh !== undefined) {\n      if (el != null) {\n        el.textContent = \"BokehJS \" + root.Bokeh.version + \" successfully loaded.\";\n      }\n    } else if (Date.now() < root._bokeh_timeout) {\n      setTimeout(display_loaded, 100)\n    }\n  }\n\n  function run_callbacks() {\n    try {\n      root._bokeh_onload_callbacks.forEach(function(callback) {\n        if (callback != null)\n          callback();\n      });\n    } finally {\n      delete root._bokeh_onload_callbacks\n    }\n    console.debug(\"Bokeh: all callbacks have finished\");\n  }\n\n  function load_libs(css_urls, js_urls, callback) {\n    if (css_urls == null) css_urls = [];\n    if (js_urls == null) js_urls = [];\n\n    root._bokeh_onload_callbacks.push(callback);\n    if (root._bokeh_is_loading > 0) {\n      console.debug(\"Bokeh: BokehJS is being loaded, scheduling callback at\", now());\n      return null;\n    }\n    if (js_urls == null || js_urls.length === 0) {\n      run_callbacks();\n      return null;\n    }\n    console.debug(\"Bokeh: BokehJS not loaded, scheduling load and callback at\", now());\n    root._bokeh_is_loading = css_urls.length + js_urls.length;\n\n    function on_load() {\n      root._bokeh_is_loading--;\n      if (root._bokeh_is_loading === 0) {\n        console.debug(\"Bokeh: all BokehJS libraries/stylesheets loaded\");\n        run_callbacks()\n      }\n    }\n\n    function on_error(url) {\n      console.error(\"failed to load \" + url);\n    }\n\n    for (let i = 0; i < css_urls.length; i++) {\n      const url = css_urls[i];\n      const element = document.createElement(\"link\");\n      element.onload = on_load;\n      element.onerror = on_error.bind(null, url);\n      element.rel = \"stylesheet\";\n      element.type = \"text/css\";\n      element.href = url;\n      console.debug(\"Bokeh: injecting link tag for BokehJS stylesheet: \", url);\n      document.body.appendChild(element);\n    }\n\n    for (let i = 0; i < js_urls.length; i++) {\n      const url = js_urls[i];\n      const element = document.createElement('script');\n      element.onload = on_load;\n      element.onerror = on_error.bind(null, url);\n      element.async = false;\n      element.src = url;\n      console.debug(\"Bokeh: injecting script tag for BokehJS library: \", url);\n      document.head.appendChild(element);\n    }\n  };\n\n  function inject_raw_css(css) {\n    const element = document.createElement(\"style\");\n    element.appendChild(document.createTextNode(css));\n    document.body.appendChild(element);\n  }\n\n  const js_urls = [\"https://cdn.bokeh.org/bokeh/release/bokeh-3.2.1.min.js\", \"https://cdn.bokeh.org/bokeh/release/bokeh-gl-3.2.1.min.js\", \"https://cdn.bokeh.org/bokeh/release/bokeh-widgets-3.2.1.min.js\", \"https://cdn.bokeh.org/bokeh/release/bokeh-tables-3.2.1.min.js\", \"https://cdn.bokeh.org/bokeh/release/bokeh-mathjax-3.2.1.min.js\"];\n  const css_urls = [];\n\n  const inline_js = [    function(Bokeh) {\n      Bokeh.set_log_level(\"info\");\n    },\nfunction(Bokeh) {\n    }\n  ];\n\n  function run_inline_js() {\n    if (root.Bokeh !== undefined || force === true) {\n          for (let i = 0; i < inline_js.length; i++) {\n      inline_js[i].call(root, root.Bokeh);\n    }\nif (force === true) {\n        display_loaded();\n      }} else if (Date.now() < root._bokeh_timeout) {\n      setTimeout(run_inline_js, 100);\n    } else if (!root._bokeh_failed_load) {\n      console.log(\"Bokeh: BokehJS failed to load within specified timeout.\");\n      root._bokeh_failed_load = true;\n    } else if (force !== true) {\n      const cell = $(document.getElementById(\"a557acc4-9a7b-40f6-911a-e472ac4c119a\")).parents('.cell').data().cell;\n      cell.output_area.append_execute_result(NB_LOAD_WARNING)\n    }\n  }\n\n  if (root._bokeh_is_loading === 0) {\n    console.debug(\"Bokeh: BokehJS loaded, going straight to plotting\");\n    run_inline_js();\n  } else {\n    load_libs(css_urls, js_urls, function() {\n      console.debug(\"Bokeh: BokehJS plotting callback run at\", now());\n      run_inline_js();\n    });\n  }\n}(window));"
     },
     "metadata": {},
     "output_type": "display_data"
    }
   ],
   "source": [
    "import pandas as pd\n",
    "import numpy as np\n",
    "import scipy.stats\n",
    "\n",
    "import bokeh.io\n",
    "import bokeh.layouts\n",
    "import bokeh.models\n",
    "import bokeh.plotting\n",
    "\n",
    "notebook_url = 'localhost:8888'\n",
    "bokeh.io.output_notebook()"
   ]
  },
  {
   "cell_type": "code",
   "execution_count": 55,
   "id": "3ae5ccda-d5cb-4055-85c1-1205b9d6b5e6",
   "metadata": {},
   "outputs": [],
   "source": [
    "# Parameters; we'll start with standard Normal\n",
    "mu = 0.0\n",
    "sigma = 1.0\n",
    "\n",
    "# Generate data\n",
    "x = np.linspace(-10, 10, 200)\n",
    "pdf = scipy.stats.norm.pdf(x, loc=mu, scale=sigma)\n",
    "\n",
    "# Column data source for plot\n",
    "source = bokeh.models.ColumnDataSource(dict(x=x, pdf=pdf))\n",
    "\n",
    "# Build figure\n",
    "p = bokeh.plotting.figure(\n",
    "    frame_width=350,\n",
    "    frame_height=200,\n",
    "    x_axis_label='x',\n",
    "    y_axis_label='f(x)',\n",
    "    x_range=[-10, 10],\n",
    ")\n",
    "\n",
    "# Put line on plot\n",
    "p.line(source=source, x='x', y='pdf', line_width=2);\n",
    "\n",
    "# We will not show it because if it is in a dashboard, a given plot can only\n",
    "# be shown there in a notebook. Instead, it's displayed as an image below."
   ]
  },
  {
   "cell_type": "code",
   "execution_count": 56,
   "id": "82daea46-0369-4130-b14c-efd5235d5f94",
   "metadata": {},
   "outputs": [],
   "source": [
    "mu_slider = bokeh.models.Slider(title=\"µ\", start=-5.0, end=5.0, step=0.1, value=0.0, width=100)\n",
    "sigma_slider = bokeh.models.Slider(title=\"σ\", start=0.1, end=5.0, step=0.1, value=1.0, width=100)"
   ]
  },
  {
   "cell_type": "code",
   "execution_count": 57,
   "id": "2b610d7b-d321-4523-b1b5-78cb596e86c2",
   "metadata": {},
   "outputs": [],
   "source": [
    "def norm_callback(attr, old, new):\n",
    "    \"\"\"Callback for updating data in Normal PDF plot.\"\"\"\n",
    "    # Pull the values off of each slider\n",
    "    mu = mu_slider.value\n",
    "    sigma = sigma_slider.value\n",
    "\n",
    "    # Re-compute the y-values\n",
    "    pdf = scipy.stats.norm.pdf(source.data['x'], loc=mu, scale=sigma)\n",
    "\n",
    "    # Update the column data source\n",
    "    source.data[\"pdf\"] = pdf"
   ]
  },
  {
   "cell_type": "code",
   "execution_count": 58,
   "id": "85dcd617-aa90-439e-b87b-1c01c0dfac25",
   "metadata": {},
   "outputs": [],
   "source": [
    "mu_slider.on_change('value', norm_callback)\n",
    "sigma_slider.on_change('value', norm_callback)"
   ]
  },
  {
   "cell_type": "code",
   "execution_count": 59,
   "id": "4c3d9b3c-020d-4cf8-9b45-69975c9775c1",
   "metadata": {},
   "outputs": [],
   "source": [
    "# Put the sliders one on top of the other\n",
    "slider_layout = bokeh.layouts.column(\n",
    "    bokeh.layouts.Spacer(height=30),\n",
    "    mu_slider,\n",
    "    bokeh.layouts.Spacer(height=15),\n",
    "    sigma_slider,\n",
    ")\n",
    "\n",
    "# Put the sliders to the right of the plot\n",
    "norm_layout = bokeh.layouts.row(\n",
    "    p,\n",
    "    bokeh.layouts.Spacer(width=15),\n",
    "    slider_layout\n",
    ")"
   ]
  },
  {
   "cell_type": "code",
   "execution_count": 60,
   "id": "25504b5a-60c9-4310-b9aa-e591a4b05457",
   "metadata": {},
   "outputs": [],
   "source": [
    "def norm_app(doc):\n",
    "    doc.add_root(norm_layout)"
   ]
  },
  {
   "cell_type": "code",
   "execution_count": 61,
   "id": "142977fe-12b9-478c-87a2-d6e8592d4a1d",
   "metadata": {},
   "outputs": [
    {
     "data": {
      "application/vnd.bokehjs_exec.v0+json": "",
      "text/html": [
       "<script id=\"p1689\">\n",
       "  (function() {\n",
       "    const xhr = new XMLHttpRequest()\n",
       "    xhr.responseType = 'blob';\n",
       "    xhr.open('GET', \"http://localhost:62818/autoload.js?bokeh-autoload-element=p1689&bokeh-absolute-url=http://localhost:62818&resources=none\", true);\n",
       "    xhr.onload = function (event) {\n",
       "      const script = document.createElement('script');\n",
       "      const src = URL.createObjectURL(event.target.response);\n",
       "      script.src = src;\n",
       "      document.body.appendChild(script);\n",
       "    };\n",
       "    xhr.send();\n",
       "  })();\n",
       "</script>"
      ]
     },
     "metadata": {
      "application/vnd.bokehjs_exec.v0+json": {
       "server_id": "52b13f5b7dbe4cf5b3fc1dac1c1d4087"
      }
     },
     "output_type": "display_data"
    }
   ],
   "source": [
    "bokeh.io.show(norm_app, notebook_url=notebook_url)"
   ]
  },
  {
   "cell_type": "code",
   "execution_count": 62,
   "id": "da3726c9-092e-46bc-8315-ead13747e9bc",
   "metadata": {},
   "outputs": [
    {
     "data": {
      "text/html": [
       "<div>\n",
       "<style scoped>\n",
       "    .dataframe tbody tr th:only-of-type {\n",
       "        vertical-align: middle;\n",
       "    }\n",
       "\n",
       "    .dataframe tbody tr th {\n",
       "        vertical-align: top;\n",
       "    }\n",
       "\n",
       "    .dataframe thead th {\n",
       "        text-align: right;\n",
       "    }\n",
       "</style>\n",
       "<table border=\"1\" class=\"dataframe\">\n",
       "  <thead>\n",
       "    <tr style=\"text-align: right;\">\n",
       "      <th></th>\n",
       "      <th>participant number</th>\n",
       "      <th>gender</th>\n",
       "      <th>age</th>\n",
       "      <th>correct hit percentage</th>\n",
       "      <th>correct reject percentage</th>\n",
       "      <th>percent correct</th>\n",
       "      <th>confidence when correct hit</th>\n",
       "      <th>confidence when incorrect hit</th>\n",
       "      <th>confidence when correct reject</th>\n",
       "      <th>confidence when incorrect reject</th>\n",
       "      <th>confidence when correct</th>\n",
       "      <th>confidence when incorrect</th>\n",
       "      <th>sci</th>\n",
       "      <th>psqi</th>\n",
       "      <th>ess</th>\n",
       "      <th>insomnia</th>\n",
       "    </tr>\n",
       "  </thead>\n",
       "  <tbody>\n",
       "    <tr>\n",
       "      <th>0</th>\n",
       "      <td>8</td>\n",
       "      <td>f</td>\n",
       "      <td>39</td>\n",
       "      <td>65</td>\n",
       "      <td>80</td>\n",
       "      <td>72.5</td>\n",
       "      <td>91.0</td>\n",
       "      <td>90.0</td>\n",
       "      <td>93.0</td>\n",
       "      <td>83.5</td>\n",
       "      <td>93.0</td>\n",
       "      <td>90.0</td>\n",
       "      <td>9</td>\n",
       "      <td>13</td>\n",
       "      <td>2</td>\n",
       "      <td>True</td>\n",
       "    </tr>\n",
       "    <tr>\n",
       "      <th>1</th>\n",
       "      <td>16</td>\n",
       "      <td>m</td>\n",
       "      <td>42</td>\n",
       "      <td>90</td>\n",
       "      <td>90</td>\n",
       "      <td>90.0</td>\n",
       "      <td>75.5</td>\n",
       "      <td>55.5</td>\n",
       "      <td>70.5</td>\n",
       "      <td>50.0</td>\n",
       "      <td>75.0</td>\n",
       "      <td>50.0</td>\n",
       "      <td>4</td>\n",
       "      <td>11</td>\n",
       "      <td>7</td>\n",
       "      <td>True</td>\n",
       "    </tr>\n",
       "    <tr>\n",
       "      <th>2</th>\n",
       "      <td>18</td>\n",
       "      <td>f</td>\n",
       "      <td>31</td>\n",
       "      <td>90</td>\n",
       "      <td>95</td>\n",
       "      <td>92.5</td>\n",
       "      <td>89.5</td>\n",
       "      <td>90.0</td>\n",
       "      <td>86.0</td>\n",
       "      <td>81.0</td>\n",
       "      <td>89.0</td>\n",
       "      <td>88.0</td>\n",
       "      <td>10</td>\n",
       "      <td>9</td>\n",
       "      <td>3</td>\n",
       "      <td>True</td>\n",
       "    </tr>\n",
       "    <tr>\n",
       "      <th>3</th>\n",
       "      <td>22</td>\n",
       "      <td>f</td>\n",
       "      <td>35</td>\n",
       "      <td>100</td>\n",
       "      <td>75</td>\n",
       "      <td>87.5</td>\n",
       "      <td>89.5</td>\n",
       "      <td>NaN</td>\n",
       "      <td>71.0</td>\n",
       "      <td>80.0</td>\n",
       "      <td>88.0</td>\n",
       "      <td>80.0</td>\n",
       "      <td>13</td>\n",
       "      <td>8</td>\n",
       "      <td>20</td>\n",
       "      <td>True</td>\n",
       "    </tr>\n",
       "    <tr>\n",
       "      <th>4</th>\n",
       "      <td>27</td>\n",
       "      <td>f</td>\n",
       "      <td>74</td>\n",
       "      <td>60</td>\n",
       "      <td>65</td>\n",
       "      <td>62.5</td>\n",
       "      <td>68.5</td>\n",
       "      <td>49.0</td>\n",
       "      <td>61.0</td>\n",
       "      <td>49.0</td>\n",
       "      <td>65.0</td>\n",
       "      <td>49.0</td>\n",
       "      <td>13</td>\n",
       "      <td>9</td>\n",
       "      <td>12</td>\n",
       "      <td>True</td>\n",
       "    </tr>\n",
       "  </tbody>\n",
       "</table>\n",
       "</div>"
      ],
      "text/plain": [
       "   participant number gender  age  correct hit percentage  \\\n",
       "0                   8      f   39                      65   \n",
       "1                  16      m   42                      90   \n",
       "2                  18      f   31                      90   \n",
       "3                  22      f   35                     100   \n",
       "4                  27      f   74                      60   \n",
       "\n",
       "   correct reject percentage  percent correct  confidence when correct hit  \\\n",
       "0                         80             72.5                         91.0   \n",
       "1                         90             90.0                         75.5   \n",
       "2                         95             92.5                         89.5   \n",
       "3                         75             87.5                         89.5   \n",
       "4                         65             62.5                         68.5   \n",
       "\n",
       "   confidence when incorrect hit  confidence when correct reject  \\\n",
       "0                           90.0                            93.0   \n",
       "1                           55.5                            70.5   \n",
       "2                           90.0                            86.0   \n",
       "3                            NaN                            71.0   \n",
       "4                           49.0                            61.0   \n",
       "\n",
       "   confidence when incorrect reject  confidence when correct  \\\n",
       "0                              83.5                     93.0   \n",
       "1                              50.0                     75.0   \n",
       "2                              81.0                     89.0   \n",
       "3                              80.0                     88.0   \n",
       "4                              49.0                     65.0   \n",
       "\n",
       "   confidence when incorrect  sci  psqi  ess  insomnia  \n",
       "0                       90.0    9    13    2      True  \n",
       "1                       50.0    4    11    7      True  \n",
       "2                       88.0   10     9    3      True  \n",
       "3                       80.0   13     8   20      True  \n",
       "4                       49.0   13     9   12      True  "
      ]
     },
     "execution_count": 62,
     "metadata": {},
     "output_type": "execute_result"
    }
   ],
   "source": [
    "df = pd.read_csv('data/gfmt_sleep.csv', na_values='*')\n",
    "\n",
    "# Add column for insomnia\n",
    "df['insomnia'] = df['sci'] <= 16\n",
    "\n",
    "df.head()"
   ]
  },
  {
   "cell_type": "code",
   "execution_count": 63,
   "id": "3b796089-c2eb-4a10-bd52-394e87b58b25",
   "metadata": {},
   "outputs": [],
   "source": [
    "# Options for x- and y- selector; omit part. num., gender, and insomnia\n",
    "xy_options = list(\n",
    "    df.columns[~df.columns.isin([\"participant number\", \"gender\", \"insomnia\"])]\n",
    ")\n"
   ]
  },
  {
   "cell_type": "code",
   "execution_count": 64,
   "id": "58edd1f1-3485-4d0f-9128-eac537548adf",
   "metadata": {},
   "outputs": [],
   "source": [
    "x_selector = bokeh.models.Select(\n",
    "    title=\"x\", options=xy_options, value=\"percent correct\", width=200,\n",
    ")\n",
    "\n",
    "y_selector = bokeh.models.Select(\n",
    "    title=\"y\", options=xy_options, value=\"confidence when correct\", width=200,\n",
    ")\n",
    "\n",
    "colorby_selector = bokeh.models.Select(\n",
    "    title=\"color by\", options=[\"none\", \"gender\", \"insomnia\",], value=\"none\", width=200,\n",
    ")"
   ]
  },
  {
   "cell_type": "code",
   "execution_count": 65,
   "id": "24872d3a-80e1-42b2-862a-7d0f2a9116e0",
   "metadata": {},
   "outputs": [],
   "source": [
    "source = bokeh.models.ColumnDataSource(dict(x=df[x_selector.value], y=df[y_selector.value]))\n",
    "\n",
    "# Add a column for colors; for now, all Bokeh's default blue\n",
    "source.data['color'] = ['#1f77b4'] * len(df)"
   ]
  },
  {
   "cell_type": "code",
   "execution_count": 66,
   "id": "4866b8f2-cea1-4c1f-99de-75445a0c8e74",
   "metadata": {},
   "outputs": [],
   "source": [
    "p = bokeh.plotting.figure(\n",
    "    frame_height=250,\n",
    "    frame_width=250,\n",
    "    x_axis_label=x_selector.value,\n",
    "    y_axis_label=y_selector.value,\n",
    ")\n",
    "\n",
    "# Populate gylphs\n",
    "circle = p.circle(source=source, x=\"x\", y=\"y\", color=\"color\")"
   ]
  },
  {
   "cell_type": "code",
   "execution_count": 67,
   "id": "377df107-e9b9-42f0-8022-75cf5aeff8ea",
   "metadata": {},
   "outputs": [],
   "source": [
    "def gfmt_callback(attr, old, new):\n",
    "    \"\"\"Callback for updating plot of GMFT results.\"\"\"\n",
    "    # Update color column\n",
    "    if colorby_selector.value == \"none\":\n",
    "        source.data[\"color\"] = [\"#1f77b4\"] * len(df)\n",
    "    elif colorby_selector.value == \"gender\":\n",
    "        source.data[\"color\"] = [\n",
    "            \"#1f77b4\" if gender == \"f\" else \"#ff7e0e\"\n",
    "            for gender in df[\"gender\"]\n",
    "        ]\n",
    "    elif colorby_selector.value == 'insomnia':\n",
    "        source.data[\"color\"] = [\n",
    "            \"#1f77b4\" if insomnia else \"#ff7e0e\"\n",
    "            for insomnia in df[\"insomnia\"]\n",
    "        ]\n",
    "\n",
    "    # Update x-data and axis label\n",
    "    source.data[\"x\"] = df[x_selector.value]\n",
    "    p.xaxis.axis_label = x_selector.value\n",
    "\n",
    "    # Update x-data and axis label\n",
    "    source.data[\"y\"] = df[y_selector.value]\n",
    "    p.yaxis.axis_label = y_selector.value"
   ]
  },
  {
   "cell_type": "code",
   "execution_count": 68,
   "id": "7ba7c5fd-ed38-42c5-94e7-65f9ce55cd5a",
   "metadata": {},
   "outputs": [],
   "source": [
    "colorby_selector.on_change(\"value\", gfmt_callback)\n",
    "x_selector.on_change(\"value\", gfmt_callback)\n",
    "y_selector.on_change(\"value\", gfmt_callback)"
   ]
  },
  {
   "cell_type": "code",
   "execution_count": 69,
   "id": "0c292b8e-7291-4225-ba0a-a017fbe20b7f",
   "metadata": {},
   "outputs": [
    {
     "data": {
      "application/vnd.bokehjs_exec.v0+json": "",
      "text/html": [
       "<script id=\"p2553\">\n",
       "  (function() {\n",
       "    const xhr = new XMLHttpRequest()\n",
       "    xhr.responseType = 'blob';\n",
       "    xhr.open('GET', \"http://localhost:63116/autoload.js?bokeh-autoload-element=p2553&bokeh-absolute-url=http://localhost:63116&resources=none\", true);\n",
       "    xhr.onload = function (event) {\n",
       "      const script = document.createElement('script');\n",
       "      const src = URL.createObjectURL(event.target.response);\n",
       "      script.src = src;\n",
       "      document.body.appendChild(script);\n",
       "    };\n",
       "    xhr.send();\n",
       "  })();\n",
       "</script>"
      ]
     },
     "metadata": {
      "application/vnd.bokehjs_exec.v0+json": {
       "server_id": "5469797399274d989fec894135bd6f34"
      }
     },
     "output_type": "display_data"
    }
   ],
   "source": [
    "gfmt_layout = bokeh.layouts.row(\n",
    "    p,\n",
    "    bokeh.layouts.Spacer(width=15),\n",
    "    bokeh.layouts.column(\n",
    "        x_selector,\n",
    "        bokeh.layouts.Spacer(height=15),\n",
    "        y_selector,\n",
    "        bokeh.layouts.Spacer(height=15),\n",
    "        colorby_selector,\n",
    "    ),\n",
    ")\n",
    "\n",
    "def gfmt_app(doc):\n",
    "    doc.add_root(gfmt_layout)\n",
    "\n",
    "bokeh.io.show(gfmt_app, notebook_url=notebook_url)"
   ]
  },
  {
   "cell_type": "code",
   "execution_count": null,
   "id": "fbe3525b-c887-4c5a-9373-2178c53fa73b",
   "metadata": {},
   "outputs": [],
   "source": []
  }
 ],
 "metadata": {
  "kernelspec": {
   "display_name": "Python 3 (ipykernel)",
   "language": "python",
   "name": "python3"
  },
  "language_info": {
   "codemirror_mode": {
    "name": "ipython",
    "version": 3
   },
   "file_extension": ".py",
   "mimetype": "text/x-python",
   "name": "python",
   "nbconvert_exporter": "python",
   "pygments_lexer": "ipython3",
   "version": "3.11.4"
  }
 },
 "nbformat": 4,
 "nbformat_minor": 5
}
