{
 "cells": [
  {
   "cell_type": "code",
   "execution_count": 2,
   "id": "712e38e8-c39b-4814-87f2-f9376582f2bc",
   "metadata": {},
   "outputs": [],
   "source": [
    "path1 = './data/salmonella_spi1_region.fna'"
   ]
  },
  {
   "cell_type": "code",
   "execution_count": 101,
   "id": "083d85ac-a3b6-438c-8d04-0b4fa31bc452",
   "metadata": {},
   "outputs": [],
   "source": [
    "def read_fasta(path):\n",
    "    with open(path,'r') as f:\n",
    "        f_line = f.readlines()\n",
    "        descriptor_string = f_line[0].rstrip()\n",
    "        seq=f_line[1:]\n",
    "        sequence = ''\n",
    "        for i,str in enumerate(seq):\n",
    "            seq[i] = seq[i].removesuffix('\\n')\n",
    "            sequence += seq[i]\n",
    "    return (descriptor_string, sequence)"
   ]
  },
  {
   "cell_type": "code",
   "execution_count": 102,
   "id": "dda2eb80-f622-4000-b7d7-1da6f6e22b42",
   "metadata": {},
   "outputs": [],
   "source": [
    "path2 = './data/Lambda_phage.fasta'\n",
    "rest_enzymes = {'HindIII':'AAGCTT','EcoRI':'GAATTC','KpnI':'GGTACC'}"
   ]
  },
  {
   "cell_type": "code",
   "execution_count": 103,
   "id": "39232a19-11fb-4cb5-b2e2-57ee4c38b5a6",
   "metadata": {},
   "outputs": [
    {
     "data": {
      "text/plain": [
       "{'HindIII': 'AAGCTT', 'EcoRI': 'GAATTC', 'KpnI': 'GGTACC'}"
      ]
     },
     "execution_count": 103,
     "metadata": {},
     "output_type": "execute_result"
    }
   ],
   "source": [
    "rest_enzymes"
   ]
  },
  {
   "cell_type": "code",
   "execution_count": 104,
   "id": "98e56bed-d823-4574-8212-fc6582f01b64",
   "metadata": {},
   "outputs": [],
   "source": [
    "def restriction_sites(seq, recog_seq):\n",
    "    list_m=[]\n",
    "    for i,_ in enumerate(seq):\n",
    "        if seq[i:i+len(recog_seq)]==recog_seq:\n",
    "            list_m.append(i+1)\n",
    "    return list_m"
   ]
  },
  {
   "cell_type": "code",
   "execution_count": 105,
   "id": "2aecd0e2-fbfe-490c-900b-fd0d14ca6396",
   "metadata": {},
   "outputs": [
    {
     "name": "stdout",
     "output_type": "stream",
     "text": [
      ">Lambda_NEB\n",
      "[('HindIII', [23130, 25157, 27479, 36895, 37459, 37584, 44141]), ('EcoRI', [21226, 26104, 31747, 39168, 44972]), ('KpnI', [17053, 18556])]\n"
     ]
    }
   ],
   "source": [
    "desc, sequence = read_fasta(path2)\n",
    "print(desc)\n",
    "list_1 = []\n",
    "for key, values in rest_enzymes.items():\n",
    "    m = (key,restriction_sites(sequence,values))\n",
    "    list_1.append(m)\n",
    "\n",
    "print(list_1)"
   ]
  },
  {
   "cell_type": "code",
   "execution_count": 106,
   "id": "bf6bd615-03c0-4540-8887-d724d90c31eb",
   "metadata": {},
   "outputs": [],
   "source": [
    "def gc_blocks(seq, block_size):\n",
    "    list1=[]\n",
    "    for m in range(0,len(seq),block_size):\n",
    "        if len(seq)-m>block_size:\n",
    "            list1.append(seq[m:m+block_size])\n",
    "    list2=[]\n",
    "    for i, str in enumerate(list1):\n",
    "        list2.append((str.count('G')+str.count('C'))/block_size)\n",
    "    return tuple(list1),tuple(list2)"
   ]
  },
  {
   "cell_type": "code",
   "execution_count": 107,
   "id": "47a4c43f-3046-4ae7-842d-0d82d5114639",
   "metadata": {},
   "outputs": [
    {
     "data": {
      "text/plain": [
       "'atgaCTAC'"
      ]
     },
     "execution_count": 107,
     "metadata": {},
     "output_type": "execute_result"
    }
   ],
   "source": [
    "def gc_map(seq,block_size,gc_thresh):\n",
    "    string_out=''\n",
    "    blocks,gc = gc_blocks(seq,block_size)\n",
    "    for i, str in enumerate(blocks):\n",
    "        if gc[i]<gc_thresh:\n",
    "            string_out+=str.lower()\n",
    "        else:\n",
    "            string_out+=str.upper()\n",
    "    return string_out\n",
    "\n",
    "gc_map('ATGACTACGT', 4, 0.4)"
   ]
  },
  {
   "cell_type": "code",
   "execution_count": 108,
   "id": "c2a4f0d4-5596-4d84-8684-6f33d9fede22",
   "metadata": {},
   "outputs": [],
   "source": [
    "import os\n",
    "desc_sal,seq_sal = read_fasta(path1)\n",
    "string = gc_map(seq_sal,1000,0.45)\n",
    "fname = 'GC_mapped_sequence.txt'\n",
    "if os.path.isfile(fname):\n",
    "    raise RuntimeError('File already exists')\n",
    "\n",
    "with open(fname, 'w') as f:\n",
    "    for j in range(0,len(string)//60 +1):\n",
    "        f.write(string[j*60:(j+1)*60])\n",
    "        f.write('\\n')"
   ]
  },
  {
   "cell_type": "code",
   "execution_count": 119,
   "id": "30c94758-f69a-4e39-baea-24c9262d82d6",
   "metadata": {},
   "outputs": [
    {
     "name": "stdout",
     "output_type": "stream",
     "text": [
      "[(2, 20, 18), (6, 3, -3), (6, 30, 24), (9, 3, -6), (9, 30, 21)]\n",
      "None\n"
     ]
    }
   ],
   "source": [
    "#Does_not_work\n",
    "seq='GATGAATGATGTCCCGGGGTAGAAAACGTTAG'\n",
    "def longest_orf(seq):\n",
    "    start_sites = restriction_sites(seq,'ATG')\n",
    "    end_sites = restriction_sites(seq,'TGA')+restriction_sites(seq,'TAG')+restriction_sites(seq,'TAA')\n",
    "    listm=[]\n",
    "    #print(start_sites,end_sites)\n",
    "    for i in range(0,len(start_sites)):\n",
    "        for j in range(0,len(end_sites)):\n",
    "            #print(end_sites[-1-j]-start_sites[i])+3\n",
    "            if (end_sites[j]-start_sites[i])%3 ==0:\n",
    "                l=(start_sites[i],end_sites[j],end_sites[j]-start_sites[i])\n",
    "                listm.append(l)\n",
    "    print(listm)\n",
    "m = longest_orf(seq)\n",
    "print(m)"
   ]
  },
  {
   "cell_type": "code",
   "execution_count": 120,
   "id": "d481444e-6add-4f63-a956-4ffa03a08e53",
   "metadata": {},
   "outputs": [
    {
     "name": "stderr",
     "output_type": "stream",
     "text": [
      "IOPub data rate exceeded.\n",
      "The Jupyter server will temporarily stop sending output\n",
      "to the client in order to avoid crashing it.\n",
      "To change this limit, set the config variable\n",
      "`--ServerApp.iopub_data_rate_limit`.\n",
      "\n",
      "Current values:\n",
      "ServerApp.iopub_data_rate_limit=1000000.0 (bytes/sec)\n",
      "ServerApp.rate_limit_window=3.0 (secs)\n",
      "\n"
     ]
    }
   ],
   "source": [
    "orf_sal = longest_orf(seq_sal)"
   ]
  },
  {
   "cell_type": "code",
   "execution_count": 121,
   "id": "3b9f9132-67e0-4193-ba6d-8936346898ec",
   "metadata": {},
   "outputs": [],
   "source": [
    "import bootcamp_utils\n",
    "\n",
    "def dna_to_prot(seq):\n",
    "    seq_tr=''\n",
    "    for i in range(0,len(seq),3):\n",
    "        if seq[i:i+3] in bootcamp_utils.codons:\n",
    "            seq_tr+=bootcamp_utils.codons[seq[i:i+3]]\n",
    "    return seq_tr"
   ]
  },
  {
   "cell_type": "code",
   "execution_count": 122,
   "id": "a2d9a345-d93f-42c1-9bc7-174bbfb62f3c",
   "metadata": {},
   "outputs": [
    {
     "ename": "TypeError",
     "evalue": "object of type 'NoneType' has no len()",
     "output_type": "error",
     "traceback": [
      "\u001b[0;31m---------------------------------------------------------------------------\u001b[0m",
      "\u001b[0;31mTypeError\u001b[0m                                 Traceback (most recent call last)",
      "Cell \u001b[0;32mIn[122], line 1\u001b[0m\n\u001b[0;32m----> 1\u001b[0m \u001b[38;5;28mprint\u001b[39m(dna_to_prot(orf_sal))\n",
      "Cell \u001b[0;32mIn[121], line 5\u001b[0m, in \u001b[0;36mdna_to_prot\u001b[0;34m(seq)\u001b[0m\n\u001b[1;32m      3\u001b[0m \u001b[38;5;28;01mdef\u001b[39;00m \u001b[38;5;21mdna_to_prot\u001b[39m(seq):\n\u001b[1;32m      4\u001b[0m     seq_tr\u001b[38;5;241m=\u001b[39m\u001b[38;5;124m'\u001b[39m\u001b[38;5;124m'\u001b[39m\n\u001b[0;32m----> 5\u001b[0m     \u001b[38;5;28;01mfor\u001b[39;00m i \u001b[38;5;129;01min\u001b[39;00m \u001b[38;5;28mrange\u001b[39m(\u001b[38;5;241m0\u001b[39m,\u001b[38;5;28mlen\u001b[39m(seq),\u001b[38;5;241m3\u001b[39m):\n\u001b[1;32m      6\u001b[0m         \u001b[38;5;28;01mif\u001b[39;00m seq[i:i\u001b[38;5;241m+\u001b[39m\u001b[38;5;241m3\u001b[39m] \u001b[38;5;129;01min\u001b[39;00m bootcamp_utils\u001b[38;5;241m.\u001b[39mcodons:\n\u001b[1;32m      7\u001b[0m             seq_tr\u001b[38;5;241m+\u001b[39m\u001b[38;5;241m=\u001b[39mbootcamp_utils\u001b[38;5;241m.\u001b[39mcodons[seq[i:i\u001b[38;5;241m+\u001b[39m\u001b[38;5;241m3\u001b[39m]]\n",
      "\u001b[0;31mTypeError\u001b[0m: object of type 'NoneType' has no len()"
     ]
    }
   ],
   "source": [
    "print(dna_to_prot(orf_sal))"
   ]
  },
  {
   "cell_type": "code",
   "execution_count": null,
   "id": "f2fa89a1-8149-4b84-a9aa-5bb6409eef00",
   "metadata": {},
   "outputs": [],
   "source": []
  },
  {
   "cell_type": "code",
   "execution_count": null,
   "id": "f58b3a97-5f22-49ba-8297-443162088dd2",
   "metadata": {},
   "outputs": [],
   "source": []
  }
 ],
 "metadata": {
  "kernelspec": {
   "display_name": "Python 3 (ipykernel)",
   "language": "python",
   "name": "python3"
  },
  "language_info": {
   "codemirror_mode": {
    "name": "ipython",
    "version": 3
   },
   "file_extension": ".py",
   "mimetype": "text/x-python",
   "name": "python",
   "nbconvert_exporter": "python",
   "pygments_lexer": "ipython3",
   "version": "3.11.4"
  }
 },
 "nbformat": 4,
 "nbformat_minor": 5
}
