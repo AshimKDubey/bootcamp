{
 "cells": [
  {
   "cell_type": "code",
   "execution_count": 1,
   "id": "12aede0c-e98c-4ab7-b9e0-5b058d1735a8",
   "metadata": {},
   "outputs": [],
   "source": [
    "seconds_past_midnight = 63252"
   ]
  },
  {
   "cell_type": "code",
   "execution_count": 6,
   "id": "d55e8c41-41d6-4052-9859-bd0092e8ecfa",
   "metadata": {},
   "outputs": [
    {
     "name": "stdout",
     "output_type": "stream",
     "text": [
      "17:34:12\n"
     ]
    }
   ],
   "source": [
    "minutes_past_midnight = seconds_past_midnight // 60\n",
    "seconds_left = seconds_past_midnight % 60\n",
    "hours_past_midnight = minutes_past_midnight // 60\n",
    "minutes_left = minutes_past_midnight % 60\n",
    "print(str(hours_past_midnight) + \":\" + str(minutes_left) + \":\" + str(seconds_left))"
   ]
  },
  {
   "cell_type": "code",
   "execution_count": null,
   "id": "a2fe4203-0628-498d-ab1d-1f958dea10a9",
   "metadata": {},
   "outputs": [],
   "source": []
  }
 ],
 "metadata": {
  "kernelspec": {
   "display_name": "Python 3 (ipykernel)",
   "language": "python",
   "name": "python3"
  },
  "language_info": {
   "codemirror_mode": {
    "name": "ipython",
    "version": 3
   },
   "file_extension": ".py",
   "mimetype": "text/x-python",
   "name": "python",
   "nbconvert_exporter": "python",
   "pygments_lexer": "ipython3",
   "version": "3.11.4"
  }
 },
 "nbformat": 4,
 "nbformat_minor": 5
}
